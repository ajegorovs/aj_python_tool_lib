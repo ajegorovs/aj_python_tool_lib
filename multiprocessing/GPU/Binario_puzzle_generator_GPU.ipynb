{
 "cells": [
  {
   "cell_type": "markdown",
   "metadata": {},
   "source": [
    "# Binary puzzle/ Binario/ Takuzu puzzle\n",
    "## GPU bruteforce puzzle generator (xD)\n",
    "https://en.wikipedia.org/wiki/Takuzu\n",
    "\n",
    "Rules:\n",
    "1. Each row or column should have equal number of 1s and 0s\n",
    "1. Cannot have more than 2 grouped entries horizontally or vertically\n",
    "\n",
    "Approach:\n",
    "1) Is checked via sum on proper axis\n",
    "2) Is checked via convolution/cross-correlation"
   ]
  },
  {
   "cell_type": "code",
   "execution_count": 37,
   "metadata": {},
   "outputs": [
    {
     "data": {
      "text/latex": [
       "$\\displaystyle \\begin{bmatrix} 1 & 0 & 1 & 0 & 1 & 0 \\\\ 0 & 1 & 0 & 0 & 1 & 1 \\\\ 1 & 0 & 0 & 1 & 0 & 1 \\\\ 0 & 1 & 1 & 0 & 1 & 0 \\\\ 0 & 0 & 1 & 1 & 0 & 1 \\\\ 1 & 1 & 0 & 1 & 0 & 0 \\end{bmatrix}$"
      ],
      "text/plain": [
       "<IPython.core.display.Math object>"
      ]
     },
     "metadata": {},
     "output_type": "display_data"
    },
    {
     "name": "stdout",
     "output_type": "stream",
     "text": [
      "Puzzle is correct: True\n"
     ]
    }
   ],
   "source": [
    "import torch.nn.functional as F\n",
    "import torch\n",
    "from misc_tools.print_latex import print_tex\n",
    "device = torch.device(\"cuda\" if torch.cuda.is_available() else \"cpu\")\n",
    "dtype = torch.float32\n",
    "dtype0 = int\n",
    "puzz = torch.tensor([   [1,0,1,0,1,0],\n",
    "                        [0,1,0,0,1,1],\n",
    "                        [1,0,0,1,0,1],\n",
    "                        [0,1,1,0,1,0],\n",
    "                        [0,0,1,1,0,1],\n",
    "                        [1,1,0,1,0,0]], \n",
    "                        device=device,\n",
    "                        dtype = dtype).unsqueeze(0).unsqueeze(0)\n",
    "\n",
    "# img = puzz.repeat_interleave(2,0)\n",
    "# img[0,0,0,1] = 1\n",
    "\n",
    "ker_v  = torch.tensor([ [0,1,0],\n",
    "                        [0,1,0],\n",
    "                        [0,1,0]], \n",
    "                        dtype=dtype, \n",
    "                        device=device).unsqueeze(0).unsqueeze(0)\n",
    "\n",
    "ker_h = torch.tensor([  [0,0,0],\n",
    "                        [1,1,1],\n",
    "                        [0,0,0]], \n",
    "                        dtype=dtype, \n",
    "                        device=device).unsqueeze(0).unsqueeze(0)\n",
    "\n",
    "\n",
    "gpu_conv = lambda img, ker: F.conv2d(img, ker, bias=None, stride=1, padding='same', dilation=1, groups=1).to(device)\n",
    "\n",
    "def puzzle_fails_GPU(puzz):\n",
    "    # dims [batch, 1, N, N]; apply (1,1,3,3) convolution\n",
    "    batch, _, N, _ = puzz.shape\n",
    "    D = N//2\n",
    "    # count 1s in rows & cols by summing along according dimensions. ?= D -> [batch, 1, N]\n",
    "    # combine tests for rows and columns. we want to see if any batch 'not fails' :O\n",
    "    num_elem_fails = (torch.sum(puzz, axis = -1) != D) | (torch.sum(puzz, axis = -2) != D)\n",
    "    # test if some row/colum fails batch wise (along N dim). invert to see if did not fail\n",
    "    #print(num_elem_fails)\n",
    "    # ~fail = pass\n",
    "    num_elem_pass = ~torch.any(num_elem_fails, dim=-1).flatten()\n",
    "\n",
    "    three_neighbor_pass =  ~((gpu_conv(  puzz, ker_v) == 3) |   # check vert & horiz neighbors \n",
    "                             (gpu_conv(  puzz, ker_h) == 3) |   # of ones and zeros\n",
    "                             (gpu_conv(1-puzz, ker_v) == 3) |   # cannot invert float \n",
    "                             (gpu_conv(1-puzz, ker_h) == 3) )   # 1-1 = 0, 1-0 = 1\n",
    "    \n",
    "    # flatten each batch so i can use torch.all() pass\n",
    "    three_neighbor_pass = three_neighbor_pass.view(batch, 1, -1)\n",
    "    \n",
    "    three_neighbor_pass2 = torch.all(three_neighbor_pass, dim = -1).flatten()\n",
    "    return num_elem_pass & three_neighbor_pass2\n",
    "\n",
    "print_tex(puzz[0,0].cpu().numpy())\n",
    "print(f'Puzzle is correct: {puzzle_fails_GPU(puzz).item()}')\n"
   ]
  },
  {
   "cell_type": "code",
   "execution_count": 32,
   "metadata": {},
   "outputs": [
    {
     "name": "stderr",
     "output_type": "stream",
     "text": [
      "  0%|          | 23/10000 [00:00<03:48, 43.65it/s]"
     ]
    },
    {
     "name": "stdout",
     "output_type": "stream",
     "text": [
      "i = 26. Checked 5.2e+06 puzzles in total\n"
     ]
    },
    {
     "data": {
      "text/latex": [
       "$\\displaystyle \\begin{bmatrix} 1 & 1 & 0 & 0 & 1 & 0 \\\\ 0 & 1 & 0 & 0 & 1 & 1 \\\\ 1 & 0 & 1 & 1 & 0 & 0 \\\\ 1 & 1 & 0 & 0 & 1 & 0 \\\\ 0 & 0 & 1 & 1 & 0 & 1 \\\\ 0 & 0 & 1 & 1 & 0 & 1 \\end{bmatrix}$"
      ],
      "text/plain": [
       "<IPython.core.display.Math object>"
      ]
     },
     "metadata": {},
     "output_type": "display_data"
    },
    {
     "name": "stderr",
     "output_type": "stream",
     "text": [
      "  0%|          | 26/10000 [00:00<04:51, 34.26it/s]\n"
     ]
    }
   ],
   "source": [
    "# generate puzzles by filling ~1/2 with ones.\n",
    "from tqdm import tqdm\n",
    "N = 6\n",
    "B = 200000\n",
    "for i in tqdm(range(10000)):\n",
    "    #torch.manual_seed(i)\n",
    "    batch = (torch.rand(size=(B,1,N,N), device=device) > 0.5).to(dtype)\n",
    "    res = puzzle_fails_GPU(batch)\n",
    "    if torch.any(res).item():\n",
    "        sol_id = torch.argwhere(res).flatten()[0]\n",
    "        print(f'{i = }. Checked {i*B:0.1e} puzzles in total')\n",
    "        print_tex(batch[sol_id].reshape(N,N).cpu().numpy())\n",
    "        break"
   ]
  }
 ],
 "metadata": {
  "kernelspec": {
   "display_name": ".venv",
   "language": "python",
   "name": "python3"
  },
  "language_info": {
   "codemirror_mode": {
    "name": "ipython",
    "version": 3
   },
   "file_extension": ".py",
   "mimetype": "text/x-python",
   "name": "python",
   "nbconvert_exporter": "python",
   "pygments_lexer": "ipython3",
   "version": "3.9.13"
  }
 },
 "nbformat": 4,
 "nbformat_minor": 2
}
