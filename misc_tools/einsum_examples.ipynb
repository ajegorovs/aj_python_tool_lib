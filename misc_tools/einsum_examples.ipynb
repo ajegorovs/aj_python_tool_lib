{
 "cells": [
  {
   "cell_type": "markdown",
   "metadata": {},
   "source": [
    "numpy einstein summation tricks:"
   ]
  },
  {
   "cell_type": "code",
   "execution_count": 3,
   "metadata": {},
   "outputs": [],
   "source": [
    "import numpy as np"
   ]
  },
  {
   "cell_type": "markdown",
   "metadata": {},
   "source": [
    "Outer product:"
   ]
  },
  {
   "cell_type": "code",
   "execution_count": 4,
   "metadata": {},
   "outputs": [
    {
     "name": "stdout",
     "output_type": "stream",
     "text": [
      "----\n",
      " [1 2 3] \n",
      "and\n",
      " [4 5 6]\n",
      "two lists of shape (i,) => [ 4 10 18]\n"
     ]
    }
   ],
   "source": [
    "a = np.array([1,2,3])\n",
    "b = np.array([4,5,6])\n",
    "command = 'i,i->i'\n",
    "print('----\\n', a, '\\nand\\n', b)\n",
    "print(f'two lists of shape (i,) => {np.einsum(command, a, b)}')"
   ]
  },
  {
   "cell_type": "code",
   "execution_count": 5,
   "metadata": {},
   "outputs": [
    {
     "name": "stdout",
     "output_type": "stream",
     "text": [
      "----\n",
      " [[1 2 3]] \n",
      "and\n",
      " [[4 5 6]]\n",
      "two lists of shape (1,i) => [[ 4 10 18]]\n"
     ]
    }
   ],
   "source": [
    "a = np.array([[1,2,3]])\n",
    "b = np.array([[4,5,6]])\n",
    "command = 'ij,ij->ij'\n",
    "print('----\\n', a, '\\nand\\n', b)\n",
    "print(f'two lists of shape (1,i) => {np.einsum(command, a, b)}')"
   ]
  },
  {
   "cell_type": "code",
   "execution_count": 6,
   "metadata": {},
   "outputs": [
    {
     "name": "stdout",
     "output_type": "stream",
     "text": [
      "----\n",
      " [[1 2 3]] \n",
      "and\n",
      " [[4]\n",
      " [5]\n",
      " [6]]\n",
      "two lists of shape (1,i) and (i,1) => [[ 4 10 18]]\n"
     ]
    }
   ],
   "source": [
    "a = np.array([[1,2,3]])\n",
    "b = np.array([[4,5,6]]).T\n",
    "command = 'ij,ji->ij'   # swapped ij to ji\n",
    "print('----\\n', a, '\\nand\\n', b)\n",
    "print(f'two lists of shape (1,i) and (i,1) => {np.einsum(command, a,b)}')"
   ]
  },
  {
   "cell_type": "code",
   "execution_count": null,
   "metadata": {},
   "outputs": [],
   "source": []
  }
 ],
 "metadata": {
  "kernelspec": {
   "display_name": ".venv",
   "language": "python",
   "name": "python3"
  },
  "language_info": {
   "codemirror_mode": {
    "name": "ipython",
    "version": 3
   },
   "file_extension": ".py",
   "mimetype": "text/x-python",
   "name": "python",
   "nbconvert_exporter": "python",
   "pygments_lexer": "ipython3",
   "version": "3.9.13"
  }
 },
 "nbformat": 4,
 "nbformat_minor": 2
}
