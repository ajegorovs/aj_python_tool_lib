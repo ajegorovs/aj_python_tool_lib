{
 "cells": [
  {
   "cell_type": "markdown",
   "metadata": {},
   "source": [
    "## Numpy masked array"
   ]
  },
  {
   "cell_type": "code",
   "execution_count": 1,
   "metadata": {},
   "outputs": [
    {
     "name": "stdout",
     "output_type": "stream",
     "text": [
      "[[-- --]\n",
      " [-- 4]\n",
      " [3 5]\n",
      " [4 --]\n",
      " [5 --]\n",
      " [6 --]]\n",
      "[-- 4 3 4 5 6]\n",
      "[ True False False False False False]\n",
      "[999999      4      3      4      5      6]\n"
     ]
    }
   ],
   "source": [
    "import numpy as np\n",
    "arr = np.array([[1, 2, 3, 4, 5, 6], [2, 4, 5, 1 , 1, 2]]).T\n",
    "mask = arr > 2\n",
    "masked_x = np.ma.masked_array(arr, ~mask)\n",
    "print(masked_x)\n",
    "a = np.ma.min(masked_x, axis = 1)\n",
    "print(a)\n",
    "print(a.mask)\n",
    "print(a.data)"
   ]
  },
  {
   "cell_type": "code",
   "execution_count": null,
   "metadata": {},
   "outputs": [],
   "source": []
  }
 ],
 "metadata": {
  "kernelspec": {
   "display_name": ".venv",
   "language": "python",
   "name": "python3"
  },
  "language_info": {
   "codemirror_mode": {
    "name": "ipython",
    "version": 3
   },
   "file_extension": ".py",
   "mimetype": "text/x-python",
   "name": "python",
   "nbconvert_exporter": "python",
   "pygments_lexer": "ipython3",
   "version": "3.9.13"
  }
 },
 "nbformat": 4,
 "nbformat_minor": 2
}
