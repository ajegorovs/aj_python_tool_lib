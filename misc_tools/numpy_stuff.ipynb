{
 "cells": [
  {
   "cell_type": "code",
   "execution_count": 2,
   "metadata": {},
   "outputs": [],
   "source": [
    "import numpy as np"
   ]
  },
  {
   "cell_type": "markdown",
   "metadata": {},
   "source": [
    "# Numpy\n",
    "## upper lower triangles of a matrix"
   ]
  },
  {
   "cell_type": "code",
   "execution_count": 3,
   "metadata": {},
   "outputs": [],
   "source": [
    "from IPython.display import display, Math\n",
    "\n",
    "def print_tex(*args,column = True):\n",
    "    a = ''\n",
    "    for arg in args:\n",
    "        if type(arg) != str:\n",
    "            arg = latexify(arg, newline=False, arraytype=\"bmatrix\", column = column)\n",
    "        else:\n",
    "            arg = r'\\text{' + arg + '} '\n",
    "        a += arg\n",
    "    display(Math(a))"
   ]
  },
  {
   "cell_type": "code",
   "execution_count": 4,
   "metadata": {},
   "outputs": [
    {
     "data": {
      "text/latex": [
       "$\\displaystyle \\text{matrix M:} \\begin{bmatrix} 1 & 2 & 3 \\\\ 4 & 5 & 6 \\\\ 7 & 8 & 9 \\end{bmatrix}$"
      ],
      "text/plain": [
       "<IPython.core.display.Math object>"
      ]
     },
     "metadata": {},
     "output_type": "display_data"
    }
   ],
   "source": [
    "\n",
    "from latexifier import latexify\n",
    "from IPython.display import Latex\n",
    "\n",
    "M = np.array([[1,2,3],[4,5,6],[7,8,9]])\n",
    "print_tex('matrix M:', M)"
   ]
  },
  {
   "cell_type": "markdown",
   "metadata": {},
   "source": [
    "### Decompose into upper, lower and diagonal parts of matrix \n",
    "can specify offset (k) of diagonal. k = 0 includes diagonal"
   ]
  },
  {
   "cell_type": "code",
   "execution_count": 5,
   "metadata": {},
   "outputs": [
    {
     "data": {
      "text/latex": [
       "$\\displaystyle \\text{upper triangle matrix:} \\begin{bmatrix} 0 & 2 & 3 \\\\ 0 & 0 & 6 \\\\ 0 & 0 & 0 \\end{bmatrix}$"
      ],
      "text/plain": [
       "<IPython.core.display.Math object>"
      ]
     },
     "metadata": {},
     "output_type": "display_data"
    },
    {
     "data": {
      "text/latex": [
       "$\\displaystyle \\text{lower triangle matrix:} \\begin{bmatrix} 0 & 0 & 0 \\\\ 4 & 0 & 0 \\\\ 7 & 8 & 0 \\end{bmatrix}$"
      ],
      "text/plain": [
       "<IPython.core.display.Math object>"
      ]
     },
     "metadata": {},
     "output_type": "display_data"
    },
    {
     "data": {
      "text/latex": [
       "$\\displaystyle \\text{diagonal matrix:} \\begin{bmatrix} 1 & 0 & 0 \\\\ 0 & 5 & 0 \\\\ 0 & 0 & 9 \\end{bmatrix}$"
      ],
      "text/plain": [
       "<IPython.core.display.Math object>"
      ]
     },
     "metadata": {},
     "output_type": "display_data"
    },
    {
     "data": {
      "text/latex": [
       "$\\displaystyle \\text{uper + diag + lower = } \\begin{bmatrix} 1 & 2 & 3 \\\\ 4 & 5 & 6 \\\\ 7 & 8 & 9 \\end{bmatrix}$"
      ],
      "text/plain": [
       "<IPython.core.display.Math object>"
      ]
     },
     "metadata": {},
     "output_type": "display_data"
    }
   ],
   "source": [
    "upper = np.triu(M, 1)\n",
    "diag = np.diag(np.diag(M))  # first diag extracts list of d-elems\n",
    "lower = np.tril(M, -1)\n",
    "\n",
    "print_tex('upper triangle matrix:', upper)\n",
    "print_tex('lower triangle matrix:', lower)\n",
    "print_tex('diagonal matrix:', diag)\n",
    "print_tex('uper + diag + lower = ', upper + lower + diag)"
   ]
  },
  {
   "cell_type": "code",
   "execution_count": 6,
   "metadata": {},
   "outputs": [
    {
     "data": {
      "text/latex": [
       "$\\displaystyle \\text{matrix:\n",
       "} \\begin{bmatrix} 1 & 2 & 3 \\\\ 4 & 5 & 6 \\\\ 7 & 8 & 9 \\end{bmatrix}$"
      ],
      "text/plain": [
       "<IPython.core.display.Math object>"
      ]
     },
     "metadata": {},
     "output_type": "display_data"
    },
    {
     "data": {
      "text/latex": [
       "$\\displaystyle \\text{upper triangle elements: } \\begin{bmatrix} 2 & 3 & 6 \\end{bmatrix}$"
      ],
      "text/plain": [
       "<IPython.core.display.Math object>"
      ]
     },
     "metadata": {},
     "output_type": "display_data"
    },
    {
     "data": {
      "text/latex": [
       "$\\displaystyle \\text{lower triangle elements: } \\begin{bmatrix} 4 & 7 & 8 \\end{bmatrix}$"
      ],
      "text/plain": [
       "<IPython.core.display.Math object>"
      ]
     },
     "metadata": {},
     "output_type": "display_data"
    },
    {
     "data": {
      "text/latex": [
       "$\\displaystyle \\text{diagonal elements: } \\begin{bmatrix} 1 & 5 & 9 \\end{bmatrix}$"
      ],
      "text/plain": [
       "<IPython.core.display.Math object>"
      ]
     },
     "metadata": {},
     "output_type": "display_data"
    }
   ],
   "source": [
    "print_tex('matrix:\\n', M)\n",
    "u_idx = np.triu_indices(3, k = 1)\n",
    "\n",
    "print_tex('upper triangle elements: ', M[u_idx], column=False)\n",
    "l_idx = np.tril_indices(3, k = -1)\n",
    "print_tex('lower triangle elements: ',M[l_idx], column=False)\n",
    "print_tex('diagonal elements: ', np.diag(M), column=False)"
   ]
  },
  {
   "cell_type": "markdown",
   "metadata": {},
   "source": [
    "## Numpy masked array\n",
    "mask shows which elements to hide. ~ to invert a boolean mask"
   ]
  },
  {
   "cell_type": "code",
   "execution_count": 7,
   "metadata": {},
   "outputs": [
    {
     "name": "stdout",
     "output_type": "stream",
     "text": [
      "masked array:\n",
      " [[-- --]\n",
      " [-- 4]\n",
      " [3 5]\n",
      " [4 --]\n",
      " [5 --]\n",
      " [6 --]]\n",
      "masked mins:\n",
      " [-- 4 3 4 5 6]\n",
      "masks:\n",
      " [ True False False False False False]\n",
      "vals:\n",
      " [999999      4      3      4      5      6]\n"
     ]
    }
   ],
   "source": [
    "arr = np.array([[1, 2, 3, 4, 5, 6], [2, 4, 5, 1 , 1, 2]]).T\n",
    "mask = arr > 2\n",
    "masked_x = np.ma.masked_array(arr, ~mask) # could have defined mask = arr <= 2\n",
    "print('masked array:\\n', masked_x)\n",
    "mins = np.ma.min(masked_x, axis = 1)\n",
    "print('masked mins:\\n',mins)\n",
    "print('masks:\\n',mins.mask)\n",
    "print('vals:\\n',mins.data)"
   ]
  },
  {
   "cell_type": "markdown",
   "metadata": {},
   "source": [
    "### How to preserve columns as columns after numpy operations?\n",
    "Slicing of type M[:,0] extracts first elements of first column.\n",
    "\n",
    "But returned slice is not a column of shape (N,1), but a list of N elements.\n",
    "\n",
    "It is still possible to work with this representation, as long as you either:\n",
    "1. follow this convention on both LHS and RHS of definitions/equations\n",
    "2. understand and change code accordingly\n",
    "\n",
    "I.E. #1 matrix multiplication"
   ]
  },
  {
   "cell_type": "code",
   "execution_count": 49,
   "metadata": {},
   "outputs": [
    {
     "data": {
      "text/latex": [
       "$\\displaystyle \\text{Matrix M } \\begin{bmatrix} 1 & 2 \\\\ 3 & 4 \\end{bmatrix}\\text{; vector v } \\begin{bmatrix} 2 & 0 \\end{bmatrix}$"
      ],
      "text/plain": [
       "<IPython.core.display.Math object>"
      ]
     },
     "metadata": {},
     "output_type": "display_data"
    }
   ],
   "source": [
    "v1 = [1,2]\n",
    "v2 = [3,4]\n",
    "M = np.array([v1,v2])\n",
    "v = np.array([2,0])\n",
    "print_tex('Matrix M ',M, '; vector v ', v, column=False)"
   ]
  },
  {
   "cell_type": "markdown",
   "metadata": {},
   "source": [
    "Dot product and matrix multiplication  dont respect rules when doing matrix-vector multiplication because, \n",
    "1. in case v is treated as a column vector, result of Mv should be 2*column 1 of M = [2,6]^T\n",
    "2. in case v is treated as a row vector, result of Mv should be 2*row 1 of M = [2,4]^T"
   ]
  },
  {
   "cell_type": "code",
   "execution_count": 50,
   "metadata": {},
   "outputs": [
    {
     "data": {
      "text/latex": [
       "$\\displaystyle \\text{np.dot(M,v) = } \\begin{bmatrix} 2 & 6 \\end{bmatrix}$"
      ],
      "text/plain": [
       "<IPython.core.display.Math object>"
      ]
     },
     "metadata": {},
     "output_type": "display_data"
    },
    {
     "data": {
      "text/latex": [
       "$\\displaystyle \\text{M @ v = } \\begin{bmatrix} 2 & 6 \\end{bmatrix}$"
      ],
      "text/plain": [
       "<IPython.core.display.Math object>"
      ]
     },
     "metadata": {},
     "output_type": "display_data"
    }
   ],
   "source": [
    "print_tex('np.dot(M,v) = ', np.dot(M,v), column=False)\n",
    "print_tex('M @ v = ', M @ v, column=False)\n"
   ]
  },
  {
   "cell_type": "markdown",
   "metadata": {},
   "source": [
    "As you see v is treated as a column vector, as it should, but it produces a list of entries, not a column vector.\n",
    "\n",
    "As long as on RHS we follow same structure, we are fine:"
   ]
  },
  {
   "cell_type": "code",
   "execution_count": 55,
   "metadata": {},
   "outputs": [
    {
     "data": {
      "text/latex": [
       "$\\displaystyle \\text{V = } \\begin{bmatrix} 0 & 0 \\\\ 0 & 0 \\end{bmatrix}$"
      ],
      "text/plain": [
       "<IPython.core.display.Math object>"
      ]
     },
     "metadata": {},
     "output_type": "display_data"
    },
    {
     "data": {
      "text/latex": [
       "$\\displaystyle \\text{V = } \\begin{bmatrix} 2 & 0 \\\\ 6 & 0 \\end{bmatrix}$"
      ],
      "text/plain": [
       "<IPython.core.display.Math object>"
      ]
     },
     "metadata": {},
     "output_type": "display_data"
    }
   ],
   "source": [
    "V = np.zeros_like(M)\n",
    "print_tex('V = ', V, column=False)\n",
    "V[:,0] = M @ v\n",
    "print_tex('V = ', V, column=False)"
   ]
  },
  {
   "cell_type": "markdown",
   "metadata": {},
   "source": [
    "In fact slicing of type V[:,0] will always produce a list of entries.\n",
    "\n",
    "Similarly as to V[x_list, y_list] in this example"
   ]
  },
  {
   "cell_type": "code",
   "execution_count": 59,
   "metadata": {},
   "outputs": [
    {
     "data": {
      "text/latex": [
       "$\\displaystyle \\text{Matrix M } \\begin{bmatrix} 1 & 2 \\\\ 3 & 4 \\end{bmatrix}$"
      ],
      "text/plain": [
       "<IPython.core.display.Math object>"
      ]
     },
     "metadata": {},
     "output_type": "display_data"
    },
    {
     "name": "stdout",
     "output_type": "stream",
     "text": [
      "diag:  [1 4]\n",
      "diag2:  [1 4]\n"
     ]
    },
    {
     "data": {
      "text/latex": [
       "$\\displaystyle \\text{Matrix M2 } \\begin{bmatrix} 9 & 2 \\\\ 3 & 7 \\end{bmatrix}$"
      ],
      "text/plain": [
       "<IPython.core.display.Math object>"
      ]
     },
     "metadata": {},
     "output_type": "display_data"
    }
   ],
   "source": [
    "M = np.array([v1,v2])\n",
    "print_tex('Matrix M ',M, column=False)\n",
    "print('diag: ', np.diag(M))\n",
    "print('diag2: ', M[range(2),range(2)])\n",
    "M[range(2),range(2)] = [9,7]\n",
    "print_tex('Matrix M2 ',M, column=False)\n"
   ]
  },
  {
   "cell_type": "markdown",
   "metadata": {},
   "source": [
    "#### extracting columns with correct shape:"
   ]
  },
  {
   "cell_type": "code",
   "execution_count": 65,
   "metadata": {},
   "outputs": [
    {
     "data": {
      "text/latex": [
       "$\\displaystyle \\text{Matrix M } \\begin{bmatrix} 1 & 2 \\\\ 3 & 4 \\end{bmatrix}$"
      ],
      "text/plain": [
       "<IPython.core.display.Math object>"
      ]
     },
     "metadata": {},
     "output_type": "display_data"
    },
    {
     "data": {
      "text/latex": [
       "$\\displaystyle \\text{column 0 of M: } \\begin{bmatrix} 1 & 3 \\end{bmatrix}\\text{ with shape: } \\left(2 \\right)$"
      ],
      "text/plain": [
       "<IPython.core.display.Math object>"
      ]
     },
     "metadata": {},
     "output_type": "display_data"
    },
    {
     "data": {
      "text/latex": [
       "$\\displaystyle \\text{correct extraction: } \\begin{bmatrix} 1 \\\\ 3 \\end{bmatrix}\\text{. Shape: } \\left(2, 1 \\right)$"
      ],
      "text/plain": [
       "<IPython.core.display.Math object>"
      ]
     },
     "metadata": {},
     "output_type": "display_data"
    },
    {
     "data": {
      "text/latex": [
       "$\\displaystyle \\text{M @ M.col1: } \\begin{bmatrix} 1 & 2 \\\\ 3 & 4 \\end{bmatrix}\\begin{bmatrix} 1 \\\\ 3 \\end{bmatrix}\\text{=} \\begin{bmatrix} 7 \\\\ 15 \\end{bmatrix}$"
      ],
      "text/plain": [
       "<IPython.core.display.Math object>"
      ]
     },
     "metadata": {},
     "output_type": "display_data"
    }
   ],
   "source": [
    "M = np.array([v1,v2])\n",
    "print_tex('Matrix M ',M, column=False)\n",
    "column_flattened = M[:,0]\n",
    "print_tex('column 0 of M: ',column_flattened, ' with shape: ', column_flattened.shape, column=False)\n",
    "column_preserved = M[:,[0]]\n",
    "print_tex('correct extraction: ', column_preserved, '. Shape: ', column_preserved.shape, column=False)\n",
    "\n",
    "print_tex('M @ M.col1: ',M , M[:,[0]],'=', M @ M[:,[0]], column=False)\n"
   ]
  },
  {
   "cell_type": "markdown",
   "metadata": {},
   "source": [
    "### preserving shape after axis operations:"
   ]
  },
  {
   "cell_type": "code",
   "execution_count": 11,
   "metadata": {},
   "outputs": [
    {
     "name": "stdout",
     "output_type": "stream",
     "text": [
      "Mean operation on M for axis = 1 (mean rows):\n"
     ]
    },
    {
     "data": {
      "text/latex": [
       "$\\displaystyle \\text{Not preserving shape: } \\begin{bmatrix} \\frac{3}{2} & \\frac{7}{2} \\end{bmatrix}\\text{; preserving shape: } \\begin{bmatrix} \\frac{3}{2} \\\\ \\frac{7}{2} \\end{bmatrix}$"
      ],
      "text/plain": [
       "<IPython.core.display.Math object>"
      ]
     },
     "metadata": {},
     "output_type": "display_data"
    }
   ],
   "source": [
    "avg_flatten = np.mean(M, axis=1)\n",
    "avg_keep_dims = np.mean(M, axis=1, keepdims=True)\n",
    "print('Mean operation on M for axis = 1 (mean rows):')\n",
    "print_tex('Not preserving shape: ', avg_flatten, '; preserving shape: ', avg_keep_dims, column=False)"
   ]
  },
  {
   "cell_type": "markdown",
   "metadata": {},
   "source": [
    "#### Outer product:"
   ]
  },
  {
   "cell_type": "code",
   "execution_count": 39,
   "metadata": {},
   "outputs": [
    {
     "data": {
      "text/latex": [
       "$\\displaystyle \\text{np.outer(v1,v2) = } \\begin{bmatrix} 3 & 4 \\\\ 6 & 8 \\end{bmatrix}$"
      ],
      "text/plain": [
       "<IPython.core.display.Math object>"
      ]
     },
     "metadata": {},
     "output_type": "display_data"
    },
    {
     "data": {
      "text/latex": [
       "$\\displaystyle \\text{v12 v22.T via matrix multiplication:} \\begin{bmatrix} 1 \\\\ 2 \\end{bmatrix}\\text{*} \\begin{bmatrix} 3 & 4 \\end{bmatrix}\\text{=} \\begin{bmatrix} 3 & 4 \\\\ 6 & 8 \\end{bmatrix}$"
      ],
      "text/plain": [
       "<IPython.core.display.Math object>"
      ]
     },
     "metadata": {},
     "output_type": "display_data"
    }
   ],
   "source": [
    "v1 = [1,2]\n",
    "v2 = [3,4]\n",
    "print_tex('np.outer(v1,v2) = ', np.outer(v1,v2))\n",
    "# reshape from lists (N,) into columns (N,1)\n",
    "v12 = np.array(v1).reshape(-1,1)\n",
    "v22 = np.array(v2).reshape(-1,1)\n",
    "print_tex('v12 v22.T via matrix multiplication:', v12, '*', v22.T, '=', v12 @ v22.T , column=False)"
   ]
  }
 ],
 "metadata": {
  "kernelspec": {
   "display_name": ".venv",
   "language": "python",
   "name": "python3"
  },
  "language_info": {
   "codemirror_mode": {
    "name": "ipython",
    "version": 3
   },
   "file_extension": ".py",
   "mimetype": "text/x-python",
   "name": "python",
   "nbconvert_exporter": "python",
   "pygments_lexer": "ipython3",
   "version": "3.9.13"
  }
 },
 "nbformat": 4,
 "nbformat_minor": 2
}
