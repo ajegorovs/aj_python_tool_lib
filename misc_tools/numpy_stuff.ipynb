{
 "cells": [
  {
   "cell_type": "markdown",
   "metadata": {},
   "source": [
    "# Numpy\n",
    "## upper lower triangles of a matrix"
   ]
  },
  {
   "cell_type": "code",
   "execution_count": 2,
   "metadata": {},
   "outputs": [],
   "source": [
    "from IPython.display import display, Math\n",
    "\n",
    "def print_tex(*args,column = True):\n",
    "    a = ''\n",
    "    for arg in args:\n",
    "        if type(arg) != str:\n",
    "            arg = latexify(arg, newline=False, arraytype=\"bmatrix\", column = column)\n",
    "        else:\n",
    "            arg = r'\\text{' + arg + '} '\n",
    "        a += arg\n",
    "    display(Math(a))"
   ]
  },
  {
   "cell_type": "code",
   "execution_count": 6,
   "metadata": {},
   "outputs": [
    {
     "data": {
      "text/latex": [
       "$\\displaystyle \\text{matrix M:} \\begin{bmatrix} 1 & 2 & 3 \\\\ 4 & 5 & 6 \\\\ 7 & 8 & 9 \\end{bmatrix}$"
      ],
      "text/plain": [
       "<IPython.core.display.Math object>"
      ]
     },
     "metadata": {},
     "output_type": "display_data"
    }
   ],
   "source": [
    "import numpy as np\n",
    "from latexifier import latexify\n",
    "from IPython.display import Latex\n",
    "\n",
    "M = np.array([[1,2,3],[4,5,6],[7,8,9]])\n",
    "print_tex('matrix M:', M)"
   ]
  },
  {
   "cell_type": "markdown",
   "metadata": {},
   "source": [
    "### Decompose into upper, lower and diagonal parts of matrix \n",
    "can specify offset (k) of diagonal. k = 0 includes diagonal"
   ]
  },
  {
   "cell_type": "code",
   "execution_count": 3,
   "metadata": {},
   "outputs": [
    {
     "data": {
      "text/latex": [
       "$\\displaystyle \\text{upper triangle matrix:} \\begin{bmatrix} 0 & 2 & 3 \\\\ 0 & 0 & 6 \\\\ 0 & 0 & 0 \\end{bmatrix}$"
      ],
      "text/plain": [
       "<IPython.core.display.Math object>"
      ]
     },
     "metadata": {},
     "output_type": "display_data"
    },
    {
     "data": {
      "text/latex": [
       "$\\displaystyle \\text{lower triangle matrix:} \\begin{bmatrix} 0 & 0 & 0 \\\\ 4 & 0 & 0 \\\\ 7 & 8 & 0 \\end{bmatrix}$"
      ],
      "text/plain": [
       "<IPython.core.display.Math object>"
      ]
     },
     "metadata": {},
     "output_type": "display_data"
    },
    {
     "data": {
      "text/latex": [
       "$\\displaystyle \\text{diagonal matrix:} \\begin{bmatrix} 1 & 0 & 0 \\\\ 0 & 5 & 0 \\\\ 0 & 0 & 9 \\end{bmatrix}$"
      ],
      "text/plain": [
       "<IPython.core.display.Math object>"
      ]
     },
     "metadata": {},
     "output_type": "display_data"
    },
    {
     "data": {
      "text/latex": [
       "$\\displaystyle \\text{uper + diag + lower = } \\begin{bmatrix} 1 & 2 & 3 \\\\ 4 & 5 & 6 \\\\ 7 & 8 & 9 \\end{bmatrix}$"
      ],
      "text/plain": [
       "<IPython.core.display.Math object>"
      ]
     },
     "metadata": {},
     "output_type": "display_data"
    }
   ],
   "source": [
    "upper = np.triu(M, 1)\n",
    "diag = np.diag(np.diag(M))  # first diag extracts list of d-elems\n",
    "lower = np.tril(M, -1)\n",
    "\n",
    "print_tex('upper triangle matrix:', upper)\n",
    "print_tex('lower triangle matrix:', lower)\n",
    "print_tex('diagonal matrix:', diag)\n",
    "print_tex('uper + diag + lower = ', upper + lower + diag)"
   ]
  },
  {
   "cell_type": "code",
   "execution_count": 4,
   "metadata": {},
   "outputs": [
    {
     "data": {
      "text/latex": [
       "$\\displaystyle \\text{matrix:\n",
       "} \\begin{bmatrix} 1 & 2 & 3 \\\\ 4 & 5 & 6 \\\\ 7 & 8 & 9 \\end{bmatrix}$"
      ],
      "text/plain": [
       "<IPython.core.display.Math object>"
      ]
     },
     "metadata": {},
     "output_type": "display_data"
    },
    {
     "data": {
      "text/latex": [
       "$\\displaystyle \\text{upper triangle elements: } \\begin{bmatrix} 2 & 3 & 6 \\end{bmatrix}$"
      ],
      "text/plain": [
       "<IPython.core.display.Math object>"
      ]
     },
     "metadata": {},
     "output_type": "display_data"
    },
    {
     "data": {
      "text/latex": [
       "$\\displaystyle \\text{lower triangle elements: } \\begin{bmatrix} 4 & 7 & 8 \\end{bmatrix}$"
      ],
      "text/plain": [
       "<IPython.core.display.Math object>"
      ]
     },
     "metadata": {},
     "output_type": "display_data"
    },
    {
     "data": {
      "text/latex": [
       "$\\displaystyle \\text{diagonal elements: } \\begin{bmatrix} 1 & 5 & 9 \\end{bmatrix}$"
      ],
      "text/plain": [
       "<IPython.core.display.Math object>"
      ]
     },
     "metadata": {},
     "output_type": "display_data"
    }
   ],
   "source": [
    "print_tex('matrix:\\n', M)\n",
    "u_idx = np.triu_indices(3, k = 1)\n",
    "\n",
    "print_tex('upper triangle elements: ', M[u_idx], column=False)\n",
    "l_idx = np.tril_indices(3, k = -1)\n",
    "print_tex('lower triangle elements: ',M[l_idx], column=False)\n",
    "print_tex('diagonal elements: ', np.diag(M), column=False)"
   ]
  },
  {
   "cell_type": "markdown",
   "metadata": {},
   "source": [
    "## Numpy masked array\n",
    "mask shows which elements to hide. ~ to invert a boolean mask"
   ]
  },
  {
   "cell_type": "code",
   "execution_count": 18,
   "metadata": {},
   "outputs": [
    {
     "name": "stdout",
     "output_type": "stream",
     "text": [
      "masked array:\n",
      " [[-- --]\n",
      " [-- 4]\n",
      " [3 5]\n",
      " [4 --]\n",
      " [5 --]\n",
      " [6 --]]\n",
      "masked mins:\n",
      " [-- 4 3 4 5 6]\n",
      "masks:\n",
      " [ True False False False False False]\n",
      "vals:\n",
      " [999999      4      3      4      5      6]\n"
     ]
    }
   ],
   "source": [
    "arr = np.array([[1, 2, 3, 4, 5, 6], [2, 4, 5, 1 , 1, 2]]).T\n",
    "mask = arr > 2\n",
    "masked_x = np.ma.masked_array(arr, ~mask) # could have defined mask = arr <= 2\n",
    "print('masked array:\\n', masked_x)\n",
    "mins = np.ma.min(masked_x, axis = 1)\n",
    "print('masked mins:\\n',mins)\n",
    "print('masks:\\n',mins.mask)\n",
    "print('vals:\\n',mins.data)"
   ]
  },
  {
   "cell_type": "code",
   "execution_count": 18,
   "metadata": {},
   "outputs": [
    {
     "data": {
      "text/plain": [
       "['21', '23']"
      ]
     },
     "execution_count": 18,
     "metadata": {},
     "output_type": "execute_result"
    }
   ],
   "source": [
    "sorted(['23', '21'])"
   ]
  },
  {
   "cell_type": "code",
   "execution_count": null,
   "metadata": {},
   "outputs": [],
   "source": []
  }
 ],
 "metadata": {
  "kernelspec": {
   "display_name": ".venv",
   "language": "python",
   "name": "python3"
  },
  "language_info": {
   "codemirror_mode": {
    "name": "ipython",
    "version": 3
   },
   "file_extension": ".py",
   "mimetype": "text/x-python",
   "name": "python",
   "nbconvert_exporter": "python",
   "pygments_lexer": "ipython3",
   "version": "3.9.13"
  }
 },
 "nbformat": 4,
 "nbformat_minor": 2
}
