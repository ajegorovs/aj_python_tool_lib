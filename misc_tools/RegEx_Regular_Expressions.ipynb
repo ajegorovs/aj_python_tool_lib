{
 "cells": [
  {
   "cell_type": "markdown",
   "metadata": {},
   "source": [
    "# Regular Expressions\n",
    "\n",
    "Its pattern matching!"
   ]
  },
  {
   "cell_type": "markdown",
   "metadata": {},
   "source": [
    "Source: [Complete Natural Language Processing (NLP) Tutorial in Python! (with examples)](https://www.youtube.com/watch?v=M7SWr5xObkA)\n",
    "\n",
    "Cheat Sheet: [Here](https://cheatography.com/davechild/cheat-sheets/regular-expressions/)"
   ]
  },
  {
   "cell_type": "code",
   "execution_count": 80,
   "metadata": {},
   "outputs": [],
   "source": [
    "import re"
   ]
  },
  {
   "cell_type": "code",
   "execution_count": 81,
   "metadata": {},
   "outputs": [],
   "source": [
    "start = 'ab'; end = 'cd'\n",
    "fillers = [' ', '12', '#2']\n",
    "prefixes = ['1','','X']\n",
    "postfixes = ['','3','']"
   ]
  },
  {
   "cell_type": "markdown",
   "metadata": {},
   "source": [
    "Two ways of searching. functional and OOP:\n",
    "1. re.search(pattern, string)\n",
    "2. pat = re.compile(pattern); pat.search(string)\n",
    "\n",
    "* '.*' -  find between"
   ]
  },
  {
   "cell_type": "code",
   "execution_count": 82,
   "metadata": {},
   "outputs": [
    {
     "name": "stdout",
     "output_type": "stream",
     "text": [
      "pattern = 'ab.*cd'\n",
      "txt = '1ab cd'; search: <re.Match object; span=(1, 6), match='ab cd'>\n",
      "txt = 'ab12cd3'; search: <re.Match object; span=(0, 6), match='ab12cd'>\n",
      "txt = 'Xab#2cd'; search: <re.Match object; span=(1, 7), match='ab#2cd'>\n"
     ]
    }
   ],
   "source": [
    "pattern = start + '.*' + end\n",
    "print(f'{pattern = }')\n",
    "for pre, fill, post in zip(prefixes, fillers, postfixes):\n",
    "    txt = pre + start + fill + end + post\n",
    "    print(f'{txt = }; search:', re.search(pattern, txt))"
   ]
  },
  {
   "cell_type": "markdown",
   "metadata": {},
   "source": [
    "* [^abc] exclude internal matches. i.e ignore whitespace \\s"
   ]
  },
  {
   "cell_type": "code",
   "execution_count": 96,
   "metadata": {},
   "outputs": [
    {
     "name": "stdout",
     "output_type": "stream",
     "text": [
      "pattern = re.compile('ab[^\\\\s].*cd')\n",
      "txt = '1ab cd'; search: None\n",
      "txt = 'ab12cd3'; search: <re.Match object; span=(0, 6), match='ab12cd'>\n",
      "txt = 'Xab#2cd'; search: <re.Match object; span=(1, 7), match='ab#2cd'>\n"
     ]
    }
   ],
   "source": [
    "pattern = re.compile(start + '[^\\s]'+'.*' + end)\n",
    "print(f'{pattern = }')\n",
    "for pre, fill, post in zip(prefixes, fillers, postfixes):\n",
    "    txt = pre + start + fill + end + post\n",
    "    print(f'{txt = }; search:', pattern.search(txt))"
   ]
  },
  {
   "cell_type": "markdown",
   "metadata": {},
   "source": [
    "* '^' - starts with this; '$' - ends with this"
   ]
  },
  {
   "cell_type": "code",
   "execution_count": 97,
   "metadata": {},
   "outputs": [
    {
     "name": "stdout",
     "output_type": "stream",
     "text": [
      "pattern = re.compile('^ab.*cd')\n",
      "txt = '1ab cd'; search: None\n",
      "txt = 'ab12cd3'; search: <re.Match object; span=(0, 6), match='ab12cd'>\n",
      "txt = 'Xab#2cd'; search: None\n"
     ]
    }
   ],
   "source": [
    "pattern = re.compile('^' + start + '.*' + end)\n",
    "print(f'{pattern = }')\n",
    "for pre, fill, post in zip(prefixes, fillers, postfixes):\n",
    "    txt = pre + start + fill + end + post\n",
    "    print(f'{txt = }; search:', pattern.search(txt))"
   ]
  },
  {
   "cell_type": "markdown",
   "metadata": {},
   "source": [
    "* re.match() searches in the beginning of the string, and re.search() everywhere"
   ]
  },
  {
   "cell_type": "code",
   "execution_count": 107,
   "metadata": {},
   "outputs": [
    {
     "name": "stdout",
     "output_type": "stream",
     "text": [
      "pattern = re.compile('ab[^\\\\s].*cd')\n",
      "txt = '1ab cd'; match: None\n",
      "txt = '1ab cd'; search: None\n",
      "txt = 'ab12cd3'; match: <re.Match object; span=(0, 6), match='ab12cd'>\n",
      "txt = 'ab12cd3'; search: <re.Match object; span=(0, 6), match='ab12cd'>\n",
      "txt = 'Xab#2cd'; match: None\n",
      "txt = 'Xab#2cd'; search: <re.Match object; span=(1, 7), match='ab#2cd'>\n"
     ]
    }
   ],
   "source": [
    "pattern = re.compile(start + '[^\\s]'+'.*' + end )\n",
    "print(f'{pattern = }')\n",
    "for pre, fill, post in zip(prefixes, fillers, postfixes):\n",
    "    txt = pre + start + fill + end + post\n",
    "    print(f'{txt = }; match:', pattern.match(txt))\n",
    "    print(f'{txt = }; search:', pattern.search(txt))"
   ]
  },
  {
   "cell_type": "markdown",
   "metadata": {},
   "source": [
    "* '|' - or matching"
   ]
  },
  {
   "cell_type": "code",
   "execution_count": 118,
   "metadata": {},
   "outputs": [
    {
     "name": "stdout",
     "output_type": "stream",
     "text": [
      "I like to read a book         ; match: <re.Match object; span=(10, 14), match='read'>\n",
      "Story is about a little car   ; match: <re.Match object; span=(24, 27), match='car'>\n",
      "Protagonist has a long history; match: <re.Match object; span=(25, 30), match='story'>\n"
     ]
    }
   ],
   "source": [
    "pattern = re.compile(r\"read|story|car\")\n",
    "sentences = ['I like to read a book', 'Story is about a little car', 'Protagonist has a long history']\n",
    "ml = max([len(x) for x in sentences])\n",
    "for sentence in sentences:\n",
    "    print(f'{sentence:<{ml}}; match:', pattern.search(sentence))"
   ]
  },
  {
   "cell_type": "markdown",
   "metadata": {},
   "source": [
    "results (sentences):\n",
    "1. read match - true;\n",
    "2. Story did not match with story, next match car;\n",
    "3. story matched in history"
   ]
  },
  {
   "cell_type": "markdown",
   "metadata": {},
   "source": [
    "* '\\b' - add boundaries"
   ]
  },
  {
   "cell_type": "code",
   "execution_count": 124,
   "metadata": {},
   "outputs": [
    {
     "name": "stdout",
     "output_type": "stream",
     "text": [
      "I like to read a book         ; match: <re.Match object; span=(10, 14), match='read'>\n",
      "Story is about a little car   ; match: <re.Match object; span=(24, 27), match='car'>\n",
      "Protagonist has a long history; match: None\n"
     ]
    }
   ],
   "source": [
    "pattern = re.compile(r\"\\bread\\b|\\bstory\\b|\\bcar\\b\")\n",
    "for sentence in sentences:\n",
    "    print(f'{sentence:<{ml}}; match:', pattern.search(sentence))\n"
   ]
  },
  {
   "cell_type": "markdown",
   "metadata": {},
   "source": [
    "* add case insensitivity flag and group using '()' or add pattern modifier 'i *'"
   ]
  },
  {
   "cell_type": "code",
   "execution_count": 133,
   "metadata": {},
   "outputs": [
    {
     "name": "stdout",
     "output_type": "stream",
     "text": [
      "I like to read a book         ; match: <re.Match object; span=(10, 14), match='read'>\n",
      "Story is about a little car   ; match: <re.Match object; span=(0, 5), match='Story'>\n",
      "Protagonist has a long history; match: None\n"
     ]
    },
    {
     "ename": "",
     "evalue": "",
     "output_type": "error",
     "traceback": [
      "\u001b[1;31mThe Kernel crashed while executing code in the current cell or a previous cell. \n",
      "\u001b[1;31mPlease review the code in the cell(s) to identify a possible cause of the failure. \n",
      "\u001b[1;31mClick <a href='https://aka.ms/vscodeJupyterKernelCrash'>here</a> for more info. \n",
      "\u001b[1;31mView Jupyter <a href='command:jupyter.viewOutput'>log</a> for further details."
     ]
    }
   ],
   "source": [
    "pattern = re.compile(r\"\\b(read|story|car)\\b\", re.IGNORECASE)\n",
    "pattern = re.compile(r\"(?i)\\b(read|story|car)\\b\")\n",
    "for sentence in sentences:\n",
    "    print(f'{sentence:<{ml}}; match:', pattern.search(sentence))"
   ]
  }
 ],
 "metadata": {
  "kernelspec": {
   "display_name": ".venv",
   "language": "python",
   "name": "python3"
  },
  "language_info": {
   "codemirror_mode": {
    "name": "ipython",
    "version": 3
   },
   "file_extension": ".py",
   "mimetype": "text/x-python",
   "name": "python",
   "nbconvert_exporter": "python",
   "pygments_lexer": "ipython3",
   "version": "3.9.13"
  }
 },
 "nbformat": 4,
 "nbformat_minor": 2
}
