{
 "cells": [
  {
   "cell_type": "code",
   "execution_count": 1,
   "metadata": {},
   "outputs": [
    {
     "name": "stdout",
     "output_type": "stream",
     "text": [
      "(1, 4, 2, 1)\n",
      "(1, 4, 1, 2)\n"
     ]
    }
   ],
   "source": [
    "import numpy as np\n",
    "arr = np.ones(shape=(4,2))\n",
    "print(arr[None,...,None].shape)\n",
    "print(arr[None,:,None].shape)"
   ]
  },
  {
   "cell_type": "code",
   "execution_count": 3,
   "metadata": {},
   "outputs": [
    {
     "name": "stdout",
     "output_type": "stream",
     "text": [
      "(2, 3, 6) (2, 6, 1) (2, 3, 1)\n"
     ]
    }
   ],
   "source": [
    "a = np.ones(shape=(2,3,6))\n",
    "b = np.ones(shape=(2,6,1))\n",
    "print(a.shape, b.shape, (a @ b).shape)"
   ]
  }
 ],
 "metadata": {
  "kernelspec": {
   "display_name": ".venv",
   "language": "python",
   "name": "python3"
  },
  "language_info": {
   "codemirror_mode": {
    "name": "ipython",
    "version": 3
   },
   "file_extension": ".py",
   "mimetype": "text/x-python",
   "name": "python",
   "nbconvert_exporter": "python",
   "pygments_lexer": "ipython3",
   "version": "3.9.13"
  }
 },
 "nbformat": 4,
 "nbformat_minor": 2
}
