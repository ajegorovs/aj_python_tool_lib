{
 "cells": [
  {
   "cell_type": "markdown",
   "metadata": {},
   "source": [
    "https://medium.com/@CallMeTwitch/building-a-neural-network-zoo-from-scratch-the-recurrent-neural-network-9357b43e113c\n",
    "\n",
    "https://stanford.edu/~shervine/teaching/cs-230/cheatsheet-recurrent-neural-networks"
   ]
  },
  {
   "cell_type": "code",
   "execution_count": 1,
   "metadata": {},
   "outputs": [],
   "source": [
    "import numpy as np, torch\n",
    "from collections import Counter\n",
    "from IPython.display import Image"
   ]
  },
  {
   "cell_type": "markdown",
   "metadata": {},
   "source": [
    "<style>\n",
    "img {\n",
    "  display: block;\n",
    "  margin-left: auto;\n",
    "  margin-right: auto;\n",
    "}\n",
    "</style>\n",
    "\n",
    "<img src=\"https://stanford.edu/~shervine/teaching/cs-230/illustrations/description-block-rnn-ltr.png\" width=460 height=260 style=\"background-color:white\" class=\"center\"/>"
   ]
  },
  {
   "cell_type": "markdown",
   "metadata": {},
   "source": [
    "Sentences with positive or negative mood"
   ]
  },
  {
   "cell_type": "code",
   "execution_count": 5,
   "metadata": {},
   "outputs": [],
   "source": [
    "##### Data #####\n",
    "train_X = ['good', 'bad', 'happy', 'sad', 'not good', 'not bad', 'not happy', 'not sad', 'very good', 'very bad', 'very happy', 'very sad', 'i am happy', 'this is good', 'i am bad', 'this is bad', 'i am sad', 'this is sad', 'i am not happy', 'this is not good', 'i am not bad', 'this is not sad', 'i am very happy', 'this is very good', 'i am very bad', 'this is very sad', 'this is very happy', 'i am good not bad', 'this is good not bad', 'i am bad not good', 'i am good and happy', 'this is not good and not happy', 'i am not at all good', 'i am not at all bad', 'i am not at all happy', 'this is not at all sad', 'this is not at all happy', 'i am good right now', 'i am bad right now', 'this is bad right now', 'i am sad right now', 'i was good earlier', 'i was happy earlier', 'i was bad earlier', 'i was sad earlier', 'i am very bad right now', 'this is very good right now', 'this is very sad right now', 'this was bad earlier', 'this was very good earlier', 'this was very bad earlier', 'this was very happy earlier', 'this was very sad earlier', 'i was good and not bad earlier', 'i was not good and not happy earlier', 'i am not at all bad or sad right now', 'i am not at all good or happy right now', 'this was not happy and not good earlier']\n",
    "train_y = [1, 0, 1, 0, 0, 1, 0, 1, 1, 0, 1, 0, 1, 1, 0, 0, 0, 0, 0, 0, 1, 1, 1, 1, 0, 0, 1, 1, 1, 0, 1, 0, 0, 1, 0, 1, 0, 1, 0, 0, 0, 1, 1, 0, 0, 0, 1, 0, 0, 1, 0, 1, 0, 1, 0, 1, 0, 0]\n",
    "\n",
    "test_X = ['this is happy', 'i am good', 'this is not happy', 'i am not good', 'this is not bad', 'i am not sad', 'i am very good', 'this is very bad', 'i am very sad', 'this is bad not good', 'this is good and happy', 'i am not good and not happy', 'i am not at all sad', 'this is not at all good', 'this is not at all bad', 'this is good right now', 'this is sad right now', 'this is very bad right now', 'this was good earlier', 'i was not happy and not good earlier']\n",
    "test_y = [1, 1, 0, 0, 1, 1, 1, 0, 0, 0, 1, 0, 1, 0, 1, 1, 0, 0, 1, 0]"
   ]
  },
  {
   "cell_type": "markdown",
   "metadata": {},
   "source": [
    "collect all words and encode them into one-hot-vector\n",
    "\n",
    "bonus: sort words by use frequency"
   ]
  },
  {
   "cell_type": "code",
   "execution_count": 6,
   "metadata": {},
   "outputs": [
    {
     "name": "stdout",
     "output_type": "stream",
     "text": [
      "['not', 'i', 'this', 'good', 'bad', 'am', 'happy', 'very', 'is', 'sad', 'was', 'earlier', 'right', 'now', 'at', 'all', 'and', 'or']\n"
     ]
    }
   ],
   "source": [
    "words_all = [q for text in train_X for q in text.split()]\n",
    "frequency = dict(Counter(words_all))\n",
    "vocab_unique = list(sorted(frequency.keys(), key=lambda x: frequency[x], reverse=True))\n",
    "print(vocab_unique)\n",
    "vocab_size = len(vocab_unique)\n",
    "\n",
    "word_to_index = {w:i for i, w in enumerate(vocab_unique)}"
   ]
  },
  {
   "cell_type": "code",
   "execution_count": 7,
   "metadata": {},
   "outputs": [
    {
     "data": {
      "text/plain": [
       "tensor([[0., 0., 1., 0., 0., 0., 0., 0., 0., 0., 0., 0., 0., 0., 0., 0., 0., 0.],\n",
       "        [0., 0., 0., 0., 0., 0., 0., 0., 1., 0., 0., 0., 0., 0., 0., 0., 0., 0.],\n",
       "        [0., 0., 0., 0., 0., 0., 1., 0., 0., 0., 0., 0., 0., 0., 0., 0., 0., 0.]])"
      ]
     },
     "execution_count": 7,
     "metadata": {},
     "output_type": "execute_result"
    }
   ],
   "source": [
    "def oneHotEncode(text: str) -> torch.Tensor:\n",
    "    words = text.split()\n",
    "    encode = torch.zeros(len(words),vocab_size)\n",
    "    x,y = torch.tensor([(i,word_to_index[a]) for i,a in enumerate(words)]).T\n",
    "    encode[x,y] = 1\n",
    "    return encode\n",
    "oneHotEncode('this is happy')"
   ]
  },
  {
   "cell_type": "markdown",
   "metadata": {},
   "source": [
    "Initialize network weights by \n",
    "https://365datascience.com/tutorials/machine-learning-tutorials/what-is-xavier-initialization/"
   ]
  },
  {
   "cell_type": "code",
   "execution_count": 31,
   "metadata": {},
   "outputs": [
    {
     "data": {
      "text/plain": [
       "tensor([[ 1.0951, -0.2843],\n",
       "        [ 1.1880,  1.0329]])"
      ]
     },
     "execution_count": 31,
     "metadata": {},
     "output_type": "execute_result"
    }
   ],
   "source": [
    "# Xavier Normalized Initialization\n",
    "def initWeights(input_size: int, output_size: int) -> torch.Tensor:\n",
    "    rnd = torch.rand(size=(input_size, output_size))\n",
    "    rnd = 2*rnd - 1\n",
    "    return rnd * torch.sqrt(torch.tensor(6) / (input_size + output_size))\n",
    "\n",
    "initWeights(2,2)"
   ]
  },
  {
   "cell_type": "code",
   "execution_count": 10,
   "metadata": {},
   "outputs": [],
   "source": [
    "def tanh_p(x) -> torch.Tensor:\n",
    "    return 1 - (torch.tanh(x)**2)\n",
    "\n",
    "def softmax(x) -> torch.Tensor:\n",
    "    y = torch.exp(x)\n",
    "    return y / torch.sum(y)"
   ]
  },
  {
   "attachments": {
    "image.png": {
     "image/png": "[encoded data removed]"
    }
   },
   "cell_type": "markdown",
   "metadata": {},
   "source": [
    "![image.png](attachment:image.png)"
   ]
  },
  {
   "cell_type": "markdown",
   "metadata": {},
   "source": [
    "$$\\mathrm{dim}(x_n) = (1,N_x)$$ \n",
    "$$\\mathrm{dim}(HS_{n+1})  = (1,N_h) = \\mathrm{dim}(b_2) = \\mathrm{dim}(W_1 x_n) = \\mathrm{dim}(W_2 HS_n)$$\n",
    "$$\\rightarrow \\mathrm{dim}(W_2) = (N_h,N_h)$$\n",
    "$$\\rightarrow \\mathrm{dim}(W_1) = (N_x,N_h) : \\mathrm{dim}(W_1 x_n) = (1,N_x)(N_x,N_h)$$"
   ]
  },
  {
   "cell_type": "code",
   "execution_count": null,
   "metadata": {},
   "outputs": [],
   "source": [
    "##### Recurrent Neural Network Class #####\n",
    "class RNN:\n",
    "    \"\"\"\n",
    "        input_size- one-hot length (vocabulary); hidden_size - internal buffer; output_size - negative/positive mood = 2\n",
    "        hidden -> row vector (1,N)\n",
    "        \n",
    "    \"\"\"\n",
    "    def __init__(self, input_size: int, hidden_size: int, output_size: int, num_epochs: int, learning_rate: float):\n",
    "        # Hyperparameters\n",
    "        self.learning_rate  = learning_rate\n",
    "        self.num_epochs     = num_epochs\n",
    "        \n",
    "        # Network\n",
    "        self.w1 = initWeights(input_size, hidden_size)\n",
    "        self.w2 = initWeights(hidden_size, hidden_size)\n",
    "        self.w3 = initWeights(hidden_size, output_size)\n",
    "\n",
    "        self.b2 = torch.zeros((1, hidden_size))\n",
    "        self.b3 = torch.zeros((1, output_size))\n",
    "    \n",
    "    # Forward Propagation\n",
    "    def forward(self, inputs):\n",
    "        self.hidden_states = torch.zeros(inputs.size(0),self.b2.size(1))#[torch.zeros_like(self.b2)]\n",
    "        for i, x in enumerate(inputs):\n",
    "            \n",
    "        for input in inputs:\n",
    "            layer1_output = np.dot(input, self.w1)\n",
    "            layer2_output = np.dot(self.hidden_states[-1], self.w2) + self.b2\n",
    "            \n",
    "            self.hidden_states += [tanh(layer1_output + layer2_output)]\n",
    "\n",
    "        return np.dot(self.hidden_states[-1], self.w3) + self.b3"
   ]
  },
  {
   "cell_type": "code",
   "execution_count": 17,
   "metadata": {},
   "outputs": [
    {
     "data": {
      "text/plain": [
       "1"
      ]
     },
     "execution_count": 17,
     "metadata": {},
     "output_type": "execute_result"
    }
   ],
   "source": [
    "torch.zeros((1, 3)).size(0)"
   ]
  },
  {
   "cell_type": "code",
   "execution_count": null,
   "metadata": {},
   "outputs": [],
   "source": []
  }
 ],
 "metadata": {
  "kernelspec": {
   "display_name": ".venv",
   "language": "python",
   "name": "python3"
  },
  "language_info": {
   "codemirror_mode": {
    "name": "ipython",
    "version": 3
   },
   "file_extension": ".py",
   "mimetype": "text/x-python",
   "name": "python",
   "nbconvert_exporter": "python",
   "pygments_lexer": "ipython3",
   "version": "3.9.13"
  }
 },
 "nbformat": 4,
 "nbformat_minor": 2
}
