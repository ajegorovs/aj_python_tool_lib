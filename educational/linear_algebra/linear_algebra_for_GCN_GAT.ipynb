{
 "cells": [
  {
   "cell_type": "code",
   "execution_count": 1,
   "metadata": {},
   "outputs": [
    {
     "name": "stdout",
     "output_type": "stream",
     "text": [
      "input example : \n",
      ">>> arr_T = np.array([[r'\\vec{v}_1', r'\\vec{v}_2']]).T\n",
      ">>> print_tex(arr_T,'=', np.arange(1,5).reshape(2,-1)/4, r'; symbols: \\otimes, \\cdot,\\times')\n",
      "output: \n"
     ]
    },
    {
     "data": {
      "text/latex": [
       "$\\displaystyle \\begin{bmatrix}\\vec{v}_1 \\\\ \\vec{v}_2\\end{bmatrix}=\\begin{bmatrix} 1/4 & 1/2 \\\\ 3/4 & 1 \\end{bmatrix}; symbols: \\otimes, \\cdot,\\times$"
      ],
      "text/plain": [
       "<IPython.core.display.Math object>"
      ]
     },
     "metadata": {},
     "output_type": "display_data"
    }
   ],
   "source": [
    "from misc_tools.print_latex import print_tex\n",
    "import numpy as np\n",
    "import sympy"
   ]
  },
  {
   "cell_type": "code",
   "execution_count": 7,
   "metadata": {},
   "outputs": [
    {
     "data": {
      "text/latex": [
       "$\\displaystyle \\vec{v_1}$"
      ],
      "text/plain": [
       "\\vec{v_1}"
      ]
     },
     "metadata": {},
     "output_type": "display_data"
    },
    {
     "data": {
      "text/latex": [
       "$\\displaystyle \\vec{v_2}^T$"
      ],
      "text/plain": [
       "\\vec{v_2}^T"
      ]
     },
     "metadata": {},
     "output_type": "display_data"
    },
    {
     "data": {
      "text/latex": [
       "$\\displaystyle \\vec{t_1}^T$"
      ],
      "text/plain": [
       "\\vec{t_1}^T"
      ]
     },
     "metadata": {},
     "output_type": "display_data"
    }
   ],
   "source": [
    "v0          = sympy.symbols(r'\\vec{v}')\n",
    "v1,v2,v3    = sympy.symbols(r'\\vec{v_1} \\vec{v_2} \\vec{v_3}')\n",
    "v1T,v2T,v3T = sympy.symbols(r'\\vec{v_1}^T \\vec{v_2}^T \\vec{v_3}^T')\n",
    "\n",
    "t1,t2,t3    = sympy.symbols(r'\\vec{t_1} \\vec{t_2} \\vec{t_3}')\n",
    "t1T,t2T,t3T = sympy.symbols(r'\\vec{t_1}^T \\vec{t_2}^T \\vec{t_3}^T')\n",
    "\n",
    "display(v1);display(v2T);display(t1T)"
   ]
  },
  {
   "cell_type": "code",
   "execution_count": 8,
   "metadata": {},
   "outputs": [
    {
     "data": {
      "text/latex": [
       "$\\displaystyle T_1 \\vec{v} = \\begin{bmatrix} 0 & 1 & 1 \\\\ 1 & 0 & 1 \\\\ 0 & 1 & 0 \\end{bmatrix}\\begin{bmatrix} 0 \\\\ 1 \\\\ 2 \\end{bmatrix}=\\begin{bmatrix} 3 \\\\ 2 \\\\ 1 \\end{bmatrix}$"
      ],
      "text/plain": [
       "<IPython.core.display.Math object>"
      ]
     },
     "metadata": {},
     "output_type": "display_data"
    }
   ],
   "source": [
    "np.random.seed(69)\n",
    "T1 = np.random.randint(0,2, size= (3,3))\n",
    "v = np.arange(3).reshape(-1,1)\n",
    "print_tex(r'T_1 \\vec{v} = ',T1,v,'=', T1@ v)"
   ]
  },
  {
   "cell_type": "markdown",
   "metadata": {},
   "source": [
    "## Matrix as a collection of vector rows/columns\n",
    "We can change representation of contents of a matrix, but only new 'containers' obey laws of matrix multiplication.\n",
    "\n",
    "Operation between 'containers' is determined from their dimensions.<br>\n",
    "Operation between contents of 'containers' is determined on their type. (IDK REALLY)"
   ]
  },
  {
   "cell_type": "code",
   "execution_count": 9,
   "metadata": {},
   "outputs": [
    {
     "data": {
      "text/latex": [
       "$\\displaystyle T_1 \\vec{v} = \\begin{bmatrix} 0 & 1 & 1 \\\\ 1 & 0 & 1 \\\\ 0 & 1 & 0 \\end{bmatrix}\\begin{bmatrix} 0 \\\\ 1 \\\\ 2 \\end{bmatrix}=\\begin{bmatrix} 3 \\\\ 2 \\\\ 1 \\end{bmatrix}$"
      ],
      "text/plain": [
       "<IPython.core.display.Math object>"
      ]
     },
     "metadata": {},
     "output_type": "display_data"
    },
    {
     "data": {
      "text/latex": [
       "$\\displaystyle T_1 \\vec{v} = \\begin{bmatrix} \\vec{t_1} & \\vec{t_2} & \\vec{t_3} \\end{bmatrix}\\begin{bmatrix} 0 \\\\ 1 \\\\ 2 \\end{bmatrix}=\\begin{bmatrix} \\vec{t_2}+2\\vec{t_3} \\end{bmatrix}= 1\\begin{bmatrix} 1 \\\\ 0 \\\\ 1 \\end{bmatrix}+2\\begin{bmatrix} 1 \\\\ 1 \\\\ 0 \\end{bmatrix}=\\begin{bmatrix} 3 \\\\ 2 \\\\ 1 \\end{bmatrix}$"
      ],
      "text/plain": [
       "<IPython.core.display.Math object>"
      ]
     },
     "metadata": {},
     "output_type": "display_data"
    }
   ],
   "source": [
    "v = np.arange(3).reshape(-1,1)\n",
    "np.random.seed(69)\n",
    "T1 = np.random.randint(0,2, size= (3,3))\n",
    "Y1 = T1 @ v\n",
    "T1X = np.array([[t1,t2,t3]])\n",
    "print_tex(r'T_1 \\vec{v} = ',T1,v,'=', Y1)\n",
    "print_tex(r'T_1 \\vec{v} = ',T1X,v,'=', T1X @ v, '= ',v[1,0], T1[:,[1]], '+', v[2,0],T1[:,[2]], '=', Y1)"
   ]
  },
  {
   "cell_type": "markdown",
   "metadata": {},
   "source": [
    "Previous example has shown that we have replaced $T_1$ with $1 \\times 3$ container that has to multiply $3 \\times 1 $ container, which is a  dot product.<br>\n",
    "Inside elements obey vector-scalar multiplication rules.\n",
    "***\n",
    "## Transposed representation\n",
    "Right multiply can be considered a linear combination of rows of $T$"
   ]
  },
  {
   "cell_type": "code",
   "execution_count": 88,
   "metadata": {},
   "outputs": [
    {
     "data": {
      "text/latex": [
       "$\\displaystyle \\vec{v}^T T_1^T = \\begin{bmatrix} 0 & 1 & 2 \\end{bmatrix}\\begin{bmatrix} 0 & 1 & 0 \\\\ 1 & 0 & 1 \\\\ 1 & 1 & 0 \\end{bmatrix}=\\begin{bmatrix} 3 & 2 & 1 \\end{bmatrix}$"
      ],
      "text/plain": [
       "<IPython.core.display.Math object>"
      ]
     },
     "metadata": {},
     "output_type": "display_data"
    },
    {
     "data": {
      "text/latex": [
       "$\\displaystyle \\vec{v}^T T_1^T = \\begin{bmatrix} 0 & 1 & 2 \\end{bmatrix}\\begin{bmatrix} \\vec{t_1}^T \\\\ \\vec{t_2}^T \\\\ \\vec{t_3}^T \\end{bmatrix}=\\begin{bmatrix} \\vec{t_2}^T+2\\vec{t_3}^T \\end{bmatrix}= 1\\begin{bmatrix} 1 & 0 & 1 \\end{bmatrix}+2\\begin{bmatrix} 1 & 1 & 0 \\end{bmatrix}=\\begin{bmatrix} 3 & 2 & 1 \\end{bmatrix}$"
      ],
      "text/plain": [
       "<IPython.core.display.Math object>"
      ]
     },
     "metadata": {},
     "output_type": "display_data"
    }
   ],
   "source": [
    "print_tex(r'\\vec{v}^T T_1^T = ',v.T,T1.T, '=', v.T @T1.T )\n",
    "T1Y = np.array([[t1T,t2T,t3T]]).T\n",
    "print_tex(r'\\vec{v}^T T_1^T = ', v.T,T1Y ,'=', v.T @ T1Y, '= ',v[1,0], T1.T[[1]], '+', v[2,0], T1.T[[2]], '=', v.T @T1.T)"
   ]
  },
  {
   "cell_type": "markdown",
   "metadata": {},
   "source": [
    " Maybe its better to write sum $[\\vec{t}_2^T + 2\\vec{t}_3^T]$ as $1 \\times 1$ columns :)\n",
    "\n",
    "$$\n",
    "\\vec{v}^T T_1^T = \n",
    "\\begin{bmatrix}\n",
    "0\\vec{t}_2^T \\\\ + \\\\\\vec{t}_2^T \\\\ + \\\\ 2\\vec{t}_3^T\n",
    "\\end{bmatrix}=\n",
    "\\begin{bmatrix}\n",
    "0\n",
    "\\begin{bmatrix}\n",
    "0 & 1 & 1\n",
    "\\end{bmatrix} \\\\\n",
    "+ \\\\\n",
    "1\n",
    "\\begin{bmatrix}\n",
    "1 & 0 & 1\n",
    "\\end{bmatrix} \\\\\n",
    "+ \\\\\n",
    "2\n",
    "\\begin{bmatrix}\n",
    "1 & 1 & 0\n",
    "\\end{bmatrix}\n",
    "\\end{bmatrix}\n",
    "=\n",
    "\\begin{bmatrix}\n",
    "3 & 2 & 1\n",
    "\\end{bmatrix}\n",
    "$$"
   ]
  },
  {
   "cell_type": "markdown",
   "metadata": {},
   "source": [
    "$$\n",
    "\n",
    "\n",
    "\n",
    "$$"
   ]
  },
  {
   "cell_type": "markdown",
   "metadata": {},
   "source": [
    "## \"Distributivity\" of concatenation\n",
    "### Transforming a stack of vectors\n",
    "In transposed representation can be viewed as solving multiple equations"
   ]
  },
  {
   "cell_type": "code",
   "execution_count": 110,
   "metadata": {},
   "outputs": [
    {
     "data": {
      "text/latex": [
       "$\\displaystyle V = \\begin{bmatrix} \\vec{v_1} & \\vec{v_2} \\end{bmatrix} = \\vec{v_1}||\\vec{v_2} = \\begin{bmatrix} 0 & 3 \\\\ 1 & 4 \\\\ 2 & 5 \\end{bmatrix}$"
      ],
      "text/plain": [
       "<IPython.core.display.Math object>"
      ]
     },
     "metadata": {},
     "output_type": "display_data"
    },
    {
     "data": {
      "text/latex": [
       "$\\displaystyle T \\vec{v_1} =\\begin{bmatrix} 0 & 1 & 1 \\\\ 1 & 0 & 1 \\\\ 0 & 1 & 0 \\end{bmatrix}\\begin{bmatrix} 0 \\\\ 1 \\\\ 2 \\end{bmatrix}=\\begin{bmatrix} 3 \\\\ 2 \\\\ 1 \\end{bmatrix}; \\ T \\vec{v_2} =\\begin{bmatrix} 0 & 1 & 1 \\\\ 1 & 0 & 1 \\\\ 0 & 1 & 0 \\end{bmatrix}\\begin{bmatrix} 3 \\\\ 4 \\\\ 5 \\end{bmatrix}=\\begin{bmatrix} 9 \\\\ 8 \\\\ 4 \\end{bmatrix}$"
      ],
      "text/plain": [
       "<IPython.core.display.Math object>"
      ]
     },
     "metadata": {},
     "output_type": "display_data"
    },
    {
     "data": {
      "text/latex": [
       "$\\displaystyle TV = \\begin{bmatrix} 0 & 1 & 1 \\\\ 1 & 0 & 1 \\\\ 0 & 1 & 0 \\end{bmatrix}\\begin{bmatrix} 0 & 3 \\\\ 1 & 4 \\\\ 2 & 5 \\end{bmatrix} = \\begin{bmatrix} 3 & 9 \\\\ 2 & 8 \\\\ 1 & 4 \\end{bmatrix}$"
      ],
      "text/plain": [
       "<IPython.core.display.Math object>"
      ]
     },
     "metadata": {},
     "output_type": "display_data"
    },
    {
     "data": {
      "text/latex": [
       "$\\displaystyle  T\\begin{bmatrix} \\vec{v_1} & \\vec{v_2} \\end{bmatrix} = T[\\vec{v_1}||\\vec{v_2}] = \\begin{bmatrix} 0 & 1 & 1 \\\\ 1 & 0 & 1 \\\\ 0 & 1 & 0 \\end{bmatrix}\\begin{bmatrix} 0 \\\\ 1 \\\\ 2 \\end{bmatrix}\\bigg|\\bigg|\\begin{bmatrix} 3 \\\\ 4 \\\\ 5 \\end{bmatrix} = [T\\vec{v_1}||T\\vec{v_2}] = \\begin{bmatrix} 3 \\\\ 2 \\\\ 1 \\end{bmatrix}\\bigg|\\bigg|\\begin{bmatrix} 9 \\\\ 8 \\\\ 4 \\end{bmatrix} = \\begin{bmatrix} 3 & 9 \\\\ 2 & 8 \\\\ 1 & 4 \\end{bmatrix}$"
      ],
      "text/plain": [
       "<IPython.core.display.Math object>"
      ]
     },
     "metadata": {},
     "output_type": "display_data"
    }
   ],
   "source": [
    "V = np.arange(6).reshape(2,-1).T\n",
    "VX = np.array([[v1,v2]])\n",
    "VX1 = V[:,[0]]\n",
    "VX2 = V[:,[1]] \n",
    "Y1 = T1@ VX1\n",
    "Y2 = T1@ VX2\n",
    "Y = T1@ V\n",
    "print_tex('V = ', VX, f' = {v1}||{v2} = ', V)\n",
    "\n",
    "print_tex(f'T {v1} =', T1, VX1,'=', Y1, r'; \\ ', \n",
    "          f'T {v2} =', T1, VX2,'=', Y2)\n",
    "\n",
    "print_tex('TV = ',T1,V,' = ', Y)\n",
    "\n",
    "print_tex(' T',VX,f' = T[{v1}||{v2}] = ', T1,\n",
    "          VX1, r'\\bigg|\\bigg|', VX2  , f' = [T{v1}||T{v2}] = ', \n",
    "          Y1,  r'\\bigg|\\bigg|', Y2   ,  ' = ', Y)"
   ]
  },
  {
   "cell_type": "markdown",
   "metadata": {},
   "source": [
    "### Stacking Transformations"
   ]
  },
  {
   "cell_type": "code",
   "execution_count": 154,
   "metadata": {},
   "outputs": [
    {
     "data": {
      "text/latex": [
       "$\\displaystyle T_1 \\vec{v} =\\begin{bmatrix} 0 & 1 & 1 \\\\ 1 & 0 & 1 \\\\ 0 & 1 & 0 \\end{bmatrix}\\begin{bmatrix} 0 \\\\ 1 \\\\ 2 \\end{bmatrix}=\\begin{bmatrix} 3 \\\\ 2 \\\\ 1 \\end{bmatrix}; \\ T_2 \\vec{v} =\\begin{bmatrix} 1 & 1 & 0 \\\\ 0 & 1 & 1 \\\\ 1 & 0 & 0 \\end{bmatrix}\\begin{bmatrix} 0 \\\\ 1 \\\\ 2 \\end{bmatrix}=\\begin{bmatrix} 1 \\\\ 3 \\\\ 0 \\end{bmatrix}$"
      ],
      "text/plain": [
       "<IPython.core.display.Math object>"
      ]
     },
     "metadata": {},
     "output_type": "display_data"
    },
    {
     "data": {
      "text/latex": [
       "$\\displaystyle T\\vec{v} = \\frac{\\underline{T_1}}{T_2}\\vec{v} = \\begin{bmatrix} 0 & 1 & 1 \\\\ 1 & 0 & 1 \\\\ 0 & 1 & 0 \\\\ 1 & 1 & 0 \\\\ 0 & 1 & 1 \\\\ 1 & 0 & 0 \\end{bmatrix}\\begin{bmatrix} 0 \\\\ 1 \\\\ 2 \\end{bmatrix} = \\begin{bmatrix} 3 \\\\ 2 \\\\ 1 \\\\ 1 \\\\ 3 \\\\ 0 \\end{bmatrix} = \\frac{\\underline{T_1 \\vec{v}}}{T_2\\vec{v}}$"
      ],
      "text/plain": [
       "<IPython.core.display.Math object>"
      ]
     },
     "metadata": {},
     "output_type": "display_data"
    }
   ],
   "source": [
    "np.random.seed(1337)\n",
    "T2 = np.random.randint(0,2, size= (3,3))\n",
    "print_tex(f'T_1 {v0} =', T1, v,'=', T1 @ v, r'; \\ ', \n",
    "          f'T_2 {v0} =', T2, v,'=', T2 @ v)\n",
    "T = np.vstack((T1,T2))\n",
    "print_tex(r'T\\vec{v} = ', r'\\frac{\\underline{T_1}}{T_2}', f'{v0} = ',T, v, ' = ', T @ v, r' = \\frac{\\underline{T_1 \\vec{v}}}{T_2\\vec{v}}')"
   ]
  },
  {
   "cell_type": "markdown",
   "metadata": {},
   "source": [
    "# Everything below is complete blasphemy. Follow it and you will goto math jail!"
   ]
  },
  {
   "cell_type": "markdown",
   "metadata": {},
   "source": [
    "## (Optional) Rows and Columns  in matrix-matrix multiplication \n",
    "From matrix-matrix multiplication we know that matrix $E = AB$\n",
    "$$E_{(i,j)} =  \\sum_k^3 A_{i,k}B_{k,j}$$\n",
    "\n",
    "If we represent matrices as collection of vectors:\n",
    "\n",
    "$$\n",
    "A = \n",
    "\\begin{bmatrix}\n",
    "\\vec{a}_1^T \\\\ \\vec{a}_2^T \\\\ \\vec{a}_3^T \n",
    "\\end{bmatrix}\n",
    ";\n",
    "B = \n",
    "\\begin{bmatrix}\n",
    "\\vec{b}_1 & \\vec{b}_2 & \\vec{b}_3 \n",
    "\\end{bmatrix}\n",
    "$$\n",
    "We can write original definition as a dot product of columns of $A$ with rows of $B$\n",
    "$$E_{(1,1)} = \\sum_k^3 A_{1,k}B_{k,1} = \\sum_k^3 (\\vec{a}_1^T)_k (\\vec{b}_1)_k = \\vec{a}_1^T\\vec{b}_1$$"
   ]
  },
  {
   "cell_type": "markdown",
   "metadata": {},
   "source": [
    "## (Super optional. I want to delete this) Tensordot?\n",
    "If it wasn't that curious...\n",
    "\n",
    "\n",
    "$$E = AB =\n",
    "\\begin{bmatrix}\n",
    "\\vec{a}_1^T \\\\ \\vec{a}_2^T \\\\ \\vec{a}_3^T \n",
    "\\end{bmatrix}\n",
    "\\begin{bmatrix}\n",
    "\\vec{b}_1 & \\vec{b}_2 & \\vec{b}_3 \n",
    "\\end{bmatrix}\n",
    "$$\n",
    "\n",
    "Now product $AB$ is of shape $[3 \\times 1] \\cdot [1 \\times 3]$, which is a viable multiplication.\n",
    "\n",
    "In fact it is an `tensordot`. It is not the same as `outer product`, but combination of broadcasting and dot product. $\\dot\\otimes$ is a made-up symbol.\n",
    "\n",
    "Dimensions on axis are matched before multiplication $[3 \\times 1] \\cdot [1 \\times 3] \\rightarrow [3 \\times 3] \\cdot [3 \\times 3]$\n",
    "\n",
    "\n",
    "$$E = AB =\n",
    "\\begin{bmatrix}\n",
    "\\vec{a}_1^T & \\vec{a}_1^T & \\vec{a}_1^T \\\\ \n",
    "\\vec{a}_2^T & \\vec{a}_2^T & \\vec{a}_2^T \\\\\n",
    "\\vec{a}_3^T & \\vec{a}_3^T & \\vec{a}_3^T \n",
    "\\end{bmatrix}\n",
    "\\dot\\otimes\n",
    "\\begin{bmatrix}\n",
    "\\vec{b}_1 & \\vec{b}_2 & \\vec{b}_3 \\\\\n",
    "\\vec{b}_1 & \\vec{b}_2 & \\vec{b}_3 \\\\\n",
    "\\vec{b}_1 & \\vec{b}_2 & \\vec{b}_3 \n",
    "\\end{bmatrix}=\n",
    "\\begin{bmatrix}\n",
    "\\vec{a}_1^T \\vec{b}_1 & \\vec{a}_1^T \\vec{b}_2 & \\vec{a}_1^T \\vec{b}_3 \\\\\n",
    "\\vec{a}_2^T \\vec{b}_1 & \\vec{a}_2^T \\vec{b}_2 & \\vec{a}_2^T \\vec{b}_3 \\\\\n",
    "\\vec{a}_3^T \\vec{b}_1 & \\vec{a}_3^T \\vec{b}_2 & \\vec{a}_3^T \\vec{b}_3 \n",
    "\\end{bmatrix}\n",
    "$$\n"
   ]
  },
  {
   "cell_type": "markdown",
   "metadata": {},
   "source": [
    "As we have seen following multiplication is possible ($[N \\times N]\\times[N \\times 1]$):\n",
    "$$\n",
    "T\\vec{v}=\n",
    "\\begin{bmatrix}\n",
    "\\vec{t}_1 & \\vec{t}_2 & \\vec{t}_3 \n",
    "\\end{bmatrix}\n",
    "\\begin{bmatrix}\n",
    "v_1 \\\\ v_2 \\\\ v_3 \n",
    "\\end{bmatrix}\n",
    "$$\n",
    "And the following not (due to shape mismatch $[N \\times N]\\times[1 \\times 1]$)\n",
    "$$\n",
    "T\\vec{v}=\n",
    "\\begin{bmatrix}\n",
    "\\vec{t}_1 & \\vec{t}_2 & \\vec{t}_3 \n",
    "\\end{bmatrix}\n",
    "\\vec{v}\n",
    "$$"
   ]
  },
  {
   "cell_type": "markdown",
   "metadata": {},
   "source": [
    "## (Optional. Math assassins on their way) Uhm.. math works out\n",
    "Pretty much only rules i see, is that 'container' dimensions for multiplication match before broadcasting. \n",
    "\n",
    "i.e $[1 \\times 2]\\cdot[2 \\times 2]$ and $[8 \\times 1]\\cdot[1 \\times 4]$, but not $[2 \\times 1]\\cdot[2 \\times 2]$\n",
    "\n",
    "Here i represent only one matrix as a 'container'. It is a left matrix, which usually supplies rows. But i define it through columns... \n",
    "\n",
    "* Looks like a vector-matrix right multiply.\n",
    "* Solution is linear combination of rows of $B$.\n",
    "* $\\vec{a}_i$ acts as a scalar (broadcasts inside vectors) \n",
    "* dimension work for multiplication: $[1 \\times 2]\\times[2 \\times 2]$\n",
    "\n",
    "$$\n",
    "E = AB =\n",
    "\\begin{bmatrix}\n",
    "A_{1,1} & A_{1,2}\\\\ A_{2,1} & A_{2,2}\n",
    "\\end{bmatrix}\n",
    "\\begin{bmatrix}\n",
    "B_{1,1} & B_{1,2}  \\\\ \n",
    "B_{2,1} & B_{2,2}  \\\\\n",
    "\\end{bmatrix}=\n",
    "\\begin{bmatrix}\n",
    "\\vec{a}_1 & \\vec{a}_2  \\\\\n",
    "\\end{bmatrix}\n",
    "\\begin{bmatrix}\n",
    "B_{1,1} & B_{1,2}  \\\\ \n",
    "B_{2,1} & B_{2,2}  \\\\\n",
    "\\end{bmatrix}=\n",
    "\\begin{bmatrix}\n",
    "\\vec{a}_1[B_{1,1} \\ B_{1,2}]  \\\\ \n",
    "+ \\\\\n",
    "\\vec{a}_2[B_{2,1} \\ B_{2,2}]  \\\\\n",
    "\\end{bmatrix}=\n",
    "\n",
    "\\begin{bmatrix}\n",
    "\\vec{a}_1 B_{1,1} & \\vec{a}_1 B_{1,2}  \\\\ \n",
    " + & + \\\\\n",
    "\\vec{a}_2 B_{2,1} & \\vec{a}_2 B_{2,2}  \\\\\n",
    "\\end{bmatrix}\n",
    "$$\n",
    "\n"
   ]
  },
  {
   "cell_type": "markdown",
   "metadata": {},
   "source": [
    "Does it even make any sense? \n",
    "$$\n",
    "\\vec{E}_{col1}=\n",
    "\\begin{bmatrix}\n",
    "\\vec{a}_1 B_{1,1}  \\\\ \n",
    " +  \\\\\n",
    "\\vec{a}_2 B_{2,1}  \\\\\n",
    "\\end{bmatrix}=\n",
    "B_{1,1}\n",
    "\\begin{bmatrix}\n",
    "A_{1,1} \\\\ A_{2,1}\n",
    "\\end{bmatrix}+\n",
    "B_{2,1}\n",
    "\\begin{bmatrix}\n",
    "A_{1,2} \\\\ A_{2,2}\n",
    "\\end{bmatrix}=\n",
    "\\begin{bmatrix}\n",
    "A_{1,1} B_{1,1} + A_{1,2} B_{2,1}\\\\ \n",
    "A_{2,1} B_{1,1} + A_{2,2} B_{2,1}\n",
    "\\end{bmatrix}=\n",
    "\\begin{bmatrix}\n",
    "dot(\\vec{A}_{row1},\\vec{B}_{col1})\\\\ \n",
    "dot(\\vec{A}_{row2},\\vec{B}_{col1})\n",
    "\\end{bmatrix}\n",
    "$$\n",
    "\n",
    "Yep. It reduces to matrix multiplication.\n",
    "\n",
    " Was it useful? No.<br> Possible? Yes."
   ]
  },
  {
   "cell_type": "markdown",
   "metadata": {},
   "source": [
    "$$\n",
    "E = AB =\n",
    "\\begin{bmatrix}\n",
    "A_{1,1} & A_{1,2}\\\\ A_{2,1} & A_{2,2}\n",
    "\\end{bmatrix}\n",
    "\\begin{bmatrix}\n",
    "B_{1,1} & B_{1,2}  \\\\ \n",
    "B_{2,1} & B_{2,2}  \\\\\n",
    "\\end{bmatrix}=\n",
    "\\begin{bmatrix}\n",
    "A_{1,1} & A_{1,2}\\\\ A_{2,1} & A_{2,2}\n",
    "\\end{bmatrix}\n",
    "\\begin{bmatrix}\n",
    "\\vec{b}_1^T \\\\ \\vec{b}_2^T \n",
    "\\end{bmatrix}=\n",
    "\\begin{bmatrix}\n",
    "A_{1,1} \\\\ A_{2,1} \n",
    "\\end{bmatrix}\n",
    "\\vec{b}_1^T \n",
    "+\n",
    "\\begin{bmatrix}\n",
    "A_{1,2} \\\\ A_{2,2} \n",
    "\\end{bmatrix}\n",
    "\\vec{b}_2^T\n",
    "$$"
   ]
  },
  {
   "cell_type": "markdown",
   "metadata": {},
   "source": [
    "$$\n",
    "\\vec{E}_{row1}=\n",
    "A_{1,1} \\vec{b}_1^T  + A_{1,2} \\vec{b}_2^T =\n",
    "A_{1,1} \n",
    "\\begin{bmatrix}\n",
    "B_{1,1} & B_{1,2}\n",
    "\\end{bmatrix}+\n",
    "A_{1,2} \n",
    "\\begin{bmatrix}\n",
    "B_{2,1} & B_{2,2}\n",
    "\\end{bmatrix}=\n",
    "\\begin{bmatrix}\n",
    "(A_{1,1} B_{1,1} + A_{1,2} B_{2,1}) & (A_{1,1} B_{1,2} + A_{1,2} B_{2,2}) \n",
    "\\end{bmatrix}=\n",
    "\\begin{bmatrix}\n",
    "dot(\\vec{A}_{row1},\\vec{B}_{col1})&\n",
    "dot(\\vec{A}_{row1},\\vec{B}_{col2})\n",
    "\\end{bmatrix}\n",
    "$$"
   ]
  },
  {
   "cell_type": "code",
   "execution_count": null,
   "metadata": {},
   "outputs": [
    {
     "data": {
      "text/plain": [
       "array([[ True,  True,  True],\n",
       "       [ True,  True,  True],\n",
       "       [ True,  True,  True]])"
      ]
     },
     "metadata": {},
     "output_type": "display_data"
    }
   ],
   "source": [
    "np.random.seed(69)\n",
    "A = np.random.randint(0,2, size= (3,3));\n",
    "B = np.random.randint(0,2, size= (3,3));\n",
    "np.tensordot(A, B, axes = 1) == A @ B"
   ]
  }
 ],
 "metadata": {
  "kernelspec": {
   "display_name": ".venv",
   "language": "python",
   "name": "python3"
  },
  "language_info": {
   "codemirror_mode": {
    "name": "ipython",
    "version": 3
   },
   "file_extension": ".py",
   "mimetype": "text/x-python",
   "name": "python",
   "nbconvert_exporter": "python",
   "pygments_lexer": "ipython3",
   "version": "3.9.13"
  }
 },
 "nbformat": 4,
 "nbformat_minor": 2
}
