{
 "cells": [
  {
   "cell_type": "markdown",
   "metadata": {},
   "source": [
    "# Probabilties"
   ]
  },
  {
   "cell_type": "markdown",
   "metadata": {},
   "source": [
    "## Definition of probability of event\n",
    "Probability of event E is a ratio of successful outcomes to all possible outcomes\n",
    "\n",
    "$$P(E) = \\frac{\\text{\\# of successes}}{\\text{\\# of possible outcomes}}$$\n",
    "\n",
    "If examined from a standpoint of set theory we can write\n",
    "$$P(E) = \\frac{|\\text{success}|}{|\\text{all options}|}$$\n",
    "where $|\\cdot|$ is a size of a set, i.e for a coin toss ith result of heads and tails $C = \\{H,T\\} \\rightarrow |C| = 2$\n",
    "***"
   ]
  },
  {
   "cell_type": "markdown",
   "metadata": {},
   "source": [
    "Example: Fair dice\n",
    "$$S =  \\{1,2,3,4,5,6\\}; |S| = 6$$\n",
    "* Probability to roll 2 is\n",
    "$$P(2) = \\frac{|\\{2\\}|}{|\\{1,2,3,4,5,6\\}|} = \\frac{1}{6}$$ \n",
    "you may construct set by a ruleset\n",
    "$$S_2 = \\{n\\in S:n = 2\\} = \\{2\\}$$\n",
    "* Probability to roll even number (case of mutually exclusive events)\n",
    "$$P(\\text{even}) = P(\\text{ 2 or 4 or 6}) = \\frac{|\\{2,4,6\\}|}{|\\{1,2,3,4,5,6\\}|} = \\frac{3}{6}= \\frac{1}{2}$$\n",
    "$$S_{even} = \\{n\\in S: n \\% 2 = 0\\} = \\{2,4,6\\}$$\n",
    "\n",
    "***"
   ]
  },
  {
   "cell_type": "markdown",
   "metadata": {},
   "source": [
    "We can construct subsets via set operations: $ \\setminus \\ ; \\ \\cup \\ ; \\ \\cap \\ ; \\ \\cdot^c$\n",
    "\n",
    "$$\\text{Union: } S = S_{even} \\cup S_{odd}$$\n",
    "$$\\text{Set minus: } S_{odd} = S \\setminus S_{even}$$\n",
    "$$\\text{Intersection: } S_{odd} \\cap S_{even} = \\emptyset$$\n",
    "$$\\text{Complement: } \\{2\\}^c = S \\setminus \\{2\\}$$\n",
    "***"
   ]
  },
  {
   "cell_type": "markdown",
   "metadata": {},
   "source": [
    "## Complementary events\n",
    "* These events 'complement' each other such that they both take whole state space,\n",
    "* These events cannot occur at same time.\n",
    "\n",
    "For a coin flip. You cannot have both heads and tails at same time. If head occurs, rest of space is taken by tails and vice versa.\n",
    "$$P(H) = P(\\text{not }T); \\ P(T) = P(\\text{not }H)$$\n",
    "Stating obvious: \"everything\" is made up from \"something\" and \"not something\"=everything else\n",
    "$$P(H\\text{ or not }H) = P(H\\text{ or }H^c) = 1$$\n",
    "Probability of \"everything\" is 1. Any/or is represented by union $\\cup$ of sets.\n",
    "$$P(H\\text{ or }T) = P(H \\cup T) = P(H) + P(T) = 1$$\n",
    "\n"
   ]
  },
  {
   "cell_type": "markdown",
   "metadata": {},
   "source": [
    "## Impossible events\n",
    "Probability of impossible events is zero. For example we cannot expect multiple outcomes from one trial:\n",
    "Coin flip that produces both heads and tails simultaneously:\n",
    "$$P(H \\text{ and } T) = P(H \\cap T) = 0$$\n",
    "Dice roll that produces two different numbers 2 and 3:\n",
    "$$\\{2\\}\\cap\\{3\\} = \\emptyset \\rightarrow P(2 \\cap 3) = 0$$"
   ]
  },
  {
   "cell_type": "markdown",
   "metadata": {},
   "source": [
    "## Mutually exclusive events events\n",
    "\n",
    "Is a 'weaker' version of complementary events. \n",
    "* Mutually exclusive events cannot occur on same time\n",
    "\n",
    "If events A and B are not complementary, but mutually exclusive:\n",
    "\n",
    "$$P(A \\cup B) = P(A) + P(B) < 1$$\n",
    "\n",
    "Chance to roll 2 or 3\n",
    "\n",
    "$$P(2 \\ or \\ 3) = P(2 \\cup 3)= \\frac{1}{6} + \\frac{1}{6} = \\frac{2}{6}  = \\frac{1}{3} $$\n"
   ]
  },
  {
   "cell_type": "markdown",
   "metadata": {},
   "source": [
    "## Mutually non-exclusive events\n",
    "If events occur at same time, their contents might be double counted.\n",
    "\n",
    "What is the chance to get (H or T) or (T)?\n",
    "\n",
    "Since events are non mutually exclusive we `cannot` compute probability as\n",
    "$$P((H \\cup T) \\cup T) \\neq P(H \\cup T) + P(T) = 1 + 0.5 = 1.5$$\n",
    "Event $(H \\cup T)$ already covers case of $(T)$, so we should subtract one intersection/overlap (shared event part):\n",
    "\n",
    "$$P((H \\cup T) \\cup T) = P(H \\cup T) + P(T) - P((H \\cup T) \\cap T) = $$\n",
    "$$ = \\bigg| P((H \\cup T) \\cap T)  = \\frac{|\\{H,T\\}\\cap \\{T\\}|}{|\\{H,T\\}|} = \\frac{|\\{T\\}|}{|\\{H,T\\}|} = P(T) \\bigg| = $$\n",
    "$$=  P((H \\cup T)) + P(T) - P(T) = P((H \\cup T)) = 1$$\n",
    "\n",
    "Or for general events A and B\n",
    "\n",
    "$$P(A \\cup B) = P(A) + P(B) - P(A \\cap B)$$"
   ]
  },
  {
   "cell_type": "markdown",
   "metadata": {},
   "source": [
    "## Conditional probability $P(A|B)$ (Prelude to dependent events)\n",
    "$P(A|B)$ means what is probability of event $A$ if event $B$ is true/has been registered. \n",
    "\n",
    "We invoke conditional probability if result of B somehow affects result of A.\n",
    "\n",
    "* Second coin toss is not affected by first coin toss.<br>\n",
    "Even if there were 5 heads in a row, chance of 6th heads is still $\\frac{1}{2}$\n",
    "\n",
    "Example from https://www.sydney.edu.au/content/dam/students/documents/mathematics-learning-centre/basic-probability.pdf <br>\n",
    "(I introduce trivial conditioning to transition from P(N) to conditional probability.)\n",
    "\n",
    "Lecture with 300 students can be split into following categories\n",
    "\n",
    "| Gender | Doctors | Nurses |\n",
    "| --- | --- | --- |\n",
    "| Female | 90 | 90 |\n",
    "| Male | 100 | 20 |\n",
    "\n",
    "1. We can ask what is the chance of selected random student being a nurse:\n",
    "    $$ P(\\text{nurse}) = P(N) = \\frac{\\text{total nurses (M \\& F)}}{\\text{total students}} = \\frac{90+20}{300} = \\frac{110}{300}$$\n",
    "\n",
    "2. Or ask if random student is, specifically, a female nurses:\n",
    "    $$P(N \\cap F) = \\frac{\\text{total female nurses}}{\\text{total students}} = \\frac{90}{300}$$\n",
    "\n",
    "    <i>REMARK: set of female nurses is an intersection of two data slices: $N \\cap F =  (F+M \\text{ nurses}) \\cap (\\text {nurses + doctors }F)$</i>\n",
    "\n",
    "3. We can add trivial conditioning to 2. in which we consider only students:\n",
    "    $$ P(\\text{N given person is a student}) = P(\\text{N|S})= \\frac{\\text{total nurses which are students}}{\\text{total students which are students}} = P(N)$$\n",
    "\n",
    "    Of course this conditioning does not change probability because we have only students in our data\n",
    "\n",
    "    $$\\frac{\\text{total nurses which are students}}{\\text{total students which are students}} = \\frac{|N \\cap S|}{|S \\cap S|} =  \\frac{|N|}{|S|}$$\n",
    "\n",
    "4. But if we condition by cherry picking only female students:\n",
    "    $$P(N|F) = \\frac{P(N \\cap F)}{P(S \\cap F)} = \\frac{P(N \\cap F)}{P(F)} = \\frac{\\text{total nurses which are female}}{\\text{total students which are female}} = \\frac{90}{90 + 90} = \\frac{1}{2}$$\n",
    "    <i>REMARK: Our choice to cherry pick females affected result of query</i>\n",
    "\n",
    "General expression for events $A$ and $B$ for conditional probability of A given that B is true is:\n",
    "$$P(A|B) = \\frac{P(A\\cap B)}{P(B)}$$\n",
    "so\n",
    "$$P(A\\cap B) = P(A|B)\\cdot P(B)$$\n",
    "And due to symmetry of $(A\\cap B)$ and $(B \\cap A)$:\n",
    "\n",
    "$$P(B\\cap A) = P(B|A)\\cdot P(A)$$\n",
    "\n",
    "Notice that in general $P(N|F) \\neq P(F|N)$\n",
    "$$P(F|N) = \\frac{P(F \\cap N)}{P(N)} = \\frac{\\text{total nurses which are female}}{\\text{total students which are nurses}} = \\frac{90}{90 + 20} = \\frac{90}{110}$$\n",
    "\n",
    "From data, nurses are dominantly female, while females are equally likely to be doctors and nurses.<br>\n",
    "Asymmetry is due to lower total male count, and those who are present are mostly doctors."
   ]
  },
  {
   "cell_type": "markdown",
   "metadata": {},
   "source": [
    "## Series of events or multiple constraints"
   ]
  },
  {
   "cell_type": "markdown",
   "metadata": {},
   "source": [
    "### `And` constraint for independent events\n",
    "Series of events are independent if they don't affect each other (reformulate).\n",
    "\n",
    "`And` constraint requires both conditions to be satisfied. It is an intersection $\\cap$ of two sets.\n",
    "\n",
    "$$P(A \\ and \\ B) = P(A \\cap B) = P(A)\\cdot P(B)$$\n",
    "\n",
    "1. It can a series of unrelated experiments, such as a coin flip & dice roll.\n",
    "    $$C = \\{H,T\\}$$\n",
    "    $$P(H \\cap S_{1}) = \\frac{1}{2} \\cdot \\frac{1}{6} = \\frac{1}{12}$$\n",
    "\n",
    "    * We can expand state space to $S^\\prime = C\\times S$ and view event $H \\cap S_{1}$ as some event $E^\\prime$ in that space. <br>\n",
    "    State $S^\\prime = \\{(H,1), (H,2), \\dots ,(T,6)\\}$ has $2\\times 6 = 12$ possible states, so \n",
    "    $$P(E^\\prime) = P(H \\cap S_{1}) = \\frac{|\\{(H,1)\\}|}{|S^\\prime|} = \\frac{1}{12}$$\n",
    "\n",
    "2. It can be double condition on one experiment. i.e <br>\n",
    "    Trivial double condition: roll 1 and/while roll any number from $1$ to $6$\n",
    "    $$P(S_1 \\cap S) = \\frac{1}{6} \\cdot 1 = \\frac{1}{6}$$\n",
    "    Even here wa can expand state space $S^\\prime = S\\times S$ <br>\n",
    "    State $S^\\prime = \\{(1,1), \\dots, (2,1), \\dots ,(6,1), \\dots , (6,6)\\}$ with $36$ entries.<br>\n",
    "    Event $S_1 \\cap S$ satisfies $6$ states: $\\{(1,1), \\dots,(1,6)\\}$, so\n",
    "    $$P(S_1 \\cap S) = \\frac{|\\{(1,1), \\dots,(1,6)\\}|}{|S^\\prime|} = \\frac{6}{36} = \\frac{1}{6}$$\n",
    "\n",
    "Example: 1) rolling even number and 2) rolling number less or equal to 3 $\\rightarrow P(\\leq 3 \\text{ and Even})$.\n",
    "\n",
    "$$P(S_{leq3} \\cap S_{even}) = \\frac{3}{6} \\cdot  $$\n",
    "$$S_{\\leq 3} = \\{1,2,3\\}$$\n",
    "$$S_{even} = \\{2,4,6\\}$$\n",
    "$$S_{leq3} \\cap S_{even} = \\{2\\}$$"
   ]
  },
  {
   "cell_type": "markdown",
   "metadata": {},
   "source": [
    "### `Or` constraint\n",
    "Or constraint is satisfied if any Event succeeds. It is a union $\\cup$ of two sets\n",
    "\n",
    "$$P(\\text{A or B}) = P(A \\cup B) = P(A) + P(B) - P(A \\cap B)$$\n",
    "\n",
    "Last term $P(A \\cap B)$ prevents double counting for non-mutually exclusive (or non-disjoin) events.\n",
    "\n",
    "For example trivial task: [roll any `or` roll any]:\n",
    "\n",
    "$$P(S \\cup S) = P(S) + P(S) - P(S \\cap S) =  2P(S) - P(S) = P(S)$$\n"
   ]
  },
  {
   "cell_type": "markdown",
   "metadata": {},
   "source": [
    "## Dependent events"
   ]
  }
 ],
 "metadata": {
  "language_info": {
   "name": "python"
  }
 },
 "nbformat": 4,
 "nbformat_minor": 2
}
