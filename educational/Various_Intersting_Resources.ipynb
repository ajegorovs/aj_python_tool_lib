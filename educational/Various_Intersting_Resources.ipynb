{
 "cells": [
  {
   "cell_type": "markdown",
   "metadata": {},
   "source": [
    "(inverse) Hessian, autodifferentiation\n",
    "\n",
    "https://iclr-blogposts.github.io/2024/blog/bench-hvp/\n",
    "\n",
    "https://en.wikipedia.org/wiki/Hessian_automatic_differentiation"
   ]
  },
  {
   "cell_type": "markdown",
   "metadata": {},
   "source": []
  }
 ],
 "metadata": {
  "language_info": {
   "name": "python"
  }
 },
 "nbformat": 4,
 "nbformat_minor": 2
}
