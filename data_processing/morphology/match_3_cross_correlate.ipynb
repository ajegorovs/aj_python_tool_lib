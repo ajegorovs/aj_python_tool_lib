{
 "cells": [
  {
   "cell_type": "markdown",
   "metadata": {},
   "source": [
    "simple example on how to extract patterns in matrices\n",
    "\n",
    "in this example can find horizontal, vertical or diagonal patterns for match (5) game"
   ]
  },
  {
   "cell_type": "code",
   "execution_count": 1,
   "metadata": {},
   "outputs": [
    {
     "name": "stdout",
     "output_type": "stream",
     "text": [
      "[[0 1 1 0 1 1]\n",
      " [1 1 1 1 1 0]\n",
      " [0 1 0 0 0 0]\n",
      " [0 1 0 1 1 0]\n",
      " [0 1 1 1 1 0]\n",
      " [1 0 1 0 1 1]] \n",
      "\n"
     ]
    }
   ],
   "source": [
    "import numpy as np\n",
    "np.random.seed(0)\n",
    "from scipy import signal\n",
    "arr = np.random.randint(0,2, size = (6,6))\n",
    "print(arr,'\\n')"
   ]
  },
  {
   "cell_type": "code",
   "execution_count": 2,
   "metadata": {},
   "outputs": [
    {
     "name": "stdout",
     "output_type": "stream",
     "text": [
      "[[1. 0. 0.]\n",
      " [0. 1. 0.]\n",
      " [0. 0. 1.]] \n",
      "\n",
      "[[0 0 0 0 0 0]\n",
      " [0 0 0 0 0 0]\n",
      " [0 0 0 0 0 0]\n",
      " [0 0 0 0 0 0]\n",
      " [0 0 0 0 1 0]\n",
      " [0 0 0 0 0 0]]\n",
      "[[0. 0. 1.]\n",
      " [0. 1. 0.]\n",
      " [1. 0. 0.]] \n",
      "\n",
      "[[0 0 0 0 0 0]\n",
      " [0 0 0 0 0 0]\n",
      " [0 0 0 0 0 0]\n",
      " [0 0 0 0 0 0]\n",
      " [0 0 0 1 0 0]\n",
      " [0 0 0 0 0 0]]\n"
     ]
    }
   ],
   "source": [
    "diag_kern = np.eye(3)\n",
    "\n",
    "print(diag_kern,'\\n')\n",
    "\n",
    "corr_diag = signal.correlate(arr, diag_kern/np.sum(diag_kern), mode='same').astype(float)\n",
    "print(np.int8(corr_diag == 1))\n",
    "\n",
    "diag_kern = np.fliplr(np.eye(3))\n",
    "print(diag_kern,'\\n')\n",
    "corr_diag = signal.correlate(arr, diag_kern/np.sum(diag_kern), mode='same').astype(float)\n",
    "print(np.int8(corr_diag == 1))"
   ]
  },
  {
   "cell_type": "code",
   "execution_count": 3,
   "metadata": {},
   "outputs": [
    {
     "name": "stdout",
     "output_type": "stream",
     "text": [
      "[[0. 0. 0.]\n",
      " [1. 1. 1.]\n",
      " [0. 0. 0.]] \n",
      "\n",
      "[[0 0 0 0 0 0]\n",
      " [0 1 1 1 0 0]\n",
      " [0 0 0 0 0 0]\n",
      " [0 0 0 0 0 0]\n",
      " [0 0 1 1 0 0]\n",
      " [0 0 0 0 0 0]]\n",
      "[[0. 1. 0.]\n",
      " [0. 1. 0.]\n",
      " [0. 1. 0.]] \n",
      "\n",
      "[[0 0 0 0 0 0]\n",
      " [0 1 0 0 0 0]\n",
      " [0 1 0 0 0 0]\n",
      " [0 1 0 0 0 0]\n",
      " [0 0 0 0 1 0]\n",
      " [0 0 0 0 0 0]]\n"
     ]
    }
   ],
   "source": [
    "horiz_kern= np.zeros((3,3))\n",
    "horiz_kern[1,...] = 1\n",
    "print(horiz_kern,'\\n')\n",
    "corr_diag = signal.correlate(arr, horiz_kern/np.sum(horiz_kern), mode='same').astype(float)\n",
    "print(np.int8(corr_diag == 1))\n",
    "\n",
    "\n",
    "vert_kern = horiz_kern.T\n",
    "print(vert_kern,'\\n')\n",
    "corr_diag = signal.correlate(arr, vert_kern/np.sum(vert_kern), mode='same').astype(float)\n",
    "print(np.int8(corr_diag == 1))"
   ]
  },
  {
   "cell_type": "markdown",
   "metadata": {},
   "source": [
    "meme method. for education. disregard"
   ]
  },
  {
   "cell_type": "code",
   "execution_count": 5,
   "metadata": {},
   "outputs": [
    {
     "name": "stdout",
     "output_type": "stream",
     "text": [
      "index-value\n",
      " [[0 1 2 3 4 5 6 7]\n",
      " [0 1 1 0 1 0 1 1]]\n",
      "pattern  [1 1] matches from  [1] to [2]\n",
      "pattern  [1 1] matches from  [6] to [7]\n"
     ]
    }
   ],
   "source": [
    "import numpy as np\n",
    "arr = np.array([0,1,1,0,1,0,1,1])\n",
    "n_arr = len(arr)\n",
    "print('index-value\\n', np.vstack((np.arange(n_arr),arr)))\n",
    "mask = np.array([1,1])\n",
    "\n",
    "n_mask = len(mask)\n",
    "n_steps = n_arr - n_mask + 1\n",
    "\n",
    "match = np.zeros(n_steps, dtype = bool)\n",
    "\n",
    "# start examining slices or arr of size 2 # and comparing\n",
    "# i.e. if [0,1] == [1,1] -> [False, True]\n",
    "# np.all([False, True]) = False; np.all([True, True]) = True\n",
    "for i in range(n_steps):\n",
    "    slice = arr[i:i+n_mask]\n",
    "    if np.all(slice == mask):   \n",
    "        match[i] = True         \n",
    "\n",
    "where_match_starts = np.argwhere(match == True)\n",
    "\n",
    "for start in where_match_starts:\n",
    "    print('pattern ', mask,'matches from ', start, 'to', start + n_mask - 1)"
   ]
  },
  {
   "cell_type": "code",
   "execution_count": 6,
   "metadata": {},
   "outputs": [
    {
     "name": "stdout",
     "output_type": "stream",
     "text": [
      "[['00' '01' '02']\n",
      " ['10' '11' '12']\n",
      " ['20' '21' '22']]\n",
      "['00' '11' '22']\n"
     ]
    }
   ],
   "source": [
    "ijs = []\n",
    "dim_i = 3\n",
    "dim_j = 3\n",
    "for i in range(dim_i):\n",
    "    ijs.append([])\n",
    "    for j in range(dim_j):\n",
    "        ijs[-1].append(str(i)+str(j))\n",
    "        \n",
    "a = np.array(ijs)\n",
    "print(a)\n",
    "slc = np.arange(len(a))\n",
    "print(a[slc,slc])"
   ]
  },
  {
   "cell_type": "code",
   "execution_count": null,
   "metadata": {},
   "outputs": [],
   "source": []
  }
 ],
 "metadata": {
  "kernelspec": {
   "display_name": ".venv",
   "language": "python",
   "name": "python3"
  },
  "language_info": {
   "codemirror_mode": {
    "name": "ipython",
    "version": 3
   },
   "file_extension": ".py",
   "mimetype": "text/x-python",
   "name": "python",
   "nbconvert_exporter": "python",
   "pygments_lexer": "ipython3",
   "version": "3.9.13"
  }
 },
 "nbformat": 4,
 "nbformat_minor": 2
}
