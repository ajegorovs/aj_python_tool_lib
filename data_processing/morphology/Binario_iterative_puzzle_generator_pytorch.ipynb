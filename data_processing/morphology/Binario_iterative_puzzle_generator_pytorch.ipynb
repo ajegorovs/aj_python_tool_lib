{
 "cells": [
  {
   "cell_type": "code",
   "execution_count": 102,
   "metadata": {},
   "outputs": [],
   "source": [
    "from scipy.signal import convolve2d, correlate\n",
    "import numpy as np, torch\n",
    "from misc_tools.print_latex import print_tex\n",
    "import torch.nn.functional as F\n",
    "device = \"cpu\"#torch.device(\"cuda\" if torch.cuda.is_available() else \"cpu\")"
   ]
  },
  {
   "cell_type": "markdown",
   "metadata": {},
   "source": [
    "# 0) Implementation (for full loop in the end)\n",
    "1. Generate a puzzle `p`:\n",
    "    * Zero array of shape N by N, filled randomly by half (N*N/2) with ones\n",
    "1. Split it into view of 0s and 1s `p_split`\n",
    "1. Find which entries can be swapped. (makes sense only for opposite signs, otherwise the array wont change)\n",
    "    * `neighbor_swaps` (shape [2,4,N,N]) shows if each (dim 0) entry can go to one of 4 directions (dim 1) Right, Up, Left, Down\n",
    "    * `mobility` (shape [2,N,N]) same but if can move in either direction (is mobile)\n",
    "1. Calculate constraints\n",
    "    * Only 1 neighbor is accepted in either horizontal or vertical direction\n",
    "        * `near_neighbors` (shape [2,2,N,N]) shows if entry fails this test for vertical and horizontal dimension (dim 1)\n",
    "        * If element fails in particular direction, also its neighbor considered a culprit (usually is)\n",
    "    * Each row can contain only `N/2` entries\n",
    "        * `row_col_constr_mask` (shape [2,2,N,N]) marks all rows and columns (dim 1) that fail this constraint\n",
    "        * Order is swapped. Instead of vertical & horizontal, here its reversed. Reason: Encourage movement in orthogonal direction\n",
    "1. (Additional) Accumulate history (kind of constraint) from previous steps to encourage movement of entries that stay in favorable position for long time\n",
    "1. Estimate total energy (which entry should be swapped)\n",
    "    * Add two constraint energies\n",
    "    * Mask out entries that are immobile\n",
    "\n",
    "1. Option exploration:\n",
    "    * Take entry with highest energy (if many with same, at random)\n",
    "    * Check which directions it can move via `neighbor_swaps`\n",
    "    * Perform swap and calculate nearest neighbors and row/column constraint energies\n",
    "    * Select one with lowest resulting energy\n",
    "\n",
    "1. Repeat with modified puzzle until max iterations of if energy of two main constraints becomes 0"
   ]
  },
  {
   "cell_type": "markdown",
   "metadata": {},
   "source": [
    "img: Channels, H, W\n",
    "\n",
    "channel 0 -> position of zeros\n",
    "channel 1 -> position of ones"
   ]
  },
  {
   "cell_type": "code",
   "execution_count": 103,
   "metadata": {},
   "outputs": [
    {
     "name": "stdout",
     "output_type": "stream",
     "text": [
      "puzz.shape = torch.Size([2, 6, 6])\n"
     ]
    },
    {
     "data": {
      "text/latex": [
       "$\\displaystyle p =\\begin{bmatrix} 1 & 1 & 1 & 0 & 0 & 0 \\\\ 1 & 1 & 1 & 0 & 0 & 0 \\\\ 1 & 1 & 1 & 0 & 0 & 0 \\\\ 1 & 1 & 1 & 0 & 0 & 0 \\\\ 1 & 1 & 1 & 0 & 0 & 0 \\\\ 1 & 1 & 1 & 0 & 0 & 0 \\end{bmatrix}\\rightarrow (zeroes,ones) =\\begin{bmatrix} 0 & 0 & 0 & 1 & 1 & 1 \\\\ 0 & 0 & 0 & 1 & 1 & 1 \\\\ 0 & 0 & 0 & 1 & 1 & 1 \\\\ 0 & 0 & 0 & 1 & 1 & 1 \\\\ 0 & 0 & 0 & 1 & 1 & 1 \\\\ 0 & 0 & 0 & 1 & 1 & 1 \\end{bmatrix}\\begin{bmatrix} 1 & 1 & 1 & 0 & 0 & 0 \\\\ 1 & 1 & 1 & 0 & 0 & 0 \\\\ 1 & 1 & 1 & 0 & 0 & 0 \\\\ 1 & 1 & 1 & 0 & 0 & 0 \\\\ 1 & 1 & 1 & 0 & 0 & 0 \\\\ 1 & 1 & 1 & 0 & 0 & 0 \\end{bmatrix}$"
      ],
      "text/plain": [
       "<IPython.core.display.Math object>"
      ]
     },
     "metadata": {},
     "output_type": "display_data"
    }
   ],
   "source": [
    "puzz_true = torch.tensor([  [1,0,1,0,1,0],\n",
    "                            [0,1,0,0,1,1],\n",
    "                            [1,0,0,1,0,1],\n",
    "                            [0,1,1,0,1,0],\n",
    "                            [0,0,1,1,0,1],\n",
    "                            [1,1,0,1,0,0]])\n",
    "\n",
    "puzz_6 = torch.zeros(size=(6,6), dtype=torch.long)\n",
    "puzz_8 = torch.zeros(size=(8,8), dtype=torch.long)\n",
    "\n",
    "p = torch.zeros_like(puzz_6)\n",
    "N = p.shape[-1]\n",
    "\n",
    "p[:,:N//2] = 1\n",
    "# p = torch.ones_like(puzz)\n",
    "# p = torch.tril(p)\n",
    "\n",
    "def split_0_1(p):\n",
    "    s = p.unsqueeze(0)\n",
    "    return torch.cat((1 - s, s), dim = 0)\n",
    "\n",
    "puzz = split_0_1(p)\n",
    "\n",
    "print(f'{puzz.shape = }')\n",
    "print_tex('p =',p ,r'\\rightarrow (zeroes,ones) =' ,*puzz)\n"
   ]
  },
  {
   "cell_type": "markdown",
   "metadata": {},
   "source": [
    "# 1) Check if entries can move (can be swapped)"
   ]
  },
  {
   "cell_type": "markdown",
   "metadata": {},
   "source": [
    "## 1.1) Count neighbors for 0s and 1s in each of 4 directions\n",
    "Generate directed neighbor counter and mask to suppress edge cases\n",
    "\n",
    "After convolution array is of shape [entry type, direction, *image size] = [2,4,N,N].\n",
    "\n",
    "Entry has the following value and meaning: \n",
    "* 2 = entry has a neighbor of same type\n",
    "* 1 = entry has a neighbor of opposite type\n",
    "* 0 = disregard entry, its of a  wrong type for this query\n",
    "\n",
    "Swapping places makes sense only for opposite types. Otherwise nothing changes."
   ]
  },
  {
   "cell_type": "code",
   "execution_count": 104,
   "metadata": {},
   "outputs": [
    {
     "data": {
      "text/latex": [
       "$\\displaystyle for \\ zeroes: \\begin{bmatrix} 0 & 0 & 0 \\\\ 0 & 1 & 1 \\\\ 0 & 0 & 0 \\end{bmatrix}\\begin{bmatrix} 0 & 1 & 0 \\\\ 0 & 1 & 0 \\\\ 0 & 0 & 0 \\end{bmatrix}\\begin{bmatrix} 0 & 0 & 0 \\\\ 1 & 1 & 0 \\\\ 0 & 0 & 0 \\end{bmatrix}\\begin{bmatrix} 0 & 0 & 0 \\\\ 0 & 1 & 0 \\\\ 0 & 1 & 0 \\end{bmatrix}; \\ for \\ ones: \\begin{bmatrix} 0 & 0 & 0 \\\\ 0 & 1 & 1 \\\\ 0 & 0 & 0 \\end{bmatrix}\\begin{bmatrix} 0 & 1 & 0 \\\\ 0 & 1 & 0 \\\\ 0 & 0 & 0 \\end{bmatrix}\\begin{bmatrix} 0 & 0 & 0 \\\\ 1 & 1 & 0 \\\\ 0 & 0 & 0 \\end{bmatrix}\\begin{bmatrix} 0 & 0 & 0 \\\\ 0 & 1 & 0 \\\\ 0 & 1 & 0 \\end{bmatrix}$"
      ],
      "text/plain": [
       "<IPython.core.display.Math object>"
      ]
     },
     "metadata": {},
     "output_type": "display_data"
    }
   ],
   "source": [
    "k_n_r = torch.tensor([  [0, 0, 0],\n",
    "                        [0, 1, 1],\n",
    "                        [0, 0, 0]]).unsqueeze(0).unsqueeze(0)   # [1,1,3,3]\n",
    "\n",
    "# convolution will not broadcast (95% sure), have to copy twice\n",
    "k_n   = torch.repeat_interleave(    torch.cat( [torch.rot90(k_n_r, i, dims = (-2,-1)) for i in range(4)], dim = 0)  # [4,1,3,3]\n",
    "                                , 2, dim = 1)                                                                       # [4,2,3,3]\n",
    "gpu_conv = lambda image, kernel: F.conv2d(image, kernel, bias=None, stride=1, padding='same', dilation=1, groups=1).to(device)\n",
    "\n",
    "m_r = torch.ones_like(p)\n",
    "m_r[:,-1] = 0\n",
    "edge_masks = torch.stack([torch.rot90(m_r, i ) for i in range(4)]).unsqueeze(0) # [1,4,N,N] dim0 will broadcast\n",
    "\n",
    "print_tex(r'for \\ zeroes: ', *k_n[:,0], r'; \\ for \\ ones: ', *k_n[:,1])"
   ]
  },
  {
   "cell_type": "markdown",
   "metadata": {},
   "source": [
    "*   Cannot do an easy convolution to apply 4 different kernels for each channel C_in.\n",
    "\n",
    "    Ideally i would do img * ker := [C_in,*img shape] x [C_out, C_in, *ker shape] = [C_in, C_out, *img shape]\n",
    "\n",
    "    But `conv2D` sums over C_out dimension. Have to do it manually.\n",
    "* mask against diffusion (empty entries summing up non-zero neighbors)"
   ]
  },
  {
   "cell_type": "code",
   "execution_count": 105,
   "metadata": {},
   "outputs": [],
   "source": [
    "def neighbors_4_dirs_0_1(p):\n",
    "    n       = torch.zeros(size=(2,4,N,N))\n",
    "    n[[0]]  += gpu_conv(p[[0]],k_n[:,[0]]).unsqueeze(0)*p[[0]]\n",
    "    n[[1]]  += gpu_conv(p[[1]],k_n[:,[1]]).unsqueeze(0)*p[[1]]\n",
    "    n       *= edge_masks\n",
    "    return n"
   ]
  },
  {
   "cell_type": "code",
   "execution_count": 106,
   "metadata": {},
   "outputs": [
    {
     "data": {
      "text/latex": [
       "$\\displaystyle 0s\\begin{bmatrix} 0 & 0 & 0 & 2 & 2 & 0 \\\\ 0 & 0 & 0 & 2 & 2 & 0 \\\\ 0 & 0 & 0 & 2 & 2 & 0 \\\\ 0 & 0 & 0 & 2 & 2 & 0 \\\\ 0 & 0 & 0 & 2 & 2 & 0 \\\\ 0 & 0 & 0 & 2 & 2 & 0 \\end{bmatrix}\\begin{bmatrix} 0 & 0 & 0 & 0 & 0 & 0 \\\\ 0 & 0 & 0 & 2 & 2 & 2 \\\\ 0 & 0 & 0 & 2 & 2 & 2 \\\\ 0 & 0 & 0 & 2 & 2 & 2 \\\\ 0 & 0 & 0 & 2 & 2 & 2 \\\\ 0 & 0 & 0 & 2 & 2 & 2 \\end{bmatrix}\\begin{bmatrix} 0 & 0 & 0 & 1 & 2 & 2 \\\\ 0 & 0 & 0 & 1 & 2 & 2 \\\\ 0 & 0 & 0 & 1 & 2 & 2 \\\\ 0 & 0 & 0 & 1 & 2 & 2 \\\\ 0 & 0 & 0 & 1 & 2 & 2 \\\\ 0 & 0 & 0 & 1 & 2 & 2 \\end{bmatrix}\\begin{bmatrix} 0 & 0 & 0 & 2 & 2 & 2 \\\\ 0 & 0 & 0 & 2 & 2 & 2 \\\\ 0 & 0 & 0 & 2 & 2 & 2 \\\\ 0 & 0 & 0 & 2 & 2 & 2 \\\\ 0 & 0 & 0 & 2 & 2 & 2 \\\\ 0 & 0 & 0 & 0 & 0 & 0 \\end{bmatrix}$"
      ],
      "text/plain": [
       "<IPython.core.display.Math object>"
      ]
     },
     "metadata": {},
     "output_type": "display_data"
    },
    {
     "data": {
      "text/latex": [
       "$\\displaystyle 1s\\begin{bmatrix} 2 & 2 & 1 & 0 & 0 & 0 \\\\ 2 & 2 & 1 & 0 & 0 & 0 \\\\ 2 & 2 & 1 & 0 & 0 & 0 \\\\ 2 & 2 & 1 & 0 & 0 & 0 \\\\ 2 & 2 & 1 & 0 & 0 & 0 \\\\ 2 & 2 & 1 & 0 & 0 & 0 \\end{bmatrix}\\begin{bmatrix} 0 & 0 & 0 & 0 & 0 & 0 \\\\ 2 & 2 & 2 & 0 & 0 & 0 \\\\ 2 & 2 & 2 & 0 & 0 & 0 \\\\ 2 & 2 & 2 & 0 & 0 & 0 \\\\ 2 & 2 & 2 & 0 & 0 & 0 \\\\ 2 & 2 & 2 & 0 & 0 & 0 \\end{bmatrix}\\begin{bmatrix} 0 & 2 & 2 & 0 & 0 & 0 \\\\ 0 & 2 & 2 & 0 & 0 & 0 \\\\ 0 & 2 & 2 & 0 & 0 & 0 \\\\ 0 & 2 & 2 & 0 & 0 & 0 \\\\ 0 & 2 & 2 & 0 & 0 & 0 \\\\ 0 & 2 & 2 & 0 & 0 & 0 \\end{bmatrix}\\begin{bmatrix} 2 & 2 & 2 & 0 & 0 & 0 \\\\ 2 & 2 & 2 & 0 & 0 & 0 \\\\ 2 & 2 & 2 & 0 & 0 & 0 \\\\ 2 & 2 & 2 & 0 & 0 & 0 \\\\ 2 & 2 & 2 & 0 & 0 & 0 \\\\ 0 & 0 & 0 & 0 & 0 & 0 \\end{bmatrix}$"
      ],
      "text/plain": [
       "<IPython.core.display.Math object>"
      ]
     },
     "metadata": {},
     "output_type": "display_data"
    }
   ],
   "source": [
    "neighbors_4_dirs = neighbors_4_dirs_0_1(puzz)\n",
    "\n",
    "print_tex('0s',*neighbors_4_dirs[0])\n",
    "print_tex('1s',*neighbors_4_dirs[1])\n"
   ]
  },
  {
   "cell_type": "markdown",
   "metadata": {},
   "source": [
    "## 1.2) `x1` neighbors = can swap\n",
    "* directed swap mask [2, 4, N, N]\n",
    "* general swap mask: aggregate all (4) transitions into one (1) bool can/cannot move [2, N, N]"
   ]
  },
  {
   "cell_type": "code",
   "execution_count": 107,
   "metadata": {},
   "outputs": [],
   "source": [
    "def swap_possible(p):\n",
    "    neighbors_4_dirs = neighbors_4_dirs_0_1(p)\n",
    "    return  (neighbors_4_dirs == 1).to(int)"
   ]
  },
  {
   "cell_type": "code",
   "execution_count": 108,
   "metadata": {},
   "outputs": [
    {
     "data": {
      "text/latex": [
       "$\\displaystyle \\text{Mobility (0s \\& 1s) = }\\begin{bmatrix} 0 & 0 & 0 & 1 & 0 & 0 \\\\ 0 & 0 & 0 & 1 & 0 & 0 \\\\ 0 & 0 & 0 & 1 & 0 & 0 \\\\ 0 & 0 & 0 & 1 & 0 & 0 \\\\ 0 & 0 & 0 & 1 & 0 & 0 \\\\ 0 & 0 & 0 & 1 & 0 & 0 \\end{bmatrix}\\begin{bmatrix} 0 & 0 & 1 & 0 & 0 & 0 \\\\ 0 & 0 & 1 & 0 & 0 & 0 \\\\ 0 & 0 & 1 & 0 & 0 & 0 \\\\ 0 & 0 & 1 & 0 & 0 & 0 \\\\ 0 & 0 & 1 & 0 & 0 & 0 \\\\ 0 & 0 & 1 & 0 & 0 & 0 \\end{bmatrix}$"
      ],
      "text/plain": [
       "<IPython.core.display.Math object>"
      ]
     },
     "metadata": {},
     "output_type": "display_data"
    }
   ],
   "source": [
    "can_swap_4_dirs = swap_possible(puzz)\n",
    "\n",
    "mobility = torch.any(can_swap_4_dirs, dim = 1).to(int)\n",
    "print_tex(r'\\text{Mobility (0s \\& 1s) = }',*mobility)"
   ]
  },
  {
   "cell_type": "markdown",
   "metadata": {},
   "source": [
    "# 2) Constraint #1"
   ]
  },
  {
   "cell_type": "markdown",
   "metadata": {},
   "source": [
    "## Check if entry is agitated by `number of nearby neighbors` (horizontal and vertical)"
   ]
  },
  {
   "cell_type": "markdown",
   "metadata": {},
   "source": [
    "## 2.1) Count neighbors, mask against diffusion\n",
    "Want result as array of shape \n",
    "* [num types = 2, directions = 2, *img size]\n",
    "\n",
    "convolve dims:\n",
    "* [Batch, C_in, *img shape] $\\star$ [C_out, C_in, *ker shape] -> [Batch, C_out, *img shape]\n",
    "\n",
    "so \n",
    "* [num types = 2, C_in = 1] $\\star$ [ dirs = 2, C_in = 1] -> [num types = 2, dirs = 2]"
   ]
  },
  {
   "cell_type": "code",
   "execution_count": 109,
   "metadata": {},
   "outputs": [
    {
     "name": "stdout",
     "output_type": "stream",
     "text": [
      "puzz.unsqueeze(1).shape = torch.Size([2, 1, 6, 6])\n",
      "k_n_vh.shape = torch.Size([2, 1, 3, 3])\n"
     ]
    }
   ],
   "source": [
    "k_n_h = torch.tensor([  [0, 0, 0],\n",
    "                        [1, 1, 1],\n",
    "                        [0, 0, 0]])\n",
    "k_n_v = torch.rot90(k_n_h, 1)\n",
    "\n",
    "k_n_vh = torch.stack((k_n_v,k_n_h)).unsqueeze(1)\n",
    "\n",
    "print(f'{puzz.unsqueeze(1).shape = }')\n",
    "print(f'{k_n_vh.shape = }')\n"
   ]
  },
  {
   "cell_type": "markdown",
   "metadata": {},
   "source": [
    "Mask to consider only 1s entries (1s as markers)"
   ]
  },
  {
   "cell_type": "code",
   "execution_count": 110,
   "metadata": {},
   "outputs": [
    {
     "name": "stdout",
     "output_type": "stream",
     "text": [
      "num_neighbors_v_h.shape = torch.Size([2, 2, 6, 6])\n"
     ]
    },
    {
     "data": {
      "text/latex": [
       "$\\displaystyle \\text{v \\& h neighbors. for }0s:\\begin{bmatrix} 0 & 0 & 0 & 2 & 2 & 2 \\\\ 0 & 0 & 0 & 3 & 3 & 3 \\\\ 0 & 0 & 0 & 3 & 3 & 3 \\\\ 0 & 0 & 0 & 3 & 3 & 3 \\\\ 0 & 0 & 0 & 3 & 3 & 3 \\\\ 0 & 0 & 0 & 2 & 2 & 2 \\end{bmatrix}\\begin{bmatrix} 0 & 0 & 0 & 2 & 3 & 2 \\\\ 0 & 0 & 0 & 2 & 3 & 2 \\\\ 0 & 0 & 0 & 2 & 3 & 2 \\\\ 0 & 0 & 0 & 2 & 3 & 2 \\\\ 0 & 0 & 0 & 2 & 3 & 2 \\\\ 0 & 0 & 0 & 2 & 3 & 2 \\end{bmatrix}1s:\\begin{bmatrix} 2 & 2 & 2 & 0 & 0 & 0 \\\\ 3 & 3 & 3 & 0 & 0 & 0 \\\\ 3 & 3 & 3 & 0 & 0 & 0 \\\\ 3 & 3 & 3 & 0 & 0 & 0 \\\\ 3 & 3 & 3 & 0 & 0 & 0 \\\\ 2 & 2 & 2 & 0 & 0 & 0 \\end{bmatrix}\\begin{bmatrix} 2 & 3 & 2 & 0 & 0 & 0 \\\\ 2 & 3 & 2 & 0 & 0 & 0 \\\\ 2 & 3 & 2 & 0 & 0 & 0 \\\\ 2 & 3 & 2 & 0 & 0 & 0 \\\\ 2 & 3 & 2 & 0 & 0 & 0 \\\\ 2 & 3 & 2 & 0 & 0 & 0 \\end{bmatrix}$"
      ],
      "text/plain": [
       "<IPython.core.display.Math object>"
      ]
     },
     "metadata": {},
     "output_type": "display_data"
    }
   ],
   "source": [
    "num_neighbors_v_h = gpu_conv(puzz.unsqueeze(1),k_n_vh)*puzz.unsqueeze(1)\n",
    "print(f'{num_neighbors_v_h.shape = }')\n",
    "print_tex(r'\\text{v \\& h neighbors. for }0s:', *num_neighbors_v_h[0],'1s:', *num_neighbors_v_h[1])"
   ]
  },
  {
   "cell_type": "markdown",
   "metadata": {},
   "source": [
    "## 2.2) Mark agitated = 2 nearby neighbors + 1 self\n",
    "* vertical & horizontal [2,2,N,N]"
   ]
  },
  {
   "cell_type": "code",
   "execution_count": 111,
   "metadata": {},
   "outputs": [
    {
     "data": {
      "text/latex": [
       "$\\displaystyle \\text{Agitated vertical \\& horizontal } 0s:\\begin{bmatrix} 0 & 0 & 0 & 0 & 0 & 0 \\\\ 0 & 0 & 0 & 1 & 1 & 1 \\\\ 0 & 0 & 0 & 1 & 1 & 1 \\\\ 0 & 0 & 0 & 1 & 1 & 1 \\\\ 0 & 0 & 0 & 1 & 1 & 1 \\\\ 0 & 0 & 0 & 0 & 0 & 0 \\end{bmatrix}\\begin{bmatrix} 0 & 0 & 0 & 0 & 1 & 0 \\\\ 0 & 0 & 0 & 0 & 1 & 0 \\\\ 0 & 0 & 0 & 0 & 1 & 0 \\\\ 0 & 0 & 0 & 0 & 1 & 0 \\\\ 0 & 0 & 0 & 0 & 1 & 0 \\\\ 0 & 0 & 0 & 0 & 1 & 0 \\end{bmatrix}1s:\\begin{bmatrix} 0 & 0 & 0 & 0 & 0 & 0 \\\\ 1 & 1 & 1 & 0 & 0 & 0 \\\\ 1 & 1 & 1 & 0 & 0 & 0 \\\\ 1 & 1 & 1 & 0 & 0 & 0 \\\\ 1 & 1 & 1 & 0 & 0 & 0 \\\\ 0 & 0 & 0 & 0 & 0 & 0 \\end{bmatrix}\\begin{bmatrix} 0 & 1 & 0 & 0 & 0 & 0 \\\\ 0 & 1 & 0 & 0 & 0 & 0 \\\\ 0 & 1 & 0 & 0 & 0 & 0 \\\\ 0 & 1 & 0 & 0 & 0 & 0 \\\\ 0 & 1 & 0 & 0 & 0 & 0 \\\\ 0 & 1 & 0 & 0 & 0 & 0 \\end{bmatrix}$"
      ],
      "text/plain": [
       "<IPython.core.display.Math object>"
      ]
     },
     "metadata": {},
     "output_type": "display_data"
    },
    {
     "name": "stdout",
     "output_type": "stream",
     "text": [
      "neighb_constraint_fail.shape = torch.Size([2, 2, 6, 6])\n"
     ]
    }
   ],
   "source": [
    "neighb_constraint_fail = (num_neighbors_v_h == 3).to(int)\n",
    "print_tex(r'\\text{Agitated vertical \\& horizontal } 0s:',*neighb_constraint_fail[0],'1s:', *neighb_constraint_fail[1])\n",
    "print(f'{neighb_constraint_fail.shape = }')"
   ]
  },
  {
   "cell_type": "code",
   "execution_count": 112,
   "metadata": {},
   "outputs": [
    {
     "data": {
      "text/plain": [
       "36"
      ]
     },
     "execution_count": 112,
     "metadata": {},
     "output_type": "execute_result"
    }
   ],
   "source": [
    "def energy_neighbors(p, sum = True):\n",
    "    neighb_constraint_fail = gpu_conv(p.unsqueeze(1),k_n_vh)*p.unsqueeze(1) == 3\n",
    "    if sum:\n",
    "        return torch.sum(neighb_constraint_fail).item()\n",
    "    else: \n",
    "        return neighb_constraint_fail.to(int)\n",
    "\n",
    "energy_neighbors(puzz)\n"
   ]
  },
  {
   "cell_type": "markdown",
   "metadata": {},
   "source": [
    "## 2.3) Consider also their nearest neighbors\n",
    "Vertically agitated entries are agitated by vertical neighbors. Same with horizontal."
   ]
  },
  {
   "cell_type": "code",
   "execution_count": 113,
   "metadata": {},
   "outputs": [],
   "source": [
    "def expand_agitated_neighbors(p):\n",
    "    a = energy_neighbors(p, sum= False)\n",
    "    b = torch.zeros(size=(2,2,N,N))\n",
    "    b[:,[0]] += gpu_conv(a[:,[0]],k_n_vh[[0]])\n",
    "    b[:,[1]] += gpu_conv(a[:,[1]],k_n_vh[[1]])\n",
    "    b = (b > 0).to(int)\n",
    "    return b"
   ]
  },
  {
   "cell_type": "code",
   "execution_count": 114,
   "metadata": {},
   "outputs": [
    {
     "data": {
      "text/latex": [
       "$\\displaystyle \\text{Agitated entries \\& neighbors. } 0s:\\begin{bmatrix} 0 & 0 & 0 & 1 & 1 & 1 \\\\ 0 & 0 & 0 & 1 & 1 & 1 \\\\ 0 & 0 & 0 & 1 & 1 & 1 \\\\ 0 & 0 & 0 & 1 & 1 & 1 \\\\ 0 & 0 & 0 & 1 & 1 & 1 \\\\ 0 & 0 & 0 & 1 & 1 & 1 \\end{bmatrix}\\begin{bmatrix} 0 & 0 & 0 & 1 & 1 & 1 \\\\ 0 & 0 & 0 & 1 & 1 & 1 \\\\ 0 & 0 & 0 & 1 & 1 & 1 \\\\ 0 & 0 & 0 & 1 & 1 & 1 \\\\ 0 & 0 & 0 & 1 & 1 & 1 \\\\ 0 & 0 & 0 & 1 & 1 & 1 \\end{bmatrix}1s:\\begin{bmatrix} 1 & 1 & 1 & 0 & 0 & 0 \\\\ 1 & 1 & 1 & 0 & 0 & 0 \\\\ 1 & 1 & 1 & 0 & 0 & 0 \\\\ 1 & 1 & 1 & 0 & 0 & 0 \\\\ 1 & 1 & 1 & 0 & 0 & 0 \\\\ 1 & 1 & 1 & 0 & 0 & 0 \\end{bmatrix}\\begin{bmatrix} 1 & 1 & 1 & 0 & 0 & 0 \\\\ 1 & 1 & 1 & 0 & 0 & 0 \\\\ 1 & 1 & 1 & 0 & 0 & 0 \\\\ 1 & 1 & 1 & 0 & 0 & 0 \\\\ 1 & 1 & 1 & 0 & 0 & 0 \\\\ 1 & 1 & 1 & 0 & 0 & 0 \\end{bmatrix}$"
      ],
      "text/plain": [
       "<IPython.core.display.Math object>"
      ]
     },
     "metadata": {},
     "output_type": "display_data"
    }
   ],
   "source": [
    "neighb_constraint_fail_ext = expand_agitated_neighbors(puzz)\n",
    "print_tex(r'\\text{Agitated entries \\& neighbors. } 0s:',*neighb_constraint_fail_ext[0],'1s:', *neighb_constraint_fail_ext[1])\n"
   ]
  },
  {
   "cell_type": "markdown",
   "metadata": {},
   "source": [
    "# Constraint #2."
   ]
  },
  {
   "cell_type": "markdown",
   "metadata": {},
   "source": [
    "## Check if entry is agitated by row/col element count\n",
    "High number of elements in columns should encourage to migrate entires along rows.\n",
    "\n",
    "Thats why order is swapped"
   ]
  },
  {
   "cell_type": "code",
   "execution_count": 115,
   "metadata": {},
   "outputs": [],
   "source": [
    "def row_col_constraint_rough_mask(p):\n",
    "    a = torch.zeros(size = (2,2,N,N), dtype = int)\n",
    "    a[0,0] += (torch.sum(p[0], dim= 1, keepdims=True)>N//2)\n",
    "    a[0,1] += (torch.sum(p[0], dim= 0, keepdims=True)>N//2)\n",
    "    a[1,0] += (torch.sum(p[1], dim= 1, keepdims=True)>N//2)\n",
    "    a[1,1] += (torch.sum(p[1], dim= 0, keepdims=True)>N//2)\n",
    "    return a\n",
    "\n",
    "def row_col_constraint_energy(p):\n",
    "    a = 0\n",
    "    a += torch.sum(torch.sum(p[0], dim= 1, keepdims=False)>N//2)\n",
    "    a += torch.sum(torch.sum(p[0], dim= 0, keepdims=False)>N//2)\n",
    "    a += torch.sum(torch.sum(p[1], dim= 1, keepdims=False)>N//2)\n",
    "    a += torch.sum(torch.sum(p[1], dim= 0, keepdims=False)>N//2)\n",
    "    return a"
   ]
  },
  {
   "cell_type": "code",
   "execution_count": 116,
   "metadata": {},
   "outputs": [
    {
     "name": "stdout",
     "output_type": "stream",
     "text": [
      "tensor(6)\n"
     ]
    },
    {
     "data": {
      "text/latex": [
       "$\\displaystyle \\text{Agitated entries \\& neighbors. } 0s:\\begin{bmatrix} 0 & 0 & 0 & 0 & 0 & 0 \\\\ 0 & 0 & 0 & 0 & 0 & 0 \\\\ 0 & 0 & 0 & 0 & 0 & 0 \\\\ 0 & 0 & 0 & 0 & 0 & 0 \\\\ 0 & 0 & 0 & 0 & 0 & 0 \\\\ 0 & 0 & 0 & 0 & 0 & 0 \\end{bmatrix}\\begin{bmatrix} 0 & 0 & 0 & 1 & 1 & 1 \\\\ 0 & 0 & 0 & 1 & 1 & 1 \\\\ 0 & 0 & 0 & 1 & 1 & 1 \\\\ 0 & 0 & 0 & 1 & 1 & 1 \\\\ 0 & 0 & 0 & 1 & 1 & 1 \\\\ 0 & 0 & 0 & 1 & 1 & 1 \\end{bmatrix}1s:\\begin{bmatrix} 0 & 0 & 0 & 0 & 0 & 0 \\\\ 0 & 0 & 0 & 0 & 0 & 0 \\\\ 0 & 0 & 0 & 0 & 0 & 0 \\\\ 0 & 0 & 0 & 0 & 0 & 0 \\\\ 0 & 0 & 0 & 0 & 0 & 0 \\\\ 0 & 0 & 0 & 0 & 0 & 0 \\end{bmatrix}\\begin{bmatrix} 1 & 1 & 1 & 0 & 0 & 0 \\\\ 1 & 1 & 1 & 0 & 0 & 0 \\\\ 1 & 1 & 1 & 0 & 0 & 0 \\\\ 1 & 1 & 1 & 0 & 0 & 0 \\\\ 1 & 1 & 1 & 0 & 0 & 0 \\\\ 1 & 1 & 1 & 0 & 0 & 0 \\end{bmatrix}$"
      ],
      "text/plain": [
       "<IPython.core.display.Math object>"
      ]
     },
     "metadata": {},
     "output_type": "display_data"
    }
   ],
   "source": [
    "row_col_constraint_fail = row_col_constraint_rough_mask(puzz)\n",
    "print(row_col_constraint_energy(puzz))\n",
    "print_tex(r'\\text{Agitated entries \\& neighbors. } 0s:',*row_col_constraint_fail[0],'1s:', *row_col_constraint_fail[1])"
   ]
  },
  {
   "cell_type": "markdown",
   "metadata": {},
   "source": [
    "# 3) Add constrain energies"
   ]
  },
  {
   "cell_type": "code",
   "execution_count": 117,
   "metadata": {},
   "outputs": [],
   "source": [
    "def row_col_constraint_masked(p, sum = False):\n",
    "    agi_neigh   = expand_agitated_neighbors(p)\n",
    "    agit_r_c    = row_col_constraint_rough_mask(p)\n",
    "    res = (agi_neigh + agit_r_c)* agi_neigh\n",
    "    if sum:\n",
    "        return torch.sum(res).item()\n",
    "    else:\n",
    "        return res"
   ]
  },
  {
   "cell_type": "code",
   "execution_count": 118,
   "metadata": {},
   "outputs": [
    {
     "data": {
      "text/latex": [
       "$\\displaystyle \\text{Agitated entries \\& neighbors. } 0s:\\begin{bmatrix} 0 & 0 & 0 & 1 & 1 & 1 \\\\ 0 & 0 & 0 & 1 & 1 & 1 \\\\ 0 & 0 & 0 & 1 & 1 & 1 \\\\ 0 & 0 & 0 & 1 & 1 & 1 \\\\ 0 & 0 & 0 & 1 & 1 & 1 \\\\ 0 & 0 & 0 & 1 & 1 & 1 \\end{bmatrix}\\begin{bmatrix} 0 & 0 & 0 & 2 & 2 & 2 \\\\ 0 & 0 & 0 & 2 & 2 & 2 \\\\ 0 & 0 & 0 & 2 & 2 & 2 \\\\ 0 & 0 & 0 & 2 & 2 & 2 \\\\ 0 & 0 & 0 & 2 & 2 & 2 \\\\ 0 & 0 & 0 & 2 & 2 & 2 \\end{bmatrix}1s:\\begin{bmatrix} 1 & 1 & 1 & 0 & 0 & 0 \\\\ 1 & 1 & 1 & 0 & 0 & 0 \\\\ 1 & 1 & 1 & 0 & 0 & 0 \\\\ 1 & 1 & 1 & 0 & 0 & 0 \\\\ 1 & 1 & 1 & 0 & 0 & 0 \\\\ 1 & 1 & 1 & 0 & 0 & 0 \\end{bmatrix}\\begin{bmatrix} 2 & 2 & 2 & 0 & 0 & 0 \\\\ 2 & 2 & 2 & 0 & 0 & 0 \\\\ 2 & 2 & 2 & 0 & 0 & 0 \\\\ 2 & 2 & 2 & 0 & 0 & 0 \\\\ 2 & 2 & 2 & 0 & 0 & 0 \\\\ 2 & 2 & 2 & 0 & 0 & 0 \\end{bmatrix}$"
      ],
      "text/plain": [
       "<IPython.core.display.Math object>"
      ]
     },
     "metadata": {},
     "output_type": "display_data"
    }
   ],
   "source": [
    "tot_energy = row_col_constraint_masked(puzz)\n",
    "print_tex(r'\\text{Agitated entries \\& neighbors. } 0s:',*tot_energy[0],'1s:', *tot_energy[1])"
   ]
  },
  {
   "cell_type": "code",
   "execution_count": 119,
   "metadata": {},
   "outputs": [
    {
     "data": {
      "text/latex": [
       "$\\displaystyle \\text{Agitated entries \\& neighbors. } 0s:\\begin{bmatrix} 0 & 0 & 0 & 1 & 0 & 0 \\\\ 0 & 0 & 0 & 1 & 0 & 0 \\\\ 0 & 0 & 0 & 1 & 0 & 0 \\\\ 0 & 0 & 0 & 1 & 0 & 0 \\\\ 0 & 0 & 0 & 1 & 0 & 0 \\\\ 0 & 0 & 0 & 1 & 0 & 0 \\end{bmatrix}\\begin{bmatrix} 0 & 0 & 0 & 0 & 0 & 0 \\\\ 0 & 0 & 0 & 0 & 0 & 0 \\\\ 0 & 0 & 0 & 0 & 0 & 0 \\\\ 0 & 0 & 0 & 0 & 0 & 0 \\\\ 0 & 0 & 0 & 0 & 0 & 0 \\\\ 0 & 0 & 0 & 0 & 0 & 0 \\end{bmatrix}1s:\\begin{bmatrix} 0 & 0 & 0 & 0 & 0 & 0 \\\\ 0 & 0 & 0 & 0 & 0 & 0 \\\\ 0 & 0 & 0 & 0 & 0 & 0 \\\\ 0 & 0 & 0 & 0 & 0 & 0 \\\\ 0 & 0 & 0 & 0 & 0 & 0 \\\\ 0 & 0 & 0 & 0 & 0 & 0 \\end{bmatrix}\\begin{bmatrix} 0 & 0 & 2 & 0 & 0 & 0 \\\\ 0 & 0 & 2 & 0 & 0 & 0 \\\\ 0 & 0 & 2 & 0 & 0 & 0 \\\\ 0 & 0 & 2 & 0 & 0 & 0 \\\\ 0 & 0 & 2 & 0 & 0 & 0 \\\\ 0 & 0 & 2 & 0 & 0 & 0 \\end{bmatrix}$"
      ],
      "text/plain": [
       "<IPython.core.display.Math object>"
      ]
     },
     "metadata": {},
     "output_type": "display_data"
    }
   ],
   "source": [
    "tot_energy_masked = tot_energy*mobility\n",
    "print_tex(r'\\text{Agitated entries \\& neighbors. } 0s:',*tot_energy_masked[0],'1s:', *tot_energy_masked[1])"
   ]
  },
  {
   "cell_type": "code",
   "execution_count": 120,
   "metadata": {},
   "outputs": [],
   "source": [
    "def swap_2_elements(arr, pos1, pos2):\n",
    "    pos1, pos2 = tuple(pos1), tuple(pos2)\n",
    "    temp = arr[pos1].clone()\n",
    "    arr[pos1] = arr[pos2]\n",
    "    arr[pos2] = temp"
   ]
  },
  {
   "cell_type": "code",
   "execution_count": 121,
   "metadata": {},
   "outputs": [],
   "source": [
    "ijplus = np.array([[0,1], [-1,0], [0,-1],[1,0]])   # Right, up, left down. On matrix y is reversed."
   ]
  },
  {
   "cell_type": "markdown",
   "metadata": {},
   "source": [
    "# 3) Implementation (Repeated)"
   ]
  },
  {
   "cell_type": "markdown",
   "metadata": {},
   "source": [
    "1. Generate a puzzle `p`:\n",
    "    * Zero array of shape N by N, filled randomly by half (N*N/2) with ones\n",
    "1. Split it into view of 0s and 1s `p_split`\n",
    "1. Find which entries can be swapped. (makes sense only for opposite signs, otherwise the array wont change)\n",
    "    * `neighbor_swaps` (shape [2,4,N,N]) shows if each (dim 0) entry can go to one of 4 directions (dim 1) Right, Up, Left, Down\n",
    "    * `mobility` (shape [2,N,N]) same but if can move in either direction (is mobile)\n",
    "1. Calculate constraints\n",
    "    * Only 1 neighbor is accepted in either horizontal or vertical direction\n",
    "        * `near_neighbors` (shape [2,2,N,N]) shows if entry fails this test for vertical and horizontal dimension (dim 1)\n",
    "        * If element fails in particular direction, also its neighbor considered a culprit (usually is)\n",
    "    * Each row can contain only `N/2` entries\n",
    "        * `row_col_constr_mask` (shape [2,2,N,N]) marks all rows and columns (dim 1) that fail this constraint\n",
    "        * Order is swapped. Instead of vertical & horizontal, here its reversed. Reason: Encourage movement in orthogonal direction\n",
    "1. (Additional) Accumulate history (kind of constraint) from previous steps to encourage movement of entries that stay in favorable position for long time\n",
    "1. Estimate total energy (which entry should be swapped)\n",
    "    * Add two constraint energies\n",
    "    * Mask out entries that are immobile\n",
    "\n",
    "1. Option exploration:\n",
    "    * Take entry with highest energy (if many with same, at random)\n",
    "    * Check which directions it can move via `neighbor_swaps`\n",
    "    * Perform swap and calculate nearest neighbors and row/column constraint energies\n",
    "    * Select one with lowest resulting energy\n",
    "\n",
    "1. Repeat with modified puzzle until max iterations of if energy of two main constraints becomes 0"
   ]
  },
  {
   "cell_type": "code",
   "execution_count": 122,
   "metadata": {},
   "outputs": [
    {
     "name": "stdout",
     "output_type": "stream",
     "text": [
      "iter: 40. p_41 is achieved from p_40 via index swap: ((1, 1), (0, 1)) ; Energies change: 2->0\n"
     ]
    },
    {
     "data": {
      "text/latex": [
       "$\\displaystyle p_{41}:\\begin{bmatrix} 1 & 1 & 0 & 1 & 0 & 1 \\\\ 1 & 0 & 0 & 1 & 0 & 0 \\\\ 0 & 0 & 1 & 0 & 1 & 1 \\\\ 1 & 1 & 0 & 1 & 0 & 0 \\\\ 0 & 1 & 1 & 0 & 1 & 0 \\\\ 0 & 0 & 1 & 0 & 1 & 1 \\end{bmatrix} \\ p_{40}:\\begin{bmatrix} 1 & 0 & 0 & 1 & 0 & 1 \\\\ 1 & 1 & 0 & 1 & 0 & 0 \\\\ 0 & 0 & 1 & 0 & 1 & 1 \\\\ 1 & 1 & 0 & 1 & 0 & 0 \\\\ 0 & 1 & 1 & 0 & 1 & 0 \\\\ 0 & 0 & 1 & 0 & 1 & 1 \\end{bmatrix}$"
      ],
      "text/plain": [
       "<IPython.core.display.Math object>"
      ]
     },
     "metadata": {},
     "output_type": "display_data"
    },
    {
     "name": "stdout",
     "output_type": "stream",
     "text": [
      "iter: 40. p_40 has the following properties:\n",
      "iter: 40. Mobility 0s and 1s:\n"
     ]
    },
    {
     "data": {
      "text/latex": [
       "$\\displaystyle \\begin{bmatrix} 0 & 0 & 1 & 0 & 1 & 0 \\\\ 0 & 1 & 1 & 0 & 1 & 1 \\\\ 1 & 1 & 0 & 1 & 0 & 0 \\\\ 0 & 0 & 1 & 0 & 1 & 1 \\\\ 1 & 0 & 0 & 1 & 0 & 1 \\\\ 0 & 1 & 0 & 1 & 0 & 0 \\end{bmatrix}\\begin{bmatrix} 0 & 1 & 0 & 1 & 0 & 1 \\\\ 1 & 0 & 0 & 1 & 0 & 0 \\\\ 0 & 0 & 1 & 0 & 1 & 1 \\\\ 1 & 1 & 0 & 1 & 0 & 0 \\\\ 0 & 1 & 1 & 0 & 1 & 0 \\\\ 0 & 0 & 1 & 0 & 1 & 1 \\end{bmatrix}$"
      ],
      "text/plain": [
       "<IPython.core.display.Math object>"
      ]
     },
     "metadata": {},
     "output_type": "display_data"
    },
    {
     "name": "stdout",
     "output_type": "stream",
     "text": [
      "iter: 40. Expanded agitated nearest neighbors v & h.\n"
     ]
    },
    {
     "data": {
      "text/latex": [
       "$\\displaystyle \\text{0s:}\\begin{bmatrix} 0 & 0 & 0 & 0 & 0 & 0 \\\\ 0 & 0 & 0 & 0 & 0 & 0 \\\\ 0 & 0 & 0 & 0 & 0 & 0 \\\\ 0 & 0 & 0 & 0 & 0 & 0 \\\\ 0 & 0 & 0 & 0 & 0 & 0 \\\\ 0 & 0 & 0 & 0 & 0 & 0 \\end{bmatrix}\\begin{bmatrix} 0 & 0 & 0 & 0 & 0 & 0 \\\\ 0 & 0 & 0 & 0 & 0 & 0 \\\\ 0 & 0 & 0 & 0 & 0 & 0 \\\\ 0 & 0 & 0 & 0 & 0 & 0 \\\\ 0 & 0 & 0 & 0 & 0 & 0 \\\\ 0 & 0 & 0 & 0 & 0 & 0 \\end{bmatrix} \\text{and 1s: }\\begin{bmatrix} 0 & 0 & 0 & 0 & 0 & 0 \\\\ 0 & 0 & 0 & 0 & 0 & 0 \\\\ 0 & 0 & 0 & 0 & 0 & 0 \\\\ 0 & 0 & 0 & 0 & 0 & 0 \\\\ 0 & 0 & 0 & 0 & 0 & 0 \\\\ 0 & 0 & 0 & 0 & 0 & 0 \\end{bmatrix}\\begin{bmatrix} 0 & 0 & 0 & 0 & 0 & 0 \\\\ 0 & 0 & 0 & 0 & 0 & 0 \\\\ 0 & 0 & 0 & 0 & 0 & 0 \\\\ 0 & 0 & 0 & 0 & 0 & 0 \\\\ 0 & 0 & 0 & 0 & 0 & 0 \\\\ 0 & 0 & 0 & 0 & 0 & 0 \\end{bmatrix}$"
      ],
      "text/plain": [
       "<IPython.core.display.Math object>"
      ]
     },
     "metadata": {},
     "output_type": "display_data"
    },
    {
     "name": "stdout",
     "output_type": "stream",
     "text": [
      "iter: 40. Columns & rows that violate constraint #2 (not masked).\n"
     ]
    },
    {
     "data": {
      "text/latex": [
       "$\\displaystyle \\text{0s:}\\begin{bmatrix} 0 & 0 & 0 & 0 & 0 & 0 \\\\ 1 & 1 & 1 & 1 & 1 & 1 \\\\ 0 & 0 & 0 & 0 & 0 & 0 \\\\ 0 & 0 & 0 & 0 & 0 & 0 \\\\ 0 & 0 & 0 & 0 & 0 & 0 \\\\ 0 & 0 & 0 & 0 & 0 & 0 \\end{bmatrix}\\begin{bmatrix} 0 & 0 & 0 & 0 & 0 & 0 \\\\ 0 & 0 & 0 & 0 & 0 & 0 \\\\ 0 & 0 & 0 & 0 & 0 & 0 \\\\ 0 & 0 & 0 & 0 & 0 & 0 \\\\ 0 & 0 & 0 & 0 & 0 & 0 \\\\ 0 & 0 & 0 & 0 & 0 & 0 \\end{bmatrix} \\text{and 1s: }\\begin{bmatrix} 1 & 1 & 1 & 1 & 1 & 1 \\\\ 0 & 0 & 0 & 0 & 0 & 0 \\\\ 0 & 0 & 0 & 0 & 0 & 0 \\\\ 0 & 0 & 0 & 0 & 0 & 0 \\\\ 0 & 0 & 0 & 0 & 0 & 0 \\\\ 0 & 0 & 0 & 0 & 0 & 0 \\end{bmatrix}\\begin{bmatrix} 0 & 0 & 0 & 0 & 0 & 0 \\\\ 0 & 0 & 0 & 0 & 0 & 0 \\\\ 0 & 0 & 0 & 0 & 0 & 0 \\\\ 0 & 0 & 0 & 0 & 0 & 0 \\\\ 0 & 0 & 0 & 0 & 0 & 0 \\\\ 0 & 0 & 0 & 0 & 0 & 0 \\end{bmatrix}$"
      ],
      "text/plain": [
       "<IPython.core.display.Math object>"
      ]
     },
     "metadata": {},
     "output_type": "display_data"
    },
    {
     "name": "stdout",
     "output_type": "stream",
     "text": [
      "iter: 40. Total energy (nearest neighbors + colr \\ row)\n"
     ]
    },
    {
     "data": {
      "text/latex": [
       "$\\displaystyle 0s:\\begin{bmatrix} 0 & 0 & 0 & 0 & 0 & 0 \\\\ 1 & 1 & 1 & 1 & 1 & 1 \\\\ 0 & 0 & 0 & 0 & 0 & 0 \\\\ 0 & 0 & 0 & 0 & 0 & 0 \\\\ 0 & 0 & 0 & 0 & 0 & 0 \\\\ 0 & 0 & 0 & 0 & 0 & 0 \\end{bmatrix}\\begin{bmatrix} 0 & 0 & 0 & 0 & 0 & 0 \\\\ 0 & 0 & 0 & 0 & 0 & 0 \\\\ 0 & 0 & 0 & 0 & 0 & 0 \\\\ 0 & 0 & 0 & 0 & 0 & 0 \\\\ 0 & 0 & 0 & 0 & 0 & 0 \\\\ 0 & 0 & 0 & 0 & 0 & 0 \\end{bmatrix}1s:\\begin{bmatrix} 1 & 1 & 1 & 1 & 1 & 1 \\\\ 0 & 0 & 0 & 0 & 0 & 0 \\\\ 0 & 0 & 0 & 0 & 0 & 0 \\\\ 0 & 0 & 0 & 0 & 0 & 0 \\\\ 0 & 0 & 0 & 0 & 0 & 0 \\\\ 0 & 0 & 0 & 0 & 0 & 0 \\end{bmatrix}\\begin{bmatrix} 0 & 0 & 0 & 0 & 0 & 0 \\\\ 0 & 0 & 0 & 0 & 0 & 0 \\\\ 0 & 0 & 0 & 0 & 0 & 0 \\\\ 0 & 0 & 0 & 0 & 0 & 0 \\\\ 0 & 0 & 0 & 0 & 0 & 0 \\\\ 0 & 0 & 0 & 0 & 0 & 0 \\end{bmatrix}$"
      ],
      "text/plain": [
       "<IPython.core.display.Math object>"
      ]
     },
     "metadata": {},
     "output_type": "display_data"
    },
    {
     "name": "stdout",
     "output_type": "stream",
     "text": [
      "iter: 40. Total energy (nearest neighbors + colr \\ row) Masked by mobility\n"
     ]
    },
    {
     "data": {
      "text/latex": [
       "$\\displaystyle 0s:\\begin{bmatrix} 0 & 0 & 0 & 0 & 0 & 0 \\\\ 0 & 1 & 1 & 0 & 1 & 1 \\\\ 0 & 0 & 0 & 0 & 0 & 0 \\\\ 0 & 0 & 0 & 0 & 0 & 0 \\\\ 0 & 0 & 0 & 0 & 0 & 0 \\\\ 0 & 0 & 0 & 0 & 0 & 0 \\end{bmatrix}\\begin{bmatrix} 0 & 0 & 0 & 0 & 0 & 0 \\\\ 0 & 0 & 0 & 0 & 0 & 0 \\\\ 0 & 0 & 0 & 0 & 0 & 0 \\\\ 0 & 0 & 0 & 0 & 0 & 0 \\\\ 0 & 0 & 0 & 0 & 0 & 0 \\\\ 0 & 0 & 0 & 0 & 0 & 0 \\end{bmatrix}1s:\\begin{bmatrix} 0 & 1 & 0 & 1 & 0 & 1 \\\\ 0 & 0 & 0 & 0 & 0 & 0 \\\\ 0 & 0 & 0 & 0 & 0 & 0 \\\\ 0 & 0 & 0 & 0 & 0 & 0 \\\\ 0 & 0 & 0 & 0 & 0 & 0 \\\\ 0 & 0 & 0 & 0 & 0 & 0 \\end{bmatrix}\\begin{bmatrix} 0 & 0 & 0 & 0 & 0 & 0 \\\\ 0 & 0 & 0 & 0 & 0 & 0 \\\\ 0 & 0 & 0 & 0 & 0 & 0 \\\\ 0 & 0 & 0 & 0 & 0 & 0 \\\\ 0 & 0 & 0 & 0 & 0 & 0 \\\\ 0 & 0 & 0 & 0 & 0 & 0 \\end{bmatrix}$"
      ],
      "text/plain": [
       "<IPython.core.display.Math object>"
      ]
     },
     "metadata": {},
     "output_type": "display_data"
    },
    {
     "name": "stdout",
     "output_type": "stream",
     "text": [
      "SOLUTION (40 iterations):\n"
     ]
    },
    {
     "data": {
      "text/latex": [
       "$\\displaystyle \\begin{bmatrix} 1 & 0 & 0 & 1 & 0 & 1 \\\\ 1 & 1 & 0 & 1 & 0 & 0 \\\\ 0 & 0 & 1 & 0 & 1 & 1 \\\\ 1 & 1 & 0 & 1 & 0 & 0 \\\\ 0 & 1 & 1 & 0 & 1 & 0 \\\\ 0 & 0 & 1 & 0 & 1 & 1 \\end{bmatrix}\\begin{bmatrix} 3 \\\\ 3 \\\\ 3 \\\\ 3 \\\\ 3 \\\\ 3 \\end{bmatrix}$"
      ],
      "text/plain": [
       "<IPython.core.display.Math object>"
      ]
     },
     "metadata": {},
     "output_type": "display_data"
    },
    {
     "data": {
      "text/latex": [
       "$\\displaystyle \\begin{bmatrix} 3 & 3 & 3 & 3 & 3 & 3 \\end{bmatrix}$"
      ],
      "text/plain": [
       "<IPython.core.display.Math object>"
      ]
     },
     "metadata": {},
     "output_type": "display_data"
    },
    {
     "name": "stdout",
     "output_type": "stream",
     "text": [
      "Input puzzle:\n"
     ]
    },
    {
     "data": {
      "text/latex": [
       "$\\displaystyle \\begin{bmatrix} 1 & 1 & 0 & 0 & 1 & 0 \\\\ 1 & 1 & 1 & 1 & 1 & 0 \\\\ 1 & 0 & 1 & 1 & 0 & 0 \\\\ 0 & 0 & 1 & 0 & 0 & 1 \\\\ 1 & 0 & 0 & 0 & 1 & 1 \\\\ 0 & 1 & 0 & 1 & 0 & 0 \\end{bmatrix}$"
      ],
      "text/plain": [
       "<IPython.core.display.Math object>"
      ]
     },
     "metadata": {},
     "output_type": "display_data"
    }
   ],
   "source": [
    "p = torch.zeros_like(p)\n",
    "N = p.shape[-1]\n",
    "\n",
    "#p[:,:N//2] = 1\n",
    "\n",
    "# p = torch.ones_like(p)\n",
    "# p = torch.tril(p)\n",
    "# d = torch.zeros(N).to(int)\n",
    "# d[:N//2] = 1\n",
    "# p -= torch.diag(d)\n",
    "\n",
    "#np.random.seed(10)\n",
    "indices_flat    = np.random.choice(np.arange(N*N), size = N*N//2, replace=False)\n",
    "indices         = np.unravel_index(indices_flat, shape= (N,N))\n",
    "p[indices] = 1\n",
    "\n",
    "p_OG = p.clone()\n",
    "p_prev = p.clone()\n",
    "energy_min = -1\n",
    "swaps_hist = []\n",
    "near_neighbors_cum = None\n",
    "MAX_ITERS = 7000\n",
    "for iter in range(MAX_ITERS):\n",
    "    energy_min_prev     = energy_min\n",
    "    p_split             = split_0_1(p)                                              # split into masks for 0s and 1s\n",
    "    neighbor_swaps      = swap_possible(p_split)                                    # determine directions where types can be swapped\n",
    "    mobility            = torch.any(neighbor_swaps, dim = 1).to(int)                # combine directions. can move = yes/no\n",
    "\n",
    "    near_neighbors      = expand_agitated_neighbors(p_split)                        # find failing nearest neighbors consider their neighbors too\n",
    "    if near_neighbors_cum is not None:          \n",
    "        near_neighbors += (near_neighbors_cum*(near_neighbors > 0))         \n",
    "    near_neighbors_cum = near_neighbors.clone()         \n",
    "    row_col_constr_mask = row_col_constraint_rough_mask(p_split)                    # weights from col/row number constraint\n",
    "    tot_energy          = (near_neighbors + row_col_constr_mask)#*(near_neighbors>0)# add contribution and mask. \n",
    "    tot_energy_masked   = (tot_energy.transpose(0,1)*mobility).transpose(0,1)       # \n",
    "\n",
    "    n = 0\n",
    "    energies = []\n",
    "    sols = []\n",
    "    swaps = []\n",
    "    variants = torch.argwhere(tot_energy == torch.max(tot_energy_masked))\n",
    "    for var in variants:\n",
    "        tp, dir, i, j = var.numpy()\n",
    "\n",
    "        possible_displ = neighbor_swaps[tp, :, i, j]\n",
    "        for k, can_swap in enumerate(possible_displ):\n",
    "            if can_swap:\n",
    "                pc = p.clone()\n",
    "                pos2 = ijplus[k] + [i,j]\n",
    "                swap_2_elements(pc, (i,j), pos2)\n",
    "                pc_split    = split_0_1(pc)\n",
    "                NE          = energy_neighbors(         pc_split)\n",
    "                RCE         = row_col_constraint_energy(pc_split)\n",
    "                energies.append(NE + RCE)\n",
    "                if NE + RCE == 0:\n",
    "                    a = 1\n",
    "                sols.append(pc.clone())\n",
    "                swaps.append((tuple((i,j)), tuple(pos2)))\n",
    "                n += 1\n",
    "\n",
    "    energy_min      = torch.tensor(energies).min()\n",
    "    where_min_all   = torch.argwhere(torch.tensor(energies) == energy_min).flatten()\n",
    "    where_min = where_min_all[torch.randint(len(where_min_all), size= (1,))[0]]\n",
    "    swaps_hist.append(swaps[where_min])\n",
    "    p_prev = p.clone()\n",
    "    p = sols[where_min].clone()\n",
    "    #print(swaps_hist[-3:])  \n",
    "    if iter in range(MAX_ITERS-1,MAX_ITERS) or energy_min == 0:\n",
    "        print(f\"iter: {iter}. p_{iter + 1} is achieved from p_{iter} via index swap:\", swaps_hist[-1], f'; Energies change: {energy_min_prev}->{energy_min}')\n",
    "        print_tex(r'p_{'+str(iter + 1)+'}:', p_prev, r' \\ p_{'+str(iter)+'}:', p)\n",
    "        print(f\"iter: {iter}. p_{iter} has the following properties:\")\n",
    "        print(f\"iter: {iter}. Mobility 0s and 1s:\")\n",
    "        print_tex(*mobility)\n",
    "        print(f\"iter: {iter}. Expanded agitated nearest neighbors v & h.\")\n",
    "        print_tex(r'\\text{0s:}',*near_neighbors[0], r\" \\text{and 1s: }\", *near_neighbors[1])\n",
    "        print(f\"iter: {iter}. Columns & rows that violate constraint #2 (not masked).\")\n",
    "        print_tex(r'\\text{0s:}',*row_col_constr_mask[0], r\" \\text{and 1s: }\", *row_col_constr_mask[1])\n",
    "        print(f\"iter: {iter}. Total energy (nearest neighbors + colr \\ row)\")\n",
    "        print_tex(r'0s:',*tot_energy[0],'1s:', *tot_energy[1])\n",
    "        print(f\"iter: {iter}. Total energy (nearest neighbors + colr \\ row) Masked by mobility\")\n",
    "        print_tex(r'0s:',*tot_energy_masked[0],'1s:', *tot_energy_masked[1])\n",
    "        #print_tex(neighbor_swaps)\n",
    "        if energy_min == 0 or iter == MAX_ITERS - 1: \n",
    "            print(f'SOLUTION ({iter} iterations):')\n",
    "            print_tex(p,    torch.sum(p, dim = 1, keepdim=True))\n",
    "            print_tex(      torch.sum(p, dim = 0, keepdim=True))\n",
    "            print('Input puzzle:')\n",
    "            print_tex(p_OG)\n",
    "            break"
   ]
  },
  {
   "cell_type": "code",
   "execution_count": null,
   "metadata": {},
   "outputs": [],
   "source": []
  }
 ],
 "metadata": {
  "kernelspec": {
   "display_name": ".venv",
   "language": "python",
   "name": "python3"
  },
  "language_info": {
   "codemirror_mode": {
    "name": "ipython",
    "version": 3
   },
   "file_extension": ".py",
   "mimetype": "text/x-python",
   "name": "python",
   "nbconvert_exporter": "python",
   "pygments_lexer": "ipython3",
   "version": "3.9.13"
  }
 },
 "nbformat": 4,
 "nbformat_minor": 2
}
