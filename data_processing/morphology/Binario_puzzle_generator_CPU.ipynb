{
 "cells": [
  {
   "cell_type": "markdown",
   "metadata": {},
   "source": [
    "# Binary puzzle/ Binario/ Takuzu puzzle\n",
    "## Bruteforce puzzle generator (xD)\n",
    "https://en.wikipedia.org/wiki/Takuzu\n",
    "\n",
    "Rules:\n",
    "1. Each row or column should have equal number of 1s and 0s\n",
    "1. Cannot have more than 2 grouped entries horizontally or vertically\n",
    "\n",
    "Approach:\n",
    "1) Is checked via sum on proper axis\n",
    "2) Is checked via convolution/cross-correlation\n",
    "\n",
    "NOTE: Cannot easily batch convolutions using scipy. <br> \n",
    "NOTE: For fast approach see same implementation for GPU using Pytorch: [Binario_puzzle_generator_GPU.ipynb](../../multiprocessing/GPU/Binario_puzzle_generator_GPU.ipynb) (Bit better quality. very fast)"
   ]
  },
  {
   "cell_type": "code",
   "execution_count": 18,
   "metadata": {},
   "outputs": [
    {
     "data": {
      "text/plain": [
       "True"
      ]
     },
     "execution_count": 18,
     "metadata": {},
     "output_type": "execute_result"
    }
   ],
   "source": [
    "from scipy import signal\n",
    "import numpy as np\n",
    "\n",
    "three_horiz = np.array([[0,0,0],\n",
    "                        [1,1,1],\n",
    "                        [0,0,0]])\n",
    "\n",
    "three_vert  = np.array([[0,1,0],\n",
    "                        [0,1,0],\n",
    "                        [0,1,0]])\n",
    "\n",
    "nb_cnt_3= lambda puzz, ker: (signal.convolve2d(puzz, ker, boundary='fill', mode='same', fillvalue=0) == 3 ).astype(int)\n",
    "\n",
    "def puzzle_ok_CPU(puzz):\n",
    "    D = puzz.shape[0]//2\n",
    "    # check if any entries have 2 neighbors (+1 self)\n",
    "    neighb_failed  = (  nb_cnt_3(  puzz, three_horiz) |\n",
    "                        nb_cnt_3(  puzz, three_vert ) |\n",
    "                        nb_cnt_3(1-puzz, three_horiz) | # invert 0s and 1s (for sum to work)\n",
    "                        nb_cnt_3(1-puzz, three_vert ) ) # invert 0s and 1s\n",
    "    \n",
    "    three_failed = np.any(neighb_failed)\n",
    "    # check element count. \n",
    "    # in case of even N num 1s = num 0s. \n",
    "    # we dont count 0s\n",
    "    vert_num_elems_failed   = np.any(np.sum(puzz, axis = 0) != D)\n",
    "    horiz_num_elems_failed  = np.any(np.sum(puzz, axis = 1) != D)\n",
    "    num_failed = vert_num_elems_failed or horiz_num_elems_failed\n",
    "\n",
    "    return ~(three_failed or num_failed)\n",
    "\n",
    "puzz = np.array([[1,0,1,0,1,0],\n",
    "                 [0,1,0,0,1,1],\n",
    "                 [1,0,0,1,0,1],\n",
    "                 [0,1,1,0,1,0],\n",
    "                 [0,0,1,1,0,1],\n",
    "                 [1,1,0,1,0,0]])\n",
    "\n",
    "print(f'Puzzle solved properly: {puzzle_ok_CPU(puzz)}')\n"
   ]
  },
  {
   "cell_type": "code",
   "execution_count": 19,
   "metadata": {},
   "outputs": [
    {
     "name": "stderr",
     "output_type": "stream",
     "text": [
      " 70%|███████   | 7041061/10000000 [10:12<04:17, 11490.10it/s]"
     ]
    },
    {
     "name": "stdout",
     "output_type": "stream",
     "text": [
      "[[0 1 1 0 1 0]\n",
      " [0 1 0 1 0 1]\n",
      " [1 0 1 1 0 0]\n",
      " [0 1 0 0 1 1]\n",
      " [1 0 0 1 1 0]\n",
      " [1 0 1 0 0 1]]\n",
      "7041061\n"
     ]
    },
    {
     "name": "stderr",
     "output_type": "stream",
     "text": [
      "\n"
     ]
    }
   ],
   "source": [
    "from tqdm import tqdm\n",
    "N = 6\n",
    "B = 10_000_000\n",
    "puzzles = np.uint8(np.random.rand(B,N,N)>0.5)\n",
    "for i in tqdm(range(B)):\n",
    "    np.random.seed(i)\n",
    "    puzz = puzzles[i]\n",
    "    if puzzle_ok_CPU(puzz):\n",
    "        print(puzz)\n",
    "        print(i)\n",
    "        break"
   ]
  }
 ],
 "metadata": {
  "kernelspec": {
   "display_name": ".venv",
   "language": "python",
   "name": "python3"
  },
  "language_info": {
   "codemirror_mode": {
    "name": "ipython",
    "version": 3
   },
   "file_extension": ".py",
   "mimetype": "text/x-python",
   "name": "python",
   "nbconvert_exporter": "python",
   "pygments_lexer": "ipython3",
   "version": "3.9.13"
  }
 },
 "nbformat": 4,
 "nbformat_minor": 2
}
