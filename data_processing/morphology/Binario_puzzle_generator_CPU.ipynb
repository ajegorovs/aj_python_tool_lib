{
 "cells": [
  {
   "cell_type": "markdown",
   "metadata": {},
   "source": [
    "## (Test) Calculate a gradient of this energy\n",
    "large gradient components should force element to be swapped along gradient"
   ]
  },
  {
   "cell_type": "markdown",
   "metadata": {},
   "source": [
    "# Binary puzzle/ Binario/ Takuzu puzzle\n",
    "## Bruteforce puzzle generator (xD)\n",
    "https://en.wikipedia.org/wiki/Takuzu\n",
    "\n",
    "Rules:\n",
    "1. Each row or column should have equal number of 1s and 0s\n",
    "1. Cannot have more than 2 grouped entries horizontally or vertically\n",
    "\n",
    "Approach:\n",
    "1) Is checked via sum on proper axis\n",
    "2) Is checked via convolution/cross-correlation\n",
    "\n",
    "NOTE: Cannot easily batch convolutions using scipy. <br> \n",
    "NOTE: For fast approach see same implementation for GPU using Pytorch: [Binario_puzzle_generator_GPU.ipynb](../../multiprocessing/GPU/Binario_puzzle_generator_GPU.ipynb) (Bit better quality. very fast)"
   ]
  },
  {
   "cell_type": "code",
   "execution_count": 1,
   "metadata": {},
   "outputs": [
    {
     "name": "stdout",
     "output_type": "stream",
     "text": [
      "Puzzle solved properly: True\n"
     ]
    }
   ],
   "source": [
    "from scipy import signal, correlate\n",
    "import numpy as np\n",
    "\n",
    "three_horiz = np.array([[0,0,0],\n",
    "                        [1,1,1],\n",
    "                        [0,0,0]])\n",
    "\n",
    "three_vert  = np.array([[0,1,0],\n",
    "                        [0,1,0],\n",
    "                        [0,1,0]])\n",
    "\n",
    "nb_cnt_3= lambda puzz, ker: (signal.convolve2d(puzz, ker, boundary='fill', mode='same', fillvalue=0) == 3 ).astype(int)\n",
    "\n",
    "def puzzle_ok_CPU(puzz):\n",
    "    D = puzz.shape[0]//2\n",
    "    # check if any entries have 2 neighbors (+1 self)\n",
    "    neighb_failed  = (  nb_cnt_3(  puzz, three_horiz) |\n",
    "                        nb_cnt_3(  puzz, three_vert ) |\n",
    "                        nb_cnt_3(1-puzz, three_horiz) | # invert 0s and 1s (for sum to work)\n",
    "                        nb_cnt_3(1-puzz, three_vert ) ) # invert 0s and 1s\n",
    "    \n",
    "    three_failed = np.any(neighb_failed)\n",
    "    # check element count. \n",
    "    # in case of even N num 1s = num 0s. \n",
    "    # we dont count 0s\n",
    "    vert_num_elems_failed   = np.any(np.sum(puzz, axis = 0) != D)\n",
    "    horiz_num_elems_failed  = np.any(np.sum(puzz, axis = 1) != D)\n",
    "    num_failed = vert_num_elems_failed or horiz_num_elems_failed\n",
    "\n",
    "    return ~(three_failed or num_failed)\n",
    "\n",
    "puzz = np.array([[1,0,1,0,1,0],\n",
    "                 [0,1,0,0,1,1],\n",
    "                 [1,0,0,1,0,1],\n",
    "                 [0,1,1,0,1,0],\n",
    "                 [0,0,1,1,0,1],\n",
    "                 [1,1,0,1,0,0]])\n",
    "\n",
    "print(f'Puzzle solved properly: {puzzle_ok_CPU(puzz)}')\n"
   ]
  },
  {
   "cell_type": "code",
   "execution_count": 19,
   "metadata": {},
   "outputs": [
    {
     "name": "stderr",
     "output_type": "stream",
     "text": [
      " 70%|███████   | 7041061/10000000 [10:12<04:17, 11490.10it/s]"
     ]
    },
    {
     "name": "stdout",
     "output_type": "stream",
     "text": [
      "[[0 1 1 0 1 0]\n",
      " [0 1 0 1 0 1]\n",
      " [1 0 1 1 0 0]\n",
      " [0 1 0 0 1 1]\n",
      " [1 0 0 1 1 0]\n",
      " [1 0 1 0 0 1]]\n",
      "7041061\n"
     ]
    },
    {
     "name": "stderr",
     "output_type": "stream",
     "text": [
      "\n"
     ]
    }
   ],
   "source": [
    "from tqdm import tqdm\n",
    "N = 6\n",
    "B = 10_000_000\n",
    "puzzles = np.uint8(np.random.rand(B,N,N)>0.5)\n",
    "for i in tqdm(range(B)):\n",
    "    np.random.seed(i)\n",
    "    puzz = puzzles[i]\n",
    "    if puzzle_ok_CPU(puzz):\n",
    "        print(puzz)\n",
    "        print(i)\n",
    "        break"
   ]
  },
  {
   "cell_type": "markdown",
   "metadata": {},
   "source": [
    "# Iterative approach (Ising like?)\n",
    "Find:\n",
    "* 1s that can be swapped and in which direction (4 fields)\n",
    "* 0s that can be swapped and in which direction (4 fields)\n",
    "* unhappy/agitated 1s (more than 1 neighbor)\n",
    "* unhappy/agitated 1s (not optimal row/column count)"
   ]
  },
  {
   "cell_type": "code",
   "execution_count": 2,
   "metadata": {},
   "outputs": [
    {
     "name": "stdout",
     "output_type": "stream",
     "text": [
      "input example : \n",
      ">>> arr_T = np.array([[r'\\vec{v}_1', r'\\vec{v}_2']]).T\n",
      ">>> print_tex(arr_T,'=', np.arange(1,5).reshape(2,-1)/4, r'; symbols: \\otimes, \\cdot,\\times')\n",
      "output: \n"
     ]
    },
    {
     "data": {
      "text/latex": [
       "$\\displaystyle \\begin{bmatrix}\\vec{v}_1 \\\\ \\vec{v}_2\\end{bmatrix}=\\begin{bmatrix} 1/4 & 1/2 \\\\ 3/4 & 1 \\end{bmatrix}; symbols: \\otimes, \\cdot,\\times$"
      ],
      "text/plain": [
       "<IPython.core.display.Math object>"
      ]
     },
     "metadata": {},
     "output_type": "display_data"
    }
   ],
   "source": [
    "from misc_tools.print_latex import print_tex\n",
    "\n",
    "def swap_2_elements(arr, pos1, pos2):\n",
    "    pos1 ,pos2 = tuple(pos1), tuple(pos2)\n",
    "    temp = arr[pos1]\n",
    "    arr[pos1] = arr[pos2]\n",
    "    arr[pos2] = temp\n",
    "\n",
    "def random_pos(arr2D, num, debug = False):\n",
    "    # ~flattens array. generates flatten indices, unflattens indices back to shape.\n",
    "    # returns [\\vec{r}_1, \\vec{r}_2, ..] \n",
    "    ij_flat = np.random.choice(arr2D.size, num, replace=False)\n",
    "    ret = np.array(np.unravel_index(ij_flat, arr2D.shape)).T\n",
    "    if debug: print(ret)\n",
    "    return ret"
   ]
  },
  {
   "cell_type": "markdown",
   "metadata": {},
   "source": [
    "## Define kernels for a gradient"
   ]
  },
  {
   "cell_type": "markdown",
   "metadata": {},
   "source": [
    "## Modify proper puzzle by swapping 2 elems"
   ]
  },
  {
   "cell_type": "code",
   "execution_count": 15,
   "metadata": {},
   "outputs": [
    {
     "data": {
      "text/latex": [
       "$\\displaystyle \\begin{bmatrix} 1 & 0 & 1 & 0 & 1 & 0 \\\\ 0 & 1 & 0 & 0 & 1 & 1 \\\\ 1 & 0 & 0 & 1 & 0 & 1 \\\\ 0 & 1 & 1 & 0 & 1 & 0 \\\\ 0 & 0 & 1 & 1 & 0 & 1 \\\\ 1 & 1 & 0 & 1 & 0 & 0 \\end{bmatrix}\\rightarrow\\begin{bmatrix} 1 & 0 & 1 & 0 & 1 & 0 \\\\ 0 & 1 & 0 & 0 & 1 & 1 \\\\ 1 & 0 & 1 & 1 & 0 & 1 \\\\ 0 & 1 & 0 & 0 & 1 & 0 \\\\ 0 & 0 & 1 & 1 & 1 & 0 \\\\ 1 & 1 & 0 & 1 & 0 & 0 \\end{bmatrix}\\begin{bmatrix} 3 \\\\ 3 \\\\ 4 \\\\ 2 \\\\ 3 \\\\ 3 \\end{bmatrix}$"
      ],
      "text/plain": [
       "<IPython.core.display.Math object>"
      ]
     },
     "metadata": {},
     "output_type": "display_data"
    },
    {
     "data": {
      "text/latex": [
       "$\\displaystyle \\begin{bmatrix} 3 & 3 & 3 & 3 & 3 & 3 \\end{bmatrix}\\rightarrow\\begin{bmatrix} 3 & 3 & 3 & 3 & 4 & 2 \\end{bmatrix}$"
      ],
      "text/plain": [
       "<IPython.core.display.Math object>"
      ]
     },
     "metadata": {},
     "output_type": "display_data"
    }
   ],
   "source": [
    "puzz_c = puzz.copy()\n",
    "np.random.seed(1)\n",
    "swap_2_elements(puzz_c,(3,2),(2,2))#*random_pos(puzz_c,2, True)\n",
    "swap_2_elements(puzz_c,(4,4),(4,5))\n",
    "\n",
    "h_constr = lambda arr: np.sum(arr, axis= 1, keepdims=True)\n",
    "v_constr = lambda arr: np.sum(arr, axis= 0, keepdims=True)\n",
    "\n",
    "print_tex(puzz ,r'\\rightarrow', puzz_c, h_constr(puzz_c))\n",
    "print_tex(np.sum(puzz, axis= 0, keepdims=True), r'\\rightarrow', v_constr(puzz_c))\n",
    "N = puzz.shape[-1]"
   ]
  },
  {
   "cell_type": "markdown",
   "metadata": {},
   "source": [
    "## Check which 1s can be swapped"
   ]
  },
  {
   "cell_type": "code",
   "execution_count": 16,
   "metadata": {},
   "outputs": [
    {
     "data": {
      "text/latex": [
       "$\\displaystyle p_o:\\begin{bmatrix} 1 & 0 & 1 & 0 & 1 & 0 \\\\ 0 & 1 & 0 & 0 & 1 & 1 \\\\ 1 & 0 & 0 & 1 & 0 & 1 \\\\ 0 & 1 & 1 & 0 & 1 & 0 \\\\ 0 & 0 & 1 & 1 & 0 & 1 \\\\ 1 & 1 & 0 & 1 & 0 & 0 \\end{bmatrix}p : \\begin{bmatrix} 1 & 0 & 1 & 0 & 1 & 0 \\\\ 0 & 1 & 0 & 0 & 1 & 1 \\\\ 1 & 0 & 1 & 1 & 0 & 1 \\\\ 0 & 1 & 0 & 0 & 1 & 0 \\\\ 0 & 0 & 1 & 1 & 1 & 0 \\\\ 1 & 1 & 0 & 1 & 0 & 0 \\end{bmatrix}n_L:\\begin{bmatrix} 1 & 0 & 1 & 0 & 1 & 0 \\\\ 0 & 1 & 0 & 0 & 1 & 2 \\\\ 1 & 0 & 1 & 2 & 0 & 1 \\\\ 0 & 1 & 0 & 0 & 1 & 0 \\\\ 0 & 0 & 1 & 2 & 2 & 0 \\\\ 1 & 2 & 0 & 1 & 0 & 0 \\end{bmatrix}n_R:\\begin{bmatrix} 1 & 0 & 1 & 0 & 1 & 0 \\\\ 0 & 1 & 0 & 0 & 2 & 1 \\\\ 1 & 0 & 2 & 1 & 0 & 1 \\\\ 0 & 1 & 0 & 0 & 1 & 0 \\\\ 0 & 0 & 2 & 2 & 1 & 0 \\\\ 2 & 1 & 0 & 1 & 0 & 0 \\end{bmatrix}n_U:\\begin{bmatrix} 1 & 0 & 1 & 0 & 1 & 0 \\\\ 0 & 1 & 0 & 0 & 2 & 1 \\\\ 1 & 0 & 1 & 1 & 0 & 2 \\\\ 0 & 1 & 0 & 0 & 1 & 0 \\\\ 0 & 0 & 1 & 1 & 2 & 0 \\\\ 1 & 1 & 0 & 2 & 0 & 0 \\end{bmatrix}n_D:\\begin{bmatrix} 1 & 0 & 1 & 0 & 2 & 0 \\\\ 0 & 1 & 0 & 0 & 1 & 2 \\\\ 1 & 0 & 1 & 1 & 0 & 1 \\\\ 0 & 1 & 0 & 0 & 2 & 0 \\\\ 0 & 0 & 1 & 2 & 1 & 0 \\\\ 1 & 1 & 0 & 1 & 0 & 0 \\end{bmatrix}$"
      ],
      "text/plain": [
       "<IPython.core.display.Math object>"
      ]
     },
     "metadata": {},
     "output_type": "display_data"
    }
   ],
   "source": [
    "k_n_l = np.array([[0 , 0, -0],\n",
    "                  [1 , 1,  0],\n",
    "                  [0 , 0, -0]])\n",
    "k_n_r = 1*np.fliplr(k_n_l)\n",
    "\n",
    "k_n_u = np.array([[0 , 1, -0],\n",
    "                  [0 , 1,  0],\n",
    "                  [0 , 0, -0]])\n",
    "k_n_d = 1*np.flipud(k_n_u)\n",
    "\n",
    "n_neighb = lambda arr, ker: signal.correlate(arr, ker, mode='same')*(arr != 0).astype(int)\n",
    "n_l = lambda arr: n_neighb(arr, k_n_l)\n",
    "n_r = lambda arr: n_neighb(arr, k_n_r)\n",
    "n_u = lambda arr: n_neighb(arr, k_n_u)\n",
    "n_d = lambda arr: n_neighb(arr, k_n_d)\n",
    "\n",
    "print_tex('p_o:', puzz,'p : ',puzz_c, 'n_L:',n_l(puzz_c), 'n_R:',n_r(puzz_c), 'n_U:',n_u(puzz_c), 'n_D:',n_d(puzz_c))\n"
   ]
  },
  {
   "cell_type": "code",
   "execution_count": 18,
   "metadata": {},
   "outputs": [
    {
     "data": {
      "text/latex": [
       "$\\displaystyle p : \\begin{bmatrix} 1 & 0 & 1 & 0 & 1 & 0 \\\\ 0 & 1 & 0 & 0 & 1 & 1 \\\\ 1 & 0 & 1 & 1 & 0 & 1 \\\\ 0 & 1 & 0 & 0 & 1 & 0 \\\\ 0 & 0 & 1 & 1 & 1 & 0 \\\\ 1 & 1 & 0 & 1 & 0 & 0 \\end{bmatrix}s_L:\\begin{bmatrix} 0 & 0 & 1 & 0 & 1 & 0 \\\\ 0 & 1 & 0 & 0 & 1 & 0 \\\\ 0 & 0 & 1 & 0 & 0 & 1 \\\\ 0 & 1 & 0 & 0 & 1 & 0 \\\\ 0 & 0 & 1 & 0 & 0 & 0 \\\\ 0 & 0 & 0 & 1 & 0 & 0 \\end{bmatrix}s_R:\\begin{bmatrix} 1 & 0 & 1 & 0 & 1 & 0 \\\\ 0 & 1 & 0 & 0 & 0 & 0 \\\\ 1 & 0 & 0 & 1 & 0 & 0 \\\\ 0 & 1 & 0 & 0 & 1 & 0 \\\\ 0 & 0 & 0 & 0 & 1 & 0 \\\\ 0 & 1 & 0 & 1 & 0 & 0 \\end{bmatrix}s_U:\\begin{bmatrix} 0 & 0 & 0 & 0 & 0 & 0 \\\\ 0 & 1 & 0 & 0 & 0 & 1 \\\\ 1 & 0 & 1 & 1 & 0 & 0 \\\\ 0 & 1 & 0 & 0 & 1 & 0 \\\\ 0 & 0 & 1 & 1 & 0 & 0 \\\\ 1 & 1 & 0 & 0 & 0 & 0 \\end{bmatrix}s_D:\\begin{bmatrix} 1 & 0 & 1 & 0 & 0 & 0 \\\\ 0 & 1 & 0 & 0 & 1 & 0 \\\\ 1 & 0 & 1 & 1 & 0 & 1 \\\\ 0 & 1 & 0 & 0 & 0 & 0 \\\\ 0 & 0 & 1 & 0 & 1 & 0 \\\\ 0 & 0 & 0 & 0 & 0 & 0 \\end{bmatrix}$"
      ],
      "text/plain": [
       "<IPython.core.display.Math object>"
      ]
     },
     "metadata": {},
     "output_type": "display_data"
    },
    {
     "data": {
      "text/latex": [
       "$\\displaystyle m = \\sum_i s_i:\\begin{bmatrix} 2 & 0 & 3 & 0 & 2 & 0 \\\\ 0 & 4 & 0 & 0 & 2 & 1 \\\\ 3 & 0 & 3 & 3 & 0 & 2 \\\\ 0 & 4 & 0 & 0 & 3 & 0 \\\\ 0 & 0 & 3 & 1 & 2 & 0 \\\\ 1 & 2 & 0 & 2 & 0 & 0 \\end{bmatrix}$"
      ],
      "text/plain": [
       "<IPython.core.display.Math object>"
      ]
     },
     "metadata": {},
     "output_type": "display_data"
    }
   ],
   "source": [
    "can_swap = lambda arr, neigbor_f: (neigbor_f(arr)==1).astype(int)\n",
    "def s_l(arr):\n",
    "    a = can_swap(arr, n_l)\n",
    "    a[:,0] *= 0\n",
    "    return a\n",
    "def s_r(arr):\n",
    "    a = can_swap(arr, n_r)\n",
    "    a[:,-1] *= 0\n",
    "    return a\n",
    "def s_u(arr):\n",
    "    a = can_swap(arr, n_u)\n",
    "    a[0] *= 0\n",
    "    return a\n",
    "def s_d(arr):\n",
    "    a = can_swap(arr, n_d)\n",
    "    a[-1] *= 0\n",
    "    return a\n",
    "\n",
    "\n",
    "print_tex('p : ',puzz_c, 's_L:',s_l(puzz_c), 's_R:',s_r(puzz_c), 's_U:',s_u(puzz_c), 's_D:',s_d(puzz_c))\n",
    "mobility = s_l(puzz_c) + s_r(puzz_c) + s_u(puzz_c) + s_d(puzz_c)\n",
    "print_tex(r'm = \\sum_i s_i:',mobility)"
   ]
  },
  {
   "cell_type": "markdown",
   "metadata": {},
   "source": [
    "## Check whish 0s can be swapped"
   ]
  },
  {
   "cell_type": "code",
   "execution_count": 7,
   "metadata": {},
   "outputs": [
    {
     "data": {
      "text/latex": [
       "$\\displaystyle p_o:\\begin{bmatrix} 1 & 0 & 1 & 0 & 1 & 0 \\\\ 0 & 1 & 0 & 0 & 1 & 1 \\\\ 1 & 0 & 0 & 1 & 0 & 1 \\\\ 0 & 1 & 1 & 0 & 1 & 0 \\\\ 0 & 0 & 1 & 1 & 0 & 1 \\\\ 1 & 1 & 0 & 1 & 0 & 0 \\end{bmatrix}p : \\begin{bmatrix} 1 & 0 & 1 & 0 & 1 & 0 \\\\ 0 & 1 & 0 & 0 & 1 & 1 \\\\ 1 & 0 & 1 & 1 & 0 & 1 \\\\ 0 & 1 & 0 & 0 & 1 & 0 \\\\ 0 & 0 & 1 & 1 & 0 & 1 \\\\ 1 & 1 & 0 & 1 & 0 & 0 \\end{bmatrix}s_L:\\begin{bmatrix} 0 & 1 & 0 & 1 & 0 & 1 \\\\ 0 & 0 & 1 & 0 & 0 & 0 \\\\ 0 & 1 & 0 & 0 & 1 & 0 \\\\ 0 & 0 & 1 & 0 & 0 & 1 \\\\ 0 & 0 & 0 & 0 & 1 & 0 \\\\ 0 & 0 & 1 & 0 & 1 & 0 \\end{bmatrix}s_R:\\begin{bmatrix} 0 & 1 & 0 & 1 & 0 & 0 \\\\ 1 & 0 & 0 & 1 & 0 & 0 \\\\ 0 & 1 & 0 & 0 & 1 & 0 \\\\ 1 & 0 & 0 & 1 & 0 & 0 \\\\ 0 & 1 & 0 & 0 & 1 & 0 \\\\ 0 & 0 & 1 & 0 & 0 & 0 \\end{bmatrix}s_U:\\begin{bmatrix} 0 & 0 & 0 & 0 & 0 & 0 \\\\ 1 & 0 & 1 & 0 & 0 & 0 \\\\ 0 & 1 & 0 & 0 & 1 & 0 \\\\ 1 & 0 & 1 & 1 & 0 & 1 \\\\ 0 & 1 & 0 & 0 & 1 & 0 \\\\ 0 & 0 & 1 & 0 & 0 & 1 \\end{bmatrix}s_D:\\begin{bmatrix} 0 & 1 & 0 & 0 & 0 & 1 \\\\ 1 & 0 & 1 & 1 & 0 & 0 \\\\ 0 & 1 & 0 & 0 & 1 & 0 \\\\ 0 & 0 & 1 & 1 & 0 & 1 \\\\ 1 & 1 & 0 & 0 & 0 & 0 \\\\ 0 & 0 & 0 & 0 & 0 & 0 \\end{bmatrix}$"
      ],
      "text/plain": [
       "<IPython.core.display.Math object>"
      ]
     },
     "metadata": {},
     "output_type": "display_data"
    }
   ],
   "source": [
    "print_tex('p_o:', puzz,'p : ',puzz_c, 's_L:',s_l(1-puzz_c), 's_R:',s_r(1-puzz_c), 's_U:',s_u(1-puzz_c), 's_D:',s_d(1-puzz_c))"
   ]
  },
  {
   "cell_type": "markdown",
   "metadata": {},
   "source": [
    "## Calculate \"neighbor energy\"\n",
    "each element gets added +/-1 for having more than 1 neighbor on each axis\n",
    "\n",
    "* 1s have positive energy\n",
    "* 0s have negative energy\n",
    "\n",
    "It done to promote exchange between 1s and 0s if they are close by"
   ]
  },
  {
   "cell_type": "code",
   "execution_count": 19,
   "metadata": {},
   "outputs": [],
   "source": [
    "n_hor = np.array([  [0,0,0],\n",
    "                    [1,0,1],\n",
    "                    [0,0,0]])\n",
    "\n",
    "n_ver  = np.array([ [0,1,0],\n",
    "                    [0,0,0],\n",
    "                    [0,1,0]])\n",
    " \n",
    "nb_cnt_h = lambda arr: signal.convolve2d(arr, n_hor, boundary='fill', mode='same', fillvalue=0)\n",
    "nb_cnt_v = lambda arr: signal.convolve2d(arr, n_ver, boundary='fill', mode='same', fillvalue=0)"
   ]
  },
  {
   "cell_type": "code",
   "execution_count": 25,
   "metadata": {},
   "outputs": [
    {
     "data": {
      "text/latex": [
       "$\\displaystyle p : \\begin{bmatrix} 1 & 0 & 1 & 0 & 1 & 0 \\\\ 0 & 1 & 0 & 0 & 1 & 1 \\\\ 1 & 0 & 1 & 1 & 0 & 1 \\\\ 0 & 1 & 0 & 0 & 1 & 0 \\\\ 0 & 0 & 1 & 1 & 1 & 0 \\\\ 1 & 1 & 0 & 1 & 0 & 0 \\end{bmatrix}e_N:\\begin{bmatrix} 0 & 0 & 0 & 0 & 0 & 0 \\\\ 0 & 0 & 0 & 0 & 0 & 0 \\\\ 0 & 0 & 0 & 0 & 0 & 0 \\\\ 0 & 0 & 0 & 0 & 0 & 0 \\\\ 0 & 0 & 0 & 1 & 0 & 0 \\\\ 0 & 0 & 0 & 0 & 0 & 0 \\end{bmatrix}m:\\begin{bmatrix} 1 & 0 & 1 & 0 & 1 & 0 \\\\ 0 & 1 & 0 & 0 & 1 & 1 \\\\ 1 & 0 & 1 & 1 & 0 & 1 \\\\ 0 & 1 & 0 & 0 & 1 & 0 \\\\ 0 & 0 & 1 & 1 & 1 & 0 \\\\ 1 & 1 & 0 & 1 & 0 & 0 \\end{bmatrix}$"
      ],
      "text/plain": [
       "<IPython.core.display.Math object>"
      ]
     },
     "metadata": {},
     "output_type": "display_data"
    }
   ],
   "source": [
    "def calc_neighbor_energy0(arr):\n",
    "    # do calculations only on 'ones' ('zeros' case is 'ones' -1). have mask out 'zeros' in the end\n",
    "    # calc all vert and horiz neighbors\n",
    "    # consider only those cases which have more than 1 neighbor (mask others out)\n",
    "    # sum these vert and horiz cases\n",
    "    # mask out cases where entries were 0 (they still get 1s as neighbors)\n",
    "    a1 = arr\n",
    "    a0 = 1 - arr\n",
    "    n1h, n1v = nb_cnt_h(a1), nb_cnt_v(a1)\n",
    "    n0h, n0v = nb_cnt_h(a0), nb_cnt_v(a0)\n",
    "    e1 = n1h*((n1h > 1).astype(int))/2 + n1v*((n1v > 1).astype(int))/2\n",
    "    e0 = n0h*((n0h > 1).astype(int))/2 + n0v*((n0v > 1).astype(int))/2\n",
    "    return  e1*a1 - e0*a0 # make 'zeros' neighbor count negative for gradient\n",
    "\n",
    "def calc_neighbor_energy(arr):\n",
    "    a1 = arr\n",
    "    n1h, n1v = nb_cnt_h(a1), nb_cnt_v(a1)\n",
    "    e1 = n1h*((n1h > 1).astype(int))/2 + n1v*((n1v > 1).astype(int))/2\n",
    "    return  e1*a1\n",
    "e_n = calc_neighbor_energy(puzz_c)\n",
    "print_tex('p : ',puzz_c, 'e_N:',e_n, 'm:', (mobility>0).astype(int))"
   ]
  },
  {
   "cell_type": "markdown",
   "metadata": {},
   "source": [
    "Extract agitated 1s and their neighbors. Neighbors can be the cause for agitation.\n",
    "\n",
    "Mask out elements that cannot move.\n",
    "\n",
    "Add extra weight for violated col/row elem count"
   ]
  },
  {
   "cell_type": "code",
   "execution_count": 28,
   "metadata": {},
   "outputs": [
    {
     "data": {
      "text/latex": [
       "$\\displaystyle p : \\begin{bmatrix} 1 & 0 & 1 & 0 & 1 & 0 \\\\ 0 & 1 & 0 & 0 & 1 & 1 \\\\ 1 & 0 & 1 & 1 & 0 & 1 \\\\ 0 & 1 & 0 & 0 & 1 & 0 \\\\ 0 & 0 & 1 & 1 & 1 & 0 \\\\ 1 & 1 & 0 & 1 & 0 & 0 \\end{bmatrix}\\begin{bmatrix} 0 & 0 & 0 & 0 & 0 & 0 \\\\ 0 & 0 & 0 & 0 & 0 & 0 \\\\ 0 & 0 & 0 & 0 & 0 & 0 \\\\ 0 & 0 & 0 & 0 & 0 & 0 \\\\ 0 & 0 & 1 & 1 & 1 & 0 \\\\ 0 & 0 & 0 & 1 & 0 & 0 \\end{bmatrix}\\begin{bmatrix} 0 & 0 & 0 & 0 & 1 & 0 \\\\ 0 & 0 & 0 & 0 & 1 & 0 \\\\ 1 & 1 & 1 & 1 & 2 & 1 \\\\ 0 & 0 & 0 & 0 & 1 & 0 \\\\ 0 & 0 & 1 & 1 & 2 & 0 \\\\ 0 & 0 & 0 & 1 & 1 & 0 \\end{bmatrix}\\begin{bmatrix} 0 & 0 & 0 & 0 & 0 & 0 \\\\ 0 & 0 & 0 & 0 & 0 & 0 \\\\ 0 & 0 & 0 & 0 & 0 & 0 \\\\ 0 & 0 & 0 & 0 & 0 & 0 \\\\ 0 & 0 & 1 & 1 & 2 & 0 \\\\ 0 & 0 & 0 & 1 & 0 & 0 \\end{bmatrix}$"
      ],
      "text/plain": [
       "<IPython.core.display.Math object>"
      ]
     },
     "metadata": {},
     "output_type": "display_data"
    }
   ],
   "source": [
    "cross = np.array([[0, 1, 0],\n",
    "                  [1, 1, 1],\n",
    "                  [0, 1, 0]])\n",
    "a0 = (signal.correlate(e_n, cross, mode='same')>0).astype(int)*(mobility>0).astype(int)\n",
    "a = a0.copy()\n",
    "a += (h_constr(puzz_c) > N//2).astype(int) + (v_constr(puzz_c) > N//2).astype(int)\n",
    "print_tex('p : ',puzz_c,a0, a, a*a0)#*(arr != 0).astype(int)"
   ]
  },
  {
   "cell_type": "code",
   "execution_count": 30,
   "metadata": {},
   "outputs": [
    {
     "data": {
      "text/plain": [
       "array([[4, 4]], dtype=int64)"
      ]
     },
     "execution_count": 30,
     "metadata": {},
     "output_type": "execute_result"
    }
   ],
   "source": [
    "if np.sum(a*a0) == 0:\n",
    "    candidates = np.argwhere(a == np.max(a))\n",
    "else:\n",
    "    candidates = np.argwhere(a*a0 == np.max(a*a0))\n",
    "candidates"
   ]
  },
  {
   "cell_type": "markdown",
   "metadata": {},
   "source": [
    "Find viable 1s swap options. \n",
    "\n",
    "These are 0s neighbors that are mobile"
   ]
  },
  {
   "cell_type": "code",
   "execution_count": 32,
   "metadata": {},
   "outputs": [
    {
     "name": "stdout",
     "output_type": "stream",
     "text": [
      "viable swaps:\n",
      "(4, 4) [(4, 5)]\n",
      "[((4, 4), (4, 5))]\n"
     ]
    }
   ],
   "source": [
    "ijplus = np.array([[0,1], [0,-1], [-1,0], [1,0] ])  # y index is reversed\n",
    "\n",
    "# pad mobility marices to deal with edge cases\n",
    "s0s = np.zeros(shape = (4,2+N, 2+N))\n",
    "for i,f in enumerate([s_l, s_r, s_u, s_d]):\n",
    "    s0s[i,1:-1,1:-1]   = f(1-puzz_c)\n",
    "print('viable swaps:')\n",
    "swaps = set()\n",
    "for i,j in candidates:\n",
    "    viable_neighbors = [(i + di, j + dj) for (di,dj), s0 in zip(ijplus, s0s) if s0[i + di + 1, j + dj + 1] == 1]\n",
    "    for n in viable_neighbors:\n",
    "        swaps.add(((i,j), n))\n",
    "    print((i,j), viable_neighbors)\n",
    "\n",
    "#print_tex('p : ',puzz_c)\n",
    "#print_tex('p : ',puzz_c, s_l(1-puzz_c),s0s[0])   \n",
    "#print_tex(ijplus)\n",
    "swaps = list(swaps)\n",
    "print(swaps)"
   ]
  },
  {
   "cell_type": "code",
   "execution_count": 33,
   "metadata": {},
   "outputs": [
    {
     "data": {
      "text/latex": [
       "$\\displaystyle ((4, 4), (4, 5))\\ p:\\begin{bmatrix} 1 & 0 & 1 & 0 & 1 & 0 \\\\ 0 & 1 & 0 & 0 & 1 & 1 \\\\ 1 & 0 & 1 & 1 & 0 & 1 \\\\ 0 & 1 & 0 & 0 & 1 & 0 \\\\ 0 & 0 & 1 & 1 & 1 & 0 \\\\ 1 & 1 & 0 & 1 & 0 & 0 \\end{bmatrix}p_2 : \\begin{bmatrix} 1 & 0 & 1 & 0 & 1 & 0 \\\\ 0 & 1 & 0 & 0 & 1 & 1 \\\\ 1 & 0 & 1 & 1 & 0 & 1 \\\\ 0 & 1 & 0 & 0 & 1 & 0 \\\\ 0 & 0 & 1 & 1 & 0 & 1 \\\\ 1 & 1 & 0 & 1 & 0 & 0 \\end{bmatrix}\\begin{bmatrix} 0 & 0 & 0 & 0 & 0 & 0 \\\\ 0 & 0 & 0 & 0 & 0 & 0 \\\\ 0 & 0 & 0 & 0 & 0 & 0 \\\\ 0 & 0 & 0 & 0 & 0 & 0 \\\\ 0 & 0 & 0 & 0 & 0 & 0 \\\\ 0 & 0 & 0 & 0 & 0 & 0 \\end{bmatrix}0-\\begin{bmatrix} 0 \\\\ 0 \\\\ 1 \\\\ -1 \\\\ 0 \\\\ 0 \\end{bmatrix}\\begin{bmatrix} 0 & 0 & 0 & 0 & 0 & 0 \\end{bmatrix}-2$"
      ],
      "text/plain": [
       "<IPython.core.display.Math object>"
      ]
     },
     "metadata": {},
     "output_type": "display_data"
    }
   ],
   "source": [
    "for sw in swaps:\n",
    "    puzz_c2 = puzz_c.copy()\n",
    "    swap_2_elements(puzz_c2,*sw)\n",
    "    h_constr = np.sum(puzz_c2, axis= 1, keepdims=True)-3\n",
    "    v_constr = np.sum(puzz_c2, axis= 0, keepdims=True)-3\n",
    "    rc_constr = np.sum(np.abs(h_constr)+np.abs(v_constr))/6\n",
    "    print_tex(str(sw),r'\\ p:', puzz_c,'p_2 : ',puzz_c2, calc_neighbor_energy(puzz_c2), np.sum(calc_neighbor_energy(puzz_c2)), '-',h_constr,v_constr, '-',rc_constr)"
   ]
  },
  {
   "cell_type": "code",
   "execution_count": 115,
   "metadata": {},
   "outputs": [
    {
     "data": {
      "text/latex": [
       "$\\displaystyle x_l = \\begin{bmatrix} 0 & 0 & 0 \\\\ 1 & -1 & 0 \\\\ 0 & 0 & 0 \\end{bmatrix}x_r = \\begin{bmatrix} 0 & 0 & 0 \\\\ 0 & -1 & 1 \\\\ 0 & 0 & 0 \\end{bmatrix}y_u = \\begin{bmatrix} 0 & 1 & 0 \\\\ 0 & -1 & 0 \\\\ 0 & 0 & 0 \\end{bmatrix}y_d = \\begin{bmatrix} 0 & 0 & 0 \\\\ 0 & -1 & 0 \\\\ 0 & 1 & 0 \\end{bmatrix}$"
      ],
      "text/plain": [
       "<IPython.core.display.Math object>"
      ]
     },
     "metadata": {},
     "output_type": "display_data"
    },
    {
     "data": {
      "text/latex": [
       "$\\displaystyle p :\\begin{bmatrix} 0 & 0 & 0 & 0 & 0 & 0 \\\\ 0 & 0 & 0 & 0 & 0 & 0 \\\\ 0 & 0 & 0 & 0 & 0 & 0 \\\\ 0 & 0 & 0 & 0 & 0 & 0 \\\\ 0 & 0 & 1 & 0 & 0 & 0 \\\\ 0 & 0 & 0 & 0 & 0 & 0 \\end{bmatrix}x_l :\\begin{bmatrix} 0 & 0 & 0 & 0 & 0 & 0 \\\\ 0 & 0 & 0 & 0 & 0 & 0 \\\\ 0 & 0 & 0 & 0 & 0 & 0 \\\\ 0 & 0 & 0 & 0 & 0 & 0 \\\\ 0 & 0 & -1 & 0 & 0 & 0 \\\\ 0 & 0 & 0 & 0 & 0 & 0 \\end{bmatrix}x_r :\\begin{bmatrix} 0 & 0 & 0 & 0 & 0 & 0 \\\\ 0 & 0 & 0 & 0 & 0 & 0 \\\\ 0 & 0 & 0 & 0 & 0 & 0 \\\\ 0 & 0 & 0 & 0 & 0 & 0 \\\\ 0 & 0 & -1 & 0 & 0 & 0 \\\\ 0 & 0 & 0 & 0 & 0 & 0 \\end{bmatrix}$"
      ],
      "text/plain": [
       "<IPython.core.display.Math object>"
      ]
     },
     "metadata": {},
     "output_type": "display_data"
    },
    {
     "data": {
      "text/latex": [
       "$\\displaystyle p :\\begin{bmatrix} 0 & 0 & 0 & 0 & 0 & 0 \\\\ 0 & 0 & 0 & 0 & 0 & 0 \\\\ 0 & 0 & 0 & 0 & 0 & 0 \\\\ 0 & 0 & 0 & 0 & 0 & 0 \\\\ 0 & 0 & 1 & 0 & 0 & 0 \\\\ 0 & 0 & 0 & 0 & 0 & 0 \\end{bmatrix}y_u :\\begin{bmatrix} 0 & 0 & 0 & 0 & 0 & 0 \\\\ 0 & 0 & 0 & 0 & 0 & 0 \\\\ 0 & 0 & 0 & 0 & 0 & 0 \\\\ 0 & 0 & 0 & 0 & 0 & 0 \\\\ 0 & 0 & -1 & 0 & 0 & 0 \\\\ 0 & 0 & 0 & 0 & 0 & 0 \\end{bmatrix}y_d :\\begin{bmatrix} 0 & 0 & 0 & 0 & 0 & 0 \\\\ 0 & 0 & 0 & 0 & 0 & 0 \\\\ 0 & 0 & 0 & 0 & 0 & 0 \\\\ 0 & 0 & 0 & 0 & 0 & 0 \\\\ 0 & 0 & -1 & 0 & 0 & 0 \\\\ 0 & 0 & 0 & 0 & 0 & 0 \\end{bmatrix}$"
      ],
      "text/plain": [
       "<IPython.core.display.Math object>"
      ]
     },
     "metadata": {},
     "output_type": "display_data"
    }
   ],
   "source": [
    "k_div_x_l = np.array([[0 , 0, -0],\n",
    "                      [1, -1,  0],\n",
    "                      [0 , 0, -0]])\n",
    "k_div_x_r = 1*np.fliplr(k_div_x_l)\n",
    "\n",
    "k_div_y_u = np.array([[0 , 1, -0],\n",
    "                      [0, -1,  0],\n",
    "                      [0 , 0, -0]])\n",
    "k_div_y_d = 1*np.flipud(k_div_y_u)\n",
    "\n",
    "\n",
    "div_x_l = lambda arr, mask = None: signal.correlate(arr, k_div_x_l, mode='same')*((mask if mask is not None else arr) != 0).astype(int)\n",
    "div_x_r = lambda arr, mask = None: signal.correlate(arr, k_div_x_r, mode='same')*((mask if mask is not None else arr) != 0).astype(int)\n",
    "div_y_u = lambda arr, mask = None: signal.correlate(arr, k_div_y_u, mode='same')*((mask if mask is not None else arr) != 0).astype(int)\n",
    "div_y_d = lambda arr, mask = None: signal.correlate(arr, k_div_y_d, mode='same')*((mask if mask is not None else arr) != 0).astype(int)\n",
    "#div_y = lambda arr: signal.correlate(arr, k_div_y, mode='same')\n",
    "print_tex(r'x_l = ',k_div_x_l, r'x_r = ', k_div_x_r, r'y_u = ', k_div_y_u, r'y_d = ', k_div_y_d)\n",
    "print_tex(r'p :', e_n, r'x_l :', div_x_l(e_n), r'x_r :', div_x_r(e_n))\n",
    "print_tex(r'p :', e_n, r'y_u :', div_y_u(e_n), r'y_d :',div_y_d(e_n))\n",
    "#print_tex(-div_y(puzz_n))"
   ]
  },
  {
   "cell_type": "markdown",
   "metadata": {},
   "source": [
    "## Number of \"elements energy\" constraint \n",
    "Rows with large number of elements should have high energy and opposite with small numbers"
   ]
  },
  {
   "cell_type": "code",
   "execution_count": 116,
   "metadata": {},
   "outputs": [
    {
     "data": {
      "text/latex": [
       "$\\displaystyle \\begin{bmatrix} 0 & 0 & 0 & 0 & 0 & 0 \\\\ 0 & 0 & 0 & 0 & 0 & 0 \\\\ 0 & 0 & 0 & 0 & 0 & 0 \\\\ -1 & -1 & -1 & -1 & -1 & -1 \\\\ 1 & 1 & 2 & 1 & 1 & 1 \\\\ 0 & 0 & 0 & 0 & 0 & 0 \\end{bmatrix}$"
      ],
      "text/plain": [
       "<IPython.core.display.Math object>"
      ]
     },
     "metadata": {},
     "output_type": "display_data"
    }
   ],
   "source": [
    "cnt_v1 = (np.sum(puzz_c, axis= 0, keepdims=True)>N//2).astype(int)\n",
    "cnt_v0 = (np.sum(puzz_c, axis= 0, keepdims=True)<N//2).astype(int)\n",
    "cnt_h1 = (np.sum(puzz_c, axis= 1, keepdims=True)>N//2).astype(int)\n",
    "cnt_h0 = (np.sum(puzz_c, axis= 1, keepdims=True)<N//2).astype(int)\n",
    "puzz_n_cnt = e_n + cnt_v1 + cnt_h1 - cnt_v0 - cnt_h0\n",
    "print_tex(puzz_n_cnt)"
   ]
  },
  {
   "cell_type": "code",
   "execution_count": 117,
   "metadata": {},
   "outputs": [
    {
     "data": {
      "text/latex": [
       "$\\displaystyle x_l = \\begin{bmatrix} 0 & 0 & 0 \\\\ 1 & -1 & 0 \\\\ 0 & 0 & 0 \\end{bmatrix}x_r = \\begin{bmatrix} 0 & 0 & 0 \\\\ 0 & -1 & 1 \\\\ 0 & 0 & 0 \\end{bmatrix}y_u = \\begin{bmatrix} 0 & 1 & 0 \\\\ 0 & -1 & 0 \\\\ 0 & 0 & 0 \\end{bmatrix}y_d = \\begin{bmatrix} 0 & 0 & 0 \\\\ 0 & -1 & 0 \\\\ 0 & 1 & 0 \\end{bmatrix}$"
      ],
      "text/plain": [
       "<IPython.core.display.Math object>"
      ]
     },
     "metadata": {},
     "output_type": "display_data"
    },
    {
     "data": {
      "text/latex": [
       "$\\displaystyle p :\\begin{bmatrix} 0 & 0 & 0 & 0 & 0 & 0 \\\\ 0 & 0 & 0 & 0 & 0 & 0 \\\\ 0 & 0 & 0 & 0 & 0 & 0 \\\\ -1 & -1 & -1 & -1 & -1 & -1 \\\\ 1 & 1 & 2 & 1 & 1 & 1 \\\\ 0 & 0 & 0 & 0 & 0 & 0 \\end{bmatrix}x_l :\\begin{bmatrix} 0 & 0 & 0 & 0 & 0 & 0 \\\\ 0 & 0 & 0 & 0 & 0 & 0 \\\\ 0 & 0 & 0 & 0 & 0 & 0 \\\\ 0 & 0 & 0 & 0 & 0 & 0 \\\\ 0 & 0 & -1 & 0 & 0 & 0 \\\\ 0 & 0 & 0 & 0 & 0 & 0 \\end{bmatrix}x_r :\\begin{bmatrix} 0 & 0 & 0 & 0 & 0 & 0 \\\\ 0 & 0 & 0 & 0 & 0 & 0 \\\\ 0 & 0 & 0 & 0 & 0 & 0 \\\\ 0 & 0 & 0 & 0 & 0 & 0 \\\\ 0 & 0 & -1 & 0 & 0 & 0 \\\\ 0 & 0 & 0 & 0 & 0 & 0 \\end{bmatrix}$"
      ],
      "text/plain": [
       "<IPython.core.display.Math object>"
      ]
     },
     "metadata": {},
     "output_type": "display_data"
    },
    {
     "data": {
      "text/latex": [
       "$\\displaystyle p :\\begin{bmatrix} 0 & 0 & 0 & 0 & 0 & 0 \\\\ 0 & 0 & 0 & 0 & 0 & 0 \\\\ 0 & 0 & 0 & 0 & 0 & 0 \\\\ -1 & -1 & -1 & -1 & -1 & -1 \\\\ 1 & 1 & 2 & 1 & 1 & 1 \\\\ 0 & 0 & 0 & 0 & 0 & 0 \\end{bmatrix}y_u :\\begin{bmatrix} 0 & 0 & 0 & 0 & 0 & 0 \\\\ 0 & 0 & 0 & 0 & 0 & 0 \\\\ 0 & 0 & 0 & 0 & 0 & 0 \\\\ 0 & 0 & 0 & 0 & 0 & 0 \\\\ 0 & 0 & -3 & 0 & 0 & 0 \\\\ 0 & 0 & 0 & 0 & 0 & 0 \\end{bmatrix}y_d :\\begin{bmatrix} 0 & 0 & 0 & 0 & 0 & 0 \\\\ 0 & 0 & 0 & 0 & 0 & 0 \\\\ 0 & 0 & 0 & 0 & 0 & 0 \\\\ 0 & 0 & 0 & 0 & 0 & 0 \\\\ 0 & 0 & -2 & 0 & 0 & 0 \\\\ 0 & 0 & 0 & 0 & 0 & 0 \\end{bmatrix}$"
      ],
      "text/plain": [
       "<IPython.core.display.Math object>"
      ]
     },
     "metadata": {},
     "output_type": "display_data"
    }
   ],
   "source": [
    "print_tex(r'x_l = ',k_div_x_l, r'x_r = ', k_div_x_r, r'y_u = ', k_div_y_u, r'y_d = ', k_div_y_d)\n",
    "print_tex(r'p :', puzz_n_cnt, r'x_l :', div_x_l(puzz_n_cnt,e_n), r'x_r :', div_x_r(puzz_n_cnt,e_n))\n",
    "print_tex(r'p :', puzz_n_cnt, r'y_u :', div_y_u(puzz_n_cnt,e_n), r'y_d :', div_y_d(puzz_n_cnt,e_n))"
   ]
  },
  {
   "cell_type": "code",
   "execution_count": null,
   "metadata": {},
   "outputs": [],
   "source": []
  }
 ],
 "metadata": {
  "kernelspec": {
   "display_name": ".venv",
   "language": "python",
   "name": "python3"
  },
  "language_info": {
   "codemirror_mode": {
    "name": "ipython",
    "version": 3
   },
   "file_extension": ".py",
   "mimetype": "text/x-python",
   "name": "python",
   "nbconvert_exporter": "python",
   "pygments_lexer": "ipython3",
   "version": "3.9.13"
  }
 },
 "nbformat": 4,
 "nbformat_minor": 2
}
