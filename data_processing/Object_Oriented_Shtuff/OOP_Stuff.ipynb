{
 "cells": [
  {
   "cell_type": "code",
   "execution_count": 1,
   "metadata": {},
   "outputs": [
    {
     "name": "stdout",
     "output_type": "stream",
     "text": [
      "Executing function_inherited_from_parent(), calling dummy_function()\n",
      "Lets yoink this function and mod it!\n"
     ]
    }
   ],
   "source": [
    "# method resolution order (MRO)\n",
    "\n",
    "class ParentClass:\n",
    "    def dummy_function(self):\n",
    "        raise NotImplementedError(\"This method should be overridden by subclasses\")\n",
    "\n",
    "    def function_inherited_from_parent(self):\n",
    "        print('Executing function_inherited_from_parent(), calling dummy_function()')\n",
    "        self.dummy_function()\n",
    "\n",
    "class SubClass(ParentClass):\n",
    "    def dummy_function(self):\n",
    "        print(\"Lets yoink this function and mod it!\")\n",
    "\n",
    "sub_instance = SubClass()\n",
    "sub_instance.function_inherited_from_parent()\n"
   ]
  },
  {
   "cell_type": "code",
   "execution_count": null,
   "metadata": {},
   "outputs": [],
   "source": []
  }
 ],
 "metadata": {
  "kernelspec": {
   "display_name": ".venv",
   "language": "python",
   "name": "python3"
  },
  "language_info": {
   "codemirror_mode": {
    "name": "ipython",
    "version": 3
   },
   "file_extension": ".py",
   "mimetype": "text/x-python",
   "name": "python",
   "nbconvert_exporter": "python",
   "pygments_lexer": "ipython3",
   "version": "3.9.13"
  }
 },
 "nbformat": 4,
 "nbformat_minor": 2
}
