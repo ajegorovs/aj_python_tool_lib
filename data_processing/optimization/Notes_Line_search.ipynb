{
 "cells": [
  {
   "cell_type": "code",
   "execution_count": 1,
   "metadata": {},
   "outputs": [
    {
     "name": "stdout",
     "output_type": "stream",
     "text": [
      "input example : \n",
      ">>> arr_T = np.array([[r'\\vec{v}_1', r'\\vec{v}_2']]).T\n",
      ">>> print_tex(arr_T,'=', np.arange(1,5).reshape(2,-1)/4, r'; symbols: \\otimes, \\cdot,\\times')\n",
      "output: \n"
     ]
    },
    {
     "data": {
      "text/latex": [
       "$\\displaystyle \\begin{bmatrix}\\vec{v}_1 \\\\ \\vec{v}_2\\end{bmatrix}=\\begin{bmatrix} 1/4 & 1/2 \\\\ 3/4 & 1 \\end{bmatrix}; symbols: \\otimes, \\cdot,\\times$"
      ],
      "text/plain": [
       "<IPython.core.display.Math object>"
      ]
     },
     "metadata": {},
     "output_type": "display_data"
    }
   ],
   "source": [
    "import numpy as np\n",
    "from sympy.abc import a,x,y,z\n",
    "from sympy import *\n",
    "import matplotlib.pyplot as plt\n",
    "#init_printing()\n",
    "from misc_tools.print_latex import print_tex"
   ]
  },
  {
   "cell_type": "markdown",
   "metadata": {},
   "source": [
    "from \"Mykel J. Kochenderfer, Tim A. Wheeler - Algorithms for Optimization (The MIT Press)-The MIT Press (2019)\""
   ]
  },
  {
   "cell_type": "markdown",
   "metadata": {},
   "source": [
    "# Line search\n",
    "$$\\vec{x}_{i+1} = \\vec{x}_i + \\alpha_i \\vec{d}_i$$\n",
    "I prefer to define parametrized line $\\vec{l}(\\alpha) $\n",
    "$$\\vec{l}(\\alpha) = \\vec{x} + \\alpha \\vec{d}$$\n",
    "And we can minimize $f(\\vec{x})$ along this line:\n",
    "$$\\underset{\\alpha}{\\text{minimize }} f(\\vec{l}(\\alpha)) = \\underset{\\alpha}{\\text{minimize }} f(\\vec{x}  + \\alpha \\vec{d})$$\n",
    "\n",
    "Manually:\n",
    "$$f(x_1,x_2,x_3) = sin(x_1 x_2) + exp(x_2 + x_3) - x_3$$\n",
    "$$\\vec{x}_0 + \\alpha\\vec{d} = \\{1,2,3\\} + \\alpha\\{0,-1,-1\\}$$\n",
    "$$f(\\vec{x}_0 + \\alpha\\vec{d}) = sin((1 + 0)(2 - \\alpha) ) + exp((2 - \\alpha) + (3 - \\alpha)) -  (3 - \\alpha)$$\n",
    "$$ = sin(2 - \\alpha) + exp(5- 2\\alpha)+ \\alpha - 3$$\n",
    "Solve\n",
    "$$\\frac{{d f(\\vec{x}_0 + \\alpha\\vec{d})}}{d \\alpha }= 0$$\n",
    "Minimum at a ≈ 3.127...\n",
    "\n",
    "> Lets test it with sympy"
   ]
  },
  {
   "cell_type": "code",
   "execution_count": 2,
   "metadata": {},
   "outputs": [],
   "source": [
    "f = sin(x*y) + exp(y+z) - z\n",
    "d,x0 = np.array([0,-1,-1]), np.array([1,2,3])\n",
    "lx,ly,lz = x0 + a*d"
   ]
  },
  {
   "cell_type": "markdown",
   "metadata": {},
   "source": [
    ">1. replace $\\vec{x}$ with parametrized line\n",
    ">2. take a derivative"
   ]
  },
  {
   "cell_type": "code",
   "execution_count": 3,
   "metadata": {},
   "outputs": [
    {
     "data": {
      "text/latex": [
       "$\\displaystyle - 2 e^{5 - 2 a} - \\cos{\\left(a - 2 \\right)} + 1$"
      ],
      "text/plain": [
       "-2*exp(5 - 2*a) - cos(a - 2) + 1"
      ]
     },
     "metadata": {},
     "output_type": "display_data"
    }
   ],
   "source": [
    "f_of_a = f.subs({x: lx, y: ly, z: lz})\n",
    "dfda = diff(f_of_a,a)\n",
    "display(dfda)"
   ]
  },
  {
   "cell_type": "markdown",
   "metadata": {},
   "source": [
    ">Alternative:\n",
    ">\n",
    ">$$\\frac{{\\partial f}}{\\partial \\alpha} = \\frac{{\\partial f}}{\\partial \\vec{l} }\\frac{\\partial \\vec{l}}{\\partial \\alpha} = \\frac{{\\partial f}}{\\partial \\vec{l}}\\vec{d}$$\n",
    ">1. Find gradient and evaluate at a line $\\frac{{\\partial f}}{\\partial \\vec{x} } \\bigg|_{ \\vec{x} = \\vec{l}(\\alpha)}$\n",
    ">1. multiply by $\\vec{d}$"
   ]
  },
  {
   "cell_type": "code",
   "execution_count": 4,
   "metadata": {},
   "outputs": [
    {
     "name": "stdout",
     "output_type": "stream",
     "text": [
      "grad = jac: True\n",
      "two approaches the same: True\n",
      "sol a= 3.127; x = [ 1.         -1.12704561 -0.12704561]\n"
     ]
    }
   ],
   "source": [
    "grad_f = Matrix([f]).jacobian((x,y,z))\n",
    "print('grad = jac:', grad_f == Matrix([[diff(f, s) for s in (x,y,z)]]))\n",
    "Dfa = grad_f.subs({x: lx, y: ly, z: lz})\n",
    "dfda2 = Dfa.dot(d)\n",
    "print('two approaches the same:', dfda == dfda2)\n",
    "\n",
    "sol = float(nsolve(dfda, a, 1))\n",
    "print(f'sol a= {sol:0.3f}; x = {x0 + sol*d}')"
   ]
  },
  {
   "cell_type": "code",
   "execution_count": 5,
   "metadata": {},
   "outputs": [
    {
     "data": {
      "image/png": "[encoded data removed]",
      "text/plain": [
       "<Figure size 640x480 with 1 Axes>"
      ]
     },
     "metadata": {},
     "output_type": "display_data"
    }
   ],
   "source": [
    "ff = lambdify(a,f_of_a, 'numpy')\n",
    "aas = np.linspace(sol - 1, sol + 1, 100)\n",
    "plt.plot(aas, ff(aas))\n",
    "plt.scatter([sol] ,[ff(sol)], c= 'r');"
   ]
  },
  {
   "cell_type": "markdown",
   "metadata": {},
   "source": [
    "# Backtracking line search\n",
    "Is an approximate line search algorithm\n",
    "\n",
    "We test different values of $\\beta$ until we get a sufficient decrease in function value:\n",
    "$$f(\\vec{x}_{i+1} ) \\leq f(\\vec{x}_{i} ) + \\beta \\alpha \\nabla_{\\vec{d}_{i}} f(\\vec{x}_{i})$$\n",
    "Where $\\nabla_{\\vec{d}_{i}} f(\\vec{x}_{i})$ is gradient in direction of $\\vec{d}_{i}$."
   ]
  },
  {
   "cell_type": "markdown",
   "metadata": {},
   "source": [
    "Example:\n",
    "\n",
    "$$f(x_1, x_2) = x_1^2 + x_1 x_2 + x_2^2$$ \n",
    "$$\\vec{x} = \\{1,2\\}$$\n",
    "$$\\vec{d} = \\{-1,-1\\}$$\n",
    "$$\\nabla f (\\vec{r}) = \\{2 x_1 + x_2, 2 x_2 + x_1\\}$$"
   ]
  },
  {
   "cell_type": "markdown",
   "metadata": {},
   "source": [
    "Second Wolfe condition:\n",
    "\n",
    "\n",
    "Given we are exploring local minimum, if we start search 'downhill' ($\\vec{x}_i$) with negative slope, and reach hypothetical minimum with zero slope ($\\vec{x}_{i+1}$), derivative at start is smaller than at finish. \n",
    "\n",
    "Any solutions in-between will still show this behavior. We can set a threshold value $\\sigma$ for how relatively much slope will change.\n",
    "\n",
    "$$ \\frac{\\nabla_{\\vec{d}} f(\\vec{x}_{i+1})}{\\underbrace{\\boxed{\\nabla_{\\vec{d}} f(\\vec{x}_i)}}_{\\leq 0}} \\leq \\sigma$$\n",
    "\n",
    "this ratio takes values between 0 (at minimum) to 1 (at $\\alpha = 0$). \n",
    "\n",
    "We want to make steps that are in values in-between:\n",
    "$$\\nabla_{\\vec{d}} f(\\vec{x}_{i+1}) \\geq \\sigma\\nabla_{\\vec{d}} f(\\vec{x}_i)$$\n",
    "*   if we set $\\sigma = 0$, then we are satisfied with any steps sizes between start and hypothetical minimum.\n",
    "*   the closer to $\\sigma = 1$ the less change of slope we accept =  we stay closer to start.\n",
    "\n",
    "This condition can reject a step size\n",
    "https://www.youtube.com/watch?v=5upFcYJqSwo"
   ]
  },
  {
   "cell_type": "code",
   "execution_count": 6,
   "metadata": {},
   "outputs": [
    {
     "name": "stdout",
     "output_type": "stream",
     "text": [
      "i = 0;\t alpha = 10;\t f_xad = 217.0;\t f_x + beta*alpha*gd = 6.991;\t xad = array([-9, -8])\n",
      "i = 1;\t alpha = 5.0;\t f_xad = 37.0;\t f_x + beta*alpha*gd = 6.996;\t xad = array([-4., -3.])\n",
      "i = 2;\t alpha = 2.5;\t f_xad = 3.2;\t f_x + beta*alpha*gd = 6.998;\t xad = array([-1.5, -0.5])\n"
     ]
    },
    {
     "data": {
      "text/latex": [
       "$\\displaystyle 6.000 \\geq -8.100$"
      ],
      "text/plain": [
       "<IPython.core.display.Math object>"
      ]
     },
     "metadata": {},
     "output_type": "display_data"
    }
   ],
   "source": [
    "f = pow(x,2) +x*y + pow(y,2) \n",
    "d,x0 = np.array([-1,-1]), np.array([1,2])\n",
    "alpha = 10\n",
    "rho = 0.5\n",
    "beta = 1e-4\n",
    "grad_f = Matrix([f]).jacobian((x,y))\n",
    "\n",
    "sub_d = lambda vec: {x:vec[0], y:vec[1]}\n",
    "grad_f_pt = grad_f.subs(sub_d(x0))\n",
    "gd = grad_f_pt.dot(d)\n",
    "sol = float('inf')\n",
    "f_x = f.subs(sub_d(x0))\n",
    "i = 0\n",
    "while True:\n",
    "    xad = x0 + alpha*d\n",
    "    f_xad = f.subs(sub_d(xad))\n",
    "    print(f'{i = };\\t {alpha = };\\t {f_xad = :0.1f};\\t {f_x + beta*alpha*gd = :0.3f};\\t {xad = }')\n",
    "    if f_xad <=  f_x + beta*alpha*gd:\n",
    "        sol = xad\n",
    "        break\n",
    "\n",
    "    alpha *= rho\n",
    "    i += 1\n",
    "\n",
    "# second Wolfe condition check\n",
    "sigma = 0.9\n",
    "print_tex(f'${grad_f.subs(sub_d(sol)).dot(d):0.3f} \\geq {sigma*grad_f.subs(sub_d(x0)).dot(d):0.3f}$')"
   ]
  }
 ],
 "metadata": {
  "kernelspec": {
   "display_name": ".venv",
   "language": "python",
   "name": "python3"
  },
  "language_info": {
   "codemirror_mode": {
    "name": "ipython",
    "version": 3
   },
   "file_extension": ".py",
   "mimetype": "text/x-python",
   "name": "python",
   "nbconvert_exporter": "python",
   "pygments_lexer": "ipython3",
   "version": "3.9.13"
  }
 },
 "nbformat": 4,
 "nbformat_minor": 2
}
