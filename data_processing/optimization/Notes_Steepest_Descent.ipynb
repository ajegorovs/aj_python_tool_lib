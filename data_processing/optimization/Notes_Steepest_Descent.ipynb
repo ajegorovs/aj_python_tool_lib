{
 "cells": [
  {
   "cell_type": "markdown",
   "metadata": {},
   "source": [
    "Source:\n",
    "*   https://www.youtube.com/watch?v=jXShvxPcRl4\n",
    "*   https://www.cs.cmu.edu/~quake-papers/painless-conjugate-gradient.pdf"
   ]
  },
  {
   "cell_type": "markdown",
   "metadata": {},
   "source": [
    "If we want to solve a linear equation\n",
    "$$A \\vec{x} = \\vec{b}$$\n",
    "we, can do it by finding minima of following quadratic form:\n",
    "$$f(\\vec{x}) = \\frac{1}{2} \\vec{x}^T A \\vec{x} - \\vec{b}^T\\vec{x}$$\n",
    "Why? How? First we have to find a gradient $\\nabla_{\\vec{x}} \\ f(\\vec{x})$.\n",
    "\n",
    "Gradient will tell us where local/global minima is $\\nabla_{\\vec{x}} \\ f(\\vec{x}) = \\vec{0}$ and direction to that minima.\n",
    "\n",
    "_Note: using this method we can examine only cases where A is symmetric and positive definite._\n",
    "\n",
    "This means that objective function $f(\\vec{x})$ forms a paraboloid. Positive definite-ness implies that paraboloid does not have saddle points - coefficients for quadratic terms are larger than for mixed terms.\n",
    "In this case It is enough to find 'first derivative' for this 'cup' shape function, since there is __either__ minimum ar maximum.\n"
   ]
  },
  {
   "cell_type": "markdown",
   "metadata": {},
   "source": [
    "We want to find $m$-th component of a gradient $\\rightarrow \\frac{\\delta f}{\\delta{x_m}}$\n",
    "$$f(\\vec{x}) = \\frac{1}{2}\\sum_j x_j \\bigg[\\sum_i A_{ij} x_i\\bigg] - \\sum_k b_k x_k$$\n",
    "$$\\frac{\\partial f}{\\partial{x_m}} = \\frac{1}{2} \\bigg( \\sum_j  \\frac{\\partial x_j}{\\partial{x_m}} \\bigg[\\sum_i A_{ij} x_i\\bigg] + \\sum_j x_j \\bigg[\\sum_i A_{ij} \\frac{\\partial x_i}{\\partial{x_m}}\\bigg]\\bigg) - \\sum_k b_k \\frac{\\partial x_k}{\\partial{x_m}}$$\n",
    "$\\frac{\\partial x_a}{\\partial{x_b}}$ mimics a (Kronecker) delta function $\\delta^a_b$. In matrix expression we view it as an identity matrix $I$.  \n",
    "Note: partial derivatives are \"orthogonal\" $(\\frac{\\partial x}{\\partial{y}} = \\frac{\\partial y}{\\partial{x}} = 0; \\frac{\\partial x}{\\partial{x}} = \\frac{\\partial y}{\\partial{y}} = 1)$\n",
    "$$A = AI$$\n",
    "$$(AI)_{jm} = \\sum_i A_{ji} \\delta^i_m $$\n",
    "$$= A_{j0} \\underbrace{\\delta^0_m}_{0} + \\dots  + A_{jm} \\underbrace{\\delta^m_m}_{1} + \\dots$$\n",
    "$$= 0+ \\dots + A_{jm} + \\dots =  A_{jm}$$\n",
    "$$\\boxed{\\sum_i A_{ji} \\delta^i_m =  A_{jm}}$$\n",
    "\n",
    "Multiplication by $\\delta^i_m$ here simply removes summation $\\sum_i$ and replaces index $i \\leftrightarrow m$. \n",
    "\n",
    "Same with vectors (extract m-th component):\n",
    "$$\\boxed{\\sum_k b_k \\delta^k_m = b_m}$$\n",
    "\n",
    "We rewrite our gradient component expression\n",
    "$$\\frac{\\partial f}{\\partial{x_m}} = \\frac{1}{2} \\bigg( \\sum_j  \\delta^j_m \\underbrace{\\bigg[\\sum_i A_{ij} x_i\\bigg]}_{\\text{vector's j-th component}} + \\sum_j x_j \\bigg[\\sum_i A_{ij} \\delta^i_m\\bigg]\\bigg) - \\sum_k b_k \\delta^k_m$$\n",
    "$$\\frac{\\partial f}{\\partial{x_m}} = \\frac{1}{2} \\bigg( \\sum_i A_{im} x_i + \\sum_j x_j A_{mj}\\bigg) -  b_m$$\n",
    "\n",
    "Rename indices and combine terms:\n",
    "$$\\frac{\\partial f}{\\partial{x_m}} = \\frac{1}{2} \\sum_i (A_{im} + A_{mi}) \\ x_i  -  b_m$$\n",
    "which implies that\n",
    "$$\\nabla_{\\vec{x}} \\ f(\\vec{x})  = \\frac{1}{2} (A + A^T) \\ \\vec{x} - \\vec{b}$$\n",
    "\n",
    "if matrix $A$ is symmetric $A^T = A$, then\n",
    "$$\\nabla_{\\vec{x}} \\ f(\\vec{x})  = A \\vec{x} - \\vec{b}$$\n",
    "so a point $\\vec{x}^*$ where gradient of $f$ is zero,\n",
    "$$\\nabla_{\\vec{x}} \\ f(\\vec{x})\\bigg|_{\\vec{x}=\\vec{x}^*}  = A\\vec{x}^* - \\vec{b} = \\vec{0}$$\n",
    "<u>satisfies our initial problem</u>\n",
    "$$ A\\vec{x}^*= \\vec{b}$$"
   ]
  },
  {
   "cell_type": "markdown",
   "metadata": {},
   "source": [
    "***\n",
    "## (Optional) Using Einstein summation:\n",
    "\n",
    "Using this approach we raise and lower indices with metric tensor, swap indices using Kronecker delta function.\n",
    "\n",
    "By default we assume that we use contravariant vector components (with indices on top).\n",
    "\n",
    "_Note: in cartesian coordinate system there is no difference between co- and contra- variant components. We just make our life harder. But its good for practice._\n",
    "\n",
    "*   Summation is made over diagonal indices;\n",
    "*   Double indices imply summation.\n",
    "$$ \\vec{x} = \\sum_i x^i \\vec{e}_i = x^i \\vec{e}_i$$\n",
    "$$A \\vec{x} = \\vec{b} \\rightarrow A^{\\cdot j}_{i \\cdot} x^i = b^j$$\n",
    "\n",
    "$$ f = \\frac{1}{2} x_j A^{\\cdot j}_{i \\cdot} x^i - b_i x^i$$\n",
    "_Arguably one can write $f$ as_\n",
    "$$ f = \\frac{1}{2} x^i A_{ij} x^j - b_i x^i$$\n",
    "_which makes taking derivative of $x^i A_{ij} x^j$ easier, but we still cant escape covariant components in $b_i x^i$ and $A_{ij}$._"
   ]
  },
  {
   "cell_type": "markdown",
   "metadata": {},
   "source": [
    "We write gradient using Einstein summation  as\n",
    "$$\\frac{\\partial f}{\\partial{x^m}} =  \\frac{1}{2}\\frac{\\partial x_j}{\\partial{x^m}}A^{\\cdot j}_{i \\cdot} x^i +  \\frac{1}{2}x_j A^{\\cdot j}_{i \\cdot} \\frac{\\partial x^i}{\\partial{x^m}} - b_k \\frac{\\partial x^k}{\\partial{x^m}}$$\n",
    "\n",
    "$$\\frac{\\partial x^i}{\\partial{x^m}} = \\delta^i_m$$\n",
    "We can raise and lower indices using metric tensor\n",
    "$$x_j = g_{jk}x^k $$\n",
    "$$g_{jk}g^{km} = \\delta^m_j$$\n",
    "Using metric tensor we can derive derivative of a covariant component w.r.t contravariant variable\n",
    "$$\\frac{\\partial x_j}{\\partial{x^m}} = \\frac{\\partial g_{jk}x^k}{\\partial{x^m}} = g_{jk} \\frac{\\partial x^k}{\\partial{x^m}} = g_{jk} \\delta^k_m = g_{jm}$$\n",
    "_here we rename $g_{jk}$, not lower index of $\\delta^k_m$. But these should be closely related via $g_{jk}g^{km} = \\delta^m_j$._"
   ]
  },
  {
   "cell_type": "markdown",
   "metadata": {},
   "source": [
    "This leaves us with\n",
    "$$\\frac{\\partial f(\\vec{x})}{\\partial{x^m}} =  \\frac{1}{2}g_{jm} A^{\\cdot j}_{i \\cdot} x^i +  \\frac{1}{2}x_j A^{\\cdot j}_{i \\cdot} \\delta^i_m - b_k \\delta^k_m$$\n",
    "$$ =  \\frac{1}{2}A_{i m} x^i +  \\frac{1}{2}x_j A^{\\cdot j}_{m \\cdot} - b_m$$\n",
    "$$ =  \\frac{1}{2}A_{i m} x^i + \\frac{1}{2}g_{js} x^s A^{\\cdot j}_{m \\cdot} - b_m$$\n",
    "$$ =  \\frac{1}{2}A_{i m} x^i + \\frac{1}{2}A_{m s} x^s - b_m$$\n",
    "\n",
    "By changing indices and gathering terms we see that\n",
    "$$\\frac{\\partial f}{\\partial{x^m}} =  \\frac{1}{2}(A_{i m} +  A_{m i}) \\ x^i - b_m$$\n",
    "\n",
    "With same results as previously. \n",
    "\n",
    "_I dont know why it leaves us with covariant components though xd. In Cartesian C.S there is not difference between two._"
   ]
  },
  {
   "cell_type": "markdown",
   "metadata": {},
   "source": [
    "***\n",
    "## Gradient Descent\n",
    "We know that gradient of a function points into direction of increasing function value.\n",
    "\n",
    "Lets remind us of expression for a gradient:\n",
    "$$\\nabla_{\\vec{x}} \\ f(\\vec{x})  = A \\vec{x} - \\vec{b}$$\n",
    "Since we want to find minimum of $f(\\vec{x})$, we have to explore a trajectory in space of $\\vec{x}$, which will follow steepest descent, until it reaches global/local minimum.\n",
    "\n",
    "This means that we perform a gradient descent iterations:\n",
    "$$\\vec{x}_{t+1} = \\vec{x}_t - \\alpha \\nabla_{\\vec{x}} \\ f(\\vec{x})$$\n",
    "\n",
    "We can loop back onto our original problem and define residual\n",
    "$$\\vec{r} = \\vec{b} - A \\vec{x}$$\n",
    "and use it to replace a gradient\n",
    "$$\\nabla_{\\vec{x}} \\ f(\\vec{x}) = - \\vec{r}$$\n",
    "so we can rewrite gradient descent only in terms of original problem\n",
    "\n",
    "$$\\vec{x}_{t+1} = \\vec{x}_t + \\alpha \\vec{r}$$"
   ]
  },
  {
   "cell_type": "markdown",
   "metadata": {},
   "source": [
    "## Line search"
   ]
  },
  {
   "cell_type": "markdown",
   "metadata": {},
   "source": [
    "What is the optimal 'step' length? For quadratic functions we have a simple and intuitive solution.\n",
    "\n",
    "Gradient $\\nabla_{\\vec{x}} \\ f(\\vec{x})$ only shows local 'steepness', if we follow this direction, its not guaranteed that we will reach __global__ minima. \n",
    "\n",
    "From initial search point, we are traveling along a line \n",
    "$$\\vec{l}(\\alpha) = \\vec{x} + \\alpha \\vec{r}$$\n",
    "This line cuts paraboloid (objective function). When objective function is evaluated at each point along a line, it forms some sort of skewed parabola, which also has its own minima. \n",
    "\n",
    "<u>Reaching line's minima guarantees some improvement over our initial state.</u>\n",
    "\n",
    "### How do we find a minima along the line?\n",
    "\n",
    "Expression \n",
    "$$g(\\alpha) = f(\\vec{l}(\\alpha)) = f(\\vec{x} + \\alpha \\vec{r})$$\n",
    "can be viewed as a function parameterized by $\\alpha$, and its minimum can be found by calculating $\\alpha^*$ at which \n",
    "$$\\frac{\\partial g(\\alpha)}{\\partial \\alpha}\\bigg|_{\\alpha = \\alpha^*} = 0$$\n",
    "\n",
    "We can use a chain rule:\n",
    "$$\\frac{\\partial g(\\alpha)}{\\partial \\alpha} = \\frac{\\partial f(\\vec{l})}{\\partial \\vec{l}}\\cdot\\frac{\\partial \\vec{l}}{\\partial \\alpha} = \\nabla \\ f\\cdot \\vec{r}$$\n",
    "Now, we can evaluate this expression at parameter $\\alpha^*$ associated with line minima at ${\\vec{l} = \\vec{x}+\\alpha^*\\vec{r}}$\n",
    "\n",
    "$$0 = \\big[\\underbrace{A(\\vec{x}+\\alpha^*\\vec{r}) - \\vec{b}}_{\\nabla f(\\vec{l}) = A\\vec{l} - \\vec{b}}\\big] \\cdot \\vec{r} $$\n",
    "$$0= \\bigg[\\underbrace{A\\vec{x}- \\vec{b}}_{-\\vec{r}}+\\alpha^*A\\vec{r} \\bigg] \\cdot \\vec{r} $$\n",
    "$$0= \\bigg[\\alpha^*A\\vec{r}-\\vec{r} \\bigg] \\cdot \\vec{r} $$\n",
    "\n",
    "$$\\alpha^*(A\\vec{r})\\cdot \\vec{r} =\\vec{r} \\cdot \\vec{r}$$\n",
    "\n",
    "$$\\alpha^* = \\frac{\\vec{r} \\cdot \\vec{r}}{(A\\vec{r})\\cdot \\vec{r}} = \\frac{\\vec{r}^T\\vec{r}}{ \\vec{r}^TA\\vec{r}}$$\n",
    "\n",
    "Comparing to our initial starting points its guaranteed improvement (or equal)\n",
    "\n",
    "Upon reaching this new point we can recalculate gradient and continue descent.\n",
    "\n",
    "for i-th iteration:\n",
    "\n",
    "1. $$\\vec{r}_i = \\vec{b} - A \\vec{x}_i$$\n",
    "1. $$\\alpha_i = \\frac{\\vec{r}^T_i\\vec{r}_i}{ \\vec{r}^T_iA\\vec{r}_i}$$\n",
    "1. $$\\vec{x}_{i+1} = \\vec{x}_i + \\alpha_i \\vec{r}_i$$\n",
    "\n",
    "Or this can be expressed as one equation by applying $(-A [\\cdot] +\\vec{b})$ to 3rd equation:\n",
    "\n",
    "$$\\underbrace{-A\\vec{x}_{i+1}+\\vec{b}}_{\\vec{r}_{i+1}}= \\underbrace{-A \\vec{x}_i  + \\vec{b}}_{\\vec{r}_i} - \\alpha_i A \\vec{r}_i$$\n",
    "and we get replacement for 3.:\n",
    "\n",
    "4. $$\\boxed{\\vec{r}_{i+1} = \\vec{r}_i - \\alpha_i A \\vec{r}_i}$$\n",
    "with $A\\vec{r}_i$ being used twice (in 2. and 4.) and also $\\vec{r}_0$ should be calculated once via 1."
   ]
  },
  {
   "cell_type": "markdown",
   "metadata": {},
   "source": [
    "## Implementation"
   ]
  },
  {
   "cell_type": "code",
   "execution_count": 128,
   "metadata": {},
   "outputs": [
    {
     "name": "stdout",
     "output_type": "stream",
     "text": [
      "[[0.02764923 0.02370837]] [[-1.5  1.5]]\n",
      "i:1, residual :8.98601\n",
      "i:2, residual :2.79000\n",
      "i:3, residual :0.57769\n",
      "i:4, residual :0.17936\n",
      "i:5, residual :0.03714\n",
      "i:6, residual :0.01153\n",
      "i:7, residual :0.00239\n",
      "i:8, residual :0.00074\n"
     ]
    },
    {
     "data": {
      "image/png": "[encoded data removed]",
      "text/plain": [
       "<Figure size 640x480 with 2 Axes>"
      ]
     },
     "metadata": {},
     "output_type": "display_data"
    }
   ],
   "source": [
    "import numpy as np\n",
    "import matplotlib.pyplot as plt\n",
    "np.random.seed(69)\n",
    "\n",
    "N = 2\n",
    "A = np.random.rand(N,N)*10\n",
    "A += np.diag(np.random.rand(N)*50)  # force large quadratic terms\n",
    "B = np.random.rand(N,1)*10\n",
    "\n",
    "T = lambda x: np.moveaxis(x, -1, -2)    # transpose for array of dims (*shape, 2,1)\n",
    "\n",
    "def f(x):\n",
    "    return (0.5*T(x) @ A @ x - T(B) @ x)\n",
    "\n",
    "x_true = np.linalg.inv(A) @ B\n",
    "x0 = np.array([[-1.5,1.5]]).T\n",
    "print(x_true.T, x0.T)\n",
    "r_old = B - A @ x0\n",
    "N_samples = 200\n",
    "dom = (-2,2)\n",
    "dom1 = np.linspace(*dom, N_samples)\n",
    "X,Y = XY = np.meshgrid(dom1,dom1)\n",
    "domain_xy = np.stack(XY, axis = -1)[...,None]\n",
    "obj_fn = f(domain_xy).reshape(N_samples,N_samples)\n",
    "c = plt.contourf(X,Y, obj_fn, extent = [*dom*2],levels = 10)\n",
    "plt.gca().set_aspect(1)\n",
    "plt.colorbar(c)\n",
    "\n",
    "r = B - A @ x0\n",
    "i = 0\n",
    "rs = []\n",
    "alphas = []\n",
    "r_norm =  np.linalg.norm(r)\n",
    "while r_norm> 0.001:\n",
    "    rs.append(r.copy())\n",
    "    Ar = A @ r\n",
    "    alpha = (np.dot(r.T,r)/np.dot(r.T,Ar))[0,0]\n",
    "    alphas.append(alpha.copy())\n",
    "    r -= alpha*Ar\n",
    "    i += 1\n",
    "    r_norm =  np.linalg.norm(r)\n",
    "    print(f'i:{i}, residual :{r_norm:0.5f}')\n",
    "\n",
    "rs_a    = np.array(rs).squeeze(-1)\n",
    "alphas_a = np.array(alphas).reshape(-1,1)\n",
    "displ = np.vstack(([0,0],np.cumsum(rs_a*alphas_a, axis = 0)))\n",
    "\n",
    "traj = x0.reshape(1,-1) + displ\n",
    "np.array(rs).shape\n",
    "\n",
    "plt.plot(*traj.T, color = 'k', lw = 2, label = 'trajectory')\n",
    "plt.scatter(*x0, c = 'r', s = 20, zorder = 2, label = 'start pos')\n",
    "plt.xlabel(r'$x_0$')\n",
    "plt.ylabel(r'$x_1$')\n",
    "plt.title(r'$f(\\vec{x}) = \\frac{1}{2} \\vec{x}^T A \\vec{x} - \\vec{b}^T\\vec{x}$')\n",
    "plt.legend();"
   ]
  },
  {
   "cell_type": "markdown",
   "metadata": {},
   "source": [
    "## Convergence of steepest descent\n"
   ]
  },
  {
   "cell_type": "markdown",
   "metadata": {},
   "source": [
    "error term shows how farm we are from solution $\\vec{x}$\n",
    "$$\\boxed{\\vec{e}_i = \\vec{x}_i - \\vec{x}}$$\n",
    "$$A \\vec{e}_i = A \\vec{x}_i - A \\vec{x}$$\n",
    "$$ = A \\vec{x}_i - \\vec{b} = - \\vec{r}_i $$\n",
    "\n",
    "$$\\boxed{\\vec{r}_i = - A \\vec{e}_i }$$"
   ]
  },
  {
   "cell_type": "markdown",
   "metadata": {},
   "source": [
    "if we expand error in terms of eigenvectors\n",
    "$$A \\vec{v}_i = \\lambda_i \\vec{v}_i$$\n",
    "eigenvectors are orthogonal (we also want them orthonormal)\n",
    "$$\\vec{v}_i^T \\vec{v}_j = \\delta^i_j$$\n",
    "\n",
    "$$\\vec{e}_i = \\sum_j \\xi_j \\vec{v}_j$$\n",
    "Any vector-vector multiplications will go though orthogonality aspect\n",
    "$$||\\vec{e}_i ||^2 = \\sum_i \\xi_i  \\vec{v}_i^T \\sum_j \\xi_j  \\vec{v}_j = \\sum_i\\sum_j \\xi_i \\xi_j (\\underbrace{\\vec{v}_i^T \\vec{v}_j}_{\\delta^i_j})$$\n",
    "\n",
    "$$\\boxed{||\\vec{e}_i ||^2 = \\sum_j \\xi_j^2}$$\n",
    "\n",
    "$$\\vec{r}_i = - A \\vec{e}_i  = - A \\sum_j \\xi_j \\vec{v}_j $$\n",
    "$$ = -  \\sum_j \\xi_j \\underbrace{A \\vec{v}_j}_{\\lambda_j \\vec{v}_j} = -  \\sum_j \\xi_j \\lambda_j \\vec{v}_j $$\n",
    "$$\\boxed{\\vec{r}_i  =   -  \\sum_j \\xi_j \\lambda_j \\vec{v}_j}$$\n",
    "\n",
    "$$\\boxed{||\\vec{r}_i ||^2 = \\sum_i\\sum_j \\xi_i \\xi_j \\lambda_i \\lambda_j(\\underbrace{\\vec{v}_i^T \\vec{v}_j}_{\\delta^i_j}) = \\sum_j \\xi_j^2 \\lambda_j^2}$$\n",
    "Conjugate norm (A-norm)\n",
    "$$\\vec{e}_i^T A \\vec{e}_i = \\sum_i \\xi_i \\vec{v}_i^T A \\sum_j \\xi_j \\vec{v}_j^T $$\n",
    "$$ = \\sum_i \\xi_i \\vec{v}_i^T \\sum_j \\xi_j \\lambda_j \\vec{v}_j = \\sum_i\\sum_j \\xi_i \\xi_j \\lambda_j (\\underbrace{\\vec{v}_i^T \\vec{v}_j}_{\\delta^i_j})$$\n",
    "$$\\boxed{\\vec{e}_i^T A \\vec{e}_i  = \\sum_j \\xi_j^2 \\lambda_j }$$\n",
    "\n",
    "Application of $A$ basically adds additional $\\lambda$\n",
    "$$\\boxed{\\vec{r}_i^T A \\vec{r}_i = \\sum_i\\sum_j \\xi_i \\xi_j \\lambda_j^2 (\\underbrace{\\vec{v}_i^T \\vec{v}_j}_{\\delta^i_j}) = \\sum_j \\xi_j^2 \\lambda_j^3 }$$\n",
    "\n",
    "Regular norms are just Pythagorean norms in rotated coordinate systems"
   ]
  },
  {
   "cell_type": "markdown",
   "metadata": {},
   "source": [
    "Since \n",
    "$$$$\n",
    "$$\\vec{x}_{i+1} = \\vec{x}_i + \\alpha_i \\vec{r}_i \\overset{(\\vec{e}_i = \\vec{x}_i - \\vec{x})}{\\rightarrow} \\vec{e}_{i+1} = \\vec{e}_{i} + \\alpha_i \\vec{r}_i$$\n",
    "\n",
    "\n",
    "If we consider case when residual is aligned (exactly) with eigenvector (only one component present)\n",
    "\n",
    "$$\\vec{r}_i = - A \\vec{e}_i = - \\lambda_e \\vec{e}_i$$\n",
    "then updater rule is\n",
    "$$\\vec{e}_{i+1} =  \\vec{e}_i + \\alpha_i \\vec{r}_i = \\vec{e}_i - \\alpha_i  \\lambda_e \\vec{e}_i$$\n",
    "and \n",
    "$$\\alpha_i = \\frac{\\vec{r}^T_i\\vec{r}_i}{ \\vec{r}^T_iA\\vec{r}_i} = \\frac{\\lambda_e^2 \\vec{e}^T_i\\vec{e}_i}{ \\lambda_e^3 \\vec{e}^T_i\\vec{e}_i} = \\frac{1}{\\lambda_e}$$\n",
    "$$\\vec{e}_{i+1} =  \\vec{e}_i-  \\frac{1}{\\lambda_e} \\lambda_e \\vec{e}_i = \\vec{e}_i - \\vec{e}_i = \\vec{0} $$\n",
    "\n",
    "Apparently this means instant convergence with step size $\\frac{1}{\\lambda_e}$. \n",
    "\n",
    "_I personally dont see how time step would be scaled if we were to scale  $\\vec{r}_i = - A \\beta_e \\vec{e}_i = - \\lambda_e \\beta_e \\vec{e}_i$._\n",
    "\n",
    "_Looks like its a specific case with instant convergence when directions are aligned with eigenbasis._"
   ]
  }
 ],
 "metadata": {
  "kernelspec": {
   "display_name": ".venv",
   "language": "python",
   "name": "python3"
  },
  "language_info": {
   "codemirror_mode": {
    "name": "ipython",
    "version": 3
   },
   "file_extension": ".py",
   "mimetype": "text/x-python",
   "name": "python",
   "nbconvert_exporter": "python",
   "pygments_lexer": "ipython3",
   "version": "3.9.13"
  }
 },
 "nbformat": 4,
 "nbformat_minor": 2
}
