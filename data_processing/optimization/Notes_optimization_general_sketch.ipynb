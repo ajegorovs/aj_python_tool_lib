{
 "cells": [
  {
   "cell_type": "code",
   "execution_count": null,
   "metadata": {},
   "outputs": [],
   "source": []
  },
  {
   "cell_type": "markdown",
   "metadata": {},
   "source": [
    "*   Global/local minimum: no comments.\n",
    "*   Weak local min: not unique min in the neighborhood.\n",
    "*   Strong local min: unique in neighb.\n",
    "*   Inflection point: first derivative = 0, but second changes sign."
   ]
  },
  {
   "cell_type": "markdown",
   "metadata": {},
   "source": [
    "# Single variable\n",
    "Strong local min:\n",
    "\n",
    "first-order necessary condition (FONC)\n",
    "$$f'(x^*) = 0$$\n",
    "Fast proof:\n",
    ">We are not constraint and can pick any x from neighborhood of x*. We expect minium to have\n",
    ">$$f(x^*) \\leq f(x^* \\pm h) $$\n",
    ">Write Taylor expansion about minimum. \n",
    ">$$f(x^* \\pm h) = f(x^*)  \\pm h  f'(x^*) + \\underbrace{O(h^2)}_{\\approx 0}$$\n",
    ">Since we expect\n",
    ">$$f(x^* \\pm h) - f(x^*) \\geq 0$$\n",
    ">From taylor we see\n",
    ">$$f(x^* \\pm h) - f(x^*) = \\pm h  f'(x^*) \\geq 0$$\n",
    ">which can only mean\n",
    ">$$ \\pm 0 =0 \\rightarrow \\boxed{f'(x^*) = 0}$$\n",
    "\n",
    "Second-order necessary condition (SONC)\n",
    "$$f''(x^*) > 0$$\n",
    "\n",
    ">$$f(x^* \\pm h) = f(x^*) \\pm \\underbrace{h  f'(x^*)}_{0} + \\frac{h^2}{2} f''(x^*) + \\underbrace{O(h^3)}_{\\approx 0}$$\n",
    ">Since we expect\n",
    ">$$f(x^* \\pm h) - f(x^*) \\geq 0$$\n",
    ">From taylor we see\n",
    "> $$f(x^* \\pm h) - f(x^*) = \\frac{h^2}{2} \\boxed{f''(x^*) \\geq 0 }$$\n",
    "\n",
    "\n"
   ]
  },
  {
   "cell_type": "markdown",
   "metadata": {},
   "source": [
    "\n",
    "# Multiple variables\n",
    "$$x^* \\rightarrow \\vec{x}^* \\in \\R^n$$\n",
    "I'll still write it as non-vector 'cause its easier.\n",
    "\n",
    "Taylor's Theorem\n",
    "$$f: \\R^n \\rightarrow \\R \\ ; \\ y \\in \\R^n \\ ; \\ h \\in \\R$$\n",
    "\n",
    "$$f(x^*+h y) = f(x^*)+h \\nabla_x f(x^*)^Ty + \\frac{h^2}{2} y^T \\nabla^2_x f(x^*) y + O(h^3)$$\n",
    "for a any y\n",
    "$$f(x^*+h y) -  f(x^*) \\geq 0$$\n",
    "no way to do this unless\n",
    "$$f(x^*+h y) -  f(x^*) =  \\boxed{0 = \\nabla_x f(x^*)}$$\n",
    "\n",
    "and\n",
    "$$f(x^*+h y) -  f(x^*)  = \\frac{h^2}{2} y^T \\nabla^2_x f(x^*) y \\geq 0$$\n",
    "\n",
    "$$y^T \\nabla^2_x f(x^*) y \\geq 0$$\n",
    "for it to be true (Hessian) matrix $\\nabla^2_x f(x)\\bigg|_{x^*}$ should be positive semidefinite. \n",
    "\n",
    "As for definition for positive semidefinite matrix is\n",
    "\n",
    "$$\\vec{x}^T M \\vec{x}  \\geq 0  \\ \\forall x \\in \\R^n$$\n",
    "\n",
    "(positive-definite is $= 0$, negative definite is $\\lt 0$)\n",
    "\n",
    "$$\\boxed{\\text{Hessian matrix }\\nabla^2_x f(x) \\text{ is positive semidefinite}}$$"
   ]
  },
  {
   "cell_type": "markdown",
   "metadata": {},
   "source": []
  }
 ],
 "metadata": {
  "language_info": {
   "name": "python"
  }
 },
 "nbformat": 4,
 "nbformat_minor": 2
}
