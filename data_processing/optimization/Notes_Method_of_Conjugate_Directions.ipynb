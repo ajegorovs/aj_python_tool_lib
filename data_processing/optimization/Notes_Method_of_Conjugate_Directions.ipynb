{
 "cells": [
  {
   "cell_type": "code",
   "execution_count": 2,
   "metadata": {},
   "outputs": [],
   "source": [
    "import matplotlib.pyplot as plt\n",
    "import numpy as np"
   ]
  },
  {
   "cell_type": "markdown",
   "metadata": {},
   "source": [
    "# Main idea\n",
    "Solve $A\\vec{x} = \\vec{b}$.\n",
    "\n",
    "In  [steepest descent](Notes_Steepest_Descent.ipynb) negative gradient (= residual) is orthogonal to error (direction to solution). \n",
    "\n",
    "Probably due to quadratic objective function. But this direction is not facing solution, and trajectory zigzags  for many steps until result converges.\n",
    "\n",
    "__(IMPORTANT!)__\n",
    "\n",
    "If our quadratic form was sphere shaped (only equal, non-zero quadratic coefficients), any tangent plane to function iso-surface would point exactly to the center!\n",
    "\n",
    "In fact, vectors forming plane would be orthogonal to normal vector, and latter would be the direction of shortest path to sphere center (solution).\n",
    "\n",
    "__The IDEA__ of conjugate directions $\\vec{d}$ method, is to exploit this orthogonality, by redefining it to non spherical optimization functional. \n",
    "$$\\vec{d}_i^TA \\vec{d}_j= 0 \\ ; \\ i \\neq j$$\n",
    "\n",
    "One can view this procedure as gradient descent in 'stretched' parameter space. $A$ holds parameters which define shape of paraboloid.\n",
    "\n",
    "Additional benefit of this approach is that each displacement extends search space (line-> plane-> ...) and next direction, in extended space, is conducted in orthogonal direction to previous space (plane tangent to a sphere)."
   ]
  },
  {
   "cell_type": "markdown",
   "metadata": {},
   "source": [
    "This allows to do a search in independent directions. For $\\vec{x} \\in \\R^n$ there are just $n$ such directions, which implies convergence in $n$ steps. "
   ]
  },
  {
   "cell_type": "markdown",
   "metadata": {},
   "source": [
    "## Few definitions\n",
    "Original problem \n",
    "\n",
    "$$\\boxed{A\\vec{x} = \\vec{b}}$$\n",
    "\n",
    "from [steepest descent](Notes_Steepest_Descent.ipynb) we know that\n",
    "\n",
    "$$\\vec{r} = \\vec{b} - A \\vec{x}$$\n",
    "and use it to replace a gradient\n",
    "$$\\nabla_{\\vec{x}} \\ f(\\vec{x}) = - \\vec{r}$$\n",
    "where $f$ is quadratic form of OG problem.\n",
    "$$f(\\vec{x}) = \\frac{1}{2} \\vec{x}^T A \\vec{x} - \\vec{b}^T\\vec{x}$$\n",
    "\n",
    "This allowed us to form gradient descent expression as\n",
    "$$\\vec{x}_{i+1} = \\vec{x}_i + \\alpha_i \\vec{r}_i$$"
   ]
  },
  {
   "cell_type": "markdown",
   "metadata": {},
   "source": [
    "error term - a hypotetical distance vector from true solution $\\vec{x}$ to current guess $\\vec{x}_i$\n",
    "$$\\boxed{\\vec{e}_i = \\vec{x}_i - \\vec{x}}$$\n",
    "$$A \\vec{e}_i = A \\vec{x}_i - A \\vec{x}\n",
    "= A \\vec{x}_i - \\vec{b} = - \\vec{r}_i $$\n",
    "\n",
    "error is related to residual via matrix $A$\n",
    "$$\\boxed{\\vec{r}_i = - A \\vec{e}_i }$$\n",
    "\n",
    "using definition of error, we can alternatively define gradient descent step\n",
    "$$\\boxed{\\vec{e}_{i+1} = \\vec{e}_i + \\alpha_i \\vec{r}_i}$$"
   ]
  },
  {
   "cell_type": "markdown",
   "metadata": {},
   "source": [
    "## Method Orthogonal Directions\n",
    "Suppose we drop the idea of stepping 'against the gradient' and move only in one degree of freedom at a time.\n",
    "\n",
    "That depends on dimensions of $\\vec{x} \\in \\R^n$. \n",
    "\n",
    "Orthogonal search dimensions: $\\{\\vec{d}_0,\\cdots, \\vec{d}_{n-1}\\}$. We will converge onto true $\\vec{x}$ in $n$ steps.\n",
    "\n",
    "Each step we 'resolve' each search dimension, so error term (vector that points form solution to current guess) is orthogonal to previous search dimension(s):\n",
    "\n",
    "$$\\vec{d}_i^T \\vec{e}_{i+1} = 0\\\\\n",
    "\\vec{d}_i^T (\\vec{e}_i + \\alpha_i \\vec{d}_i) = 0$$\n",
    "\n",
    "$$\\alpha_i = -\\frac{\\vec{d}_i^T\\vec{e}_i }{\\vec{d}_i^T\\vec{d}_i}$$\n",
    "\n",
    "Although idea of using error is absurd, since we have to know solution to use it."
   ]
  },
  {
   "cell_type": "markdown",
   "metadata": {},
   "source": [
    "Instead we use A-orthogonality, which helps us eliminate (as we will see) error term\n",
    "$$\\boxed{\\vec{d}_i^TA \\vec{d}_j= 0}$$\n",
    "$$\\vec{d}_i^T A \\vec{e}_{i+1} = 0\\\\\n",
    "\\vec{d}_i^T A (\\vec{e}_i + \\alpha_i \\vec{d}_i) = 0$$\n",
    "\n",
    "$$\\alpha_i = -\\frac{\\vec{d}_i^T A \\vec{e}_i }{\\vec{d}_i^T A \\vec{d}_i}$$\n",
    "using error-residual relation $\\vec{r}_i = - A \\vec{e}_i $\n",
    "$$\\boxed{\\alpha_i = \\frac{\\vec{d}_i^T \\vec{r}_i }{\\vec{d}_i^T A \\vec{d}_i}}$$\n",
    "This contains only quantities we can calculate.\n",
    "\n",
    "$$\\boxed{\\vec{x}_{i+1} = \\vec{x}_i + \\alpha_i \\vec{d}_i}$$\n",
    "\n",
    "_Note: if we were to select steps against the gradient ($\\vec{d}_i = \\vec{r}$), we retrieve expression for step size of steepest descent method_\n",
    "$$\\alpha^* = \\frac{\\vec{r}^T\\vec{r}}{ \\vec{r}^TA\\vec{r}}$$\n",
    "## Orthogonality\n",
    "if \n",
    "$$\\vec{x}_{i+1} = \\vec{x}_i + \\alpha_i \\vec{d}_i$$\n",
    "then \n",
    "$$\\vec{x}_{2} = \\vec{x}_{1} + \\alpha_{1} \\vec{d}_{1} = \\vec{x}_0 + \\alpha_0 \\vec{d}_0 + \\alpha_{1} \\vec{d}_{1}$$\n",
    "$$\\vec{x}_{k} = \\vec{x}_0 + \\sum_{j = 0}^{k-1} \\alpha_k \\vec{d}_k$$\n",
    "\n",
    "or via error\n",
    "$$\\boxed{\\vec{e}_{k} = \\vec{e}_0 + \\sum_{j = 0}^{k-1} \\alpha_k \\vec{d}_k}$$\n",
    "if we express initial error as a combination of search directions:\n",
    "$$\\vec{e}_{0} = \\sum_{j = 0}^{n-1} \\delta_j \\vec{d}_j$$\n",
    "\n",
    "_TBH IM so TILTED BY THIS ALGEBRA GYMNASTICS_\n",
    "\n",
    "$$(\\vec{d}_k^T A) \\vec{e}_0 = (\\vec{d}_k^T A ) \\sum_{j = 0}^{n-1} \\delta_j \\vec{d}_j = \\sum_{j = 0}^{n-1} \\delta_j \\vec{d}_k^T A  \\vec{d}_j = \\delta_k \\vec{d}_k^T A  \\vec{d}_k$$\n",
    "$$\\delta_k = \\frac{\\vec{d}_k^T A  \\vec{e}_0}{\\vec{d}_k^T A  \\vec{d}_k}$$\n",
    "because \n",
    "$$\\vec{d}_k^T A \\vec{d}_i = 0 \\ ; \\ k \\neq i$$\n",
    "\n",
    "$$\\delta_k = \\frac{\\vec{d}_k^T A  \\vec{e}_k}{\\vec{d}_k^T A  \\vec{d}_k} = -\\alpha_i$$"
   ]
  },
  {
   "cell_type": "markdown",
   "metadata": {},
   "source": [
    "$$\\vec{e}_j  = \\underbrace{\\vec{e}_0}_{ \\sum_{j = 0}^{n-1} \\delta_j \\vec{d}_j} + \\sum_{j = 0}^{i-1} \\underbrace{\\alpha_j}_{-\\delta_j} \\vec{d}_j$$\n",
    "$$ = \\sum_{j = 0}^{n-1} \\delta_j \\vec{d}_j - \\sum_{j = 0}^{i-1} \\delta_j \\vec{d}_j$$\n",
    "$$ \\boxed{\\vec{e}_j =  \\sum_{j = i}^{n-1} \\delta_j \\vec{d}_j}$$\n",
    "\n",
    "each iteration, up to $n$ (degrees of freedom, dim of $\\vec{x}$), error looses component $\\vec{d}_j$\n",
    "\n",
    "$$(-\\vec{d}_i^T A) \\vec{e}_j = (-\\vec{d}_i^T A) \\sum_{j = i}^{n-1} \\delta_j \\vec{d}_j$$\n",
    "$$ = -  \\sum_{j = i}^{n-1} \\delta_j \\vec{d}_i^T A\\vec{d}_j$$\n",
    "\n",
    "$$\\vec{r}_j = - A \\vec{e}_j$$\n",
    "$$(-\\vec{d}_i^T A) \\vec{e}_j = \\vec{d}_i^T\\vec{r}_j = \\sum_{j = i}^{n-1} \\delta_j \\vec{d}_i^T A\\vec{d}_j = 0 \\ ; \\ i \\gt j$$\n",
    "\n",
    "$$\\boxed{\\vec{d}_i^T\\vec{r}_j  = 0 \\ ; \\ i \\gt j}$$\n",
    "implies that residual is orthogonal to expanded space (hyperplane)\n",
    "\n",
    "_im so tired of these bs proofs..._"
   ]
  },
  {
   "cell_type": "markdown",
   "metadata": {},
   "source": [
    "How to select A-orthogonal search dimensions?\n",
    "\n",
    "## Conjugate Gram-Schmidt (GS) process\n",
    "### Ordinary GS\n",
    "Original GS process is very simple. \n",
    "1. Start with initial vector $\\vec{v}_1$,\n",
    "2. Select next vector $\\vec{v}_2$, decompose it into a part that <br>\n",
    "projects onto $\\vec{v}_1$: $proj_{\\vec{v}_1 } (\\vec{v}_2)$ and remaining part $\\vec{v}_2 - proj_{\\vec{v}_1 } (\\vec{v}_2)$; \n",
    "3. modify this vector: $\\vec{u}_2 = \\vec{v}_2 -proj_{\\vec{v}_1 } (\\vec{v}_2)$  remove part that projects onto 1. $\\leftrightarrow$ orthogonality\n",
    "4. select next vector. repeat 2,3 considering all previous vectors\n",
    "5. repeat 2 - 5\n",
    "\n",
    "for example if $\\{\\vec{v}_1, \\vec{v}_2,\\dots,\\vec{v}_k\\}$ are linearly independent, but not orthogonal and we want to orthogonalize them to $\\vec{u}_i$:\n",
    "1. $$\\vec{u}_1 = \\vec{v}_1$$\n",
    "2. $$\\vec{u}_2 = \\vec{v}_2 - proj_{\\vec{u}_1 } (\\vec{v}_2)$$\n",
    "3. $$\\vec{u}_3 = \\vec{v}_3 - proj_{\\vec{u}_1 } (\\vec{v}_3) - proj_{\\vec{u}_2 } (\\vec{v}_3)$$\n",
    "4. $$\\dots$$\n",
    "5. $$\\vec{u}_k = \\vec{v}_k - \\sum_{j=1}^{k-1} proj_{\\vec{u}_j }(\\vec{v}_k)$$\n",
    "where \n",
    "$$ proj_{\\vec{u} }(\\vec{v}) = (\\vec{v} \\cdot \\hat{\\vec{u}})\\hat{\\vec{u}} $$\n",
    "where $\\hat{\\vec{u}}$ is unit length vector in $\\vec{u}$ direction, so\n",
    "$$proj_{\\vec{u} }(\\vec{v}) = \\bigg(\\vec{v} \\cdot \\frac{\\vec{u}}{|\\vec{u}|} \\bigg)  \\frac{\\vec{u}}{|\\vec{u}|} = \\frac{\\vec{v}  \\cdot \\vec{u}}{|\\vec{u}|^2}\\vec{u} = \\frac{\\vec{v}  \\cdot \\vec{u}}{\\vec{u}  \\cdot \\vec{u}}\\vec{u}$$"
   ]
  },
  {
   "cell_type": "markdown",
   "metadata": {},
   "source": [
    "### Conjugate GS\n",
    "We modify this definition to include A-orthogonality\n",
    "$$\\vec{d}_i = \\vec{u}_i -  \\sum_{k=0}^{i-1} \\beta_{ik} \\vec{d}_k$$\n",
    "$$\\beta_{ik} = \\frac{\\vec{u}_i^T  A \\vec{d}_k}{\\vec{d}^T_k A \\vec{d}_k}$$"
   ]
  },
  {
   "cell_type": "markdown",
   "metadata": {},
   "source": [
    "Write a A-orthogonalization algorithm"
   ]
  },
  {
   "cell_type": "code",
   "execution_count": 8,
   "metadata": {},
   "outputs": [
    {
     "name": "stdout",
     "output_type": "stream",
     "text": [
      "[1. 1.] [ 0.5 -0.5]\n",
      "0.0 2.0\n"
     ]
    }
   ],
   "source": [
    "A = np.array([[3,2],[2,6]])\n",
    "b = np.array([[2,-8]]).T\n",
    "\n",
    "def GS_A(x,A):\n",
    "    ds = []\n",
    "    Ads = []\n",
    "    dAds = []\n",
    "    for u in x.T:\n",
    "        d = u.copy()\n",
    "        for d_old, Ad, dTAd in zip(ds,Ads,dAds):\n",
    "            d -= (u @ Ad / dTAd) * d_old\n",
    "        ds.append(d)\n",
    "        Ad = A @ d\n",
    "        Ads.append(Ad)\n",
    "        dAds.append(u @ Ad)\n",
    "\n",
    "    return ds\n",
    "\n",
    "A = np.eye(2)\n",
    "u = np.array([[1,1],[1,0]], dtype = float).T\n",
    "v1,v2 = GS_A(u,A)\n",
    "print(v1,v2)\n",
    "print(v1 @ A @ v2, v1 @ A @ v1)"
   ]
  },
  {
   "cell_type": "markdown",
   "metadata": {},
   "source": [
    "Explore steps in all individual dimensions.  GS is integrated inside each step"
   ]
  },
  {
   "cell_type": "code",
   "execution_count": 61,
   "metadata": {},
   "outputs": [
    {
     "name": "stdout",
     "output_type": "stream",
     "text": [
      "[16.492422502470642, 9.333333333333332, 2.220446049250313e-15]\n",
      "[array([-2,  2]), array([-2.        , -0.66666667]), array([ 2., -2.])]\n"
     ]
    }
   ],
   "source": [
    "A = np.array([[3,2],[2,6]])\n",
    "b = np.array([2,-8])\n",
    "\n",
    "us = np.array([[0,1],[1,1]], dtype = float)\n",
    "\n",
    "xi = np.array([-2,2])\n",
    "\n",
    "xs = [xi]\n",
    "res = [np.linalg.norm(b - A @ xi)]\n",
    "ds = []\n",
    "Ads = []\n",
    "dAds = []\n",
    "for i,u in enumerate(us):\n",
    "    # gram schmidt part\n",
    "    d = u.copy()\n",
    "    for d_old, Ad, dTAd in zip(ds,Ads,dAds):\n",
    "        d -= (u @ Ad / dTAd) * d_old\n",
    "    ds.append(d)\n",
    "    Ad = A @ d\n",
    "    Ads.append(Ad)\n",
    "    dAds.append(u @ Ad)\n",
    "    # stepping part\n",
    "    r = b - A @ xi\n",
    "    alpha = np.dot(d,r)/(d @ A @ d)\n",
    "    xi = xi + alpha*d\n",
    "    xs.append(xi.copy())\n",
    "    res.append(np.linalg.norm(b - A @ xi))\n",
    "\n",
    "print(res)\n",
    "print(xs)\n"
   ]
  },
  {
   "cell_type": "markdown",
   "metadata": {},
   "source": [
    "Plot results"
   ]
  },
  {
   "cell_type": "code",
   "execution_count": 66,
   "metadata": {},
   "outputs": [
    {
     "data": {
      "image/png": "[encoded data removed]",
      "text/plain": [
       "<Figure size 800x400 with 3 Axes>"
      ]
     },
     "metadata": {},
     "output_type": "display_data"
    }
   ],
   "source": [
    "T = lambda x: np.moveaxis(x, -1, -2) \n",
    "b2 = b.reshape(-1,1)\n",
    "\n",
    "def f(x):\n",
    "    return (0.5*T(x) @ A @ x - T(b2) @ x)\n",
    "\n",
    "N_samples = 200\n",
    "dom = (-4,6)\n",
    "dom1 = np.linspace(*dom, N_samples)\n",
    "X,Y = XY = np.meshgrid(dom1,dom1)\n",
    "domain_xy = np.stack(XY, axis = -1)[...,None]\n",
    "obj_fn = f(domain_xy).reshape(N_samples,N_samples)\n",
    "fig, axs = plt.subplots(1,2, figsize = (2*4, 4), layout='constrained')\n",
    "\n",
    "c = axs[0].contourf(X,Y, obj_fn, extent = [*dom*2],levels = 10)\n",
    "plt.gca().set_aspect(1)\n",
    "plt.colorbar(c)\n",
    "\n",
    "axs[0].plot(*np.array(xs).T.reshape(2,-1), color = 'k', lw = 2, label = 'trajectory')\n",
    "axs[0].scatter(*xs[0], c = 'r', s = 20, zorder = 2, label = 'start pos')\n",
    "axs[0].quiver(-3,4.5,*ds[0],scale_units='xy', units='xy', scale = 1, color = 'r', label = r'$\\vec{d}_1$')\n",
    "axs[0].quiver(-3,4.5,*ds[1],scale_units='xy', units='xy', scale = 1, color = 'b', label = r'$\\vec{d}_2$')\n",
    "axs[0].quiver(-3,4.5,*us.T[1],scale_units='xy', units='xy', scale = 1, color = 'k', label = r'$\\vec{u}_2$')\n",
    "axs[0].set_xlabel(r'$x_0$')\n",
    "axs[0].set_ylabel(r'$x_1$')\n",
    "axs[0].set_title(r'$f(\\vec{x}) = \\frac{1}{2} \\vec{x}^T A \\vec{x} - \\vec{b}^T\\vec{x}$')\n",
    "axs[0].legend();\n",
    "\n",
    "axs[1].plot(res)\n",
    "axs[1].scatter(range(len(res)),res)\n",
    "axs[1].set_xlabel('iteration')\n",
    "axs[1].set_ylabel('residual')\n",
    "axs[1].set_aspect(2/max(res))"
   ]
  }
 ],
 "metadata": {
  "kernelspec": {
   "display_name": ".venv",
   "language": "python",
   "name": "python3"
  },
  "language_info": {
   "codemirror_mode": {
    "name": "ipython",
    "version": 3
   },
   "file_extension": ".py",
   "mimetype": "text/x-python",
   "name": "python",
   "nbconvert_exporter": "python",
   "pygments_lexer": "ipython3",
   "version": "3.9.13"
  }
 },
 "nbformat": 4,
 "nbformat_minor": 2
}
