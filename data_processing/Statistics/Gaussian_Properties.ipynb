{
 "cells": [
  {
   "cell_type": "markdown",
   "metadata": {},
   "source": [
    "# Gaussian log likelihood\n",
    "\n",
    "Probability Density Function (PDF):\n",
    "\n",
    "$$f(x, \\sigma^2; \\mu) = \\frac{1}{\\sigma\\sqrt{2\\pi}} \n",
    "  \\exp\\left( -\\frac{1}{2}\\left(\\frac{x-\\mu}{\\sigma}\\right)^{\\!2}\\,\\right)$$"
   ]
  },
  {
   "cell_type": "markdown",
   "metadata": {},
   "source": [
    "## The likelihood function\n",
    "How likely are random variables belong to particular distribution.\n",
    "\n",
    "Given samples $\\vec{x} = \\{x_1,\\dots, x_n\\}$ are IID\n",
    "$$L(\\theta^2;\\mu, \\vec{x}) = \\prod_{i=1}^N f(x_i, \\sigma^2; \\mu)=  \\left(\\frac{1}{\\sigma\\sqrt{2\\pi}}\\right)^N  \\prod_{i=1}^N \n",
    "  e ^{-\\frac{1}{2}\\left(\\frac{x_i-\\mu}{\\sigma}\\right)^2}$$\n",
    "$$\\boxed{L(\\theta^2;\\mu, \\vec{x}) =\\left(\\frac{1}{\\sqrt{2\\sigma^2\\pi}}\\right)^N \\exp \\left(-\\frac{1}{2\\sigma^2}\\sum_{i = 1}^N (x_i-\\mu)^2\\right)}$$\n"
   ]
  },
  {
   "cell_type": "markdown",
   "metadata": {},
   "source": [
    "## Log-likelihood function\n",
    "\n",
    "$$l(\\sigma^2;\\mu, \\vec{x}) = \\log \\left(L(\\theta^2;\\mu, \\vec{x})\\right)=\\log \\left(2\\sigma^2\\pi)\\right)^{-N/2} + \\log \\exp \\left(-\\frac{1}{2\\sigma^2}\\sum_{i = 1}^N (x_i-\\mu)^2\\right)$$\n",
    "$$ = -\\frac{N}{2} \\log 2\\sigma^2\\pi - -\\frac{1}{2\\sigma^2}\\sum_{i = 1}^N (x_i-\\mu)^2 = -\\frac{1}{2}\\left( N\\log 2\\sigma^2\\pi + \\frac{\\sum_{i = 1}^N \\left(x_i-\\mu\\right)^2}{\\sigma^2}\\right)$$\n",
    "\n",
    "$$\\boxed{l(\\sigma^2;\\mu, \\vec{x}) = -\\frac{1}{2}\\left( N\\log 2\\pi + 2 N \\log \\sigma + \\frac{\\sum_{i = 1}^N \\left(x_i-\\mu\\right)^2}{\\sigma^2}\\right) }$$"
   ]
  },
  {
   "cell_type": "markdown",
   "metadata": {},
   "source": [
    "## KL Diveregence\n",
    "of two univariate normal distributions $p(x,\\mu_1;\\sigma_1^2)$ and $p(x,\\mu_2;\\sigma_2^2)$ \n",
    "\n",
    "$$D_{KL}(p||q) = \\int p(x) \\log \\frac{p(x)}{q(x)} dx$$\n",
    "\n",
    "$$\\frac{p(x)}{q(x)} = \\frac{\\sqrt{2\\pi}\\sigma_2}{\\sqrt{2\\pi}\\sigma_1}\\frac{e ^{-\\left(\\frac{x-\\mu_1}{\\sqrt{2}\\sigma_1}\\right)^2}}{e ^{-\\left(\\frac{x-\\mu_2}{\\sqrt{2}\\sigma_2}\\right)^2}} =  \\frac{\\sqrt{2\\pi}\\sigma_2}{\\sqrt{2\\pi}\\sigma_1}e ^{-\\left(\\frac{x-\\mu_1}{\\sqrt{2}\\sigma_1}\\right)^2+ \\left(\\frac{x-\\mu_2}{\\sqrt{2}\\sigma_2}\\right)^2}$$\n",
    "$$ = \\int \\frac{1}{\\sqrt{2\\pi}\\sigma_1} e ^{-\\left(\\frac{x-\\mu_1}{\\sqrt{2}\\sigma_1}\\right)^2}\n",
    "\\left(\n",
    "\\log \\frac{\\sigma_2}{\\sigma_1} -\\left(\\frac{x-\\mu_1}{\\sqrt{2}\\sigma_1}\\right)^2+ \\left(\\frac{x-\\mu_2}{\\sqrt{2}\\sigma_2}\\right)^2\n",
    "\\right)dx$$\n",
    "\n",
    "$$ = \\mathbb{E}_p \\left[\n",
    "\\log \\sqrt{\\left(\\frac{\\sigma_2}{\\sigma_1}\\right)^2}\n",
    "-\\left(\\frac{x-\\mu_1}{\\sqrt{2}\\sigma_1}\\right)^2\n",
    "+\\left(\\frac{x-\\mu_2}{\\sqrt{2}\\sigma_2}\\right)^2\n",
    "\\right] $$\n",
    "$$ = \\mathbb{E}_p \\left[\n",
    "-\\frac{1}{2} \\log \\underbrace{\\left(\\frac{\\sigma_1}{\\sigma_2}\\right)^2}_{\\text{flipped by pow(-1)}}\n",
    "-\\frac{1}{2}\\left(\\frac{x-\\mu_1}{\\sigma_1}\\right)^2\n",
    "+\\frac{1}{2}\\left(\\frac{x-\\mu_2}{\\sigma_2}\\right)^2\n",
    "\\right] $$\n",
    "$$ = \\frac{1}{2}\\mathbb{E}_p \\left[\n",
    "-\\log \\left(\\frac{\\sigma_1}{\\sigma_2}\\right)^2\n",
    "-\\left(\\frac{x-\\mu_1}{\\sigma_1}\\right)^2\n",
    "+\\left(\\frac{x-\\mu_2}{\\sigma_2}\\right)^2\n",
    "\\right] $$"
   ]
  },
  {
   "cell_type": "markdown",
   "metadata": {},
   "source": [
    "Due to linearity of expectation:\n",
    "$$\\mathbb{E}_p\\left[ (x-\\mu_1)^2\\right] = \\sigma_1^2$$\n",
    "because $\\mu_1$ is parameter of distribution $p$. For $\\mu_2$ cannot compute expectation of $p$, but can replace some parts:\n",
    "$$\\mathbb{E}_p\\left[ (x-\\mu_2)^2\\right] = \\mathbb{E}_p\\left[ x^2 - 2 x \\mu_2 + \\mu_2^2\\right] = \\mathbb{E}_p x^2 - 2 \\mu_2 \\mathbb{E}_p x  + \\mu_2^2\\mathbb{E}_p 1$$\n",
    "via raw moments $\\mathbb{E}_p x^2 = \\mu_1^2 + \\sigma_1^2$\n",
    "$$ = \\mu_1^2 + \\sigma_1^2 -  2 \\mu_2 \\mu_1 + \\mu_2^2$$\n",
    "\n",
    "$$D_{KL}(p||q) = \\frac{1}{2} \\left[\n",
    "-\\log \\left(\\frac{\\sigma_1}{\\sigma_2}\\right)^2\n",
    "-\\left(\\frac{\\sigma_1}{\\sigma_1}\\right)^2\n",
    "+\\frac{\\mu_1^2 + \\sigma_1^2 -  2 \\mu_2 \\mu_1 + \\mu_2^2}{\\sigma_2^2}\n",
    "\\right] $$\n",
    "$$ = \\frac{1}{2} \\left[\n",
    "-\\log \\left(\\frac{\\sigma_1}{\\sigma_2}\\right)^2\n",
    "-1\n",
    "+\\frac{\\mu_1^2 + 2 \\mu_2 \\mu_1 + \\mu_2^2}{\\sigma_2^2} \n",
    "+\\frac{\\sigma_1^2}{\\sigma_2^2}\n",
    "\\right]$$\n",
    "$$ = \\frac{1}{2} \\left[\n",
    "\\frac{(\\mu_1 -\\mu_2)^2}{\\sigma_2^2} \n",
    "+\\frac{\\sigma_1^2}{\\sigma_2^2}\n",
    "-2\\log \\frac{\\sigma_1}{\\sigma_2}\n",
    "-1\n",
    "\\right]$$\n",
    "\n",
    "$$\\boxed{D_{KL}(p||q) = \\frac{1}{2}\\left(\\frac{(\\mu_1 -\\mu_2)^2 +\\sigma_1^2}{\\sigma_2^2} - 1\\right) + \\log \\sigma_2 - \\log \\sigma_1}$$\n",
    "__Remember that its taken under expectation, else have to estimate__\n"
   ]
  }
 ],
 "metadata": {
  "language_info": {
   "name": "python"
  }
 },
 "nbformat": 4,
 "nbformat_minor": 2
}
