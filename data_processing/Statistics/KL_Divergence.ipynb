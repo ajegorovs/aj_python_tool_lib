{
 "cells": [
  {
   "cell_type": "markdown",
   "metadata": {},
   "source": [
    "https://kvfrans.com/what-is-the-natural-gradient-and-where-does-it-appear-in-trust-region-policy-optimization/"
   ]
  },
  {
   "cell_type": "markdown",
   "metadata": {},
   "source": [
    "#KL divergence\n",
    "Kullback-Leibler (KL) divergence is a measure of differences between two probability distributions $p(x)$ and $q(x)$. It is powerful in that distributions of different classes (parameterized differently) can be compared. \n",
    "$$D_{KL}(p||q) = \\int p(x) \\log \\frac{p(x)}{q(x)} dx$$\n",
    "Unlike some more conventional measurements of differences, like euclidean distance, this measurement is not symmetric\n",
    "$$D_{KL}(p||q) \\neq D_{KL}(q||p)$$ \n"
   ]
  },
  {
   "cell_type": "markdown",
   "metadata": {},
   "source": [
    "examples in the future..."
   ]
  },
  {
   "cell_type": "markdown",
   "metadata": {},
   "source": []
  }
 ],
 "metadata": {
  "kernelspec": {
   "display_name": ".venv",
   "language": "python",
   "name": "python3"
  },
  "language_info": {
   "codemirror_mode": {
    "name": "ipython",
    "version": 3
   },
   "file_extension": ".py",
   "mimetype": "text/x-python",
   "name": "python",
   "nbconvert_exporter": "python",
   "pygments_lexer": "ipython3",
   "version": "3.9.13"
  }
 },
 "nbformat": 4,
 "nbformat_minor": 2
}
