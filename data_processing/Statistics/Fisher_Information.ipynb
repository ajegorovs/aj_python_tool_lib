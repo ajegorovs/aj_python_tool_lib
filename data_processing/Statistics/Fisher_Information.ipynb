{
 "cells": [
  {
   "cell_type": "markdown",
   "metadata": {},
   "source": [
    "https://www.youtube.com/watch?v=m62I5_ow3O8\n",
    "\n",
    "https://youtu.be/pneluWj-U-o"
   ]
  },
  {
   "cell_type": "markdown",
   "metadata": {},
   "source": [
    "# Fisher information $I(\\theta)$: 1D Case\n",
    "*   Random variable $X$ is outcome of some stochastic process\n",
    "*   Likelihood function $L(X;\\theta)$ shows 'how likely' random variables $x \\in X$ may have come from a model with parameter $\\theta$. \n",
    "    _It has a different logic that a probability function $P(X;\\theta)$._\n",
    "*   _Score_ is a derivative (gradient) of a log-likelihood function with respect to model's parameters: \n",
    "    $$s(X;\\theta) = \\frac{\\partial}{\\partial \\theta} \\log L(X;\\theta)$$\n",
    "\n",
    "    It shows the 'sensitivity' of likelihood function to change of parameter $\\theta$. Taking a log may be viewed as a way to boost (exaggerate) small values.\n",
    "    \n",
    "*   Fisher information is an expectation of score-squared. \n",
    "    $$ I(\\theta) = \\mathbb{E}\\bigg[ s(X;\\theta)^2 \\bigg| \\theta \\bigg] = \\mathbb{E}\\bigg[ \\bigg(\\frac{\\partial}{\\partial \\theta} \\log L(X;\\theta)\\bigg)^2 \\bigg| \\theta\\bigg] $$\n",
    "\n",
    "_NOTE: i yet dont know how to explain this intuitively. Lets look at examples._"
   ]
  },
  {
   "cell_type": "markdown",
   "metadata": {},
   "source": [
    "***\n",
    "## Example 1D\n",
    "Example from https://youtu.be/82molmnRCg0\n",
    "\n",
    "Suppose that we are measuring a signal $Y$ and assume a _model_ in with gaussian noise $W \\sim \\N (0, \\sigma^2)$ is present.\n",
    "$$Y = \\theta + W$$\n",
    "Although true value $\\theta$ is constant, due to randomness of noise our signal is also random variable.\n",
    "\n",
    "We want to know, based on our assumptions on how we model our noise $(\\sigma)$, how 'confident' can we be about measuring true signal $\\theta$. And we can do it using Fisher Information.\n",
    "\n",
    "$$ I(\\theta) = \\mathbb{E}\\bigg[ s(X;\\theta)^2 \\bigg| \\theta \\bigg] = \\int_{-\\infty}^\\infty s(x;\\theta)^2 L(x;\\theta) dx$$"
   ]
  },
  {
   "cell_type": "code",
   "execution_count": 71,
   "metadata": {},
   "outputs": [
    {
     "name": "stdout",
     "output_type": "stream",
     "text": [
      "density function:\n"
     ]
    },
    {
     "data": {
      "text/latex": [
       "$\\displaystyle \\frac{\\sqrt{2} e^{- \\frac{\\left(- \\theta + x\\right)^{2}}{2 \\sigma^{2}}}}{2 \\sqrt{\\pi} \\sigma}$"
      ],
      "text/plain": [
       "sqrt(2)*exp(-(-theta + x)**2/(2*sigma**2))/(2*sqrt(pi)*sigma)"
      ]
     },
     "metadata": {},
     "output_type": "display_data"
    },
    {
     "name": "stdout",
     "output_type": "stream",
     "text": [
      "log density function:\n"
     ]
    },
    {
     "data": {
      "text/latex": [
       "$\\displaystyle \\log{\\left(\\frac{e^{- \\frac{\\left(\\theta - x\\right)^{2}}{2 \\sigma^{2}}}}{\\sigma} \\right)} - \\frac{\\log{\\left(\\pi \\right)}}{2} - \\frac{\\log{\\left(2 \\right)}}{2}$"
      ],
      "text/plain": [
       "log(exp(-(theta - x)**2/(2*sigma**2))/sigma) - log(pi)/2 - log(2)/2"
      ]
     },
     "metadata": {},
     "output_type": "display_data"
    },
    {
     "name": "stdout",
     "output_type": "stream",
     "text": [
      "log density function (expanded):\n"
     ]
    },
    {
     "data": {
      "text/latex": [
       "$\\displaystyle - \\log{\\left(\\sigma \\right)} - \\frac{\\log{\\left(\\pi \\right)}}{2} - \\frac{\\log{\\left(2 \\right)}}{2} - \\frac{\\theta^{2}}{2 \\sigma^{2}} + \\frac{\\theta x}{\\sigma^{2}} - \\frac{x^{2}}{2 \\sigma^{2}}$"
      ],
      "text/plain": [
       "-log(sigma) - log(pi)/2 - log(2)/2 - theta**2/(2*sigma**2) + theta*x/sigma**2 - x**2/(2*sigma**2)"
      ]
     },
     "metadata": {},
     "output_type": "display_data"
    },
    {
     "name": "stdout",
     "output_type": "stream",
     "text": [
      "score function (taking a derivative):\n"
     ]
    },
    {
     "data": {
      "text/latex": [
       "$\\displaystyle \\frac{- \\theta + x}{\\sigma^{2}}$"
      ],
      "text/plain": [
       "(-theta + x)/sigma**2"
      ]
     },
     "metadata": {},
     "output_type": "display_data"
    },
    {
     "name": "stdout",
     "output_type": "stream",
     "text": [
      "Compute expectation (integral)\n"
     ]
    },
    {
     "data": {
      "text/latex": [
       "$\\displaystyle \\begin{cases} \\frac{1}{\\sigma^{2}} & \\text{for}\\: \\left|{\\arg{\\left(\\sigma \\right)}}\\right| < \\frac{\\pi}{4} \\\\\\int\\limits_{-\\infty}^{\\infty} \\frac{\\sqrt{2} \\left(- \\theta + x\\right)^{2} e^{- \\frac{\\left(- \\theta + x\\right)^{2}}{2 \\sigma^{2}}}}{2 \\sqrt{\\pi} \\sigma^{5}}\\, dx & \\text{otherwise} \\end{cases}$"
      ],
      "text/plain": [
       "Piecewise((sigma**(-2), Abs(arg(sigma)) < pi/4), (Integral(sqrt(2)*(-theta + x)**2*exp(-(-theta + x)**2/(2*sigma**2))/(2*sqrt(pi)*sigma**5), (x, -oo, oo)), True))"
      ]
     },
     "metadata": {},
     "output_type": "display_data"
    },
    {
     "name": "stdout",
     "output_type": "stream",
     "text": [
      "Fisher information as a function of model parameter is\n"
     ]
    },
    {
     "data": {
      "text/latex": [
       "$\\displaystyle \\frac{1}{\\sigma^{2}}$"
      ],
      "text/plain": [
       "sigma**(-2)"
      ]
     },
     "execution_count": 71,
     "metadata": {},
     "output_type": "execute_result"
    }
   ],
   "source": [
    "from sympy import log, diff, symbols, integrate, oo\n",
    "from sympy.stats import Normal, density\n",
    "\n",
    "x, theta, sigma, pi = symbols('x, theta, sigma, pi', real=True)\n",
    "distr = Normal(x,theta, sigma)\n",
    "L = density(distr)(x)\n",
    "print('density function:')\n",
    "display(L)\n",
    "\n",
    "logL = log(L).simplify()\n",
    "print('log density function:')\n",
    "display(logL)\n",
    "print('log density function (expanded):')\n",
    "display(logL.expand(force=True))\n",
    "print('score function (taking a derivative):')\n",
    "dldt = logL.diff(theta).simplify()\n",
    "display(dldt)\n",
    "print('Compute expectation (integral)')\n",
    "FI = integrate(dldt**2 * L, (x,-oo, oo))\n",
    "display(FI)\n",
    "print('Fisher information as a function of model parameter is')\n",
    "FI.args[0][0]"
   ]
  },
  {
   "cell_type": "markdown",
   "metadata": {},
   "source": [
    "We see that Fisher information for this example is inversely proportional to variance. \n",
    "*   More noise- $\\sigma$ is big, 1/big = small, the less information about true $\\theta$ we can extract\n",
    "*   Less noise- $\\sigma$ is small, 1/small = big, the more information about true $\\theta$ we can extract\n",
    "***"
   ]
  },
  {
   "cell_type": "code",
   "execution_count": 6,
   "metadata": {},
   "outputs": [
    {
     "data": {
      "text/plain": [
       "<matplotlib.legend.Legend at 0x1ddc05ec0a0>"
      ]
     },
     "execution_count": 6,
     "metadata": {},
     "output_type": "execute_result"
    },
    {
     "data": {
      "image/png": "[encoded data removed]",
      "text/plain": [
       "<Figure size 640x480 with 1 Axes>"
      ]
     },
     "metadata": {},
     "output_type": "display_data"
    }
   ],
   "source": [
    "import numpy as np\n",
    "from scipy.stats import norm\n",
    "import matplotlib.pyplot as plt\n",
    "fig, ax = plt.subplots(1, 1)\n",
    "x = np.linspace(norm.ppf(0.01),\n",
    "                norm.ppf(0.99), 100)\n",
    "ax.plot(x, norm.pdf(x),'r-', lw=5, alpha=0.6, label='norm pdf')\n",
    "ax.plot(x, norm.logpdf(x),'b-', lw=5, alpha=0.6, label='norm log pdf')\n",
    "ax.legend()"
   ]
  },
  {
   "cell_type": "markdown",
   "metadata": {},
   "source": [
    "# Fisher information in terms of expectation over 2nd derivative\n",
    "Goal:\n",
    "$$\\mathbb{E}[ (\\partial_x L(x))^2 ] \\longleftrightarrow \\mathbb{E}[ \\partial_{xx} L(x) ]$$\n",
    "\n",
    "We know that by chain rule\n",
    "$$ s(x) = \\frac{\\partial \\ \\log \\ f(x)}{\\partial x}  \\longleftrightarrow (log \\ f(x))'= \\frac{f(x)'}{f(x)} $$\n",
    "and \n",
    "$$(log \\ f(x))'' = \\bigg(\\frac{f(x)'}{f(x)} \\bigg)' = \\frac{f(x) \\cdot f(x)'' - (f(x)')^2}{f(x)^2} = \\frac{f(x)''}{f(x)} - \\bigg(\\frac{f(x)'}{f(x)}\\bigg)^2$$\n",
    "last term is $s(x)^2$."
   ]
  },
  {
   "cell_type": "code",
   "execution_count": 15,
   "metadata": {},
   "outputs": [
    {
     "data": {
      "text/latex": [
       "$\\displaystyle \\frac{f{\\left(t \\right)} \\frac{d^{2}}{d t^{2}} f{\\left(t \\right)} - \\left(\\frac{d}{d t} f{\\left(t \\right)}\\right)^{2}}{f^{2}{\\left(t \\right)}}$"
      ],
      "text/plain": [
       "(f(t)*Derivative(f(t), (t, 2)) - Derivative(f(t), t)**2)/f(t)**2"
      ]
     },
     "metadata": {},
     "output_type": "display_data"
    },
    {
     "data": {
      "text/latex": [
       "$\\displaystyle \\frac{\\frac{d^{2}}{d t^{2}} f{\\left(t \\right)}}{f{\\left(t \\right)}} - \\frac{\\left(\\frac{d}{d t} f{\\left(t \\right)}\\right)^{2}}{f^{2}{\\left(t \\right)}}$"
      ],
      "text/plain": [
       "Derivative(f(t), (t, 2))/f(t) - Derivative(f(t), t)**2/f(t)**2"
      ]
     },
     "metadata": {},
     "output_type": "display_data"
    }
   ],
   "source": [
    "from sympy import Symbol, Function, diff, log\n",
    "t = Symbol('t');f = Function('f');a1 = diff(log(f(t)),t, 2).simplify()\n",
    "display(a1);display(a1.expand())"
   ]
  },
  {
   "cell_type": "markdown",
   "metadata": {},
   "source": [
    "We have to prove that under expectation \n",
    "$$\\mathbb{E}\\bigg[ (log \\ f(x))'' \\bigg] = \\mathbb{E}\\bigg[ \\frac{f(x)''}{f(x)} \\bigg] - \\mathbb{E}\\bigg[ \\bigg(\\frac{f(x)'}{f(x)}\\bigg)^2 \\bigg] = \\mathbb{E}\\bigg[ \\frac{f(x)''}{f(x)} \\bigg] - I(\\theta)$$\n",
    "$$I(\\theta) = \\mathbb{E}\\bigg[ \\frac{f(x)''}{f(x)} \\bigg] - \\mathbb{E}\\bigg[ (log \\ f(x))'' \\bigg] $$\n",
    "second term vanishes\n",
    "$$\\mathbb{E}\\bigg[ \\frac{f(x)''}{f(x)} \\bigg] = \\int_{-\\infty}^\\infty \\frac{f(x)''}{f(x)} \\cdot f(x) \\ dx = \\frac{\\partial^2}{\\partial x^2}\\int_{-\\infty}^\\infty f(x) \\ dx = \\frac{\\partial^2}{\\partial x^2} \\cdot 1 = 0$$\n",
    "\n",
    "So we see that\n",
    "$$\\boxed{I(\\theta) = - \\mathbb{E}\\bigg[ \\frac{\\partial^2}{\\partial \\theta^2} \\log L(X;\\theta) \\bigg| \\theta\\bigg]}$$"
   ]
  },
  {
   "cell_type": "markdown",
   "metadata": {},
   "source": [
    "# Fisher information relation to KL divergence\n",
    "\n",
    "see [KL_Divergence.ipynb](KL_Divergence.ipynb) for info on KL divergence\n",
    "\n",
    "$$D_{KL}(p||q) = \\int p(x) \\log \\frac{p(x)}{q(x)} dx $$\n",
    "\n",
    "Suppose we want to measure KL divergence between probability distribution $$p(x; \\theta)$$ parametrized by $\\theta$ and same distribution $$p(x; \\theta + \\delta)$$ with parameters perturbed by small $\\delta$\n",
    "\n",
    "Plug our test distribution into definition of KL divergence\n",
    "$$D_{KL}\\bigg(p(x; \\theta) ||p(x; \\theta + \\delta) \\bigg) = \\int p(x; \\theta) \\log \\frac{p(x; \\theta)}{p(x; \\theta + \\delta) } dx = \\mathbb{E}\\bigg[  \\log \\frac{p(x; \\theta)}{p(x; \\theta + \\delta) }\\bigg]$$\n",
    "or\n",
    "$$D_{KL}\\bigg(p(x; \\theta) ||p(x; \\theta + \\delta) \\bigg)  = \\mathbb{E}\\bigg[  \\log p(x; \\theta) - \\log p(x; \\theta + \\delta)\\bigg]$$\n",
    "No we consider second order Taylor's expansion of log-probability\n",
    "$$\\log p(x; \\theta + \\delta) \\approx \\log p(x; \\theta) + \\delta \\frac{\\partial}{\\partial \\theta}\\log p(x; \\theta) + \\frac{\\delta^2}{2}  \\frac{\\partial^2}{\\partial x^2}\\log p(x; \\theta) + \\underbrace{\\dots}_{\\approx 0}$$\n",
    "Plug into KL Divergence\n",
    "$$D_{KL}\\bigg(p(x; \\theta) ||p(x; \\theta + \\delta) \\bigg) = \\mathbb{E}\\bigg[  \\cancel{\\log p(x; \\theta) - \\log p(x; \\theta)} - \\delta \\frac{\\partial}{\\partial \\theta}\\log p(x; \\theta) - \\frac{\\delta^2}{2}  \\frac{\\partial^2}{\\partial x^2}\\log p(x; \\theta)\\bigg]$$\n",
    "We can split expectation by linearity. Second term, similarly to previous section, is zero\n",
    "$$\\mathbb{E}\\bigg[\\frac{\\partial}{\\partial \\theta}\\log p(x; \\theta) \\bigg] = \\mathbb{E}\\bigg[ \\frac{\\frac{\\partial}{\\partial \\theta} p(x; \\theta)}{p(x; \\theta)} \\bigg] = \\int_{-\\infty}^\\infty \\frac{\\frac{\\partial}{\\partial \\theta} p(x; \\theta)}{p(x; \\theta)} \\cdot p(x; \\theta) \\ dx = \\frac{\\partial}{\\partial x}\\int_{-\\infty}^\\infty p(x; \\theta) \\ dx = 0$$\n",
    "So\n",
    "$$D_{KL}\\bigg(p(x; \\theta) ||p(x; \\theta + \\delta) \\bigg) = -\\frac{\\delta^2}{2}\\mathbb{E}\\bigg[\\frac{\\partial^2}{\\partial x^2}\\log p(x; \\theta)\\bigg]$$\n",
    "And expectation, in form of second derivative, is $-I(\\theta)$ minus- Fisher information:\n",
    "$$\\boxed{D_{KL}\\bigg(p(x; \\theta) ||p(x; \\theta + \\delta) \\bigg) = \\frac{\\delta^2}{2} I(\\theta)}$$"
   ]
  },
  {
   "cell_type": "markdown",
   "metadata": {},
   "source": [
    "Conclusion is:\n",
    "\n",
    "_Using Fishier information we can see how 'sensitive' is probability distribution to small perturbation in its parameters_"
   ]
  },
  {
   "cell_type": "markdown",
   "metadata": {},
   "source": [
    "# Multiple variables\n",
    "## Definition (https://en.wikipedia.org/wiki/Fisher_information#Matrix_form)\n",
    "Multi-variable Fisher information is defined as  a matrix with entries $i,j$\n",
    "$$\\boxed{[I(\\theta)]_{i,j} = \\mathbb{E}\\bigg[\\bigg(\\frac{\\partial}{\\partial \\theta_i}\\log p(x; \\theta) \\bigg) \\bigg(\\frac{\\partial}{\\partial \\theta_j}\\log p(x; \\theta)\\bigg)\\bigg| \\theta\\bigg]}$$\n",
    "## Relation to KL divergence\n",
    "We use definition for multi-variable Taylor expansion are replace\n",
    "$$\\log p(x; \\theta + \\delta) \\approx \\log p(x; \\theta) + \\delta \\frac{\\partial}{\\partial \\theta}\\log p(x; \\theta) + \\frac{\\delta^2}{2}  \\frac{\\partial^2}{\\partial x^2}\\log p(x; \\theta) + \\underbrace{\\dots}_{\\approx 0}$$\n",
    "with expression where $\\theta$ an $\\delta$ are vectors\n",
    "$$\\log p(x; \\theta + \\delta) \\approx \\log p(x; \\theta) + \\delta^T \\nabla_\\theta \\log p(x; \\theta) + \\frac{1}{2}\\delta^T H \\log p(x; \\theta) \\delta$$\n",
    "where Hessian is defined as in [gradient_jacobian_hessian.ipynb](../symbolic/gradient_jacobian_hessian.ipynb)\n",
    "as Jacobian of a gradient \n",
    "$$\\vec{J}(\\nabla \\cdot) = H (\\cdot)$$\n",
    "And we want to find\n",
    "$$D_{KL}\\bigg(p(x; \\theta) ||p(x; \\theta + \\delta) \\bigg)  = \\mathbb{E}\\bigg[  \\log p(x; \\theta) - \\log p(x; \\theta + \\delta)\\bigg]$$\n",
    "By same reasoning as previously we should be left with\n",
    "$$D_{KL}\\bigg(p(x; \\theta) ||p(x; \\theta + \\delta) \\bigg) = -\\frac{1}{2}\\delta^T \\mathbb{E}\\bigg[J(\\nabla_\\theta \\log p(x; \\theta))\\bigg] \\delta$$\n",
    "***\n",
    "Lets examine term in the expectation\n",
    "$$ J(\\nabla_\\theta \\log p(x; \\theta))= J\\bigg(\\frac{\\nabla_\\theta p(x; \\theta)}{p(x; \\theta)}\\bigg)$$\n",
    "Entries of a gradient (column vector) are\n",
    "$$\\vec{g}_i = \\bigg[\\frac{\\nabla_\\theta p(x; \\theta)}{p(x; \\theta)}\\bigg]_i = \\frac{\\partial_i p(x; \\theta)}{p(x; \\theta)} $$\n",
    "and Jacobian takes different derivatives for columns $\\partial_{\\cdot j} = \\partial_j$\n"
   ]
  },
  {
   "cell_type": "markdown",
   "metadata": {},
   "source": [
    "Thus by taking j-th derivative for i-th column entry we get, via chain rule:\n",
    "\n",
    "$$\\partial_j \\bigg(\\frac{\\partial_i p(x; \\theta)}{p(x; \\theta)}\\bigg) = \\frac{\\partial_{ij}p(x; \\theta)}{p(x; \\theta)}- \\frac{(\\partial_i p(x; \\theta))(\\partial_j p(x; \\theta))}{p(x; \\theta)^2}$$\n",
    "$$ = \\frac{\\partial_{ij}p(x; \\theta)}{p(x; \\theta)}- \\frac{\\partial_i p(x; \\theta)}{p(x; \\theta)}\\frac{\\partial_j p(x; \\theta)}{p(x; \\theta)}$$\n",
    "$$ = \\frac{\\partial_{ij}p(x; \\theta)}{p(x; \\theta)}- \\partial_i \\log p(x; \\theta) \\cdot \\partial_j \\log p(x; \\theta) $$\n",
    "Or expressed as a matrix\n",
    "$$H \\log p(x; \\theta) = \\frac{ H p(x; \\theta)}{p(x; \\theta)} - \\nabla_\\theta \\log p(x; \\theta)^T \\ \\nabla_\\theta \\log p(x; \\theta)$$\n",
    "***\n",
    "So\n",
    "$$D_{KL}\\bigg(p(x; \\theta) ||p(x; \\theta + \\delta) \\bigg) = -\\frac{1}{2}\\delta^T \\mathbb{E}\\bigg[\\frac{ H p(x; \\theta)}{p(x; \\theta)} \\bigg] \\delta\n",
    "+\\frac{1}{2}\\delta^T \\mathbb{E}\\bigg[\\nabla_\\theta \\log p(x; \\theta)^T \\ \\nabla_\\theta \\log p(x; \\theta)\\bigg] \\delta$$\n",
    "First term on the right is zero since by writing an integral and bringing out derivative operator\n",
    "$$ \\mathbb{E}\\bigg[\\frac{ H p(x; \\theta)}{p(x; \\theta)} \\bigg] = H\\cdot 1 = 0 \\text{ (zero matrix)}$$\n",
    "\n",
    "$$\\boxed{D_{KL}\\bigg(p(x; \\theta) ||p(x; \\theta + \\delta) \\bigg) = \\frac{1}{2}\\delta^T \\mathbb{E}\\bigg[\\nabla_\\theta \\log p(x; \\theta)^T \\ \\nabla_\\theta \\log p(x; \\theta)\\bigg] \\delta}$$"
   ]
  },
  {
   "cell_type": "markdown",
   "metadata": {},
   "source": []
  },
  {
   "cell_type": "markdown",
   "metadata": {},
   "source": []
  }
 ],
 "metadata": {
  "kernelspec": {
   "display_name": ".venv",
   "language": "python",
   "name": "python3"
  },
  "language_info": {
   "codemirror_mode": {
    "name": "ipython",
    "version": 3
   },
   "file_extension": ".py",
   "mimetype": "text/x-python",
   "name": "python",
   "nbconvert_exporter": "python",
   "pygments_lexer": "ipython3",
   "version": "3.9.13"
  }
 },
 "nbformat": 4,
 "nbformat_minor": 2
}
