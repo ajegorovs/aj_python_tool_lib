{
 "cells": [
  {
   "cell_type": "markdown",
   "metadata": {},
   "source": [
    "Source:\n",
    "https://www.youtube.com/watch?v=VDzrvhgyxsU"
   ]
  },
  {
   "cell_type": "code",
   "execution_count": 1,
   "metadata": {},
   "outputs": [
    {
     "name": "stdout",
     "output_type": "stream",
     "text": [
      "input example : \n",
      ">>> arr_T = np.array([[r'\\vec{v}_1', r'\\vec{v}_2']]).T\n",
      ">>> print_tex(arr_T,'=', np.arange(1,5).reshape(2,-1)/4, r'; symbols: \\otimes, \\cdot,\\times')\n",
      "output: \n"
     ]
    },
    {
     "data": {
      "text/latex": [
       "$\\displaystyle \\begin{bmatrix}\\vec{v}_1 \\\\ \\vec{v}_2\\end{bmatrix}=\\begin{bmatrix} 1/4 & 1/2 \\\\ 3/4 & 1 \\end{bmatrix}; symbols: \\otimes, \\cdot,\\times$"
      ],
      "text/plain": [
       "<IPython.core.display.Math object>"
      ]
     },
     "metadata": {},
     "output_type": "display_data"
    }
   ],
   "source": [
    "import numpy as np\n",
    "import sympy\n",
    "import networkx as nx\n",
    "import matplotlib.pyplot as plt\n",
    "from misc_tools.print_latex import print_tex\n",
    "from IPython.display import Latex"
   ]
  },
  {
   "cell_type": "code",
   "execution_count": 2,
   "metadata": {},
   "outputs": [],
   "source": [
    "def pad_matrix(input, top, side):\n",
    "    sol = np.hstack((np.array([side]).T, input))\n",
    "    sol = np.vstack((['X'] + top, sol))\n",
    "    return sympy.Matrix(sol)"
   ]
  },
  {
   "cell_type": "markdown",
   "metadata": {},
   "source": [
    "## Generate graph from edges and nodes\n",
    "* create list of nodes `nodes`\n",
    "* create edges, where node $n_i$ connects with N random nodes from `nodes` and has random weight"
   ]
  },
  {
   "cell_type": "code",
   "execution_count": 3,
   "metadata": {},
   "outputs": [],
   "source": [
    "np.random.seed(1)\n",
    "NUM_NODES = 4\n",
    "\n",
    "G = nx.Graph()\n",
    "nodes = [f'$n_{i}$' for i in range(1, NUM_NODES + 1)]\n",
    "nodes_trim = [n[1:-1] for n in nodes] \n",
    "edges = [(n1, n2, np.random.randint(1,11)) \n",
    "         for n1 in nodes \n",
    "         for n2 in np.random.choice(nodes, np.random.randint(1, NUM_NODES))]\n",
    "\n",
    "G.add_nodes_from(nodes)\n",
    "G.add_weighted_edges_from(edges)\n",
    "\n",
    "G2 = nx.DiGraph()\n",
    "G2.add_nodes_from(nodes)\n",
    "G2.add_weighted_edges_from(edges)"
   ]
  },
  {
   "cell_type": "code",
   "execution_count": 4,
   "metadata": {},
   "outputs": [
    {
     "data": {
      "image/png": "[encoded data removed]",
      "text/plain": [
       "<Figure size 800x300 with 2 Axes>"
      ]
     },
     "metadata": {},
     "output_type": "display_data"
    }
   ],
   "source": [
    "fig, axs = plt.subplots(1,2, figsize = (8,3))\n",
    "pos = nx.spring_layout(G, seed=1)\n",
    "\n",
    "edge_labels = nx.get_edge_attributes(G, \"weight\")\n",
    "for graph, ax, title in zip([G,G2], axs, ['Undirected', 'Directed']):\n",
    "    nx.draw_networkx(graph, pos, ax = ax)\n",
    "    nx.draw_networkx_edge_labels(graph, pos, edge_labels=edge_labels, ax = ax);\n",
    "    ax.set_title(title)"
   ]
  },
  {
   "cell_type": "markdown",
   "metadata": {},
   "source": [
    "## Adjacency matrix (A)\n",
    "Unweighted matrix shows which nodes are connected via entry at index `i,j` from  `(nodes[i], nodes[j])`.\n",
    "* 1 - connected\n",
    "* 0 - no edge\n",
    "\n",
    "Weighted matrix shows weights instead of mask.<br>\n",
    "_0 weight $\\leftrightarrow$ no edge_\n",
    "\n",
    "For **undirected** graph, matrices will be **symmetric**. \n",
    "\n",
    "In fact, on simple undirected graph, since there is no forward and reverse edge, you overwrite weights on shared edge."
   ]
  },
  {
   "cell_type": "code",
   "execution_count": 5,
   "metadata": {},
   "outputs": [
    {
     "data": {
      "text/latex": [
       "$(n_1,n_4)$: 9; $(n_1,n_1)$: 10; $(n_2,n_4)$: 1; $(n_2,n_1)$: 2; $(n_3,n_4)$: 7; $(n_4,n_3)$: 6; $(n_4,n_1)$: 3"
      ],
      "text/plain": [
       "<IPython.core.display.Latex object>"
      ]
     },
     "metadata": {},
     "output_type": "display_data"
    },
    {
     "data": {
      "text/latex": [
       "$\\displaystyle \\left[\\begin{matrix}X & n_{1} & n_{2} & n_{3} & n_{4}\\\\n_{1} & 1 & 1 & 0 & 1\\\\n_{2} & 1 & 0 & 0 & 1\\\\n_{3} & 0 & 0 & 0 & 1\\\\n_{4} & 1 & 1 & 1 & 0\\end{matrix}\\right]$"
      ],
      "text/plain": [
       "Matrix([\n",
       "[  X, n_1, n_2, n_3, n_4],\n",
       "[n_1,   1,   1,   0,   1],\n",
       "[n_2,   1,   0,   0,   1],\n",
       "[n_3,   0,   0,   0,   1],\n",
       "[n_4,   1,   1,   1,   0]])"
      ]
     },
     "metadata": {},
     "output_type": "display_data"
    },
    {
     "data": {
      "text/latex": [
       "$\\displaystyle \\left[\\begin{matrix}X & n_{1} & n_{2} & n_{3} & n_{4}\\\\n_{1} & 10 & 2 & 0 & 3\\\\n_{2} & 2 & 0 & 0 & 1\\\\n_{3} & 0 & 0 & 0 & 6\\\\n_{4} & 3 & 1 & 6 & 0\\end{matrix}\\right]$"
      ],
      "text/plain": [
       "Matrix([\n",
       "[  X, n_1, n_2, n_3, n_4],\n",
       "[n_1,  10,   2,   0,   3],\n",
       "[n_2,   2,   0,   0,   1],\n",
       "[n_3,   0,   0,   0,   6],\n",
       "[n_4,   3,   1,   6,   0]])"
      ]
     },
     "execution_count": 5,
     "metadata": {},
     "output_type": "execute_result"
    }
   ],
   "source": [
    "# notice edge weights between nodes 1 and 4 have different values. Only last is applied.\n",
    "edges_trim = [f'$('+','.join(e[:2]).replace('$', '') + ')$: '+ str(e[-1]) for i,e in enumerate(edges)]\n",
    "display(Latex('; '.join(edges_trim)))\n",
    "A = nx.adjacency_matrix(G, weight=None)\n",
    "display(pad_matrix(A.todense(), nodes_trim, nodes_trim))\n",
    "\n",
    "A2 = nx.adjacency_matrix(G, weight='weight')\n",
    "pad_matrix(A2.todense(), nodes_trim, nodes_trim)"
   ]
  },
  {
   "cell_type": "markdown",
   "metadata": {},
   "source": [
    "For **directed** graph, matrices will be **non-symmetric**"
   ]
  },
  {
   "cell_type": "code",
   "execution_count": 6,
   "metadata": {},
   "outputs": [
    {
     "data": {
      "text/latex": [
       "$\\displaystyle \\left[\\begin{matrix}X & n_{1} & n_{2} & n_{3} & n_{4}\\\\n_{1} & 10 & 0 & 0 & 9\\\\n_{2} & 2 & 0 & 0 & 1\\\\n_{3} & 0 & 0 & 0 & 7\\\\n_{4} & 3 & 0 & 6 & 0\\end{matrix}\\right]$"
      ],
      "text/plain": [
       "Matrix([\n",
       "[  X, n_1, n_2, n_3, n_4],\n",
       "[n_1,  10,   0,   0,   9],\n",
       "[n_2,   2,   0,   0,   1],\n",
       "[n_3,   0,   0,   0,   7],\n",
       "[n_4,   3,   0,   6,   0]])"
      ]
     },
     "execution_count": 6,
     "metadata": {},
     "output_type": "execute_result"
    }
   ],
   "source": [
    "A3 = nx.adjacency_matrix(G2, weight='weight')\n",
    "pad_matrix(A3.todense(), nodes_trim, nodes_trim)"
   ]
  },
  {
   "cell_type": "markdown",
   "metadata": {},
   "source": [
    "## Incidence matrix\n",
    "In oriented and weighted mode shows connectivity via  indices `i,j` from  `(nodes[i], edges[j])`.\n",
    "\n",
    "Sign indicates direction of an edge. \n",
    "* negative -  edge 'left' a node\n",
    "* positive - other node 'received' an edge"
   ]
  },
  {
   "cell_type": "code",
   "execution_count": 7,
   "metadata": {},
   "outputs": [
    {
     "data": {
      "text/latex": [
       "$e_0:(n_1,n_4)$: 9; $e_1:(n_1,n_1)$: 10; $e_2:(n_2,n_4)$: 1; $e_3:(n_2,n_1)$: 2; $e_4:(n_3,n_4)$: 7; $e_5:(n_4,n_3)$: 6; $e_6:(n_4,n_1)$: 3"
      ],
      "text/plain": [
       "<IPython.core.display.Latex object>"
      ]
     },
     "metadata": {},
     "output_type": "display_data"
    },
    {
     "data": {
      "text/latex": [
       "$\\displaystyle \\left[\\begin{matrix}X & e_{0} & e_{1} & e_{2} & e_{3} & e_{4} & e_{5} & e_{6}\\\\n_{1} & -9.0 & 0 & 0 & 2.0 & 0 & 0 & 3.0\\\\n_{2} & 0 & 0 & -1.0 & -2.0 & 0 & 0 & 0\\\\n_{3} & 0 & 0 & 0 & 0 & -7.0 & 6.0 & 0\\\\n_{4} & 9.0 & 0 & 1.0 & 0 & 7.0 & -6.0 & -3.0\\end{matrix}\\right]$"
      ],
      "text/plain": [
       "Matrix([\n",
       "[  X,  e_0, e_1,  e_2,  e_3,  e_4,  e_5,  e_6],\n",
       "[n_1, -9.0,   0,    0,  2.0,    0,    0,  3.0],\n",
       "[n_2,    0,   0, -1.0, -2.0,    0,    0,    0],\n",
       "[n_3,    0,   0,    0,    0, -7.0,  6.0,    0],\n",
       "[n_4,  9.0,   0,  1.0,    0,  7.0, -6.0, -3.0]])"
      ]
     },
     "execution_count": 7,
     "metadata": {},
     "output_type": "execute_result"
    }
   ],
   "source": [
    "IM = nx.incidence_matrix(G2, weight='weight', oriented=True).todense()\n",
    "edges_trim = [f'$e_{i}:('+','.join(e[:2]).replace('$', '') + ')$: '+ str(e[-1]) for i,e in enumerate(edges)]\n",
    "display(Latex('; '.join(edges_trim)))\n",
    "# edges_trim = np.array(edges_trim, dtype=str)\n",
    "edges_trim = [f'e_{i}' for i,_ in enumerate(edges)]\n",
    "pad_matrix(IM, edges_trim, nodes_trim)"
   ]
  },
  {
   "cell_type": "code",
   "execution_count": 8,
   "metadata": {},
   "outputs": [
    {
     "data": {
      "image/png": "[encoded data removed]",
      "text/plain": [
       "<Figure size 800x300 with 2 Axes>"
      ]
     },
     "metadata": {},
     "output_type": "display_data"
    }
   ],
   "source": [
    "fig, axs = plt.subplots(1,2, figsize = (8,3))\n",
    "for graph, ax, title in zip([G,G2], axs, ['Undirected', 'Directed']):\n",
    "    nx.draw_networkx(graph, pos, ax = ax)\n",
    "    nx.draw_networkx_edge_labels(graph, pos, edge_labels=edge_labels, ax = ax);\n",
    "    ax.set_title(title)\n"
   ]
  },
  {
   "cell_type": "markdown",
   "metadata": {},
   "source": [
    "## Degree and degree matrix (D)\n",
    "Node degree shows gives a number connected edges to a node.\n",
    "\n",
    "Few notes:\n",
    "* `undirected` edges connect one neighbor;\n",
    "* `directed` edges connect neighbors independent of edge direction;\n",
    "* `self-edges` are connecting self to self, but add +2 to degree for both undirected and directed edges;\n",
    "* Probably  because it is swap invariant (self, self) = (self, self) in both cases\n",
    "\n",
    "In the example below node $n_3$ has degree of 1 on undirected and 2 on directed graph (count arrows).\n",
    "node $n_1$ has degree of 4 on undirected graph (2 self + 2 undir edges) and 5 on directed graph (2 self + 3 dir edges)\n"
   ]
  },
  {
   "cell_type": "code",
   "execution_count": 9,
   "metadata": {},
   "outputs": [
    {
     "name": "stdout",
     "output_type": "stream",
     "text": [
      "[('$n_1$', 4), ('$n_2$', 2), ('$n_3$', 1), ('$n_4$', 3)]\n",
      "[('$n_1$', 5), ('$n_2$', 2), ('$n_3$', 2), ('$n_4$', 5)]\n"
     ]
    },
    {
     "data": {
      "text/latex": [
       "$\\displaystyle D = \\begin{bmatrix} 4 & 0 & 0 & 0 \\\\ 0 & 2 & 0 & 0 \\\\ 0 & 0 & 1 & 0 \\\\ 0 & 0 & 0 & 3 \\end{bmatrix}$"
      ],
      "text/plain": [
       "<IPython.core.display.Math object>"
      ]
     },
     "metadata": {},
     "output_type": "display_data"
    }
   ],
   "source": [
    "print(nx.degree(G))\n",
    "print(nx.degree(G2))\n",
    "print_tex('D = ', np.diag([a[1] for a in nx.degree(G)]))"
   ]
  },
  {
   "cell_type": "markdown",
   "metadata": {},
   "source": [
    "## Laplatian matrix\n",
    "$$L = \\{D - A\\}$$"
   ]
  },
  {
   "cell_type": "code",
   "execution_count": null,
   "metadata": {},
   "outputs": [],
   "source": []
  },
  {
   "cell_type": "markdown",
   "metadata": {},
   "source": [
    "Degree matrix of a graph (by https://arxiv.org/pdf/1609.02907.pdf)"
   ]
  },
  {
   "cell_type": "code",
   "execution_count": 10,
   "metadata": {},
   "outputs": [
    {
     "ename": "NameError",
     "evalue": "name 'n' is not defined",
     "output_type": "error",
     "traceback": [
      "\u001b[1;31m---------------------------------------------------------------------------\u001b[0m",
      "\u001b[1;31mNameError\u001b[0m                                 Traceback (most recent call last)",
      "Cell \u001b[1;32mIn[10], line 2\u001b[0m\n\u001b[0;32m      1\u001b[0m D \u001b[38;5;241m=\u001b[39m np\u001b[38;5;241m.\u001b[39mzeros_like(A)\n\u001b[1;32m----> 2\u001b[0m \u001b[38;5;28;01mfor\u001b[39;00m i \u001b[38;5;129;01min\u001b[39;00m \u001b[38;5;28mrange\u001b[39m(\u001b[43mn\u001b[49m):\n\u001b[0;32m      3\u001b[0m     \u001b[38;5;28;01mfor\u001b[39;00m j \u001b[38;5;129;01min\u001b[39;00m \u001b[38;5;28mrange\u001b[39m(n):\n\u001b[0;32m      4\u001b[0m         D[i,i] \u001b[38;5;241m+\u001b[39m\u001b[38;5;241m=\u001b[39m A[i,j]\n",
      "\u001b[1;31mNameError\u001b[0m: name 'n' is not defined"
     ]
    }
   ],
   "source": [
    "D = np.zeros_like(A)\n",
    "for i in range(n):\n",
    "    for j in range(n):\n",
    "        D[i,i] += A[i,j]\n",
    "D"
   ]
  },
  {
   "cell_type": "code",
   "execution_count": null,
   "metadata": {},
   "outputs": [
    {
     "data": {
      "text/plain": [
       "array([1, 3])"
      ]
     },
     "execution_count": 5,
     "metadata": {},
     "output_type": "execute_result"
    }
   ],
   "source": [
    "np.random.choice([1,2,3],2)"
   ]
  },
  {
   "cell_type": "code",
   "execution_count": null,
   "metadata": {},
   "outputs": [],
   "source": []
  }
 ],
 "metadata": {
  "kernelspec": {
   "display_name": ".venv",
   "language": "python",
   "name": "python3"
  },
  "language_info": {
   "codemirror_mode": {
    "name": "ipython",
    "version": 3
   },
   "file_extension": ".py",
   "mimetype": "text/x-python",
   "name": "python",
   "nbconvert_exporter": "python",
   "pygments_lexer": "ipython3",
   "version": "3.9.13"
  }
 },
 "nbformat": 4,
 "nbformat_minor": 2
}
