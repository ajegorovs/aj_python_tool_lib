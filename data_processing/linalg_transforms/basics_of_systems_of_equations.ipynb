{
 "cells": [
  {
   "cell_type": "markdown",
   "metadata": {},
   "source": [
    "$\n",
    "\\gdef\\vdddc#1#2#3{\\begin{bmatrix} #1     \\\\  #2  \\\\ #3 \\end{bmatrix}}\n",
    "\\gdef\\vdddr#1#2#3{\\begin{bmatrix} #1     &   #2   & #3 \\end{bmatrix}}\n",
    "\\gdef\\vddc#1#2{\\begin{bmatrix} #1  \\\\  #2\\end{bmatrix}}\n",
    "\\gdef\\vddr#1#2{\\begin{bmatrix} #1  &   #2\\end{bmatrix}}\n",
    "\\gdef\\mx#1{\\begin{bmatrix} #1 \\end{bmatrix}}\n",
    "$\n",
    "<!-- Macros do not work when previewed on github. switching manual bmatrix layout -->"
   ]
  },
  {
   "cell_type": "markdown",
   "metadata": {},
   "source": [
    "# Systems of linear equations"
   ]
  },
  {
   "cell_type": "markdown",
   "metadata": {},
   "source": [
    "Any System of equations:\n",
    "$$\\begin{cases}\n",
    "    a x + b y = c \\\\\n",
    "    d x + e y = f\n",
    "\\end{cases}$$\n",
    "Can be represented in general form of $m$ equations and $n$ unknowns:\n",
    "\n",
    "$$\\begin{cases}\n",
    "    A_{1,1} x_1 + A_{1,2} x_2 + \\dots  + A_{1,n} x_n = b_1 \\\\\n",
    "    A_{2,1} x_1 + A_{2,2} x_2 + \\dots  + A_{2,n} x_n = b_2 \\\\\n",
    "    \\dots \\\\\n",
    "    A_{m,1} x_1 + A_{m,2} x_2 + \\dots  + A_{m,n} x_n = b_m \n",
    "\\end{cases}$$"
   ]
  },
  {
   "cell_type": "markdown",
   "metadata": {},
   "source": [
    "and represeted as a matrix equation\n",
    "$$\n",
    "\\begin{bmatrix}\n",
    "A_{1,1}   &  &A_{1,n} \\\\\n",
    "&  \\ddots    \\\\\n",
    "A_{m,1}   &  &A_{m,n}   \n",
    "\\end{bmatrix}\n",
    "\\begin{bmatrix}\n",
    "x_1 \\\\\n",
    "\\vdots\\\\\n",
    "x_n   \n",
    "\\end{bmatrix}=\n",
    "\\begin{bmatrix}\n",
    "b_1 \\\\\n",
    "\\vdots\\\\\n",
    "b_n   \n",
    "\\end{bmatrix}=\n",
    "\n",
    "$$\n",
    "or in shorthand as\n",
    "$$A\\vec{x}=\\vec{b}$$\n",
    "***"
   ]
  },
  {
   "cell_type": "markdown",
   "metadata": {},
   "source": [
    "It is usful to veiw solving system of linear equations from geometric standpoint:<br>\n",
    "* Matrix $A$ can be viewed as a collection of column vectors\n",
    "$$\\begin{bmatrix} \\vec{a}_1 & \\dots & \\vec{a}_n \\end{bmatrix}\n",
    "\\begin{bmatrix} x_1 \\\\ \\vdots \\\\ x_n \\end{bmatrix}\n",
    "=\\vec{b}$$\n",
    "* where\n",
    "$$\\vec{a}_1 = \\begin{bmatrix} A_{1,1} \\\\ \\vdots \\\\ A_{m,1} \\end{bmatrix},\n",
    "\\dots,\n",
    "\\vec{a}_n = \\begin{bmatrix} A_{1,n} \\\\ \\vdots \\\\ A_{m,n} \\end{bmatrix}$$\n"
   ]
  },
  {
   "cell_type": "markdown",
   "metadata": {},
   "source": [
    "Which can be intepreted as: \n",
    "* from what combination of columns of $A$, with coefficients un $\\vec{x}$, we can construct vector $\\vec{b}$?\n",
    "***\n",
    "### For example lets consider $2\\times2$ matrix with columns as Cartesian basis vectors $\\{\\vec{e}_1;\\vec{e}_2\\}$\n",
    "$$\\begin{bmatrix} \\vec{e}_1 & \\vec{e}_2 \\end{bmatrix}\n",
    "\\begin{bmatrix} x_1  \\\\ x_2 \\end{bmatrix}=\n",
    "\\begin{bmatrix} b_1 \\\\ b_2 \\end{bmatrix}$$\n",
    "Observe that \n",
    "$$\\begin{bmatrix} \\vec{e}_1 & \\vec{e}_2\\end{bmatrix}\n",
    "\\begin{bmatrix} x_1 \\\\ x_2\\end{bmatrix}=\n",
    "\\begin{bmatrix} 1&0\\\\0&1\\end{bmatrix}\n",
    "\\begin{bmatrix} x_1 \\\\ x_2\\end{bmatrix}=\n",
    "x_1\\begin{bmatrix} 1\\\\0\\end{bmatrix}+\n",
    "x_2\\begin{bmatrix} 0\\\\1\\end{bmatrix}=\n",
    "\\begin{bmatrix} x_1 \\\\ x_2\\end{bmatrix}=\n",
    "\\begin{bmatrix} b_1 \\\\ b_2\\end{bmatrix}$$\n",
    "Or\n",
    "$$\\begin{bmatrix} \\vec{e}_1 & \\vec{e}_2\\end{bmatrix}\n",
    "\\begin{bmatrix} x_1 \\\\ x_2\\end{bmatrix}=\n",
    "x_1\\vec{e}_1 + x_2\\vec{e}_2=\\vec{b}$$\n",
    "Which simply means that $x_1$ and $x_2$ are Cartesian components of vector $\\vec{b}$\n"
   ]
  },
  {
   "cell_type": "markdown",
   "metadata": {},
   "source": [
    "We have a solution!<br>\n",
    "<u>In this case system has one unique solution</u>\n",
    "\n",
    "* <br>This is indeed the case, since $\\vec{b}$ can be any vector from 2D space (or $ℝ^2$) <br>\n",
    "and basis vectors $\\{\\vec{e}_1;\\vec{e}_2\\}$ form a fundamental building blocks of this space.\n",
    "\n",
    "* Correct terminology is that <u>columns of $A$ span space of $\\vec{b}$</u>.\n",
    "\n",
    "\n",
    "* Since vectors $\\vec{e}_1$ and $\\vec{e}_2$ are not only unique basis for $ℝ^2$, other non co-linear pair of vector will also have a unique (different) solution."
   ]
  },
  {
   "cell_type": "markdown",
   "metadata": {},
   "source": [
    "### Lets consider matrix $A$ formed from two co-linear vectors:\n",
    "$$ A = \\begin{bmatrix} \\vec{e}_1 & 2\\vec{e}_1\\end{bmatrix} $$\n",
    "$$ \\begin{bmatrix} 1&2\\\\0&0\\end{bmatrix}\n",
    "\\begin{bmatrix} x_1 \\\\ x_2\\end{bmatrix} =\n",
    "\\begin{bmatrix} x_1+2x_2 \\\\ 0\\end{bmatrix}=\n",
    "(x_1+2x_2)\n",
    "\\begin{bmatrix} 1 \\\\ 0\\end{bmatrix}=\n",
    "\\begin{bmatrix} b_1 \\\\ b_2\\end{bmatrix}$$\n",
    "\n",
    "This implies that our reconstruction can be only applied to vectors which have $b_2=0$, which is a big restriction.\n",
    "\n",
    "For a general $\\vec{b}$ (with $b_2 \\neq 0$) this problem will have <u>no solution</u>! $\\leftrightarrow$ <u>columns of A do not span space of_ $\\vec{b}$.</u>"
   ]
  },
  {
   "cell_type": "markdown",
   "metadata": {},
   "source": [
    "Special case:<br>\n",
    "On the other hand, for those $\\vec{b}$, that are co-linear to $\\vec{e}_1$, we can find arbitrary many combinations of $x_1$ and $x_2$ to reconstruct $\\vec{b}$.<br>\n",
    "It is so, because for any given $x_1$, we can find corresponding $x_2 = \\frac{1}{2}(b_1 - x_1)$, which will be a solution. <br>\n",
    "This means that we can find <u>infinitely many solutions</u>.\n",
    "\n",
    "_This is just a special case and main conclusions should be anly drawn for general cases._"
   ]
  },
  {
   "cell_type": "markdown",
   "metadata": {},
   "source": [
    "From this simple example we can conclude that, depending on matrix $A$ and vector $\\vec{b}$ we can expect:\n",
    "1. one solution \n",
    "2. no solutions\n",
    "3. infinitely many solutions\n",
    "***\n",
    "***"
   ]
  },
  {
   "cell_type": "markdown",
   "metadata": {},
   "source": [
    "## Lets examine case with non-square matrices\n",
    "\n",
    "Matrix $A$ can be non-square, as long it satisfies matrix multiplication dimensions rule:\n",
    "$$A:[m\\times n], \\vec{x}:[n\\times 1] \\rightarrow \\vec{b}:[m\\times 1]$$\n",
    "***"
   ]
  },
  {
   "cell_type": "markdown",
   "metadata": {},
   "source": [
    "### <b>wide-short</b> matrix $A$  \n",
    "$$A\\vec{x}=\n",
    "\\begin{bmatrix} 1&0&2\\\\0&1&0\\end{bmatrix}\n",
    "\\begin{bmatrix} x_1\\\\x_2\\\\x_3\\end{bmatrix}=\n",
    "\\begin{bmatrix} x_1+2x_3 \\\\ x_2\\end{bmatrix}=\n",
    "(x_1+2x_3)\\begin{bmatrix} 1 \\\\ 0\\end{bmatrix}+\n",
    "(x_2)\\begin{bmatrix} 0 \\\\ 1\\end{bmatrix}=\n",
    "\\begin{bmatrix} b_1 \\\\ b_2\\end{bmatrix}\n",
    "$$\n",
    "\n",
    "$$[m\\times n][n\\times 1] = [m\\times 1]$$\n",
    "$$[2\\times 3][3\\times 1] = [2\\times 1]$$\n",
    "\n",
    "In order to reconstruct $\\vec{b}$ we need at least 2 independent columns of $A$, which is highly likely for a wide matrix. \n",
    "\n",
    "Remaining columns will not contribute additional information, as they can be constructed from two independent columns.<br>\n",
    "This allows us to mix and match dependant and independant columns as we please, and construct infinetely many combinations.\n",
    "\n",
    "From a view point of system of equation this can be expressed as follows:<br> \n",
    "Generally, <i>if number of equations $(m)$ is lower than number of unknowns $(n)$ we might find infinitely many solutions (in rare cases one or no solutions)</i><br>\n",
    "This case is called an <b><u>underdetermined system</u></b>.<br>\n",
    "Term arises from a  point of view of system of equations, where one can think that equations impose constraints on unknowns $\\{x_1,\\dots,x_n\\}$.<br>\n",
    "If there are less equations/constrains than unknowns- system is <u>underconstrained</u>.\n",
    "***"
   ]
  },
  {
   "cell_type": "markdown",
   "metadata": {},
   "source": [
    "### <b>skinny-tall</b>  matrix $A$\n",
    "$$\\begin{bmatrix} 1&0\\\\0&1\\\\0&0\\end{bmatrix}\n",
    "\\begin{bmatrix} x_1\\\\x_2\\end{bmatrix}=\n",
    "\\begin{bmatrix} x_1\\\\x_2\\\\0\\end{bmatrix}=\n",
    "x_1\\begin{bmatrix} 1\\\\0\\\\0\\end{bmatrix} + \n",
    "x_2\\begin{bmatrix} 0\\\\1\\\\0\\end{bmatrix} =\n",
    "\\begin{bmatrix} b_1\\\\b_2\\\\b_3\\end{bmatrix}\n",
    "$$\n",
    "$$[3\\times2][2\\times 1] = [3\\times 1]$$"
   ]
  },
  {
   "cell_type": "markdown",
   "metadata": {},
   "source": [
    "In a given example we can clearly see that Columns of $A$, at best, span a subset (a plane) in $ℝ^3$, which is not enough to 'reach' arbitray $ℝ^3$ vector $\\vec{b}$.\n",
    "\n",
    "Following observation drawn be used for general case:<br>\n",
    "If number of equations $(m)$ is more than number of unknons $(n)$, then its most likely that no solutions can be found.\n",
    "\n",
    "This case is often refered as <b><u>overdetermined system</u></b>. You can think of overdetermined case as being <u>overconstrained</u> by large number of equations.\n",
    "\n"
   ]
  }
 ],
 "metadata": {
  "kernelspec": {
   "display_name": ".venv",
   "language": "python",
   "name": "python3"
  },
  "language_info": {
   "codemirror_mode": {
    "name": "ipython",
    "version": 3
   },
   "file_extension": ".py",
   "mimetype": "text/x-python",
   "name": "python",
   "nbconvert_exporter": "python",
   "pygments_lexer": "ipython3",
   "version": "3.9.13"
  }
 },
 "nbformat": 4,
 "nbformat_minor": 2
}
