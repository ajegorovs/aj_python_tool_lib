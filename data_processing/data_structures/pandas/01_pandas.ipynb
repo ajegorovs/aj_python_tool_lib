{
 "cells": [
  {
   "cell_type": "code",
   "execution_count": 92,
   "metadata": {},
   "outputs": [],
   "source": [
    "import pandas as pd\n",
    "# pip install pyarrow\n",
    "import numpy as np, os, matplotlib.pyplot as plt"
   ]
  },
  {
   "cell_type": "markdown",
   "metadata": {},
   "source": [
    "Set working dir to repo root."
   ]
  },
  {
   "cell_type": "code",
   "execution_count": 40,
   "metadata": {},
   "outputs": [],
   "source": [
    "# set working dir to repo directory\n",
    "head, tail = os.path.split(os.getcwd())\n",
    "while tail != 'aj_python_tool_lib':\n",
    "    head, tail = os.path.split(head)\n",
    "os.chdir(os.path.join(head, tail))\n",
    "#os.getcwd()"
   ]
  },
  {
   "cell_type": "markdown",
   "metadata": {},
   "source": [
    "### Create a df from most popular english words\n",
    "#### Read txt files add extra parameters: word length and word value"
   ]
  },
  {
   "cell_type": "code",
   "execution_count": 45,
   "metadata": {},
   "outputs": [
    {
     "name": "stdout",
     "output_type": "stream",
     "text": [
      "aardvark 8 68\n"
     ]
    }
   ],
   "source": [
    "path_txt = os.path.join('data_processing','media','popular_words.txt')\n",
    "words = []\n",
    "with open(path_txt, \"r\") as f:\n",
    "    for line in f:\n",
    "        words.append(str(next(f))[:-1])\n",
    "char_values = {c:i for i,c in enumerate(map(chr, range(97, 123)))}\n",
    "word = words[0]\n",
    "\n",
    "def char_count(word):\n",
    "    return len(list(word))\n",
    "\n",
    "def word_value(word):\n",
    "    chars = list(word)\n",
    "    return sum([char_values[c] for c in chars])\n",
    "\n",
    "print(word, char_count(word), word_value(word))"
   ]
  },
  {
   "cell_type": "markdown",
   "metadata": {},
   "source": [
    "#### Transform data to pandas dataframe\n",
    "Set index column not as numbers but as words themselves"
   ]
  },
  {
   "cell_type": "code",
   "execution_count": 217,
   "metadata": {},
   "outputs": [
    {
     "data": {
      "text/html": [
       "<div>\n",
       "<style scoped>\n",
       "    .dataframe tbody tr th:only-of-type {\n",
       "        vertical-align: middle;\n",
       "    }\n",
       "\n",
       "    .dataframe tbody tr th {\n",
       "        vertical-align: top;\n",
       "    }\n",
       "\n",
       "    .dataframe thead th {\n",
       "        text-align: right;\n",
       "    }\n",
       "</style>\n",
       "<table border=\"1\" class=\"dataframe\">\n",
       "  <thead>\n",
       "    <tr style=\"text-align: right;\">\n",
       "      <th></th>\n",
       "      <th>Char_count</th>\n",
       "      <th>Value</th>\n",
       "    </tr>\n",
       "    <tr>\n",
       "      <th>Word</th>\n",
       "      <th></th>\n",
       "      <th></th>\n",
       "    </tr>\n",
       "  </thead>\n",
       "  <tbody>\n",
       "    <tr>\n",
       "      <th>aardvark</th>\n",
       "      <td>8</td>\n",
       "      <td>68</td>\n",
       "    </tr>\n",
       "    <tr>\n",
       "      <th>aback</th>\n",
       "      <td>5</td>\n",
       "      <td>13</td>\n",
       "    </tr>\n",
       "    <tr>\n",
       "      <th>abandon</th>\n",
       "      <td>7</td>\n",
       "      <td>44</td>\n",
       "    </tr>\n",
       "    <tr>\n",
       "      <th>abandoning</th>\n",
       "      <td>10</td>\n",
       "      <td>71</td>\n",
       "    </tr>\n",
       "    <tr>\n",
       "      <th>abandons</th>\n",
       "      <td>8</td>\n",
       "      <td>62</td>\n",
       "    </tr>\n",
       "  </tbody>\n",
       "</table>\n",
       "</div>"
      ],
      "text/plain": [
       "           Char_count Value\n",
       "Word                       \n",
       "aardvark            8    68\n",
       "aback               5    13\n",
       "abandon             7    44\n",
       "abandoning         10    71\n",
       "abandons            8    62"
      ]
     },
     "execution_count": 217,
     "metadata": {},
     "output_type": "execute_result"
    }
   ],
   "source": [
    "\n",
    "data = np.array([   \n",
    "                    list(map(char_count,words)),\n",
    "                    list(map(word_value,words))], \n",
    "\n",
    "                dtype=object).T\n",
    "\n",
    "df = pd.DataFrame(data, index=words, columns=['Char_count','Value'])\n",
    "\n",
    "df = df.rename_axis('Word', axis='index')\n",
    "df.head()"
   ]
  },
  {
   "cell_type": "markdown",
   "metadata": {},
   "source": [
    "#### Get information about df"
   ]
  },
  {
   "cell_type": "code",
   "execution_count": 218,
   "metadata": {},
   "outputs": [
    {
     "name": "stdout",
     "output_type": "stream",
     "text": [
      "<class 'pandas.core.frame.DataFrame'>\n",
      "Index: 12661 entries, aardvark to zooming\n",
      "Data columns (total 2 columns):\n",
      " #   Column      Non-Null Count  Dtype \n",
      "---  ------      --------------  ----- \n",
      " 0   Char_count  12661 non-null  object\n",
      " 1   Value       12661 non-null  object\n",
      "dtypes: object(2)\n",
      "memory usage: 296.7+ KB\n",
      "\n",
      "df shape: (12661, 2)\n",
      "\n",
      "columns: Index(['Char_count', 'Value'], dtype='object')\n"
     ]
    }
   ],
   "source": [
    "df.info()\n",
    "print('\\ndf shape:',df.shape)\n",
    "\n",
    "num_entries = df.shape[0]\n",
    "\n",
    "print('\\ncolumns:', df.columns)"
   ]
  },
  {
   "cell_type": "markdown",
   "metadata": {},
   "source": [
    "## Display elements:\n"
   ]
  },
  {
   "cell_type": "code",
   "execution_count": 249,
   "metadata": {},
   "outputs": [
    {
     "name": "stdout",
     "output_type": "stream",
     "text": [
      "[ 7371  4041 10859]\n"
     ]
    },
    {
     "data": {
      "text/plain": [
       "['negatives', 'eyesore', 'stubble']"
      ]
     },
     "execution_count": 249,
     "metadata": {},
     "output_type": "execute_result"
    }
   ],
   "source": [
    "np.random.seed(69)\n",
    "select_idx = np.random.randint(0,num_entries+1, size = (3,))\n",
    "print(select_idx)\n",
    "subdf_words = df.index[select_idx].tolist()\n",
    "subdf_words"
   ]
  },
  {
   "cell_type": "markdown",
   "metadata": {},
   "source": [
    "### Entries via indicies of columns\n",
    "similar to dictionary, numpy"
   ]
  },
  {
   "cell_type": "markdown",
   "metadata": {},
   "source": [
    "### Alternatively via indicies and __.iloc()__ and/or sinlge call __.iat()__ methods\n",
    "#### __*iloc*__ for accesing many entries, __*iat*__ for fast access to single entry\n",
    "Can do same by supplying a boolean mask.\n",
    "\n",
    "Notice that by calling 0-th column as [0], you get a slice of dataframe with preserved structure."
   ]
  },
  {
   "cell_type": "code",
   "execution_count": 250,
   "metadata": {},
   "outputs": [
    {
     "name": "stdout",
     "output_type": "stream",
     "text": [
      "column by idx: Char_count\n"
     ]
    },
    {
     "data": {
      "text/plain": [
       "Word\n",
       "negatives    9\n",
       "eyesore      7\n",
       "stubble      7\n",
       "Name: Char_count, dtype: object"
      ]
     },
     "metadata": {},
     "output_type": "display_data"
    },
    {
     "name": "stdout",
     "output_type": "stream",
     "text": [
      "[9, 7, 7]\n"
     ]
    },
    {
     "data": {
      "text/html": [
       "<div>\n",
       "<style scoped>\n",
       "    .dataframe tbody tr th:only-of-type {\n",
       "        vertical-align: middle;\n",
       "    }\n",
       "\n",
       "    .dataframe tbody tr th {\n",
       "        vertical-align: top;\n",
       "    }\n",
       "\n",
       "    .dataframe thead th {\n",
       "        text-align: right;\n",
       "    }\n",
       "</style>\n",
       "<table border=\"1\" class=\"dataframe\">\n",
       "  <thead>\n",
       "    <tr style=\"text-align: right;\">\n",
       "      <th></th>\n",
       "      <th>Char_count</th>\n",
       "    </tr>\n",
       "    <tr>\n",
       "      <th>Word</th>\n",
       "      <th></th>\n",
       "    </tr>\n",
       "  </thead>\n",
       "  <tbody>\n",
       "    <tr>\n",
       "      <th>negatives</th>\n",
       "      <td>9</td>\n",
       "    </tr>\n",
       "    <tr>\n",
       "      <th>eyesore</th>\n",
       "      <td>7</td>\n",
       "    </tr>\n",
       "    <tr>\n",
       "      <th>stubble</th>\n",
       "      <td>7</td>\n",
       "    </tr>\n",
       "  </tbody>\n",
       "</table>\n",
       "</div>"
      ],
      "text/plain": [
       "          Char_count\n",
       "Word                \n",
       "negatives          9\n",
       "eyesore            7\n",
       "stubble            7"
      ]
     },
     "metadata": {},
     "output_type": "display_data"
    },
    {
     "name": "stdout",
     "output_type": "stream",
     "text": [
      "[9, 7, 7]\n"
     ]
    }
   ],
   "source": [
    "column_idx = 0\n",
    "print('column by idx:', df.columns[column_idx])\n",
    "select_words2 = df.iloc[select_idx,column_idx]\n",
    "display(select_words2)\n",
    "print(select_words2.tolist())\n",
    "\n",
    "select_words3 = df.iloc[select_idx,[column_idx]]\n",
    "display(select_words3)\n",
    "print(select_words3.to_numpy().flatten().tolist())    # or .values.flatten().tolist()"
   ]
  },
  {
   "cell_type": "markdown",
   "metadata": {},
   "source": [
    "### entries via names"
   ]
  },
  {
   "cell_type": "code",
   "execution_count": 271,
   "metadata": {},
   "outputs": [
    {
     "data": {
      "text/html": [
       "<div>\n",
       "<style scoped>\n",
       "    .dataframe tbody tr th:only-of-type {\n",
       "        vertical-align: middle;\n",
       "    }\n",
       "\n",
       "    .dataframe tbody tr th {\n",
       "        vertical-align: top;\n",
       "    }\n",
       "\n",
       "    .dataframe thead th {\n",
       "        text-align: right;\n",
       "    }\n",
       "</style>\n",
       "<table border=\"1\" class=\"dataframe\">\n",
       "  <thead>\n",
       "    <tr style=\"text-align: right;\">\n",
       "      <th></th>\n",
       "      <th>Char_count</th>\n",
       "      <th>Value</th>\n",
       "    </tr>\n",
       "    <tr>\n",
       "      <th>Word</th>\n",
       "      <th></th>\n",
       "      <th></th>\n",
       "    </tr>\n",
       "  </thead>\n",
       "  <tbody>\n",
       "    <tr>\n",
       "      <th>negatives</th>\n",
       "      <td>9</td>\n",
       "      <td>93</td>\n",
       "    </tr>\n",
       "    <tr>\n",
       "      <th>eyesore</th>\n",
       "      <td>7</td>\n",
       "      <td>85</td>\n",
       "    </tr>\n",
       "    <tr>\n",
       "      <th>stubble</th>\n",
       "      <td>7</td>\n",
       "      <td>74</td>\n",
       "    </tr>\n",
       "  </tbody>\n",
       "</table>\n",
       "</div>"
      ],
      "text/plain": [
       "          Char_count Value\n",
       "Word                      \n",
       "negatives          9    93\n",
       "eyesore            7    85\n",
       "stubble            7    74"
      ]
     },
     "metadata": {},
     "output_type": "display_data"
    },
    {
     "name": "stdout",
     "output_type": "stream",
     "text": [
      "word:\t\t negatives \n",
      "col_name:\t Char_count \n",
      "value:\t\t 9\n"
     ]
    }
   ],
   "source": [
    "display(df.loc[subdf_words] )\n",
    "\n",
    "idx_name = subdf_words[0]\n",
    "col_name = df.columns[0]\n",
    "entry = df.at[idx_name,col_name]\n",
    "\n",
    "print('word:\\t\\t',idx_name,'\\ncol_name:\\t',col_name, '\\nvalue:\\t\\t', entry)\n"
   ]
  },
  {
   "cell_type": "markdown",
   "metadata": {},
   "source": [
    "### Selections can be done via masks:\n",
    "Masks can be combined using boolean arithmetic. Notice brackets around (X > Y). \n",
    "\n",
    "If result is too big, you can show only a limited sample"
   ]
  },
  {
   "cell_type": "code",
   "execution_count": 302,
   "metadata": {},
   "outputs": [
    {
     "data": {
      "text/html": [
       "<div>\n",
       "<style scoped>\n",
       "    .dataframe tbody tr th:only-of-type {\n",
       "        vertical-align: middle;\n",
       "    }\n",
       "\n",
       "    .dataframe tbody tr th {\n",
       "        vertical-align: top;\n",
       "    }\n",
       "\n",
       "    .dataframe thead th {\n",
       "        text-align: right;\n",
       "    }\n",
       "</style>\n",
       "<table border=\"1\" class=\"dataframe\">\n",
       "  <thead>\n",
       "    <tr style=\"text-align: right;\">\n",
       "      <th></th>\n",
       "      <th>Char_count</th>\n",
       "      <th>Value</th>\n",
       "    </tr>\n",
       "    <tr>\n",
       "      <th>Word</th>\n",
       "      <th></th>\n",
       "      <th></th>\n",
       "    </tr>\n",
       "  </thead>\n",
       "  <tbody>\n",
       "    <tr>\n",
       "      <th>international</th>\n",
       "      <td>13</td>\n",
       "      <td>139</td>\n",
       "    </tr>\n",
       "    <tr>\n",
       "      <th>laughingstock</th>\n",
       "      <td>13</td>\n",
       "      <td>134</td>\n",
       "    </tr>\n",
       "    <tr>\n",
       "      <th>transvestites</th>\n",
       "      <td>13</td>\n",
       "      <td>178</td>\n",
       "    </tr>\n",
       "    <tr>\n",
       "      <th>significantly</th>\n",
       "      <td>13</td>\n",
       "      <td>135</td>\n",
       "    </tr>\n",
       "    <tr>\n",
       "      <th>psychoanalysis</th>\n",
       "      <td>14</td>\n",
       "      <td>172</td>\n",
       "    </tr>\n",
       "    <tr>\n",
       "      <th>psychologists</th>\n",
       "      <td>13</td>\n",
       "      <td>174</td>\n",
       "    </tr>\n",
       "    <tr>\n",
       "      <th>specifications</th>\n",
       "      <td>14</td>\n",
       "      <td>134</td>\n",
       "    </tr>\n",
       "    <tr>\n",
       "      <th>congratulations</th>\n",
       "      <td>15</td>\n",
       "      <td>174</td>\n",
       "    </tr>\n",
       "    <tr>\n",
       "      <th>malfunctioning</th>\n",
       "      <td>14</td>\n",
       "      <td>144</td>\n",
       "    </tr>\n",
       "    <tr>\n",
       "      <th>hallucinations</th>\n",
       "      <td>14</td>\n",
       "      <td>144</td>\n",
       "    </tr>\n",
       "  </tbody>\n",
       "</table>\n",
       "</div>"
      ],
      "text/plain": [
       "                Char_count Value\n",
       "Word                            \n",
       "international           13   139\n",
       "laughingstock           13   134\n",
       "transvestites           13   178\n",
       "significantly           13   135\n",
       "psychoanalysis          14   172\n",
       "psychologists           13   174\n",
       "specifications          14   134\n",
       "congratulations         15   174\n",
       "malfunctioning          14   144\n",
       "hallucinations          14   144"
      ]
     },
     "execution_count": 302,
     "metadata": {},
     "output_type": "execute_result"
    }
   ],
   "source": [
    "df.loc[(df['Char_count'] > 12) & (df['Char_count'] < 16) & (df['Value'] >= 130)].sample(10)"
   ]
  },
  {
   "cell_type": "markdown",
   "metadata": {},
   "source": [
    "### DataFrame analysis functions\n",
    "Variety of mathematical functions can be applied to dataframe entries.\n",
    "\n",
    "You can check overview of a column, but integer data types prevent mathematical operations that result in floats, so those wont show in results.\n",
    "\n",
    "Unless you convert dataframe to floats"
   ]
  },
  {
   "cell_type": "code",
   "execution_count": 295,
   "metadata": {},
   "outputs": [
    {
     "name": "stdout",
     "output_type": "stream",
     "text": [
      "max by value: 229\n"
     ]
    },
    {
     "data": {
      "text/plain": [
       "count      12661.0\n",
       "mean      78.17471\n",
       "std      30.304254\n",
       "min            1.0\n",
       "25%           56.0\n",
       "50%           75.0\n",
       "75%           97.0\n",
       "max          229.0\n",
       "Name: Value, dtype: Float64"
      ]
     },
     "metadata": {},
     "output_type": "display_data"
    },
    {
     "data": {
      "text/plain": [
       "Value\n",
       "70     194\n",
       "69     184\n",
       "76     180\n",
       "67     179\n",
       "72     178\n",
       "      ... \n",
       "2        1\n",
       "190      1\n",
       "7        1\n",
       "215      1\n",
       "229      1\n",
       "Name: count, Length: 199, dtype: int64"
      ]
     },
     "execution_count": 295,
     "metadata": {},
     "output_type": "execute_result"
    }
   ],
   "source": [
    "print('max by value:', df['Value'].max())\n",
    "display(df['Value'].convert_dtypes().describe()) # original df is not converted, only slice\n",
    "df['Value'].value_counts()\n"
   ]
  },
  {
   "cell_type": "markdown",
   "metadata": {},
   "source": [
    "### Different operations on dataframes result in other dataframes, so similar operations can be applied to them also"
   ]
  },
  {
   "cell_type": "code",
   "execution_count": 342,
   "metadata": {},
   "outputs": [
    {
     "name": "stdout",
     "output_type": "stream",
     "text": [
      "mean count =  78.17470973856726\n"
     ]
    },
    {
     "data": {
      "text/plain": [
       "<matplotlib.collections.LineCollection at 0x1b738b27e80>"
      ]
     },
     "execution_count": 342,
     "metadata": {},
     "output_type": "execute_result"
    },
    {
     "data": {
      "image/png": "[encoded data removed]",
      "text/plain": [
       "<Figure size 640x480 with 1 Axes>"
      ]
     },
     "metadata": {},
     "output_type": "display_data"
    }
   ],
   "source": [
    "vc_df = df['Value'].value_counts()\n",
    "sorted_vc_df = vc_df.sort_index()\n",
    "mean = np.average(vc_df.index, weights=vc_df.to_numpy())\n",
    "print('mean count = ', mean)\n",
    "plt.step(sorted_vc_df.index, sorted_vc_df.values)\n",
    "plt.vlines(mean, ymin = sorted_vc_df.min(), ymax = sorted_vc_df.max(), colors= 'r')"
   ]
  },
  {
   "cell_type": "code",
   "execution_count": null,
   "metadata": {},
   "outputs": [],
   "source": []
  }
 ],
 "metadata": {
  "kernelspec": {
   "display_name": ".venv",
   "language": "python",
   "name": "python3"
  },
  "language_info": {
   "codemirror_mode": {
    "name": "ipython",
    "version": 3
   },
   "file_extension": ".py",
   "mimetype": "text/x-python",
   "name": "python",
   "nbconvert_exporter": "python",
   "pygments_lexer": "ipython3",
   "version": "3.9.13"
  }
 },
 "nbformat": 4,
 "nbformat_minor": 2
}
