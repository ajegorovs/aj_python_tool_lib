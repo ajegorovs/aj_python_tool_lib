{
 "cells": [
  {
   "cell_type": "markdown",
   "metadata": {},
   "source": [
    "Source: https://www.youtube.com/watch?v=M7SWr5xObkA"
   ]
  },
  {
   "cell_type": "code",
   "execution_count": 1,
   "metadata": {},
   "outputs": [],
   "source": [
    "from sklearn.feature_extraction.text import CountVectorizer\n",
    "import pandas as pd\n",
    "from sklearn import svm\n",
    "from IPython.display import clear_output\n",
    "import spacy"
   ]
  },
  {
   "cell_type": "code",
   "execution_count": 2,
   "metadata": {},
   "outputs": [],
   "source": [
    "# !pip install spacy\n",
    "# !python -m spacy download en_core_web_md\n",
    "# clear_output()"
   ]
  },
  {
   "cell_type": "markdown",
   "metadata": {},
   "source": [
    "### Word to vector\n",
    "Python spaCy library offers NLP functionality. In this example we will transform sentences to vector representation using pre-trained word-to-vector model. Output vector captures deeper semantic relationships between words than simple one-hot word encoding.\n",
    "(CONS: relations may be lost for long sentences)"
   ]
  },
  {
   "cell_type": "code",
   "execution_count": 3,
   "metadata": {},
   "outputs": [],
   "source": [
    "nlp = spacy.load('en_core_web_md')"
   ]
  },
  {
   "cell_type": "code",
   "execution_count": 4,
   "metadata": {},
   "outputs": [
    {
     "data": {
      "text/html": [
       "<div>\n",
       "<style scoped>\n",
       "    .dataframe tbody tr th:only-of-type {\n",
       "        vertical-align: middle;\n",
       "    }\n",
       "\n",
       "    .dataframe tbody tr th {\n",
       "        vertical-align: top;\n",
       "    }\n",
       "\n",
       "    .dataframe thead th {\n",
       "        text-align: right;\n",
       "    }\n",
       "</style>\n",
       "<table border=\"1\" class=\"dataframe\">\n",
       "  <thead>\n",
       "    <tr style=\"text-align: right;\">\n",
       "      <th></th>\n",
       "      <th>0</th>\n",
       "      <th>1</th>\n",
       "      <th>2</th>\n",
       "      <th>3</th>\n",
       "    </tr>\n",
       "  </thead>\n",
       "  <tbody>\n",
       "    <tr>\n",
       "      <th>Sentence</th>\n",
       "      <td>I love the book</td>\n",
       "      <td>This is a great book</td>\n",
       "      <td>The fit is great</td>\n",
       "      <td>I love the shoes</td>\n",
       "    </tr>\n",
       "    <tr>\n",
       "      <th>Category</th>\n",
       "      <td>BOOKS</td>\n",
       "      <td>BOOKS</td>\n",
       "      <td>CLOTHING</td>\n",
       "      <td>CLOTHING</td>\n",
       "    </tr>\n",
       "  </tbody>\n",
       "</table>\n",
       "</div>"
      ],
      "text/plain": [
       "                        0                     1                 2  \\\n",
       "Sentence  I love the book  This is a great book  The fit is great   \n",
       "Category            BOOKS                 BOOKS          CLOTHING   \n",
       "\n",
       "                         3  \n",
       "Sentence  I love the shoes  \n",
       "Category          CLOTHING  "
      ]
     },
     "execution_count": 4,
     "metadata": {},
     "output_type": "execute_result"
    }
   ],
   "source": [
    "class Category:\n",
    "    BOOKS = 'BOOKS'\n",
    "    CLOTHING = 'CLOTHING'\n",
    "\n",
    "sentences = train_x = ['I love the book', 'This is a great book', 'The fit is great', 'I love the shoes']\n",
    "train_y             = [Category.BOOKS           , Category.BOOKS        , Category.CLOTHING , Category.CLOTHING ]\n",
    "\n",
    "df = pd.DataFrame([*zip(train_x,train_y)]).T\n",
    "df.rename(index={0:'Sentence', 1:'Category'})"
   ]
  },
  {
   "cell_type": "code",
   "execution_count": 5,
   "metadata": {},
   "outputs": [
    {
     "name": "stdout",
     "output_type": "stream",
     "text": [
      "train_x = ['I love the book', 'This is a great book', 'The fit is great', 'I love the shoes']\n",
      "docs = [I love the book, This is a great book, The fit is great, I love the shoes]\n",
      "docs[0] = I love the book; train_x_vector[0].shape = (300,)\n"
     ]
    }
   ],
   "source": [
    "docs = [nlp(word) for word in train_x]\n",
    "train_x_vector = [x.vector for x in docs]\n",
    "\n",
    "print(f'{train_x = }')\n",
    "print(f'{docs = }')\n",
    "print(f'{docs[0] = }; {train_x_vector[0].shape = }')"
   ]
  },
  {
   "cell_type": "markdown",
   "metadata": {},
   "source": [
    "## Using new (vector) representation construct a SVM model"
   ]
  },
  {
   "cell_type": "code",
   "execution_count": 6,
   "metadata": {},
   "outputs": [],
   "source": [
    "clf_svm = svm.SVC(kernel='linear').fit(train_x_vector,train_y)"
   ]
  },
  {
   "cell_type": "markdown",
   "metadata": {},
   "source": [
    "### Predict"
   ]
  },
  {
   "cell_type": "code",
   "execution_count": 7,
   "metadata": {},
   "outputs": [
    {
     "data": {
      "text/plain": [
       "array(['BOOKS', 'BOOKS', 'CLOTHING', 'CLOTHING'], dtype='<U8')"
      ]
     },
     "execution_count": 7,
     "metadata": {},
     "output_type": "execute_result"
    }
   ],
   "source": [
    "test_x = ['I like the book', 'I love the story','My shoes dont fit', 'I love these earrings']\n",
    "test_x_docs =  [nlp(x) for x in test_x]\n",
    "test_x_vecs = [x.vector for x in test_x_docs]\n",
    "clf_svm.predict(test_x_vecs)"
   ]
  },
  {
   "cell_type": "code",
   "execution_count": null,
   "metadata": {},
   "outputs": [],
   "source": []
  }
 ],
 "metadata": {
  "kernelspec": {
   "display_name": ".venv",
   "language": "python",
   "name": "python3"
  },
  "language_info": {
   "codemirror_mode": {
    "name": "ipython",
    "version": 3
   },
   "file_extension": ".py",
   "mimetype": "text/x-python",
   "name": "python",
   "nbconvert_exporter": "python",
   "pygments_lexer": "ipython3",
   "version": "3.9.13"
  }
 },
 "nbformat": 4,
 "nbformat_minor": 2
}
