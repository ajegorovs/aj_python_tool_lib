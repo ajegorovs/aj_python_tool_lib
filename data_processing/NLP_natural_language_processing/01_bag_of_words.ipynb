{
 "cells": [
  {
   "cell_type": "markdown",
   "metadata": {},
   "source": [
    "Source: https://www.youtube.com/watch?v=M7SWr5xObkA"
   ]
  },
  {
   "cell_type": "code",
   "execution_count": 20,
   "metadata": {},
   "outputs": [],
   "source": [
    "from sklearn.feature_extraction.text import CountVectorizer\n",
    "import pandas as pd\n",
    "from sklearn import svm"
   ]
  },
  {
   "cell_type": "markdown",
   "metadata": {},
   "source": [
    "# Bag of words model\n",
    "(CONS: cannot differentiate between same words i.e BOOK and BOOKS)"
   ]
  },
  {
   "cell_type": "code",
   "execution_count": 19,
   "metadata": {},
   "outputs": [
    {
     "data": {
      "text/html": [
       "<div>\n",
       "<style scoped>\n",
       "    .dataframe tbody tr th:only-of-type {\n",
       "        vertical-align: middle;\n",
       "    }\n",
       "\n",
       "    .dataframe tbody tr th {\n",
       "        vertical-align: top;\n",
       "    }\n",
       "\n",
       "    .dataframe thead th {\n",
       "        text-align: right;\n",
       "    }\n",
       "</style>\n",
       "<table border=\"1\" class=\"dataframe\">\n",
       "  <thead>\n",
       "    <tr style=\"text-align: right;\">\n",
       "      <th></th>\n",
       "      <th>0</th>\n",
       "      <th>1</th>\n",
       "      <th>2</th>\n",
       "      <th>3</th>\n",
       "    </tr>\n",
       "  </thead>\n",
       "  <tbody>\n",
       "    <tr>\n",
       "      <th>Sentence</th>\n",
       "      <td>I love the the the book</td>\n",
       "      <td>This is a great book</td>\n",
       "      <td>The fit is great</td>\n",
       "      <td>I love the shoes</td>\n",
       "    </tr>\n",
       "    <tr>\n",
       "      <th>Category</th>\n",
       "      <td>BOOKS</td>\n",
       "      <td>BOOKS</td>\n",
       "      <td>CLOTHING</td>\n",
       "      <td>CLOTHING</td>\n",
       "    </tr>\n",
       "  </tbody>\n",
       "</table>\n",
       "</div>"
      ],
      "text/plain": [
       "                                0                     1                 2  \\\n",
       "Sentence  I love the the the book  This is a great book  The fit is great   \n",
       "Category                    BOOKS                 BOOKS          CLOTHING   \n",
       "\n",
       "                         3  \n",
       "Sentence  I love the shoes  \n",
       "Category          CLOTHING  "
      ]
     },
     "execution_count": 19,
     "metadata": {},
     "output_type": "execute_result"
    }
   ],
   "source": [
    "class Category:\n",
    "    BOOKS = 'BOOKS'\n",
    "    CLOTHING = 'CLOTHING'\n",
    "\n",
    "sentences = train_x = ['I love the the the book', 'This is a great book', 'The fit is great', 'I love the shoes']\n",
    "train_y             = [Category.BOOKS           , Category.BOOKS        , Category.CLOTHING , Category.CLOTHING ]\n",
    "\n",
    "df = pd.DataFrame([*zip(train_x,train_y)]).T\n",
    "df.rename(index={0:'Sentence', 1:'Category'})\n"
   ]
  },
  {
   "cell_type": "markdown",
   "metadata": {},
   "source": [
    "### Fit word-to-vector transform, get features and encodings\n",
    "* CountVectorizer().fit_transform()"
   ]
  },
  {
   "cell_type": "code",
   "execution_count": 34,
   "metadata": {},
   "outputs": [
    {
     "name": "stdout",
     "output_type": "stream",
     "text": [
      "['book' 'fit' 'great' 'is' 'love' 'shoes' 'the' 'this']\n",
      "[[1 0 0 0 1 0 3 0]\n",
      " [1 0 1 1 0 0 0 1]\n",
      " [0 1 1 1 0 0 1 0]\n",
      " [0 0 0 0 1 1 1 0]]\n"
     ]
    }
   ],
   "source": [
    "vectorizer = CountVectorizer()\n",
    "train_x_vector = vectorizer.fit_transform(sentences)\n",
    "print(vectorizer.get_feature_names_out())\n",
    "print(train_x_vector.toarray())"
   ]
  },
  {
   "cell_type": "markdown",
   "metadata": {},
   "source": [
    "### Train clustering/classification based on data:\n",
    "<i>SVM see: /Clustering/Support_vector_machines_SVM_brunton_ch_05_pt6.ipynb</i>"
   ]
  },
  {
   "cell_type": "code",
   "execution_count": 35,
   "metadata": {},
   "outputs": [],
   "source": [
    "clf_svm = svm.SVC(kernel='linear').fit(train_x_vector,train_y)"
   ]
  },
  {
   "cell_type": "markdown",
   "metadata": {},
   "source": [
    "### Test new sentence: transform to vector, predict.\n",
    "* CountVectorizer().transform()\n",
    "* SVC().predict()"
   ]
  },
  {
   "cell_type": "code",
   "execution_count": 38,
   "metadata": {},
   "outputs": [
    {
     "data": {
      "text/plain": [
       "array(['BOOKS', 'CLOTHING'], dtype='<U8')"
      ]
     },
     "execution_count": 38,
     "metadata": {},
     "output_type": "execute_result"
    }
   ],
   "source": [
    "test_x =  vectorizer.transform(['I like the book', 'My shoes dont fit'])\n",
    "clf_svm.predict(test_x)"
   ]
  },
  {
   "cell_type": "code",
   "execution_count": null,
   "metadata": {},
   "outputs": [],
   "source": []
  }
 ],
 "metadata": {
  "kernelspec": {
   "display_name": ".venv",
   "language": "python",
   "name": "python3"
  },
  "language_info": {
   "codemirror_mode": {
    "name": "ipython",
    "version": 3
   },
   "file_extension": ".py",
   "mimetype": "text/x-python",
   "name": "python",
   "nbconvert_exporter": "python",
   "pygments_lexer": "ipython3",
   "version": "3.9.13"
  }
 },
 "nbformat": 4,
 "nbformat_minor": 2
}
