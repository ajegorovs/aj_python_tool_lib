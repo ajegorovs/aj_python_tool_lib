{
 "cells": [
  {
   "cell_type": "code",
   "execution_count": 1,
   "metadata": {},
   "outputs": [
    {
     "name": "stdout",
     "output_type": "stream",
     "text": [
      "input example : \n",
      ">>> arr_T = np.array([[r'\\vec{v}_1', r'\\vec{v}_2']]).T\n",
      ">>> print_tex(arr_T,'=', np.arange(1,5).reshape(2,-1)/4, r'; symbols: \\otimes, \\cdot,\\times')\n",
      "output: \n"
     ]
    },
    {
     "data": {
      "text/latex": [
       "$\\displaystyle \\begin{bmatrix}\\vec{v}_1 \\\\ \\vec{v}_2\\end{bmatrix}=\\begin{bmatrix} 1/4 & 1/2 \\\\ 3/4 & 1 \\end{bmatrix}; symbols: \\otimes, \\cdot,\\times$"
      ],
      "text/plain": [
       "<IPython.core.display.Math object>"
      ]
     },
     "metadata": {},
     "output_type": "display_data"
    }
   ],
   "source": [
    "import numpy as np\n",
    "#from sympy.abc import x,y,z\n",
    "from sympy import ordered, Matrix, hessian, lambdify, diff, latex\n",
    "from sympy.vector import CoordSys3D, gradient\n",
    "from misc_tools.print_latex import print_tex"
   ]
  },
  {
   "cell_type": "markdown",
   "metadata": {},
   "source": [
    "## Comments on sympy\n",
    "I am trying to use 'CoordSys3D' class within vector module, because it has properly defined operators. \n",
    "\n",
    "For example gradient has to be written manually for arbitrary or we can use jacobian to compute it (see in the end of notes)"
   ]
  },
  {
   "cell_type": "code",
   "execution_count": 2,
   "metadata": {},
   "outputs": [
    {
     "data": {
      "text/latex": [
       "$\\displaystyle 2 \\mathbf{{x}_{C}} \\mathbf{{y}_{C}}^{3}$"
      ],
      "text/plain": [
       "2*C.x*C.y**3"
      ]
     },
     "metadata": {},
     "output_type": "display_data"
    },
    {
     "data": {
      "text/latex": [
       "$\\displaystyle 3 \\mathbf{{y}_{C}}^{2} \\mathbf{{z}_{C}}$"
      ],
      "text/plain": [
       "3*C.y**2*C.z"
      ]
     },
     "metadata": {},
     "output_type": "display_data"
    },
    {
     "data": {
      "text/latex": [
       "$\\displaystyle \\mathbf{{x}_{C}} \\mathbf{{z}_{C}}^{3}$"
      ],
      "text/plain": [
       "C.x*C.z**3"
      ]
     },
     "metadata": {},
     "output_type": "display_data"
    }
   ],
   "source": [
    "C = CoordSys3D('C')\n",
    "x,y,z = C.x,C.y,C.z\n",
    "f_x = 2*x*y**3 \n",
    "f_y = 3*y**2*z\n",
    "f_z = z**3*x\n",
    "display(f_x , f_y , f_z)"
   ]
  },
  {
   "cell_type": "markdown",
   "metadata": {},
   "source": [
    "***\n",
    "## Derivative of a vector function\n",
    "Vector function is a vector with each component being a function of some independent variables (i.e $x,y,z$):\n",
    "$$\\vec{f}(x,y) = \\begin{bmatrix} \n",
    "f_x(x,y) \\\\ f_y(x,y)\n",
    "\\end{bmatrix}= \\begin{bmatrix} \n",
    "f_x(x,y,z) & f_y(x,y,z)\n",
    "\\end{bmatrix}^T$$\n",
    "We can rewrite vector function in terms of basis ($\\vec{e}_x = \\hat{i},\\dots$)explicitly:\n",
    "$$\\vec{f}(x,y) = f_x(x,y,z) \\hat{i}+  f_y(x,y,z) \\hat{j}$$\n",
    "If we decide to take a derivative of a vector function, we can use linearity of derivative and apply it to each term in a sum\n",
    "$$\\frac{\\partial \\vec{f}}{\\partial x} = \\frac{\\partial f_x}{\\partial x}\\hat{i} + \\frac{\\partial f_y}{\\partial x}\\hat{j} = \\begin{bmatrix} \n",
    "\\frac{\\partial f_x}{\\partial x}& \\frac{\\partial f_y}{\\partial x}\n",
    "\\end{bmatrix}^T$$ \n",
    "\n",
    "Takeaway: derivative operator acts on each element of vector function without modifying its shape.\n",
    "\n",
    "(Optional):\n",
    "> One can write that:\n",
    ">$$\\frac{\\partial \\vec{f}}{\\partial x_i} = \\sum_j \\frac{\\partial f_j}{\\partial x_i} \\vec{e}_j$$  \n",
    ">or $j$-th component is \n",
    ">$$\\bigg(\\frac{\\partial \\vec{f}}{\\partial x_i}\\bigg)_j = \\frac{\\partial f_j}{\\partial x_i}$$"
   ]
  },
  {
   "cell_type": "code",
   "execution_count": 3,
   "metadata": {},
   "outputs": [
    {
     "data": {
      "text/latex": [
       "$\\displaystyle \\frac{\\partial \\vec{f}}{\\partial x}=\\frac{\\partial}{\\partial x}\\begin{bmatrix} 2\\mathbf{{x}_{C}}\\mathbf{{y}_{C}}^{3} \\\\ 3\\mathbf{{y}_{C}}^{2}\\mathbf{{z}_{C}} \\\\ \\mathbf{{x}_{C}}\\mathbf{{z}_{C}}^{3} \\end{bmatrix}=\\begin{bmatrix} 2\\mathbf{{y}_{C}}^{3} \\\\ 0 \\\\ \\mathbf{{z}_{C}}^{3} \\end{bmatrix}$"
      ],
      "text/plain": [
       "<IPython.core.display.Math object>"
      ]
     },
     "metadata": {},
     "output_type": "display_data"
    }
   ],
   "source": [
    "f_v = Matrix([f_x,f_y,f_z])\n",
    "df_v_dx = f_v.diff(x)\n",
    "print_tex(r'\\frac{\\partial \\vec{f}}{\\partial x}=',r'\\frac{\\partial}{\\partial x}', np.array(f_v), '=',np.array(df_v_dx))\n"
   ]
  },
  {
   "cell_type": "markdown",
   "metadata": {},
   "source": [
    "***\n",
    "## Gradient of a function\n",
    "Gradient $\\nabla \\cdot$ of a scalar function shows the direction of steepest increase in value of the function\n",
    "$$\\nabla f(x_1,x_2) = \\nabla f(x,y) = \n",
    "\\begin{bmatrix} \n",
    "\\frac{\\partial f}{\\partial x} (x,y) \\\\ \\frac{\\partial f}{\\partial y} (x,y)\n",
    "\\end{bmatrix}\n",
    "$$\n",
    "One can think of $\\nabla \\cdot$ derivative vector operator\n",
    "$$\\nabla  = \\frac{\\partial }{\\partial x}\\hat{i}  + \\frac{\\partial }{\\partial y}\\hat{j}=  \\begin{bmatrix} \n",
    "\\frac{\\partial }{\\partial x} \\\\ \\frac{\\partial }{\\partial y}\n",
    "\\end{bmatrix}=\n",
    "\\begin{bmatrix} \n",
    "\\frac{\\partial }{\\partial x} & \\frac{\\partial }{\\partial y}\n",
    "\\end{bmatrix}^T\n",
    "$$\n",
    "which acts on a scalar function from the left.\n",
    "\n",
    "Takeaway: similarly to vector-scalar multiplication, gradient produces a vector of same shape."
   ]
  },
  {
   "cell_type": "code",
   "execution_count": 4,
   "metadata": {},
   "outputs": [
    {
     "data": {
      "text/latex": [
       "$\\displaystyle f(x,y,z) = 2 \\mathbf{{x}_{C}} \\mathbf{{y}_{C}}^{3} + \\mathbf{{x}_{C}} \\mathbf{{z}_{C}}^{3} + 3 \\mathbf{{y}_{C}}^{2} \\mathbf{{z}_{C}}$"
      ],
      "text/plain": [
       "<IPython.core.display.Math object>"
      ]
     },
     "metadata": {},
     "output_type": "display_data"
    },
    {
     "data": {
      "text/latex": [
       "$\\displaystyle \\sum_i (\\nabla f)_i \\vec{e}_i =\\left(2 \\mathbf{{y}_{C}}^{3} + \\mathbf{{z}_{C}}^{3}\\right)\\mathbf{\\hat{i}_{C}} + \\left(6 \\mathbf{{x}_{C}} \\mathbf{{y}_{C}}^{2} + 6 \\mathbf{{y}_{C}} \\mathbf{{z}_{C}}\\right)\\mathbf{\\hat{j}_{C}} + \\left(3 \\mathbf{{x}_{C}} \\mathbf{{z}_{C}}^{2} + 3 \\mathbf{{y}_{C}}^{2}\\right)\\mathbf{\\hat{k}_{C}}$"
      ],
      "text/plain": [
       "<IPython.core.display.Math object>"
      ]
     },
     "metadata": {},
     "output_type": "display_data"
    },
    {
     "data": {
      "text/latex": [
       "$\\displaystyle \\nabla f = \\begin{bmatrix} 2\\mathbf{{y}_{C}}^{3}+\\mathbf{{z}_{C}}^{3} \\\\ 6\\mathbf{{x}_{C}}\\mathbf{{y}_{C}}^{2}+6\\mathbf{{y}_{C}}\\mathbf{{z}_{C}} \\\\ 3\\mathbf{{x}_{C}}\\mathbf{{z}_{C}}^{2}+3\\mathbf{{y}_{C}}^{2} \\end{bmatrix}$"
      ],
      "text/plain": [
       "<IPython.core.display.Math object>"
      ]
     },
     "metadata": {},
     "output_type": "display_data"
    }
   ],
   "source": [
    "f_xyz = f_x + f_y + f_z\n",
    "print_tex('f(x,y,z) = ', latex(f_xyz))\n",
    "grad = gradient(f_xyz)\n",
    "print_tex(r'\\sum_i (\\nabla f)_i \\vec{e}_i =',latex(grad))\n",
    "grad_true = Matrix([[grad.dot(basis_vec) for basis_vec in [C.i, C.j, C.k]]]).T # extract components\n",
    "print_tex(r'\\nabla f = ', np.array(grad_true))"
   ]
  },
  {
   "cell_type": "markdown",
   "metadata": {},
   "source": [
    "***\n",
    "## Jacobian matrix\n",
    "\n",
    "Jacobian matrix of a vector function is a storage of different derivatives of a vector:\n",
    "$$ \\vec{J}(\\vec{f}(x,y)) = \\begin{bmatrix} \n",
    "\\frac{\\partial \\vec{f}}{\\partial x} & \\frac{\\partial \\vec{f}}{\\partial y}\n",
    "\\end{bmatrix}$$\n",
    "Since we have seen that\n",
    "$$\\frac{\\partial \\vec{f}}{\\partial x} =  \\frac{\\partial}{\\partial x} \\begin{bmatrix} \n",
    "f_x \\\\ f_y\n",
    "\\end{bmatrix} = \n",
    "\\begin{bmatrix} \n",
    "\\frac{\\partial f_x}{\\partial x} \\\\ \\frac{\\partial f_y}{\\partial x}\n",
    "\\end{bmatrix}$$\n",
    "Then jacobian is $n \\times n$ matrix, where $n = |x,y,\\dots|$\n",
    "\n",
    "$$\\vec{J}(\\vec{f}(x,y)) = \\begin{bmatrix} \n",
    "\\frac{\\partial f_x}{\\partial x} & \\frac{\\partial f_x}{\\partial y} \\\\\n",
    "\\frac{\\partial f_y}{\\partial x} & \\frac{\\partial f_y}{\\partial y}\n",
    "\\end{bmatrix}$$\n",
    "\n",
    ">Naturally following also applies here\n",
    ">$$\\bigg[\\vec{J}(\\vec{f})\\bigg]_{i,j} = \\frac{\\partial f_j}{\\partial x_i}$$"
   ]
  },
  {
   "cell_type": "code",
   "execution_count": 5,
   "metadata": {},
   "outputs": [
    {
     "data": {
      "text/latex": [
       "$\\displaystyle \\vec{J}(\\vec{f}_{xy})=\\vec{J}(\\begin{bmatrix} 2\\mathbf{{x}_{C}}\\mathbf{{y}_{C}}^{3} \\\\ 3\\mathbf{{y}_{C}}^{2}\\mathbf{{z}_{C}} \\end{bmatrix})=\\begin{bmatrix} 2\\mathbf{{y}_{C}}^{3} & 6\\mathbf{{x}_{C}}\\mathbf{{y}_{C}}^{2} \\\\ 0 & 6\\mathbf{{y}_{C}}\\mathbf{{z}_{C}} \\end{bmatrix}$"
      ],
      "text/plain": [
       "<IPython.core.display.Math object>"
      ]
     },
     "metadata": {},
     "output_type": "display_data"
    }
   ],
   "source": [
    "f_v_xy = Matrix([[f_x,  f_y]]).T\n",
    "jac_f = f_v_xy.jacobian([C.x, C.y])\n",
    "print_tex(r'\\vec{J}(\\vec{f}_{xy})=\\vec{J}(',np.array(f_v_xy),')=', np.array(jac_f))\n"
   ]
  },
  {
   "cell_type": "markdown",
   "metadata": {},
   "source": [
    ">Jacobian can be used to compute a gradient of a function. For it we need only one component vector:\n",
    ">$$\\nabla f = \\bigg\\{\\vec{J}(\\vec{f})\\bigg\\}_{i=0,j\\in[x,y,z]}^T$$\n",
    ">It is important if we dont use pre-defined coordinate system"
   ]
  },
  {
   "cell_type": "code",
   "execution_count": 6,
   "metadata": {},
   "outputs": [
    {
     "data": {
      "text/latex": [
       "$\\displaystyle \\nabla_{true} = \\begin{bmatrix} 2\\mathbf{{y}_{C}}^{3}+\\mathbf{{z}_{C}}^{3} \\\\ 6\\mathbf{{x}_{C}}\\mathbf{{y}_{C}}^{2}+6\\mathbf{{y}_{C}}\\mathbf{{z}_{C}} \\\\ 3\\mathbf{{x}_{C}}\\mathbf{{z}_{C}}^{2}+3\\mathbf{{y}_{C}}^{2} \\end{bmatrix};\\nabla_{jac} = \\begin{bmatrix} 2\\mathbf{{y}_{C}}^{3}+\\mathbf{{z}_{C}}^{3} \\\\ 6\\mathbf{{x}_{C}}\\mathbf{{y}_{C}}^{2}+6\\mathbf{{y}_{C}}\\mathbf{{z}_{C}} \\\\ 3\\mathbf{{x}_{C}}\\mathbf{{z}_{C}}^{2}+3\\mathbf{{y}_{C}}^{2} \\end{bmatrix}$"
      ],
      "text/plain": [
       "<IPython.core.display.Math object>"
      ]
     },
     "metadata": {},
     "output_type": "display_data"
    }
   ],
   "source": [
    "grad_v_jac      = Matrix([f_xyz]).jacobian([x,y,z]).T\n",
    "print_tex(r'\\nabla_{true} = ', np.array(grad_true), r';\\nabla_{jac} = ', np.array(grad_v_jac))"
   ]
  },
  {
   "cell_type": "markdown",
   "metadata": {},
   "source": [
    "***\n",
    "## Hessian\n",
    "One may choose to take a jacobian of gradient of scalar function\n",
    "$$ \\vec{J}(\\nabla f) = \\begin{bmatrix} \n",
    "\\frac{\\partial }{\\partial x}\\nabla f & \\frac{\\partial}{\\partial y}\\nabla f\n",
    "\\end{bmatrix}\n",
    "=\n",
    "\\begin{bmatrix} \n",
    "\\frac{\\partial}{\\partial x}\\begin{bmatrix} \\frac{\\partial f}{\\partial x} \\\\ \\frac{\\partial f}{\\partial y}\\end{bmatrix}\n",
    " & \\frac{\\partial}{\\partial y} \\begin{bmatrix} \\frac{\\partial f}{\\partial x} \\\\ \\frac{\\partial f}{\\partial y} \\end{bmatrix}\n",
    "\\end{bmatrix}=\n",
    "\\begin{bmatrix} \n",
    "\\frac{\\partial}{\\partial x} \\frac{\\partial f}{\\partial x} & \\frac{\\partial}{\\partial y} \\frac{\\partial f}{\\partial x} \\\\\n",
    "\\frac{\\partial}{\\partial x} \\frac{\\partial f}{\\partial y} & \\frac{\\partial}{\\partial y} \\frac{\\partial f}{\\partial y} \\\\\n",
    "\\end{bmatrix}=\n",
    "\\underbrace{\n",
    "    \\begin{bmatrix} \n",
    "\\frac{\\partial}{\\partial x} \\frac{\\partial }{\\partial x} & \\frac{\\partial}{\\partial y} \\frac{\\partial }{\\partial x} \\\\\n",
    "\\frac{\\partial}{\\partial x} \\frac{\\partial }{\\partial y} & \\frac{\\partial}{\\partial y} \\frac{\\partial }{\\partial y} \\\\\n",
    "\\end{bmatrix}\n",
    "}_{H} f\n",
    "$$\n",
    "\n",
    "As we can see that $\\vec{J}(\\nabla \\cdot) = H (\\cdot)$ where $H$ is Hessian matrix (operator)\n",
    "\n",
    "Entry $i,j$ for Hessian is\n",
    "$$H_{j,i} = \\frac{\\partial}{\\partial x_i \\partial x_j} = \\frac{\\partial}{\\partial x_j \\partial x_i} = H_{i,j} $$\n",
    "Due to symmetry of second derivatives\n",
    "$$H_{2,1} = H_{1,2} = \\frac{\\partial}{\\partial x_2 \\partial x_1} =  \\frac{\\partial}{\\partial y \\partial x} = \\frac{\\partial}{\\partial x \\partial y}$$\n"
   ]
  },
  {
   "cell_type": "code",
   "execution_count": 7,
   "metadata": {},
   "outputs": [
    {
     "data": {
      "text/latex": [
       "$\\displaystyle H(f)=H(2 \\mathbf{{x}_{C}} \\mathbf{{y}_{C}}^{3} + \\mathbf{{x}_{C}} \\mathbf{{z}_{C}}^{3} + 3 \\mathbf{{y}_{C}}^{2} \\mathbf{{z}_{C}}) = \\begin{bmatrix} 0 & 6\\mathbf{{y}_{C}}^{2} & 3\\mathbf{{z}_{C}}^{2} \\\\ 6\\mathbf{{y}_{C}}^{2} & 12\\mathbf{{x}_{C}}\\mathbf{{y}_{C}}+6\\mathbf{{z}_{C}} & 6\\mathbf{{y}_{C}} \\\\ 3\\mathbf{{z}_{C}}^{2} & 6\\mathbf{{y}_{C}} & 6\\mathbf{{x}_{C}}\\mathbf{{z}_{C}} \\end{bmatrix}$"
      ],
      "text/plain": [
       "<IPython.core.display.Math object>"
      ]
     },
     "metadata": {},
     "output_type": "display_data"
    },
    {
     "data": {
      "text/latex": [
       "$\\displaystyle \\vec{J}(\\nabla f)=\\begin{bmatrix} 0 & 6\\mathbf{{y}_{C}}^{2} & 3\\mathbf{{z}_{C}}^{2} \\\\ 6\\mathbf{{y}_{C}}^{2} & 12\\mathbf{{x}_{C}}\\mathbf{{y}_{C}}+6\\mathbf{{z}_{C}} & 6\\mathbf{{y}_{C}} \\\\ 3\\mathbf{{z}_{C}}^{2} & 6\\mathbf{{y}_{C}} & 6\\mathbf{{x}_{C}}\\mathbf{{z}_{C}} \\end{bmatrix}$"
      ],
      "text/plain": [
       "<IPython.core.display.Math object>"
      ]
     },
     "metadata": {},
     "output_type": "display_data"
    }
   ],
   "source": [
    "hess = hessian(f_xyz,[x,y,z])\n",
    "print_tex('H(f)=H(',latex(f_xyz),') = ', np.array(hess))\n",
    "hess_v2 = grad_true.jacobian([x,y,z])\n",
    "print_tex(r'\\vec{J}(\\nabla f)=',np.array(hess_v2))"
   ]
  }
 ],
 "metadata": {
  "kernelspec": {
   "display_name": ".venv",
   "language": "python",
   "name": "python3"
  },
  "language_info": {
   "codemirror_mode": {
    "name": "ipython",
    "version": 3
   },
   "file_extension": ".py",
   "mimetype": "text/x-python",
   "name": "python",
   "nbconvert_exporter": "python",
   "pygments_lexer": "ipython3",
   "version": "3.9.13"
  }
 },
 "nbformat": 4,
 "nbformat_minor": 2
}
