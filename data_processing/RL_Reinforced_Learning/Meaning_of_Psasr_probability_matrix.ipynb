{
 "cells": [
  {
   "cell_type": "markdown",
   "metadata": {},
   "source": [
    "[Tabular_Value_approach.ipynb](data_processing/neural_networks/RL_Reinforced_Learning/M_Lapan_book/Tabular_Value_approach.ipynb)\n",
    "\n",
    "MDP can be deterministic or stochastic. \n",
    "*   `Deterministic MDP`:\n",
    "\n",
    "    In this case reward $R(s, a, s^\\prime)$ for reaching state $s^\\prime$ via action $a$ is predefined and guaranteed.\n",
    "    $$R(s, a, s^\\prime) = const$$\n",
    "    Actions $a$ taken from state $s$ guides an agent to target state $s^\\prime$ with 100% certainty.\n",
    "\n",
    "    $$P_T(s,a,s^\\prime) = \\begin{cases} 1, \\text{ Transition defined} \\\\ 0, \\text{ Transition undefined} \\end{cases}$$\n",
    "\n",
    "\n",
    "\n",
    "*   `Stochastic MDP`:\n",
    "\n",
    "    In this case rewards for reaching state can be sampled from a distribution and, in general, can be a funciton of initial and target states $s^\\prime$ and action that was taken\n",
    "    $$ 0 \\leq P_R = P(r = R| s, a, s^\\prime) \\leq 1$$\n",
    "    $$ \\bar R(s,a,s^\\prime) = \\mathbb{E}[P_r(r,|s,a,s^\\prime)] = \\sum_r r \\cdot P(r = r |s, a, s^\\prime)$$\n",
    "    $$\\sum_{r} P(r| s,a,s^\\prime) = 1$$\n",
    "    and taking an action might result in visiting one of multiple states.\n",
    "    $$ 0 \\leq  P_T(s,a,s^\\prime) \\leq 1$$\n",
    "    $$\\sum_{s^\\prime} P_T(s,a,s^\\prime) = 1$$\n",
    "\n",
    "***\n",
    "In following example we will examine case where \n",
    "*   agent has only 2 actions: move  left or right.\n",
    "\n",
    "*   In some states applying action might propel agent further than usual- this is stochasticity of action-target-state.\n",
    "\n",
    "*   Depending on how big was the 'jump' agent gets a reward proportional to displacement\n",
    "\n",
    "*   Chances of random action are pre-baked into environment (like icy patch in \"Frozen Lake\")\n"
   ]
  },
  {
   "cell_type": "markdown",
   "metadata": {},
   "source": [
    "\n",
    "***\n",
    "*   $p(s,a,s^\\prime,r)$ shows tha smallest and most fundamental piece of information about the system\n",
    "*   knowing it, you can calculate everything about the system using conditioning and marginalization\n",
    "*   it can be analyzed by splitting into chain of conditional probabilities:\n",
    "    $$p(s,a,s^\\prime,r) = p(s) \\cdot p(a|s) \\cdot p(s^\\prime|s,a) \\cdot p(r|s,a,s^\\prime)$$\n",
    "\n",
    "*   part $p(s^\\prime|s,a) \\cdot p(r|s,a,s^\\prime)$ is fully controlled by environment;\n",
    "*   part $p(a|s) = \\pi(a|s)$ is a policy, which describes an agent;\n",
    "*   $p(s)$ is sort of complexity of a system.\n",
    "\n",
    "We can isolate part controlled by environment by performing following conditioning:\n",
    "\n",
    "$$p(s,a,s^\\prime,r|s,a) = \\frac{p((s \\cap a \\cap s^\\prime \\cap r) \\cap (s \\cap a))}{p(s \\cap a)} = \\frac{p(s \\cap a \\cap s^\\prime \\cap r)}{p(s \\cap a)}= \\frac{p(s,a,s^\\prime ,r)}{p(s,a)}=  p(s^\\prime,r|s,a)\\Rightarrow$$\n",
    "$$p(s^\\prime,r|s,a) = \\frac{p(s,a,s^\\prime ,r)}{p(s,a)}=\\frac{p(s) \\cdot p(a|s) \\cdot p(s^\\prime|s,a) \\cdot p(r|s,a,s^\\prime)}{p(s)\\cdot p(a|s)} = p(s^\\prime|s,a) \\cdot p(r|s,a,s^\\prime)\\Rightarrow$$\n",
    "$$\\boxed{p(s^\\prime,r|s,a) = p(s^\\prime|s,a) \\cdot p(r|s,a,s^\\prime)}$$\n",
    "***"
   ]
  },
  {
   "cell_type": "markdown",
   "metadata": {},
   "source": [
    "You can see that\n",
    "$$\\sum_r p(s^\\prime,r|s,a) = \\sum_r p(s^\\prime|s,a) \\cdot p(r|s,a,s^\\prime) = p(s^\\prime|s,a)  \\cdot \\sum_r p(r|s,a,s^\\prime) = p(s^\\prime|s,a) \\cdot 1$$\n",
    "so <i>Transition Probability </i>\n",
    "$$\\boxed{p(s^\\prime|s,a) = \\sum_r p(s^\\prime,r|s,a)}$$\n",
    "\n",
    "and normalization\n",
    "$$\\sum_{s^\\prime} \\sum_r p(s^\\prime,r|s,a) = \\sum_{s^\\prime} p(s^\\prime|s,a)  = 1$$\n"
   ]
  },
  {
   "cell_type": "markdown",
   "metadata": {},
   "source": [
    "Alternatively, as a part of derivation:\n",
    "$$\\frac{p(s \\cap a \\cap s^\\prime \\cap r)}{p(s \\cap a)} = \\frac{p(s, a , s^\\prime, r)}{p(s, a)} = p(s^\\prime,r|s,a)$$\n",
    "\n",
    "implies normalization by $p(s, a)$. \n",
    "\n",
    "Using marginalization we can show:\n",
    "$$\\sum_{r \\in R} \\sum_{s^\\prime \\in S} p(s^\\prime, r|s,a)= \\frac{\\sum_{r \\in R} \\sum_{s^\\prime \\in S} p(s, a , s^\\prime, r)}{p(s, a)}= \\frac{p(s, a )}{p(s, a)} = 1$$"
   ]
  },
  {
   "cell_type": "code",
   "execution_count": 2,
   "metadata": {},
   "outputs": [
    {
     "name": "stdout",
     "output_type": "stream",
     "text": [
      "input example : \n",
      ">>> arr_T = np.array([[r'\\vec{v}_1', r'\\vec{v}_2']]).T\n",
      ">>> print_tex(arr_T,'=', np.arange(1,5).reshape(2,-1)/4, r'; symbols: \\otimes, \\cdot,\\times')\n",
      "output: \n"
     ]
    },
    {
     "data": {
      "text/latex": [
       "$\\displaystyle \\begin{bmatrix}\\vec{v}_1 \\\\ \\vec{v}_2\\end{bmatrix}=\\begin{bmatrix} 1/4 & 1/2 \\\\ 3/4 & 1 \\end{bmatrix}; symbols: \\otimes, \\cdot,\\times$"
      ],
      "text/plain": [
       "<IPython.core.display.Math object>"
      ]
     },
     "metadata": {},
     "output_type": "display_data"
    }
   ],
   "source": [
    "import networkx as nx\n",
    "import numpy as np\n",
    "import matplotlib.pyplot as plt\n",
    "from networkx import grid_graph\n",
    "from misc_tools.print_latex import print_tex"
   ]
  },
  {
   "cell_type": "code",
   "execution_count": 3,
   "metadata": {},
   "outputs": [
    {
     "data": {
      "image/png": "[encoded data removed]",
      "text/plain": [
       "<Figure size 800x200 with 1 Axes>"
      ]
     },
     "metadata": {},
     "output_type": "display_data"
    }
   ],
   "source": [
    "determenistic = False\n",
    "np.random.seed(1)\n",
    "num_nodes = 6\n",
    "nodes_all = np.arange(num_nodes)\n",
    "edges_1_step    = [(a,b, {'action': 'right'}) for a,b in zip(nodes_all[:-1],nodes_all[1:])]\n",
    "edges_1_step_r  = [(b,a, {'action': 'left'}) for a,b,_ in edges_1_step]\n",
    "edges_2_step    = edges_3_step = []\n",
    "\n",
    "if not determenistic:\n",
    "    edges_2_step = [(1,3, {'action': 'right'}), (5,3, {'action': 'left'})]\n",
    "    edges_3_step = [(2,5, {'action': 'right'})]\n",
    "\n",
    "\n",
    "G = nx.DiGraph(edges_1_step + edges_1_step_r)\n",
    "G.add_edges_from(edges_2_step + edges_3_step)\n",
    "\n",
    "\n",
    "\n",
    "pos = {i:np.array([i,0]) for i in nodes_all}\n",
    "fig, ax = plt.subplots(1,1, figsize = (8,2))\n",
    "nx.draw_networkx_nodes( G, pos,ax = ax)\n",
    "nx.draw_networkx_labels(G, pos,ax = ax)\n",
    "nx.draw_networkx_edges( G, pos,ax = ax, connectionstyle=\"arc3,rad=0.15\", edgelist=edges_1_step + edges_1_step_r)\n",
    "nx.draw_networkx_edges( G, pos,ax = ax, connectionstyle=\"arc3,rad=0.25\", edgelist=edges_2_step + edges_3_step)\n",
    "\n",
    "#nx.draw_networkx_edge_labels(   G, pos, edge_labels= edge_labels);\n",
    "adj = nx.adjacency_matrix(G).todense()"
   ]
  },
  {
   "cell_type": "code",
   "execution_count": 4,
   "metadata": {},
   "outputs": [
    {
     "data": {
      "text/latex": [
       "$\\displaystyle \\begin{bmatrix}s_0 & s_1 & s_2 & s_3 & s_4 & s_5\\end{bmatrix}\\begin{bmatrix}\\rightarrow & \\leftarrow\\end{bmatrix}$"
      ],
      "text/plain": [
       "<IPython.core.display.Math object>"
      ]
     },
     "metadata": {},
     "output_type": "display_data"
    }
   ],
   "source": [
    "a_right = 0\n",
    "a_left = 1\n",
    "actions = np.array([a_right,a_left])\n",
    "actions_vis = np.array([[r'\\rightarrow',r'\\leftarrow']]).T\n",
    "\n",
    "states_vis = np.array([[f's_{i}' for i in nodes_all]])\n",
    "states_vis_a = np.hstack([[['a']], states_vis])\n",
    "print_tex(states_vis,actions_vis.T )"
   ]
  },
  {
   "cell_type": "markdown",
   "metadata": {},
   "source": [
    "## Define $P(r|s,a,s^\\prime)$\n",
    "Probability of giving some reward $r$ will be proportional to \"jump\" length:\n",
    "$$p(r|s,a,s^\\prime) = p(r|d(s, s^\\prime)) = p(r|s, s^\\prime)$$"
   ]
  },
  {
   "cell_type": "code",
   "execution_count": 5,
   "metadata": {},
   "outputs": [
    {
     "data": {
      "text/latex": [
       "$\\displaystyle p(r|d(s,s^\\prime))=\\begin{bmatrix}\\cdot & P(r = 0) & P(r = 1) & P(r = 2) & P(r = 3) & P(r = 4) \\\\ p(r|d = 0) & 1.0 & 0.0 & 0.0 & 0.0 & 0.0 \\\\ p(r|d = 1) & 0.2 & 0.6 & 0.2 & 0.0 & 0.0 \\\\ p(r|d = 2) & 0.0 & 0.2 & 0.6 & 0.2 & 0.0 \\\\ p(r|d = 3) & 0.0 & 0.0 & 0.2 & 0.6 & 0.2 \\\\ p(r|d = 4) & 0.0 & 0.0 & 0.0 & 0.0 & 1.0\\end{bmatrix}$"
      ],
      "text/plain": [
       "<IPython.core.display.Math object>"
      ]
     },
     "metadata": {},
     "output_type": "display_data"
    }
   ],
   "source": [
    "# rewards = leap length, leap length +/- 1 for all leap lengths > 1\n",
    "rewards = np.arange(3 + 2)\n",
    "dists = rewards.copy()\n",
    "if not determenistic:\n",
    "    reward_action_dist_distr = np.array([   [1  , 0  , 0  , 0   , 0  ],\n",
    "                                            [0.2, 0.6, 0.2, 0   , 0  ],\n",
    "                                            [0  , 0.2, 0.6, 0.2 , 0  ],\n",
    "                                            [0  , 0  , 0.2, 0.6 , 0.2],\n",
    "                                            [0  , 0  , 0  , 0   , 1  ]])\n",
    "else:\n",
    "    reward_action_dist_distr = np.eye(len(rewards))\n",
    "\n",
    "rewards_distr = {i:v for i,v in zip(dists, reward_action_dist_distr)}\n",
    "\n",
    "a = np.array([[r'\\cdot']+[f'p(r|d = {d})'  for d in dists]]).T\n",
    "b = np.array([[f'P(r = {r})'        for r in rewards]])\n",
    "c = np.hstack([a, np.vstack([b,reward_action_dist_distr])])\n",
    "print_tex('p(r|d(s,s^\\prime))=',c)\n",
    "expected_rewards = {i:np.average(dists, weights=v).round(3) for i,v in zip(dists, reward_action_dist_distr)}\n"
   ]
  },
  {
   "cell_type": "markdown",
   "metadata": {},
   "source": [
    "## Define $P(s^\\prime|s,a)$\n",
    "Probability to transition to state $s^\\prime$ from $s$ via action $a$ will be \"~inversely\\reveserly\" proportional to 'jump' length\n",
    "$$p(s^\\prime|s,a) = p(s^\\prime|d(s, s^\\prime)) = p(s^\\prime|s)$$"
   ]
  },
  {
   "cell_type": "code",
   "execution_count": 6,
   "metadata": {},
   "outputs": [
    {
     "data": {
      "text/latex": [
       "$\\displaystyle p(s^\\prime|s,a) = f(s, s^\\prime) \\Rightarrow \\begin{bmatrix}\\text{distance} \\\\ p(dist)\\end{bmatrix}\\begin{bmatrix} 0 & 1 & 2 & 3 & 4 \\\\ 0.486 & 0.286 & 0.143 & 0.057 & 0.029 \\end{bmatrix}$"
      ],
      "text/plain": [
       "<IPython.core.display.Math object>"
      ]
     },
     "metadata": {},
     "output_type": "display_data"
    }
   ],
   "source": [
    "if not determenistic:\n",
    "    action_dist_distr = np.flip(dists**2+1)/(dists**2+1).sum()\n",
    "\n",
    "action_dist_distr_d = {d:v for d,v in zip(dists, action_dist_distr)}\n",
    "print_tex('p(s^\\prime|s,a) = f(s, s^\\prime) \\Rightarrow ', np.array([[r'\\text{distance}','p(dist)']]).T,np.vstack([dists, action_dist_distr.round(3)]), frmt='{:3.3f}')"
   ]
  },
  {
   "cell_type": "markdown",
   "metadata": {},
   "source": [
    "## Construct   $p(s^\\prime,r|s,a)$  from reward and transition distributions\n",
    "$p(s^\\prime,r|s,a)$ can be calculated if i know p-distribution for rewards for $p(r|s,a,s^\\prime)$, each $(s,a,s^\\prime)$ tuple, and distribution of transitions $p(s^\\prime|s,a)$ to $s^\\prime$\n",
    "$$p(s^\\prime,r|s,a) = p(s^\\prime|s,a) \\cdot p(r|s,a,s^\\prime)$$"
   ]
  },
  {
   "cell_type": "code",
   "execution_count": 7,
   "metadata": {},
   "outputs": [
    {
     "data": {
      "image/png": "[encoded data removed]",
      "text/plain": [
       "<Figure size 800x200 with 1 Axes>"
      ]
     },
     "metadata": {},
     "output_type": "display_data"
    },
    {
     "data": {
      "text/latex": [
       "$\\displaystyle p(r,s^\\prime|,s a)[s = s_5, a = \\text{\"left\"}]=\\begin{bmatrix}\\cdot & P(r = 0) & P(r = 1) & P(r = 2) & P(r = 3) & P(r = 4) \\\\ s^\\prime = s_0 & 0.0 & 0.0 & 0.0 & 0.0 & 0.0 \\\\ s^\\prime = s_1 & 0.0 & 0.0 & 0.0 & 0.0 & 0.0 \\\\ s^\\prime = s_2 & 0.0 & 0.0 & 0.0 & 0.0 & 0.0 \\\\ s^\\prime = s_3 & 0.0 & 0.067 & 0.2 & 0.067 & 0.0 \\\\ s^\\prime = s_4 & 0.133 & 0.4 & 0.133 & 0.0 & 0.0 \\\\ s^\\prime = s_5 & 0.0 & 0.0 & 0.0 & 0.0 & 0.0\\end{bmatrix}$"
      ],
      "text/plain": [
       "<IPython.core.display.Math object>"
      ]
     },
     "metadata": {},
     "output_type": "display_data"
    },
    {
     "data": {
      "text/latex": [
       "$\\displaystyle \\sum_{s^\\prime, r} P(s^\\prime,r|s,a)= \\begin{bmatrix}a & \\rightarrow & \\leftarrow \\\\ s_0 & 1.0 & 0.0 \\\\ s_1 & 1.0 & 1.0 \\\\ s_2 & 1.0 & 1.0 \\\\ s_3 & 1.0 & 1.0 \\\\ s_4 & 1.0 & 1.0 \\\\ s_5 & 0.0 & 1.0\\end{bmatrix}$"
      ],
      "text/plain": [
       "<IPython.core.display.Math object>"
      ]
     },
     "metadata": {},
     "output_type": "display_data"
    }
   ],
   "source": [
    "P_spr_sa = np.zeros((num_nodes, len(actions), num_nodes, len(rewards)))\n",
    "display(fig)\n",
    "for i in G.nodes():\n",
    "    neighbors   = list(G.neighbors(i))\n",
    "    dists_n     = np.abs(np.array(neighbors) - i)\n",
    "    actions_n   = [G.edges[(i,j)]['action'] for j in neighbors]\n",
    "    w_left,w_right  = np.zeros((2,num_nodes))\n",
    "\n",
    "    for d,a in zip(dists_n, actions_n):\n",
    "        if a == 'left': w_left[d]   = action_dist_distr_d[d]\n",
    "        else:           w_right[d]  = action_dist_distr_d[d]\n",
    "\n",
    "    if w_left.sum() > 0:w_left  /= w_left.sum()\n",
    "    if w_right.sum()> 0:w_right /= w_right.sum()\n",
    "\n",
    "    for n,d,a in zip(neighbors,dists_n, actions_n):    \n",
    "        action      = a_right\n",
    "        sa_weights  = w_right\n",
    "        if a == 'left': \n",
    "            action      = a_left\n",
    "            sa_weights  = w_left\n",
    "        P_spr_sa[i, action , n] = rewards_distr[d]*sa_weights[d]\n",
    "\n",
    "a = np.array([[r'\\cdot']+[f's^\\prime = s_{n}'  for n in range(num_nodes)]]).T\n",
    "b = np.array([[f'P(r = {r})'        for r in rewards]])\n",
    "c = np.hstack([a, np.vstack([b,P_spr_sa[5,1].round(3)])])\n",
    "print_tex(r'p(r,s^\\prime|,s a)[s = s_5, a = \\text{\"left\"}]=',c)\n",
    "\n",
    "\n",
    "zz = np.vstack([states_vis_a, np.hstack([actions_vis,P_spr_sa.sum(axis = (-2,-1)).T.round(3)])]).T\n",
    "print_tex('\\sum_{s^\\prime, r} P(s^\\prime,r|s,a)= ', zz)   \n"
   ]
  },
  {
   "cell_type": "markdown",
   "metadata": {},
   "source": [
    "## Test if we can recover $p(r|s,a,s^\\prime)$\n",
    "\n",
    "$$p(r|s,a,s^\\prime) = \\frac{p(s^\\prime,r|s,a)}{p(s^\\prime|s,a)}$$\n",
    "\n",
    "$$p(s^\\prime|s,a) = \\sum_r p(s^\\prime,r|s,a)$$"
   ]
  },
  {
   "cell_type": "code",
   "execution_count": 8,
   "metadata": {},
   "outputs": [
    {
     "data": {
      "text/latex": [
       "$\\displaystyle p(r|s = s_1,a = \\text{\"right\"})=\\begin{bmatrix}\\_ & P(r = 0) & P(r = 1) & P(r = 2) & P(r = 3) & P(r = 4) \\\\ s^\\prime = s_0 & 0.0 & 0.0 & 0.0 & 0.0 & 0.0 \\\\ s^\\prime = s_1 & 0.0 & 0.0 & 0.0 & 0.0 & 0.0 \\\\ s^\\prime = s_2 & 0.2 & 0.6 & 0.2 & 0.0 & 0.0 \\\\ s^\\prime = s_3 & 0.0 & 0.2 & 0.6 & 0.2 & 0.0 \\\\ s^\\prime = s_4 & 0.0 & 0.0 & 0.0 & 0.0 & 0.0 \\\\ s^\\prime = s_5 & 0.0 & 0.0 & 0.0 & 0.0 & 0.0\\end{bmatrix}$"
      ],
      "text/plain": [
       "<IPython.core.display.Math object>"
      ]
     },
     "metadata": {},
     "output_type": "display_data"
    }
   ],
   "source": [
    "p_sp_sa = P_spr_sa.sum(axis = (-1), keepdims = True)\n",
    "\n",
    "p_r_sasp = np.divide(P_spr_sa, p_sp_sa, out=np.zeros_like(P_spr_sa), where= (p_sp_sa != 0))\n",
    "\n",
    "a = np.array([[r'\\_']+[f's^\\prime = s_{i}'  for i in range(num_nodes)]]).T\n",
    "b = np.array([[f'P(r = {r})'        for r in rewards]])\n",
    "c = np.hstack([a, np.vstack([b, p_r_sasp[1,a_right] ])])\n",
    "\n",
    "print_tex(r'p(r|s = s_1,a = \\text{\"right\"})=',c)\n"
   ]
  },
  {
   "cell_type": "markdown",
   "metadata": {},
   "source": [
    "## Calculate expected reward $r(s,a,s^\\prime)$ for <i>state-action-next-state</i> triplet\n",
    "Given that\n",
    "$$p(r|s,a,s^\\prime) = \\frac{p(s^\\prime,r|s,a)}{p(s^\\prime|s,a)}$$\n",
    "Expected reward for <i>state-action-next-state</i> triplet is\n",
    "$$r(s,a,s^\\prime) = \\mathbb{E}_r[p(r|s,a,s^\\prime) ] = \\sum_r  r\\cdot p(r|s,a,s^\\prime) = \\sum_r  r\\cdot \\frac{  p(s^\\prime,r|s,a)}{p(s^\\prime|s,a)}$$\n",
    "\n",
    "$$\\boxed{r(s,a,s^\\prime) = \\frac{\\sum_r  r\\cdot p(s^\\prime,r|s,a)}{p(s^\\prime|s,a)}}$$\n",
    "<i>Note: we can do top part via matrix multiplication because its a dot product of arrays $\\vec{P_r} \\cdot \\vec{R}$ with Reward vector (for all $s$ and $a$)</i>"
   ]
  },
  {
   "cell_type": "code",
   "execution_count": 9,
   "metadata": {},
   "outputs": [
    {
     "name": "stdout",
     "output_type": "stream",
     "text": [
      "expected reward for state-action-next-state triplet\n"
     ]
    },
    {
     "data": {
      "text/latex": [
       "$\\displaystyle r(s,a,s^\\prime)[s = 1]=\\begin{bmatrix}a & s_0 & s_1 & s_2 & s_3 & s_4 & s_5 \\\\ \\rightarrow & 0.0 & 0.0 & 1.0 & 2.0 & 0.0 & 0.0 \\\\ \\leftarrow & 1.0 & 0.0 & 0.0 & 0.0 & 0.0 & 0.0\\end{bmatrix}$"
      ],
      "text/plain": [
       "<IPython.core.display.Math object>"
      ]
     },
     "metadata": {},
     "output_type": "display_data"
    },
    {
     "data": {
      "image/png": "[encoded data removed]",
      "text/plain": [
       "<Figure size 800x200 with 1 Axes>"
      ]
     },
     "metadata": {},
     "output_type": "display_data"
    },
    {
     "name": "stdout",
     "output_type": "stream",
     "text": [
      "(jump length: rew) expected_rewards = {0: 0.0, 1: 1.0, 2: 2.0, 3: 3.0, 4: 4.0}\n"
     ]
    }
   ],
   "source": [
    "r_sas_top = (P_spr_sa @ rewards)[...,None]\n",
    "r_sas = np.divide(r_sas_top, p_sp_sa, out = np.zeros_like(r_sas_top), where= (p_sp_sa != 0))\n",
    "r_sas= np.squeeze(r_sas,-1)\n",
    "test_node = 1\n",
    "print(f'expected reward for state-action-next-state triplet')\n",
    "\n",
    "print_tex(f'r(s,a,s^\\prime)[s = {test_node}]=',np.vstack([states_vis_a,\n",
    "                     np.hstack([actions_vis,r_sas[test_node]])]))\n",
    "display(fig)\n",
    "print(f'(jump length: rew) {expected_rewards = }')"
   ]
  },
  {
   "cell_type": "markdown",
   "metadata": {},
   "source": [
    "### How to calculate expected reward $r(s,a) = \\mathbb{E}_{s^\\prime}[r(s,a,s^\\prime)]$ for state-action pair?\n",
    "Expected reward for state-action pair is $\\mathbb{E}_{s^\\prime}[r(s,a,s^\\prime)]$\n",
    "\n",
    "$$r(s,a) = \\sum_{s^\\prime \\in S} p(s^\\prime | s,a) \\cdot r(s,a,s^\\prime)   =  \\sum_{s^\\prime \\in S} p(s^\\prime | s,a) \\cdot \\frac{\\sum_{r \\in R} r \\cdot p(s^\\prime, r|s,a)}{p(s^\\prime | s,a) } = \\sum_{r \\in R} \\sum_{s^\\prime \\in S} r \\cdot p(s^\\prime, r|s,a) $$\n",
    "$$\\boxed{r(s,a) =  \\sum_{r \\in R} \\sum_{s^\\prime \\in S} r \\cdot p(s^\\prime, r|s,a) }$$\n",
    "Clearly, its some operation between reward vector $\\vec{R}$ and $P$ matrix ($s,a$ dimensions dropped for clarity, $s^\\prime \\rightarrow s$):\n",
    "$$\\Rightarrow \\sum_r  \\sum_s (\\vec{R})_r  \\cdot P_{s,r} = \\sum_s \\left( \\sum_r  P_{s,r} \\cdot (\\vec{R})_r  \\right) =  $$\n",
    "$$ =\\left| \\sum_s  P_{s,r} \\cdot (\\vec{R})_r = (\\vec{S})_r \\Leftrightarrow P\\vec{R} = \\vec{S} \\right|= \\sum_s (\\vec{S})_s\n",
    "$$\n",
    "Or with $s,a$ dimensions:\n",
    "$$r(s,a) = \\sum_{s^\\prime} \\left( \\sum_r  P_{s,a, s^\\prime,r} \\cdot (\\vec{R})_r  \\right)$$"
   ]
  },
  {
   "cell_type": "code",
   "execution_count": 10,
   "metadata": {},
   "outputs": [
    {
     "data": {
      "text/latex": [
       "$\\displaystyle r(s,a) =\\begin{bmatrix}a \\\\ s_0 \\\\ s_1 \\\\ s_2 \\\\ s_3 \\\\ s_4 \\\\ s_5\\end{bmatrix}\\begin{bmatrix}\\rightarrow & \\leftarrow \\\\ 1.0 & 0.0 \\\\ 1.3 & 1.0 \\\\ 1.3 & 1.0 \\\\ 1.0 & 1.0 \\\\ 1.0 & 1.0 \\\\ 0.0 & 1.3\\end{bmatrix}$"
      ],
      "text/plain": [
       "<IPython.core.display.Math object>"
      ]
     },
     "metadata": {},
     "output_type": "display_data"
    },
    {
     "data": {
      "image/png": "[encoded data removed]",
      "text/plain": [
       "<Figure size 800x200 with 1 Axes>"
      ]
     },
     "metadata": {},
     "output_type": "display_data"
    }
   ],
   "source": [
    "r_sa = (P_spr_sa @ rewards).sum(axis=(-1))\n",
    "print_tex(f'r(s,a) =', np.array([['a'] +[f's_{i}' for i in nodes_all]]).T,\n",
    "          np.vstack([actions_vis.T,np.round(r_sa,1)]))\n",
    "display(fig)"
   ]
  },
  {
   "cell_type": "markdown",
   "metadata": {},
   "source": [
    "# Everything past this stage is not refined/correct"
   ]
  },
  {
   "cell_type": "markdown",
   "metadata": {},
   "source": [
    "<i>We can see that expected rewards for transitions in direction with multiple outcomes are more favorable.\n",
    "\n",
    "<b>We could</b> develop a policy for best action $a$ at state $s$: $a = \\pi(s)$, only based on <u>immediate</u> reward. Thus by</i>\n",
    "\n",
    "$$\\pi(s) = \\underset{a}{\\mathrm{Argmax}} \\left[ r(s,a) \\right]$$\n",
    "\n",
    "But it is only one many options. Lets test it."
   ]
  },
  {
   "cell_type": "code",
   "execution_count": 11,
   "metadata": {},
   "outputs": [
    {
     "data": {
      "text/latex": [
       "$\\displaystyle \\text{policy }\\pi(s):$"
      ],
      "text/plain": [
       "<IPython.core.display.Math object>"
      ]
     },
     "metadata": {},
     "output_type": "display_data"
    },
    {
     "data": {
      "text/latex": [
       "$\\displaystyle \\begin{bmatrix}s_0 & s_1 & s_2 & s_3 & s_4 & s_5 \\\\ \\rightarrow & \\rightarrow & \\rightarrow & \\rightarrow & \\rightarrow & \\leftarrow\\end{bmatrix}$"
      ],
      "text/plain": [
       "<IPython.core.display.Math object>"
      ]
     },
     "metadata": {},
     "output_type": "display_data"
    },
    {
     "data": {
      "image/png": "[encoded data removed]",
      "text/plain": [
       "<Figure size 800x200 with 1 Axes>"
      ]
     },
     "metadata": {},
     "output_type": "display_data"
    }
   ],
   "source": [
    "pi_s = np.argmax(r_sa, axis= -1)    # ties are broken by selecting 0 = right action\n",
    "print_tex(r'\\text{policy }\\pi(s):')\n",
    "print_tex(np.vstack([states_vis, np.array([actions_vis[i] for i in pi_s]).T]))\n",
    "display(fig)"
   ]
  },
  {
   "cell_type": "markdown",
   "metadata": {},
   "source": [
    "Expected reward for visiting a state under policy $\\pi$ is\n",
    "$$r(s) = \\mathbb{E}[r(s,a = \\pi(s), s^\\prime)] = \\sum_{s^\\prime \\in S} p(s^\\prime | s, a = \\pi(s))\\cdot r(s,a = \\pi(s), s^\\prime)$$\n",
    "Means: my policy tells me to do action $a = \\pi(s)$ at state $s$. This action can lead to states $s^\\prime \\in S$ with some chance $p(s^\\prime | s, a = \\pi(s))$ where you get expected reward $r(s,a = \\pi(s), s^\\prime)$"
   ]
  },
  {
   "cell_type": "code",
   "execution_count": 13,
   "metadata": {},
   "outputs": [
    {
     "data": {
      "text/latex": [
       "$\\displaystyle p(s^\\prime | s, a = \\pi(s)) = \\begin{bmatrix}s_0 & s_1 & s_2 & s_3 & s_4 & s_5 \\\\ 0.0 & 1.0 & 0.0 & 0.0 & 0.0 & 0.0 \\\\ 0.0 & 0.0 & 0.67 & 0.33 & 0.0 & 0.0 \\\\ 0.0 & 0.0 & 0.0 & 0.83 & 0.0 & 0.17 \\\\ 0.0 & 0.0 & 0.0 & 0.0 & 1.0 & 0.0 \\\\ 0.0 & 0.0 & 0.0 & 0.0 & 0.0 & 1.0 \\\\ 0.0 & 0.0 & 0.0 & 0.33 & 0.67 & 0.0\\end{bmatrix}\\begin{bmatrix}a \\\\ \\rightarrow \\\\ \\rightarrow \\\\ \\rightarrow \\\\ \\rightarrow \\\\ \\rightarrow \\\\ \\leftarrow\\end{bmatrix}$"
      ],
      "text/plain": [
       "<IPython.core.display.Math object>"
      ]
     },
     "metadata": {},
     "output_type": "display_data"
    }
   ],
   "source": [
    "p_sp_spi    = p_sp_sa[np.arange(num_nodes),pi_s]    # selecting a from policy\n",
    "print_tex(  \"p(s^\\prime | s, a = \\pi(s)) = \",\n",
    "            np.vstack([states_vis, np.squeeze(p_sp_spi,-1).round(2)]), \n",
    "            np.array([['a']]+[actions_vis[i] for i in pi_s]))"
   ]
  },
  {
   "cell_type": "code",
   "execution_count": null,
   "metadata": {},
   "outputs": [
    {
     "data": {
      "text/latex": [
       "$\\displaystyle r(s,a = \\pi(s), s^\\prime) = \\begin{bmatrix}s_0 & s_1 & s_2 & s_3 & s_4 & s_5 \\\\ 0 & 1 & 0 & 0 & 0 & 0 \\\\ 0 & 0 & 1 & 2 & 0 & 0 \\\\ 0 & 0 & 0 & 1 & 0 & 3 \\\\ 0 & 0 & 0 & 0 & 1 & 0 \\\\ 0 & 0 & 0 & 0 & 0 & 1 \\\\ 0 & 0 & 0 & 2 & 1 & 0\\end{bmatrix}\\begin{bmatrix}a \\\\ \\rightarrow \\\\ \\rightarrow \\\\ \\rightarrow \\\\ \\rightarrow \\\\ \\rightarrow \\\\ \\leftarrow\\end{bmatrix}$"
      ],
      "text/plain": [
       "<IPython.core.display.Math object>"
      ]
     },
     "metadata": {},
     "output_type": "display_data"
    }
   ],
   "source": [
    "r_spis = r_sas[np.arange(num_nodes),pi_s]\n",
    "print_tex(  \"r(s,a = \\pi(s), s^\\prime) = \",\n",
    "            np.vstack([states_vis, r_spis.round(1).astype(int)]), \n",
    "            np.array([['a']]+[actions_vis[i] for i in pi_s]))"
   ]
  },
  {
   "cell_type": "markdown",
   "metadata": {},
   "source": [
    "You can notice that $$r(s) = \\mathrm{max}_a r(s,a)$$ that is because we actually have chosen our policy to be greedy\n",
    "$$\\pi(s) = \\underset{a}{\\mathrm{Argmax}} \\left[ r(s,a) \\right]$$"
   ]
  },
  {
   "cell_type": "code",
   "execution_count": null,
   "metadata": {},
   "outputs": [
    {
     "data": {
      "text/latex": [
       "$\\displaystyle \\begin{bmatrix}s_0 & s_1 & s_2 & s_3 & s_4 & s_5 \\\\ 1.0 & 1.2 & 1.18182 & 1.0 & 1.0 & 1.2\\end{bmatrix}$"
      ],
      "text/plain": [
       "<IPython.core.display.Math object>"
      ]
     },
     "metadata": {},
     "output_type": "display_data"
    }
   ],
   "source": [
    "r_s = (p_sp_spi * r_spis).sum(axis = -1)\n",
    "print_tex(np.vstack((states_vis,r_s.round(5))))"
   ]
  },
  {
   "cell_type": "markdown",
   "metadata": {},
   "source": [
    "$$\\boxed{v(s) = r(s) + \\gamma \\sum_{s^\\prime \\in S} p(s^\\prime | s, a = \\pi(s)) \\cdot v(s^\\prime)} \\ ( \\forall s \\in S)$$\n",
    "\n",
    "Means that there are $|S|$ equations \n",
    "\n",
    "$$\n",
    "\\begin{cases}\n",
    "v(s_0) = r(s_0) + \\gamma \\sum_{s^\\prime \\in S} p(s^\\prime | s_0, a = \\pi(s_0)) \\cdot v(s^\\prime)\\\\\n",
    "v(s_1) = r(s_1) + \\gamma \\sum_{s^\\prime \\in S} p(s^\\prime | s_1, a = \\pi(s_1)) \\cdot v(s^\\prime)\\\\\n",
    "\\dots\\\\\n",
    "v(s_n) = r(s_n) + \\gamma \\sum_{s^\\prime \\in S} p(s^\\prime | s_n, a = \\pi(s_n)) \\cdot v(s^\\prime)\n",
    "\\end{cases}$$\n",
    "\n",
    "or given that\n",
    "$$\\sum_{s^\\prime \\in S} p(s^\\prime | s_0, a = \\pi(s_0)) \\cdot v(s^\\prime) = P_{row \\ 0} \\cdot \\vec{v}$$\n",
    "can be written in matrix form\n",
    "$$\\vec{v} = \\vec{r} + \\gamma P_{s,s^\\prime}\\vec{v} \\rightarrow \\vec{v}(1 - \\gamma P_{s,s^\\prime}) = \\vec{r} \\rightarrow \\vec{v} = ((1 - \\gamma P_{s,s^\\prime}))^{-1} \\vec{r}$$\n"
   ]
  },
  {
   "cell_type": "code",
   "execution_count": null,
   "metadata": {},
   "outputs": [
    {
     "data": {
      "text/latex": [
       "$\\displaystyle \\begin{bmatrix} 2954361355555044 & -720575940379279 & -720575940379279 & -720575940379280 & -720575940379279 & -720575940379281 \\end{bmatrix}$"
      ],
      "text/plain": [
       "<IPython.core.display.Math object>"
      ]
     },
     "metadata": {},
     "output_type": "display_data"
    }
   ],
   "source": [
    "gamma = 0.9\n",
    "print_tex(np.linalg.inv(1 - gamma*p_sp_spi) @ r_s)"
   ]
  },
  {
   "cell_type": "code",
   "execution_count": null,
   "metadata": {},
   "outputs": [],
   "source": []
  },
  {
   "cell_type": "code",
   "execution_count": null,
   "metadata": {},
   "outputs": [],
   "source": []
  }
 ],
 "metadata": {
  "kernelspec": {
   "display_name": ".venv",
   "language": "python",
   "name": "python3"
  },
  "language_info": {
   "codemirror_mode": {
    "name": "ipython",
    "version": 3
   },
   "file_extension": ".py",
   "mimetype": "text/x-python",
   "name": "python",
   "nbconvert_exporter": "python",
   "pygments_lexer": "ipython3",
   "version": "3.9.13"
  }
 },
 "nbformat": 4,
 "nbformat_minor": 2
}
