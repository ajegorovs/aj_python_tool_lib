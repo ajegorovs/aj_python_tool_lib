{
 "cells": [
  {
   "cell_type": "code",
   "execution_count": 1,
   "metadata": {},
   "outputs": [
    {
     "name": "stdout",
     "output_type": "stream",
     "text": [
      "Requirement already satisfied: control in c:\\users\\hot mexican\\vs_code_proj\\.venv\\lib\\site-packages (0.9.4)\n",
      "Requirement already satisfied: numpy in c:\\users\\hot mexican\\vs_code_proj\\.venv\\lib\\site-packages (from control) (1.26.2)\n",
      "Requirement already satisfied: scipy>=1.3 in c:\\users\\hot mexican\\vs_code_proj\\.venv\\lib\\site-packages (from control) (1.11.4)\n",
      "Requirement already satisfied: matplotlib in c:\\users\\hot mexican\\vs_code_proj\\.venv\\lib\\site-packages (from control) (3.8.2)\n",
      "Requirement already satisfied: contourpy>=1.0.1 in c:\\users\\hot mexican\\vs_code_proj\\.venv\\lib\\site-packages (from matplotlib->control) (1.2.0)\n",
      "Requirement already satisfied: cycler>=0.10 in c:\\users\\hot mexican\\vs_code_proj\\.venv\\lib\\site-packages (from matplotlib->control) (0.12.1)\n",
      "Requirement already satisfied: fonttools>=4.22.0 in c:\\users\\hot mexican\\vs_code_proj\\.venv\\lib\\site-packages (from matplotlib->control) (4.46.0)\n",
      "Requirement already satisfied: kiwisolver>=1.3.1 in c:\\users\\hot mexican\\vs_code_proj\\.venv\\lib\\site-packages (from matplotlib->control) (1.4.5)\n",
      "Requirement already satisfied: packaging>=20.0 in c:\\users\\hot mexican\\vs_code_proj\\.venv\\lib\\site-packages (from matplotlib->control) (23.2)\n",
      "Requirement already satisfied: pillow>=8 in c:\\users\\hot mexican\\vs_code_proj\\.venv\\lib\\site-packages (from matplotlib->control) (10.1.0)\n",
      "Requirement already satisfied: pyparsing>=2.3.1 in c:\\users\\hot mexican\\vs_code_proj\\.venv\\lib\\site-packages (from matplotlib->control) (3.1.1)\n",
      "Requirement already satisfied: python-dateutil>=2.7 in c:\\users\\hot mexican\\vs_code_proj\\.venv\\lib\\site-packages (from matplotlib->control) (2.8.2)\n",
      "Requirement already satisfied: importlib-resources>=3.2.0 in c:\\users\\hot mexican\\vs_code_proj\\.venv\\lib\\site-packages (from matplotlib->control) (6.1.1)\n",
      "Requirement already satisfied: zipp>=3.1.0 in c:\\users\\hot mexican\\vs_code_proj\\.venv\\lib\\site-packages (from importlib-resources>=3.2.0->matplotlib->control) (3.17.0)\n",
      "Requirement already satisfied: six>=1.5 in c:\\users\\hot mexican\\vs_code_proj\\.venv\\lib\\site-packages (from python-dateutil>=2.7->matplotlib->control) (1.16.0)\n"
     ]
    },
    {
     "name": "stderr",
     "output_type": "stream",
     "text": [
      "\n",
      "[notice] A new release of pip is available: 24.2 -> 24.3.1\n",
      "[notice] To update, run: python.exe -m pip install --upgrade pip\n"
     ]
    },
    {
     "name": "stdout",
     "output_type": "stream",
     "text": [
      "input example : \n",
      ">>> arr_T = np.array([[r'\\vec{v}_1', r'\\vec{v}_2']]).T\n",
      ">>> print_tex(arr_T,'=', np.arange(1,5).reshape(2,-1)/4, r'; symbols: \\otimes, \\cdot,\\times')\n",
      "output: \n"
     ]
    },
    {
     "data": {
      "text/latex": [
       "$\\displaystyle \\begin{bmatrix}\\vec{v}_1 \\\\ \\vec{v}_2\\end{bmatrix}=\\begin{bmatrix} 1/4 & 1/2 \\\\ 3/4 & 1 \\end{bmatrix}; symbols: \\otimes, \\cdot,\\times$"
      ],
      "text/plain": [
       "<IPython.core.display.Math object>"
      ]
     },
     "metadata": {},
     "output_type": "display_data"
    }
   ],
   "source": [
    "!pip install control\n",
    "import numpy as np\n",
    "import control\n",
    "from misc_tools.print_latex import print_tex"
   ]
  },
  {
   "cell_type": "markdown",
   "metadata": {},
   "source": [
    "# Controllability"
   ]
  },
  {
   "cell_type": "markdown",
   "metadata": {},
   "source": [
    "## How to make system controllable?"
   ]
  },
  {
   "cell_type": "markdown",
   "metadata": {},
   "source": [
    "In last chapter we determined that some system can be stable and non-stable based on matrix A eigenvalues. \n",
    "$$\\dot{ \\vec x }  \\approx A \\vec x$$\n",
    "This can be interpreted as: \"if we placed system in stable point (or near it?), will it stay/return to stable point or move away\"."
   ]
  },
  {
   "cell_type": "markdown",
   "metadata": {},
   "source": [
    "Goal of control, is to \"modify\" system dynamics to passively or actively guide trajectory of a state.\n",
    "\n",
    "We can do it by adding \"control\" term $B \\vec u$: \n",
    "$$ \\dot{ \\vec x }  = A \\vec x + B \\vec u $$ \n",
    "where $\\vec u$ represents $q$ control parameters (\"knobs\"), which can be a scalar or a vector, depending on requirements.\n",
    "\n",
    "$$\\vec x \\in \\R^n \\ ; \\ A \\in  \\R^{n \\times n}\\ ; \\ \\vec u \\in \\R^q \\ ; \\ B \\in \\R^{n \\times q}$$\n",
    "\n",
    "$A$ represents natural system dynamics and $B$ represents properties of control (actuators). Often you dont get to choose them.\n",
    "\n"
   ]
  },
  {
   "cell_type": "markdown",
   "metadata": {},
   "source": [
    "### Linear control"
   ]
  },
  {
   "cell_type": "markdown",
   "metadata": {},
   "source": [
    "One example is to employ linear control:\n",
    "$$\\vec u = -K \\vec x $$\n",
    "which produces new system dynamics\n",
    "$$ \\dot{ \\vec x } = (A - BK) \\vec x$$ \n",
    "for which we can \"shape\" K that will make our system controllable."
   ]
  },
  {
   "cell_type": "markdown",
   "metadata": {},
   "source": [
    "## Determining if system is controllable"
   ]
  },
  {
   "cell_type": "markdown",
   "metadata": {},
   "source": [
    "### Manually, by intuition"
   ]
  },
  {
   "cell_type": "markdown",
   "metadata": {},
   "source": [
    "suppose we have simple system with decoupled states and add following control with 1 \"knob\" \n",
    "$B \\vec u = \\begin{bmatrix}\n",
    " 0 \\\\  1\n",
    "\\end{bmatrix}\n",
    "u$:\n",
    "$$\\begin{bmatrix}\n",
    "\\dot x_1 \\\\ \\dot x_2\n",
    "\\end{bmatrix}=\n",
    "\\begin{bmatrix}\n",
    "1 & 0 \\\\ 0 & 2\n",
    "\\end{bmatrix}\n",
    "\\begin{bmatrix}\n",
    " x_1 \\\\  x_2\n",
    "\\end{bmatrix}\n",
    "+\n",
    "\\begin{bmatrix}\n",
    " 0 \\\\  1\n",
    "\\end{bmatrix}\n",
    "u\n",
    "$$\n",
    "Is system controllable? No. We can see that $u$ can only influence dynamics of $\\dot x_2$. It is easier to see if we rewrite dynamics as system of equations\n",
    "$$\\begin{cases}\n",
    "\\dot x_1 = x_1 \\\\\n",
    "\\dot x_2 = 2x_2 + u\n",
    "\\end{cases}$$\n",
    "\n",
    "On the other hand, if we choose \n",
    "$B \\vec u = \\begin{bmatrix}\n",
    " 1 & 0 \\\\  0 & 1\n",
    "\\end{bmatrix}\n",
    "\\begin{bmatrix}\n",
    " u_1 \\\\ u_2\n",
    "\\end{bmatrix}\n",
    "$\n",
    "\n",
    "our \"knobs\" can affect dynamics of both states:\n",
    "$$\\begin{cases}\n",
    "\\dot x_1 = x_1 + u_1\\\\\n",
    "\\dot x_2 = 2x_2 + u_2\n",
    "\\end{cases}$$"
   ]
  },
  {
   "cell_type": "markdown",
   "metadata": {},
   "source": [
    "Although there can be a case if system is \"coupled\", simple first control will work\n",
    "$$\\begin{bmatrix}\n",
    "\\dot x_1 \\\\ \\dot x_2\n",
    "\\end{bmatrix}=\n",
    "\\begin{bmatrix}\n",
    "1 & 1 \\\\ 0 & 2\n",
    "\\end{bmatrix}\n",
    "\\begin{bmatrix}\n",
    " x_1 \\\\  x_2\n",
    "\\end{bmatrix}\n",
    "+\n",
    "\\begin{bmatrix}\n",
    " 0 \\\\  1\n",
    "\\end{bmatrix}\n",
    "u\n",
    "$$\n",
    "or when viewed as\n",
    "$$\\begin{cases}\n",
    "\\dot x_1 = x_1 + x_2\\\\\n",
    "\\dot x_2 = 2x_2 + u\n",
    "\\end{cases}$$\n",
    "We see that although $u$ does not directly affect $\\dot x_1$, it is \"connected\" via $x_2$\n"
   ]
  },
  {
   "cell_type": "markdown",
   "metadata": {},
   "source": [
    "### By examining controllability matrix"
   ]
  },
  {
   "cell_type": "markdown",
   "metadata": {},
   "source": [
    "Controllability matrix is defined as\n",
    "$$C = \\begin{bmatrix}\n",
    "B & AB & A^2B & \\dots & A^{n-1}B\n",
    "\\end{bmatrix}$$\n",
    "\n",
    "If matrix \"C\" has n linearly independent columns (full column rank), then system is controllable\n",
    "\n",
    "We can test our simple systems and construct $C$ manually\n",
    "\n",
    "$$n = 2; q = 1$$\n",
    "$$B = \\begin{bmatrix}\n",
    "0 \\\\ 1\n",
    "\\end{bmatrix}$$\n",
    "$$AB = A^{n-1}B=\n",
    "\\begin{bmatrix}\n",
    "1 & 0 \\\\ 0 & 2\n",
    "\\end{bmatrix}\n",
    "\\begin{bmatrix}\n",
    "0 \\\\ 1\n",
    "\\end{bmatrix}=\n",
    "\\begin{bmatrix}\n",
    "0 \\\\ 2\n",
    "\\end{bmatrix}$$\n",
    "so\n",
    "$$C_1 = \n",
    "\\begin{bmatrix}\n",
    "B & AB\n",
    "\\end{bmatrix}=\n",
    "\\begin{bmatrix}\n",
    "0 & 0 \\\\ 1 & 2\n",
    "\\end{bmatrix}$$\n",
    "has two linearly dependent columns (rank = $1$), and for coupled case\n",
    "$$C_2 = \n",
    "\\begin{bmatrix}\n",
    "0 & 1 \\\\ 1 & 2\n",
    "\\end{bmatrix}$$\n",
    "rank is $2$, and we conclude that it is truly first system that is impossible to control."
   ]
  },
  {
   "cell_type": "markdown",
   "metadata": {},
   "source": [
    "We can also do it via control library:"
   ]
  },
  {
   "cell_type": "code",
   "execution_count": 2,
   "metadata": {},
   "outputs": [
    {
     "data": {
      "text/latex": [
       "$\\displaystyle C_1 = \\begin{bmatrix} 0 & 0 \\\\ 1 & 2 \\end{bmatrix} ; rank = 1$"
      ],
      "text/plain": [
       "<IPython.core.display.Math object>"
      ]
     },
     "metadata": {},
     "output_type": "display_data"
    },
    {
     "data": {
      "text/latex": [
       "$\\displaystyle C_2 = \\begin{bmatrix} 0 & 1 \\\\ 1 & 2 \\end{bmatrix} ; rank = 2$"
      ],
      "text/plain": [
       "<IPython.core.display.Math object>"
      ]
     },
     "metadata": {},
     "output_type": "display_data"
    }
   ],
   "source": [
    "A1 = np.array([[1,0],[0,2]])\n",
    "A2 = np.array([[1,1],[0,2]])\n",
    "B = np.array([[0,1]]).T\n",
    "\n",
    "C1 = control.ctrb(A1,B)\n",
    "C2 = control.ctrb(A2,B)\n",
    "print_tex(\"C_1 = \", C1, \" ; rank = \", np.linalg.matrix_rank(C1))\n",
    "print_tex(\"C_2 = \", C2, \" ; rank = \", np.linalg.matrix_rank(C2))"
   ]
  },
  {
   "cell_type": "code",
   "execution_count": 3,
   "metadata": {},
   "outputs": [
    {
     "data": {
      "text/plain": [
       "array([1., 2.])"
      ]
     },
     "execution_count": 3,
     "metadata": {},
     "output_type": "execute_result"
    }
   ],
   "source": [
    "np.linalg.eigvals(A2)"
   ]
  },
  {
   "cell_type": "markdown",
   "metadata": {},
   "source": []
  }
 ],
 "metadata": {
  "kernelspec": {
   "display_name": ".venv",
   "language": "python",
   "name": "python3"
  },
  "language_info": {
   "codemirror_mode": {
    "name": "ipython",
    "version": 3
   },
   "file_extension": ".py",
   "mimetype": "text/x-python",
   "name": "python",
   "nbconvert_exporter": "python",
   "pygments_lexer": "ipython3",
   "version": "3.9.13"
  }
 },
 "nbformat": 4,
 "nbformat_minor": 2
}
