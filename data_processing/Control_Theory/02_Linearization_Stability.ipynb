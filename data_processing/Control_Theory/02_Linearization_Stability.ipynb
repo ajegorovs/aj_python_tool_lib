{
 "cells": [
  {
   "cell_type": "code",
   "execution_count": 35,
   "metadata": {},
   "outputs": [
    {
     "name": "stdout",
     "output_type": "stream",
     "text": [
      "input example : \n",
      ">>> arr_T = np.array([[r'\\vec{v}_1', r'\\vec{v}_2']]).T\n",
      ">>> print_tex(arr_T,'=', np.arange(1,5).reshape(2,-1)/4, r'; symbols: \\otimes, \\cdot,\\times')\n",
      "output: \n"
     ]
    },
    {
     "data": {
      "text/latex": [
       "$\\displaystyle \\begin{bmatrix}\\vec{v}_1 \\\\ \\vec{v}_2\\end{bmatrix}=\\begin{bmatrix} 1/4 & 1/2 \\\\ 3/4 & 1 \\end{bmatrix}; symbols: \\otimes, \\cdot,\\times$"
      ],
      "text/plain": [
       "<IPython.core.display.Math object>"
      ]
     },
     "metadata": {},
     "output_type": "display_data"
    }
   ],
   "source": [
    "import numpy as np\n",
    "import matplotlib.pyplot as plt\n",
    "from misc_tools.print_latex import print_tex"
   ]
  },
  {
   "cell_type": "markdown",
   "metadata": {},
   "source": [
    "# Linearization around fixed point"
   ]
  },
  {
   "cell_type": "markdown",
   "metadata": {},
   "source": [
    "If system has the following dynamics\n",
    "$$\\dot{ \\vec x }  = \\vec f(\\vec x)$$\n",
    "where $\\vec x \\in \\R^n$ and $\\vec f(\\vec x) \\in \\R^n$,\n",
    "\n",
    "For example a fake system\n",
    "\n",
    "$$\\begin{bmatrix}\n",
    "\\dot{ \\vec x }_1 \\\\ \\dot{ \\vec x }_2\n",
    "\\end{bmatrix}=\n",
    "\\begin{bmatrix}\n",
    "f_1(x_1,x_2) \\\\ f_2(x_1,x_2)\n",
    "\\end{bmatrix}=\n",
    "\\begin{bmatrix}\n",
    "x_1 + \\sin x_2\\\\ x_1 \\cdot x_2\n",
    "\\end{bmatrix}\n",
    "$$"
   ]
  },
  {
   "cell_type": "markdown",
   "metadata": {},
   "source": [
    "## Why do we need linearization?"
   ]
  },
  {
   "cell_type": "markdown",
   "metadata": {},
   "source": [
    "Linearization will allow us to approximate non-linear system \n",
    "$$\\dot{ \\vec x }  = \\vec  f(\\vec x)$$\n",
    "with linear discription\n",
    "$$\\dot{ \\vec x }  \\approx A \\vec x$$\n",
    "which is only fair for a small region about which system is approximated. \n",
    "In particular, we will approximate around \"fixed points\""
   ]
  },
  {
   "cell_type": "markdown",
   "metadata": {},
   "source": [
    "## What is a fixed point?"
   ]
  },
  {
   "cell_type": "markdown",
   "metadata": {},
   "source": [
    "\n",
    "In example, fixed point is a state $\\bar{\\vec x}$ at which we dont have any dynamics $\\dot{ \\vec x} = 0$, thus $\\vec f(\\bar{\\vec x}) = 0$\n",
    "\n",
    "For given example, mathematically, we see that fixed points should be\n",
    "\n",
    "$\\vec x = (x_1,x_2) \\rightarrow (0, k \\pi)$ for $k = 0,1,2, \\dots$\n",
    "$$\\begin{bmatrix}\n",
    "\\dot{ \\vec x }_1 \\\\ \\dot{ \\vec x }_2\n",
    "\\end{bmatrix}=\n",
    "\\begin{bmatrix}\n",
    "x_1 + \\sin x_2\\\\ x_1 \\cdot x_2\n",
    "\\end{bmatrix}\\overset{\\bar x}{\\longrightarrow}\\begin{bmatrix}\n",
    "0+\\sin k \\pi \\\\ 0 \\cdot k\\pi\n",
    "\\end{bmatrix}=\n",
    "\\begin{bmatrix}\n",
    "0 \\\\ 0 \n",
    "\\end{bmatrix}$$\n",
    "To be more concise lets drop vector notation\n",
    "$$\\boxed{\\vec x \\rightarrow x \\ ; \\ \\bar{\\vec x} \\rightarrow \\bar x \\ ; \\ \\vec f (\\bar{\\vec x}) \\rightarrow f(x)}$$"
   ]
  },
  {
   "cell_type": "markdown",
   "metadata": {},
   "source": [
    "## Linearization"
   ]
  },
  {
   "cell_type": "markdown",
   "metadata": {},
   "source": [
    "Linearization is a linear approximation of $f(x)$. We get it from multi-variable Taylor series.\n",
    "\n",
    "$$\\boxed{f(x) = f(\\bar x) +  \\{D f\\}(\\bar x) (x - \\bar x) + \\frac{1}{2!} (x - \\bar x)^T \\{D^2 f\\}(\\bar x)(x - \\bar x) + \\dots}$$\n",
    "\n",
    "Where $D$ is a Jacobian operator, lets use notation $J$ from wiki and my other notes\n",
    "$$J_{\\vec f} (\\vec x) = J_{\\vec f}(x_1,x_2) = \n",
    "\\begin{bmatrix}\n",
    "\\\\\n",
    "\\frac{\\partial f_1}{\\partial x_1} &\\frac{\\partial f_1}{\\partial x_2}\\\\\n",
    "\\\\\n",
    "\\frac{\\partial f_2}{\\partial x_1} &\\frac{\\partial f_2}{\\partial x_2}\\\\\n",
    "\\\\\n",
    "\\end{bmatrix}=\n",
    "\\left[\\frac{\\partial f_i}{\\partial x_j}\\right]\n",
    "$$\n",
    "\n",
    "We are only interested in linear term\n",
    "$$f(x) = \\cancel{f(\\bar x)} + J_f(\\bar x) (x - \\bar x)$$\n",
    "where $f(\\bar x) = 0$ for a fixed poin. Linearized dynamical system can be expressed as\n",
    "$$\\dot x = f(x) = J_f(\\bar x) (x - \\bar x)$$\n",
    "or by changing reference frame to \n",
    "$$\\tilde x = x - \\bar x \\rightarrow \\dot{\\tilde x} = \\dot x + 0$$\n",
    "we get\n",
    "$$\\boxed{\\dot{\\tilde x} = J_f(\\bar x) \\tilde x = A \\tilde x}$$"
   ]
  },
  {
   "cell_type": "markdown",
   "metadata": {},
   "source": [
    "## Example with pendulum"
   ]
  },
  {
   "cell_type": "markdown",
   "metadata": {},
   "source": [
    "### Equation to system"
   ]
  },
  {
   "cell_type": "markdown",
   "metadata": {},
   "source": [
    "Simplified governing equation of the pendulum is\n",
    "$$ \\ddot \\theta = - \\sin \\theta - \\delta \\dot \\theta$$\n",
    "with some 'friction' $\\delta$.\n",
    "\n",
    "States of this system are \n",
    "$$x = \n",
    "\\begin{bmatrix}x_1\\\\ x_2\\end{bmatrix}=\n",
    "\\begin{bmatrix}\\theta\\\\ \\dot \\theta\\end{bmatrix}$$\n",
    "\n",
    "$$ \\begin{cases}\n",
    "\\frac{d}{dt} \\theta = \\dot \\theta\\\\\n",
    "\\frac{d}{dt}\\dot \\theta = - \\sin \\theta - \\delta \\dot \\theta\n",
    "\n",
    "\\end{cases}$$\n",
    "or in terms of $x_1,x_2$\n",
    "$$ \\begin{cases}\n",
    "\\frac{d}{dt} x_1 = x_2\\\\\n",
    "\\frac{d}{dt}x_2 = - \\sin x_1 - \\delta x_2\n",
    "\\end{cases}$$\n",
    "\n",
    "So system $\\dot{ \\vec x }  = f(\\vec x)$ can be written in matrix form as\n",
    "$$\\dot{ \\vec x }  = f(\\vec x) \\rightarrow \n",
    "\\frac{d}{dt}\\begin{bmatrix}x_1\\\\ x_2\\end{bmatrix}\n",
    "=\n",
    "\\begin{bmatrix}x_2\\\\  -\\sin x_1 - \\delta x_2\\end{bmatrix}$$"
   ]
  },
  {
   "cell_type": "markdown",
   "metadata": {},
   "source": [
    "As we see there is no way to express \n",
    "$\\begin{bmatrix}x_2\\\\  -\\sin x_1 - \\delta x_2\\end{bmatrix}$ as $A \\begin{bmatrix}x_1\\\\  x_2\\end{bmatrix}$, that is why we linearize\n"
   ]
  },
  {
   "cell_type": "markdown",
   "metadata": {},
   "source": [
    "### Linearization of a system"
   ]
  },
  {
   "cell_type": "markdown",
   "metadata": {},
   "source": [
    "Jacobian of $f(x)$ is\n",
    "$$\\vec J_ f(x_1,x_2) = \n",
    "\\begin{bmatrix}\n",
    "\\frac{\\partial x_2}{\\partial x_1} &\\frac{\\partial x_2}{\\partial x_2}\\\\\n",
    "\\frac{\\partial (-\\sin x_1 - \\delta x_2)}{\\partial x_1} &\\frac{\\partial (\\sin x_1 - \\delta x_2)}{\\partial x_2}\n",
    "\\end{bmatrix}=\n",
    "\\begin{bmatrix}\n",
    "0 & 1\\\\\n",
    "-\\cos x_1 & -\\delta\\\\\n",
    "\\end{bmatrix}"
   ]
  },
  {
   "cell_type": "markdown",
   "metadata": {},
   "source": [
    "Our system becomes:\n",
    "$$\\frac{d}{dt}\\begin{bmatrix}x_1\\\\ x_2\\end{bmatrix} =  \\begin{bmatrix}\n",
    "0 & 1\\\\\n",
    "-\\cos x_1 & -\\delta\\\\\n",
    "\\end{bmatrix}\n",
    "(x - \\bar x)$$\n",
    "where $f(\\bar x) = 0$ at our fixed point"
   ]
  },
  {
   "cell_type": "markdown",
   "metadata": {},
   "source": [
    "### Fixed points"
   ]
  },
  {
   "cell_type": "markdown",
   "metadata": {},
   "source": [
    "This system is good since we can produce fixed points just from intuition. We expect pendulum to have equilibrium at up and down positions at zero angular velocity:\n",
    "$$x_1 = \\theta = 0 || \\pi$$\n",
    "$$ x_2 = \\dot \\theta = 0$$\n",
    "so\n",
    "$$\\bar x = \\begin{bmatrix}0\\\\0\\end{bmatrix}, \\begin{bmatrix}\\pi\\\\0\\end{bmatrix}$$"
   ]
  },
  {
   "cell_type": "markdown",
   "metadata": {},
   "source": [
    "### Dynamics at fixed points"
   ]
  },
  {
   "cell_type": "markdown",
   "metadata": {},
   "source": [
    "Plug fixed points into linearized dynamics\n",
    "$$A = \\begin{bmatrix}\n",
    "0 & 1\\\\\n",
    "-\\cos x_1 & -\\delta\\\\\n",
    "\\end{bmatrix}$$\n",
    "We get\n",
    "$$A_{down} = \\begin{bmatrix}\n",
    "0 & 1\\\\\n",
    "-1 & -\\delta\\\\\n",
    "\\end{bmatrix}$$\n",
    "$$A_{up} = \\begin{bmatrix}\n",
    "0 & 1\\\\\n",
    " 1 & -\\delta\\\\\n",
    "\\end{bmatrix}$$"
   ]
  },
  {
   "cell_type": "markdown",
   "metadata": {},
   "source": [
    "## Determining stability"
   ]
  },
  {
   "cell_type": "markdown",
   "metadata": {},
   "source": [
    "### Continuous dynamics"
   ]
  },
  {
   "cell_type": "markdown",
   "metadata": {},
   "source": [
    "Eigenvalues of matrix $A$ can tell whether system is stable or not.\n",
    "\n",
    "From last chapter we know that solution to (continous) dynamical system will be \n",
    "$$\\vec x (t) = e^{At}  \\ \\vec x (0) = T e^{Dt} T^{-1} \\ \\vec x (0)$$\n",
    "where diagonal matrix $D$ contains eigenvalues \n",
    "$$\\lambda = a + i b$$\n",
    "\n",
    "and entries of $e^{Dt}$ will be\n",
    "$$e^{\\lambda t} = e^{at}\\left[ \\cos{bt} + i \\sin{bt}\\right]$$\n",
    "As we see real part $a$ of $\\lambda$ scales eigenvalue with time and imaginary part $b$ \"rotates\"\n",
    "\n",
    "Depending on sign of $a$ we can expect initial state $\\vec x (0)$ to\n",
    "* $a= 0$ remain the same (or bounded?), since  $e^{at} \\rightarrow 1$\n",
    "* $a \\lt 0$ converge to some state, since $e^{at}$ decays to 0\n",
    "* $a \\gt 0$ \"blow up\", get unbounded with exponential rate\n",
    "\n",
    "Thus, we can expect for a system where **all** eigenvalues of A have negative real part to be stable"
   ]
  },
  {
   "cell_type": "code",
   "execution_count": 34,
   "metadata": {},
   "outputs": [
    {
     "data": {
      "text/plain": [
       "<matplotlib.legend.Legend at 0x23762371cd0>"
      ]
     },
     "execution_count": 34,
     "metadata": {},
     "output_type": "execute_result"
    },
    {
     "data": {
      "image/png": "[encoded data removed]",
      "text/plain": [
       "<Figure size 640x480 with 1 Axes>"
      ]
     },
     "metadata": {},
     "output_type": "display_data"
    }
   ],
   "source": [
    "x = np.linspace(0,10, 1000)\n",
    "aaa = [0,-0.2,0.2]\n",
    "for a in aaa:\n",
    "    plt.plot(x, np.exp(a*x)*np.cos(5*x), label=f'f(x, a = {a})', linewidth = 3)\n",
    "plt.suptitle('f(x,a) = exp(a*x)* cos(5*x) ')\n",
    "plt.legend()"
   ]
  },
  {
   "cell_type": "markdown",
   "metadata": {},
   "source": [
    "### Time-discrete systems"
   ]
  },
  {
   "cell_type": "markdown",
   "metadata": {},
   "source": [
    "Difference is that states take discrete value in time with a time step $\\Delta t$:\n",
    "$$x_k(t_k) = x_k(k \\cdot \\Delta t)$$\n",
    "\n",
    "And  $A$ \"advances\" state from one time step to another:\n",
    "$$\\vec x (t) = e^{At}  \\ \\vec x (0) \\rightarrow x_{k+1} = e^{A\\Delta t} x_k$$\n",
    "and since $e^{A\\Delta t} = \\tilde A$\n",
    "then\n",
    "$$ x_1 = \\tilde A x_0$$\n",
    "$$ x_2 = \\tilde A x_1 = \\tilde A^2 x_0$$\n",
    "$$\\dots$$\n",
    "$$ x_n = \\tilde A^n x_0$$\n",
    "\n",
    "in order to check stability, we have to check Spectral radius $\\rho(A)$ (see this section in [eigenproblem_notes.ipynb](../Eigenproblem/eigenproblem_notes.ipynb))\n",
    "***\n",
    "Custom explanation (not considering complex eigvals, but can be reinterpreted)\n",
    "\n",
    "The main idea is that state can be expressed as linear combination of eigenvalues of A\n",
    "\n",
    "$$\\vec x_0 = \\alpha \\vec \\xi_1 + \\beta \\vec \\xi_2$$\n",
    "\n",
    "$$A \\vec x_0 = \\alpha A \\vec \\xi_1 + \\beta A \\vec \\xi_2 = \\alpha \\lambda_1 \\vec \\xi_1 + \\beta \\lambda_2 \\vec \\xi_2$$\n",
    "\n",
    "and on repeated application of $A$ eigenvectors-basis are only scaled and coefficients either grow or shrink as\n",
    "$$A^n \\vec x_0 = A^{n-1}(A\\vec x_0 ) = \\alpha \\lambda_1^n \\vec \\xi_1 + \\beta \\lambda_2^n \\vec \\xi_2$$\n",
    "if one of eigenvalues $\\lambda_i \\gt 1$, state will diverges, system is unstable (in long term)\n",
    "\n",
    "Therefor stability metric for time-discrete systems is \n",
    "$$\\rho(A) = \\max \\{ \\lambda_0,\\lambda_1,\\dots\\} \\lt 1$$\n",
    "***"
   ]
  },
  {
   "cell_type": "markdown",
   "metadata": {},
   "source": [
    "## Stability of pendulum example"
   ]
  },
  {
   "cell_type": "markdown",
   "metadata": {},
   "source": [
    "We check eigenvalues of our system\n",
    "$$A_{down} = \\begin{bmatrix}\n",
    "0 & 1\\\\\n",
    "-1 & -\\delta\\\\\n",
    "\\end{bmatrix}$$\n",
    "$$A_{up} = \\begin{bmatrix}\n",
    "0 & 1\\\\\n",
    " 1 & -\\delta\\\\\n",
    "\\end{bmatrix}$$\n",
    "As we see down state has both negative real parts of eignevalues = stable, and\n",
    "up state is unstable, as it has positive real part"
   ]
  },
  {
   "cell_type": "code",
   "execution_count": 41,
   "metadata": {},
   "outputs": [
    {
     "data": {
      "text/latex": [
       "$\\displaystyle Re\\{\\lambda_{i, down}\\}= \\begin{bmatrix} -0.000500 & -0.000500 \\end{bmatrix}$"
      ],
      "text/plain": [
       "<IPython.core.display.Math object>"
      ]
     },
     "metadata": {},
     "output_type": "display_data"
    },
    {
     "data": {
      "text/latex": [
       "$\\displaystyle Re\\{\\lambda_{i, up}\\}= \\begin{bmatrix} 0.999500 & -1.000500 \\end{bmatrix}$"
      ],
      "text/plain": [
       "<IPython.core.display.Math object>"
      ]
     },
     "metadata": {},
     "output_type": "display_data"
    }
   ],
   "source": [
    "dd = 0.001\n",
    "Adn = np.array([[0,1],[-1,-dd]])\n",
    "Aup = np.array([[0,1],[1,-dd]])\n",
    "print_tex('Re\\{\\lambda_{i, down}\\}= ', np.linalg.eigvals(Adn).real)\n",
    "print_tex('Re\\{\\lambda_{i, up}\\}= ', np.linalg.eigvals(Aup).real)"
   ]
  },
  {
   "cell_type": "markdown",
   "metadata": {},
   "source": []
  }
 ],
 "metadata": {
  "kernelspec": {
   "display_name": ".venv",
   "language": "python",
   "name": "python3"
  },
  "language_info": {
   "codemirror_mode": {
    "name": "ipython",
    "version": 3
   },
   "file_extension": ".py",
   "mimetype": "text/x-python",
   "name": "python",
   "nbconvert_exporter": "python",
   "pygments_lexer": "ipython3",
   "version": "3.9.13"
  }
 },
 "nbformat": 4,
 "nbformat_minor": 2
}
