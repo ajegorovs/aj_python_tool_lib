{
 "cells": [
  {
   "cell_type": "code",
   "execution_count": 1,
   "metadata": {},
   "outputs": [
    {
     "name": "stdout",
     "output_type": "stream",
     "text": [
      "input example : \n",
      ">>> arr_T = np.array([[r'\\vec{v}_1', r'\\vec{v}_2']]).T\n",
      ">>> print_tex(arr_T,'=', np.arange(1,5).reshape(2,-1)/4, r'; symbols: \\otimes, \\cdot,\\times')\n",
      "output: \n"
     ]
    },
    {
     "data": {
      "text/latex": [
       "$\\displaystyle \\begin{bmatrix}\\vec{v}_1 \\\\ \\vec{v}_2\\end{bmatrix}=\\begin{bmatrix} 1/4 & 1/2 \\\\ 3/4 & 1 \\end{bmatrix}; symbols: \\otimes, \\cdot,\\times$"
      ],
      "text/plain": [
       "<IPython.core.display.Math object>"
      ]
     },
     "metadata": {},
     "output_type": "display_data"
    }
   ],
   "source": [
    "import numpy as np\n",
    "import control\n",
    "from misc_tools.print_latex import print_tex"
   ]
  },
  {
   "cell_type": "markdown",
   "metadata": {},
   "source": [
    "# Pole placement for control system"
   ]
  },
  {
   "cell_type": "markdown",
   "metadata": {},
   "source": [
    "# Sources"
   ]
  },
  {
   "cell_type": "markdown",
   "metadata": {},
   "source": [
    "(Matlab) Pole Placement | State Space, Part 2: https://se.mathworks.com/videos/state-space-part-2-pole-placement-1547198830727.html\n",
    "\n",
    "https://python-control.readthedocs.io/en/latest/generated/control.place.html\n"
   ]
  },
  {
   "cell_type": "markdown",
   "metadata": {},
   "source": [
    "## Check stability"
   ]
  },
  {
   "cell_type": "markdown",
   "metadata": {},
   "source": [
    "Lets consider a system\n",
    "$$ \\dot x = A x + B u$$\n",
    "$$\\begin{bmatrix}\n",
    "\\dot x_1 \\\\ \\dot x_2\n",
    "\\end{bmatrix}=\n",
    "\\begin{bmatrix}\n",
    "0 & 1 \\\\ 2 & -1\n",
    "\\end{bmatrix}\n",
    "\\begin{bmatrix}\n",
    " x_1 \\\\  x_2\n",
    "\\end{bmatrix}\n",
    "+\n",
    "\\begin{bmatrix}\n",
    " 1 \\\\  0\n",
    "\\end{bmatrix}\n",
    "\\vec u\n",
    "$$\n",
    "Eigenvalues of matrix \n",
    "$$A=\\begin{bmatrix}\n",
    "0 & 1 \\\\ 2 & -1\n",
    "\\end{bmatrix}$$\n",
    "can be found via characteristic equation\n",
    "$$\\det \\left(\\begin{bmatrix}\n",
    "-\\lambda & 1 \\\\ 2 & -1-\\lambda\n",
    "\\end{bmatrix}\\right) = 0$$\n",
    "\n",
    "$$\\lambda(1+\\lambda)-2 = \\lambda^2 + \\lambda - 2 = 0$$\n",
    "$$ \\lambda_{1,2} = \\frac{-1 \\pm \\sqrt{1^2 + 4\\cdot 2}}{2} = \\frac{-1 \\pm 3}{2} = \\{1, -2\\}$$\n",
    "We have system with one positive eigenvalue thus, by itself, it is unstable."
   ]
  },
  {
   "cell_type": "code",
   "execution_count": 2,
   "metadata": {},
   "outputs": [
    {
     "data": {
      "text/latex": [
       "$\\displaystyle \\begin{bmatrix} 1 & -2 \\end{bmatrix}$"
      ],
      "text/plain": [
       "<IPython.core.display.Math object>"
      ]
     },
     "metadata": {},
     "output_type": "display_data"
    }
   ],
   "source": [
    "A = np.array([  [0, 1],\n",
    "                [2,-1]])\n",
    "print_tex(np.linalg.eigvals(A))"
   ]
  },
  {
   "cell_type": "markdown",
   "metadata": {},
   "source": [
    "# Force stability via control"
   ]
  },
  {
   "cell_type": "markdown",
   "metadata": {},
   "source": [
    "Suppose that our control has two \"knobs\" $k_1$ and $k_1$, and we use linear/proportional control\n",
    "$$\\vec u = - K \\vec x$$\n",
    "new system can be written as\n",
    "$$ \\dot{ \\vec x } = \\left(A - BK\\right) \\vec x = A_{CL} \\ \\vec x$$ \n",
    "$$A_{CL}= \n",
    "\\begin{bmatrix}\n",
    "0 & 1 \\\\ 2 & -1\n",
    "\\end{bmatrix}\n",
    "- \n",
    "\\begin{bmatrix}\n",
    " 1 \\\\  0\n",
    "\\end{bmatrix}\n",
    "K$$\n",
    "\n",
    "$BK$ should have dimensions $2 \\times 2$, so appropriate choice of $K$ is\n",
    "$$K = \\vec k^T = \n",
    "\\begin{bmatrix}\n",
    " k_1 & k_2\n",
    "\\end{bmatrix}$$\n",
    "\n",
    "$$BK = \\begin{bmatrix}\n",
    "1 \\\\  0\n",
    "\\end{bmatrix}\n",
    "\\begin{bmatrix}\n",
    " k_1 & k_2\n",
    "\\end{bmatrix}=\n",
    "\\begin{bmatrix}\n",
    "k_1 & k_2 \\\\ 0 & 0\n",
    "\\end{bmatrix}\n",
    "$$\n",
    "\n",
    "$$A_{CL}= \n",
    "\\begin{bmatrix}\n",
    "0 & 1 \\\\ 2 & -1\n",
    "\\end{bmatrix}-\n",
    "\\begin{bmatrix}\n",
    "k_1 & k_2 \\\\ 0 & 0\n",
    "\\end{bmatrix}=\n",
    "\\begin{bmatrix}\n",
    "-k_1 & 1-k_2 \\\\ 2 & -1\n",
    "\\end{bmatrix}$$\n",
    "\n",
    "Characteristic equation for controlled system is\n",
    "\n"
   ]
  },
  {
   "cell_type": "markdown",
   "metadata": {},
   "source": [
    "$$(-k_1 - \\lambda)(-1 -\\lambda)-2(1-k_2) = 0 $$\n",
    "$$(k_1 + \\lambda)(1 +\\lambda)+2(1-k_2) = 0 $$\n",
    "$$\\lambda^2 + (1+k_1)\\lambda + (2 +k_1 - 2k_2) = 0 $$\n",
    "naturally, if $k_1 = k_2 = 0$, we retrieve equation for unstable system\n",
    "$$\\lambda^2 + \\lambda - 2 = 0$$"
   ]
  },
  {
   "cell_type": "markdown",
   "metadata": {},
   "source": [
    "Suppose we want to choose such $k_1$ and $k_1$, that we get a system with negative eigenvalues \n",
    "$$\\lambda_{1,2} = \\{-1,-2\\}$$\n",
    "It should have a characteristic equation\n",
    "$$(\\lambda + 1)(\\lambda + 2) = 0$$\n",
    "$$ \\lambda^2 + 3\\lambda + 2 = 0$$\n",
    "\n",
    "So we can select \"knob\" values so following holds\n",
    "$$\\lambda^2 + (1+k_1)\\lambda + (2 +k_1 - 2k_2) = \\lambda^2 + 3\\lambda + 2$$\n",
    "which would mean that\n",
    "$$\\begin{cases}\n",
    "1+k_1 = 3\\\\\n",
    "2 +k_1 - 2k_2 = 2\n",
    "\\end{cases}\n",
    "\\longrightarrow\n",
    "\\begin{cases}\n",
    "k_1 = 2 \\\\\n",
    "k_2 = 1\n",
    "\\end{cases}$$\n",
    "\n",
    "$$K = \\vec k^T = \n",
    "\\begin{bmatrix}\n",
    "2 & 1\n",
    "\\end{bmatrix}$$"
   ]
  },
  {
   "cell_type": "code",
   "execution_count": 3,
   "metadata": {},
   "outputs": [
    {
     "data": {
      "text/latex": [
       "$\\displaystyle A_{CL} = \\begin{bmatrix} -2 & 0 \\\\ 2 & -1 \\end{bmatrix}\\ ; \\lambda_{1,2}= \\begin{bmatrix} -1 & -2 \\end{bmatrix}$"
      ],
      "text/plain": [
       "<IPython.core.display.Math object>"
      ]
     },
     "metadata": {},
     "output_type": "display_data"
    }
   ],
   "source": [
    "B = np.array([[1,0]]).T\n",
    "K = np.array([[2,1]])\n",
    "A_cl = A - B @ K\n",
    "eigs = np.linalg.eigvals(A_cl)\n",
    "print_tex(\"A_{CL} = \", A_cl, \"\\ ; \\\\lambda_{1,2}= \", eigs)"
   ]
  },
  {
   "cell_type": "markdown",
   "metadata": {},
   "source": [
    "Or we can use control library and \"place\" method"
   ]
  },
  {
   "cell_type": "code",
   "execution_count": 7,
   "metadata": {},
   "outputs": [
    {
     "data": {
      "text/latex": [
       "$\\displaystyle K = \\begin{bmatrix} 2 & 1 \\end{bmatrix}\\ ; \\vec \\lambda= \\begin{bmatrix} -1 & -2 \\end{bmatrix}$"
      ],
      "text/plain": [
       "<IPython.core.display.Math object>"
      ]
     },
     "metadata": {},
     "output_type": "display_data"
    }
   ],
   "source": [
    "eigs_set = np.array([-1,-2])\n",
    "K2 = control.place(A,B, eigs_set)\n",
    "print_tex(\"K = \", K2, r\"\\ ; \\vec \\lambda= \", np.linalg.eigvals(A - B @ K2))"
   ]
  },
  {
   "cell_type": "code",
   "execution_count": null,
   "metadata": {},
   "outputs": [],
   "source": []
  }
 ],
 "metadata": {
  "kernelspec": {
   "display_name": ".venv",
   "language": "python",
   "name": "python3"
  },
  "language_info": {
   "codemirror_mode": {
    "name": "ipython",
    "version": 3
   },
   "file_extension": ".py",
   "mimetype": "text/x-python",
   "name": "python",
   "nbconvert_exporter": "python",
   "pygments_lexer": "ipython3",
   "version": "3.9.13"
  }
 },
 "nbformat": 4,
 "nbformat_minor": 2
}
