{
 "cells": [
  {
   "cell_type": "markdown",
   "metadata": {},
   "source": [
    "# System of ODEs"
   ]
  },
  {
   "cell_type": "markdown",
   "metadata": {},
   "source": [
    "source:\n",
    "\n",
    "https://youtu.be/nyqJJdhReiA?list=PLMrJAkhIeNNR20Mz-VpzgfQs5zrYi085m"
   ]
  },
  {
   "cell_type": "markdown",
   "metadata": {},
   "source": [
    "## Definition of system of ODEs"
   ]
  },
  {
   "cell_type": "markdown",
   "metadata": {},
   "source": [
    "$\\vec{x}(t)$ - vector of states at time $t$\n",
    "\n",
    "$A$ - matrix\n",
    "\n",
    "System:\n",
    "\n",
    "$$\\dot{\\vec x} = \\frac{\\partial \\vec{x}}{\\partial t} =  A \\vec x$$\n",
    "\n",
    "for example system is :\n",
    "$$\\begin{cases} \\dot x = x + 2y \\\\ \\dot y = x  \\end{cases}$$\n",
    "an if \n",
    "$$ \\vec x (t) = \\begin{bmatrix} x(t) \\\\ y(t) \\end{bmatrix}$$\n",
    "in matrix form\n",
    "\n",
    "$$\\dot{\\vec x} = \\begin{bmatrix} 1 & 2 \\\\ 0 & 1 \\end{bmatrix} \\begin{bmatrix} x \\\\ y \\end{bmatrix} = A \\vec x$$\n",
    "\n",
    "solution of this system is of form (similar to single ODE case)\n",
    "$$\\boxed{\\vec x (t) = e^{At}  \\ \\vec x(t=0)}$$"
   ]
  },
  {
   "cell_type": "markdown",
   "metadata": {},
   "source": [
    "## Decoupling via eigen- values and vectors"
   ]
  },
  {
   "cell_type": "markdown",
   "metadata": {},
   "source": [
    "Using **eigenvalues and eigenvectors** we can transform (rotate) this system in representation where both equations are decoupled\n",
    "$$\\vec{x}(t) \\longrightarrow \\vec{z}(t)$$\n",
    "so\n",
    "$$\n",
    "\\begin{bmatrix} \\dot x \\\\ \\dot y \\end{bmatrix}= \\begin{bmatrix} 1 & 2 \\\\ 0 & 1 \\end{bmatrix} \\begin{bmatrix} x \\\\ y \\end{bmatrix} \\longrightarrow \n",
    "\\begin{bmatrix} \\dot z_1 \\\\ \\dot z_2 \\end{bmatrix} = \\begin{bmatrix} \\lambda_1  & 0 \\\\ 0 & \\lambda_2  \\end{bmatrix} \\begin{bmatrix} z_1 \\\\ z_2 \\end{bmatrix}\n",
    "$$\n",
    "Which can be easily solved as independent ODEs\n",
    "$$\n",
    "\\begin{cases} \\dot z_1 = \\lambda_1 z_1 \\\\ \\dot z_2 = \\lambda_2 z_2 \\end{cases}"
   ]
  },
  {
   "cell_type": "markdown",
   "metadata": {},
   "source": [
    "## Derivation an eigendecomposition of A"
   ]
  },
  {
   "cell_type": "markdown",
   "metadata": {},
   "source": [
    "We should find eigen- vectors and values of $A$. \n",
    "\n",
    "This 2D problem should have **at most** 2 eigenvectors, each of which satisfy eigenproblem\n",
    "$$A \\vec \\xi = \\lambda \\vec \\xi$$\n",
    "We can stack both eigenvectors in a matrix \n",
    "$$T = \\begin{bmatrix} \\vec \\xi_1 \\big|  \\vec \\xi_2  \\end{bmatrix}$$\n",
    "and stack problem\n",
    "$$\\begin{bmatrix} A \\vec \\xi_1 \\big| A \\vec \\xi_2  \\end{bmatrix} = A \\begin{bmatrix} \\vec \\xi_1 \\big| \\vec \\xi_2  \\end{bmatrix} = \\begin{bmatrix} \\lambda_1 \\vec \\xi_1 \\big| \\lambda_2  \\vec \\xi_2  \\end{bmatrix}$$\n",
    "Last term can be also simplified if we use interpretation of a  matrix-vector product as linear combination of column vectors:\n",
    "$$\\begin{bmatrix} \\lambda_1 \\vec \\xi_1 \\big| \\lambda_1  \\vec \\xi_2  \\end{bmatrix} = \\begin{bmatrix} \\lambda_1 \\vec \\xi_1 + 0 \\vec \\xi_2 \\big| 0 \\vec \\xi_1 + \\lambda_2  \\vec \\xi_2  \\end{bmatrix}$$\n",
    "so\n",
    "$$ T \\begin{bmatrix} \\lambda_1 \\\\ 0  \\end{bmatrix} = \\begin{bmatrix} \\vec \\xi_1 & \\vec \\xi_2  \\end{bmatrix} \\begin{bmatrix} \\lambda_1 \\\\ 0  \\end{bmatrix} = \\lambda_1 \\vec \\xi_1$$\n",
    "and\n",
    "$$ T \\begin{bmatrix}  0 \\\\ \\lambda_2  \\end{bmatrix} = \\begin{bmatrix} \\vec \\xi_1 & \\vec \\xi_2  \\end{bmatrix} \\begin{bmatrix}  0 \\\\ \\lambda_2  \\end{bmatrix} = \\lambda_2 \\vec \\xi_2$$\n",
    "so\n",
    "$$A \\begin{bmatrix} \\vec \\xi_1 \\big| \\vec \\xi_2  \\end{bmatrix} = \\begin{bmatrix} \\lambda_1 \\vec \\xi_1 \\big| \\lambda_1  \\vec \\xi_2  \\end{bmatrix} =\n",
    " \\begin{bmatrix} T \\begin{bmatrix} \\lambda_1 \\\\ 0  \\end{bmatrix} \\bigg| T \\begin{bmatrix} 0 \\\\ \\lambda_2 \\end{bmatrix}  \\end{bmatrix}=\n",
    " T \\begin{bmatrix} \\lambda_1 & 0 \\\\ 0 & \\lambda_2  \\end{bmatrix}$$\n",
    "$$ A T = T \\begin{bmatrix} \\lambda_1 & 0 \\\\ 0 & \\lambda_2  \\end{bmatrix}$$\n",
    "We can call diagonal matrix of eigenvalues $D$\n",
    "$$A T = T D$$\n",
    "and derive an eigendecomposition decomposition of $A$\n",
    "$$\\boxed{A = T D T^{-1}}$$"
   ]
  },
  {
   "cell_type": "markdown",
   "metadata": {},
   "source": [
    "We can also find a definition of $D$ via known $A$\n",
    "$$\\boxed{D = T^{-1} A T}$$\n",
    "which we need for our decoupling"
   ]
  },
  {
   "cell_type": "markdown",
   "metadata": {},
   "source": [
    "Suppose that $x$ and $z$ are related via rotation $T$\n",
    "$$\\vec{x}(t) \\overset{T}{\\longrightarrow} \\vec{z}(t)$$\n",
    "as\n",
    "$$\\vec{x}(t) = T \\ \\vec{z}(t)$$\n",
    "in which case by taking a derivative\n",
    "$$\\vec{\\dot x}(t) = T \\ \\vec{ \\dot z}(t) $$\n",
    "and from original definition\n",
    "$$\\vec{\\dot x}(t) = A \\ \\vec x (t) = A T \\ \\vec{z}(t)$$\n",
    "an by equating two, we get decoupling \n",
    "$$\\vec{ \\dot z}(t) = \\boxed{T^{-1} A T} \\ \\vec{z}(t) = \\boxed D \\ \\vec{z}(t) $$\n",
    "$$\\begin{bmatrix} \\dot z_1 \\\\ \\dot z_2 \\end{bmatrix} = \\begin{bmatrix} \\lambda_1  & 0 \\\\ 0 & \\lambda_2  \\end{bmatrix} \\begin{bmatrix} z_1 \\\\ z_2 \\end{bmatrix}$$"
   ]
  },
  {
   "cell_type": "markdown",
   "metadata": {},
   "source": [
    "## Reverting back to original representation"
   ]
  },
  {
   "cell_type": "markdown",
   "metadata": {},
   "source": [
    "how can we relate/retrieve\n",
    "$$\\vec x (t) = e^{At}  \\ \\vec x (0)$$\n",
    "from eigen-stuff?\n",
    "\n",
    "$$e^{At} = e^{T D T^{-1} t}$$\n",
    "We can simplify it using taylor expansion of exponential function\n",
    "$$e^{At} = I + At + \\frac{1}{2!} A^2 t^2 + \\dots$$\n",
    "in which case, if we interpret $T$ as rotation, then $T^{-1}T = T T^{-1} = I$ is an indentity transformation, so\n",
    "$$e^{T D T^{-1} t} = T T^{-1} + T D T^{-1} t + \\frac{1}{2!} (T D T^{-1})(T D T^{-1}) t^2 +\\dots$$\n",
    "we can observe that \n",
    "$$\\boxed{(T D T^{-1})^N = T D^N T^{-1}}$$\n",
    "and\n",
    "$$e^{T D T^{-1} t} = T T^{-1} + T D T^{-1} t + \\frac{1}{2!} T D^2 T^{-1} t^2 +\\dots$$\n",
    "or\n",
    "$$e^{T D T^{-1} t} = T (I) T^{-1} + T (Dt ) T^{-1} + T( \\frac{1}{2!} D^2t^2)  T^{-1}  +\\dots = T\\left(I + Dt + \\frac{1}{2!}D^2t^2 + \\dots\\right) T^{-1}$$\n",
    "where we see Taylor series\n",
    "$$e^{Dt} = I + Dt + \\frac{1}{2!}D^2t^2 + \\dots$$\n",
    "so\n",
    "$$e^{At} = e^{T D T^{-1} t} = T e^{Dt} T^{-1}$$\n",
    "we can also rewrite\n",
    "$$\\vec x (t) = e^{At}  \\ \\vec x (t=0) = T e^{Dt} T^{-1} \\ \\vec x (0)$$\n",
    "so solution is \n",
    "$$\\boxed{\\vec x (t) = T e^{Dt} T^{-1} \\ \\vec x (0)}$$"
   ]
  },
  {
   "cell_type": "markdown",
   "metadata": {},
   "source": [
    "## Interpretation of the solution"
   ]
  },
  {
   "cell_type": "markdown",
   "metadata": {},
   "source": [
    "1. We see transformatiton of initial state $\\vec x (0)$ to space of eigenvectors $\\vec z (0)$\n",
    "$$\\vec{x}(t) = T e^{Dt} \\underbrace{T^{-1} \\ \\vec x (0)}_{\\vec z (0)} = T e^{Dt} \\vec z (0)$$\n",
    "2. We get solution in \"simple\" space for $ \\vec{ \\dot z} (t) =  D \\vec z (t)$\n",
    "$$ \\vec{x}(t) = T \\underbrace{e^{Dt} \\vec z (0)}_{\\vec z (t)} = T \\vec z (t)$$\n",
    "3.  We map decoupled solution back to \"physical\" space\n",
    "$$ \\vec{x}(t) = T \\vec z (t) = \\vec{x}(t)$$"
   ]
  }
 ],
 "metadata": {
  "language_info": {
   "name": "python"
  }
 },
 "nbformat": 4,
 "nbformat_minor": 2
}
