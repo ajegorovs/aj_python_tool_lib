{
 "cells": [
  {
   "cell_type": "markdown",
   "metadata": {},
   "source": [
    "# Graph Attention Networks (GNN) as an extension of Graph Convolution Network (GCN).\n",
    "## Intro"
   ]
  },
  {
   "cell_type": "markdown",
   "metadata": {},
   "source": [
    "Assume general info on Graphs & ML is known:\n",
    "1. What are graphs and kind of data can be represented by graphs\n",
    "    * Captures interaction between many objects (nodes/vertices). Number of objects is arbitrary;\n",
    "    * Relations between nodes are described by edges. Number of edges is arbitrary;\n",
    "    * No unique graph representation for a given data;\n",
    "    * Graph analysis framework is developed. Notes: [graph_stuff.ipynb](data_processing/graphs/graph_stuff.ipynb)\n",
    "    \n",
    "1. Why use GNN (vs traditional NNs)?\n",
    "    * Can process graph data which is unstructured, unordered data;\n",
    "    * Connectivity is complex\n",
    "    * Leverages connectivity of nodes-  distills information from each node's neighborhood;\n",
    "1. What should trained model be capable of?\n",
    "    * To process data independent of number and ordering of nodes and edges<br>\n",
    "    Order invariance  = permutation invariance.\n"
   ]
  },
  {
   "cell_type": "markdown",
   "metadata": {},
   "source": [
    "# Convolution $\\leftrightarrow$ connectivity\n",
    "Notes: [GNN_Convolution__notes.ipynb](data_processing/neural_networks/Graph_neural_networks/GNN_Convolution__notes.ipynb)\n",
    "\n",
    "Local connectivity allows to pass information between nodes.\n",
    "\n",
    "\n",
    "* Convolution/Cross-correlation operation is a closest analogue:\n",
    "    * Works on structured data\n",
    "    * Number of neighbors is limited (3 to 8 in case of 2D image)\n",
    "    * Image can be padded so each pixel has 8 neighbors\n",
    "    * Each pixel can gather info from his neighborhood based on:\n",
    "        * kernel size\n",
    "        * number of operation iterations\n",
    "\n",
    "* Graphs:\n",
    "    * cannot collect node neighbor information into one matrix.<br>\n",
    "    Some node might have 0 neighbors, others 1000\n",
    "    * kernel is not easily defined. Specially kernel radius > 1 neighbor. Notes:  [graph_random_walk.ipynb](data_processing/graphs/graph_random_walk.ipynb)\n",
    "    * Adjacency matrix $A_{i,j}$ (N by N) encodes connectivity betwen node pair $(n_i,n_j) ; i,j \\in [1,\\dots,N]$"
   ]
  },
  {
   "cell_type": "markdown",
   "metadata": {},
   "source": [
    "## Useful linear algebra tricks/interpretations\n",
    "Notes: [linear_algebra_for_GCN_GAT](educational/linear_algebra/linear_algebra_for_GCN_GAT.ipynb)\n",
    "\n",
    "* Matrix as a container of vectors;\n",
    "* 'Broadcasting' transformation on multiple vectors;\n",
    "* 'Broadcasting' multiple transformations on single vector"
   ]
  },
  {
   "cell_type": "markdown",
   "metadata": {},
   "source": [
    "## Graph Convolutional Network as base for GAT\n",
    "Notes: [GNN_Convolution__notes.ipynb](data_processing/neural_networks/Graph_neural_networks/GNN_Convolution__notes.ipynb)\n",
    "\n",
    "* Aggregation / Message Passing = gather information from node's neighbors onto itself.\n",
    "    * Permutation invariance functions;\n",
    "        * summation, mean, max,...\n",
    "    * Count invariance:\n",
    "        * mean, max, ..\n",
    "    * Adjacency matrix is perfect candidate. \n",
    "\n",
    "How is this approach permutation invariant if it depends on Adjacency matrix?\n",
    "\n",
    "It is if we work with input features if length $F$:\n",
    "* Aggregation keeps dimension of $F$\n",
    "* Linear layer transforms each feature into a vector of length $F^\\prime$. \n",
    "\n",
    "Matrix of trainable parameters is of shape $F\\times F^\\prime $, and is independent of number, or order, of nodes.\n",
    "\n",
    "$$\n",
    "\\vec{{ h}}_{new}^T = \\sigma( \\vec{h}_{aggregated}^T W_h + \\vec{b}_h)\n",
    "$$\n",
    "\n",
    "$$H_{new}= \\sigma( H_{aggregated} W_h + \\vec{b_h}) = \\sigma( \\tilde A H W_h + \\vec{b_h})$$\n",
    "\n",
    "    "
   ]
  },
  {
   "cell_type": "markdown",
   "metadata": {},
   "source": [
    "## Graph Attention Network (GAT)\n",
    "Notes [GNN_Attention_notes.ipynb](data_processing/neural_networks/Graph_neural_networks/GNN_Attention_notes.ipynb)"
   ]
  }
 ],
 "metadata": {
  "language_info": {
   "name": "python"
  }
 },
 "nbformat": 4,
 "nbformat_minor": 2
}
