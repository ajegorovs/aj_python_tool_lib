{
 "cells": [
  {
   "cell_type": "markdown",
   "metadata": {},
   "source": [
    "Connecting the Dots: Multivariate Time Series Forecasting with Graph Neural Networks \n",
    "https://arxiv.org/pdf/2005.11650"
   ]
  },
  {
   "cell_type": "markdown",
   "metadata": {},
   "source": [
    "Spacetimeformer Multivariate Forecasting\n",
    "https://github.com/QData/spacetimeformer"
   ]
  },
  {
   "cell_type": "markdown",
   "metadata": {},
   "source": [
    "LEARNING MESH-BASED SIMULATION WITH GRAPH NETWORKS https://arxiv.org/pdf/2010.03409"
   ]
  },
  {
   "cell_type": "markdown",
   "metadata": {},
   "source": []
  }
 ],
 "metadata": {
  "language_info": {
   "name": "python"
  }
 },
 "nbformat": 4,
 "nbformat_minor": 2
}
