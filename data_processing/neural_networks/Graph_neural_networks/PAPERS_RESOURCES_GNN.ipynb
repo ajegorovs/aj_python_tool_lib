{
 "cells": [
  {
   "cell_type": "markdown",
   "metadata": {},
   "source": [
    "Connecting the Dots: Multivariate Time Series Forecasting with Graph Neural Networks \n",
    "https://arxiv.org/pdf/2005.11650"
   ]
  },
  {
   "cell_type": "markdown",
   "metadata": {},
   "source": [
    "Spacetimeformer Multivariate Forecasting\n",
    "https://github.com/QData/spacetimeformer"
   ]
  },
  {
   "cell_type": "markdown",
   "metadata": {},
   "source": []
  }
 ],
 "metadata": {
  "language_info": {
   "name": "python"
  }
 },
 "nbformat": 4,
 "nbformat_minor": 2
}
