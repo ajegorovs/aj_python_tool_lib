{
 "cells": [
  {
   "cell_type": "code",
   "execution_count": 1,
   "metadata": {},
   "outputs": [
    {
     "name": "stdout",
     "output_type": "stream",
     "text": [
      "input example : \n",
      ">>> arr_T = np.array([[r'\\vec{v}_1', r'\\vec{v}_2']]).T\n",
      ">>> print_tex(arr_T,'=', np.arange(1,5).reshape(2,-1)/4, r'; symbols: \\otimes, \\cdot,\\times')\n",
      "output: \n"
     ]
    },
    {
     "data": {
      "text/latex": [
       "$\\displaystyle \\begin{bmatrix}\\vec{v}_1 \\\\ \\vec{v}_2\\end{bmatrix}=\\begin{bmatrix} 1/4 & 1/2 \\\\ 3/4 & 1 \\end{bmatrix}; symbols: \\otimes, \\cdot,\\times$"
      ],
      "text/plain": [
       "<IPython.core.display.Math object>"
      ]
     },
     "metadata": {},
     "output_type": "display_data"
    }
   ],
   "source": [
    "import networkx as nx\n",
    "import matplotlib.pyplot as plt\n",
    "import numpy as np\n",
    "\n",
    "import torch#, time\n",
    "import torch.nn as nn\n",
    "device = torch.device(\"cpu\")# torch.device(\"cuda\" if torch.cuda.is_available() else \"cpu\")\n",
    "from sklearn.preprocessing import OneHotEncoder\n",
    "import matplotlib.animation as animation\n",
    "from IPython.display import HTML\n",
    "from misc_tools.print_latex import print_tex"
   ]
  },
  {
   "cell_type": "markdown",
   "metadata": {},
   "source": [
    "For derivation see GNN_Attention_notes.ipynb\n",
    "Im not sure whether implement unique $\\vec{a}$ for all heads. Original paper hints on that. Implementation i have found reuses it.\n"
   ]
  },
  {
   "cell_type": "code",
   "execution_count": 2,
   "metadata": {},
   "outputs": [
    {
     "data": {
      "text/latex": [
       "$\\displaystyle A = \\begin{bmatrix} 0 & 1 & 1 \\\\ 1 & 0 & 1 \\\\ 1 & 1 & 0 \\end{bmatrix}$"
      ],
      "text/plain": [
       "<IPython.core.display.Math object>"
      ]
     },
     "metadata": {},
     "output_type": "display_data"
    }
   ],
   "source": [
    "np.random.seed(1337)\n",
    "#G = nx.house_graph()\n",
    "N = 3\n",
    "G = nx.gnm_random_graph(N, 2*N)\n",
    "\n",
    "A = nx.adjacency_matrix(G).todense()\n",
    "print_tex('A = ', A)\n",
    "A = torch.tensor(A)"
   ]
  },
  {
   "cell_type": "code",
   "execution_count": 3,
   "metadata": {},
   "outputs": [],
   "source": [
    "#N_FEATURES, N_NODES = A.shape\n",
    "N_NODES = len(G.nodes())\n",
    "N_FEATURES = 2\n",
    "N_HIDDEN = 2\n",
    "N_HEADS = 2\n",
    "OUT_FEATURES = 2"
   ]
  },
  {
   "cell_type": "code",
   "execution_count": 4,
   "metadata": {},
   "outputs": [
    {
     "data": {
      "text/latex": [
       "$\\displaystyle H = \\begin{bmatrix} 1 & 2 \\\\ 3 & 4 \\\\ 5 & 6 \\end{bmatrix}$"
      ],
      "text/plain": [
       "<IPython.core.display.Math object>"
      ]
     },
     "metadata": {},
     "output_type": "display_data"
    }
   ],
   "source": [
    "H = torch.arange(N_NODES*N_FEATURES, dtype = float).view(N_NODES, N_FEATURES) + 1\n",
    "print_tex('H = ', H.numpy())"
   ]
  },
  {
   "cell_type": "code",
   "execution_count": 5,
   "metadata": {},
   "outputs": [
    {
     "data": {
      "text/latex": [
       "$\\displaystyle N_{nodes} = 3; \\ N_{heads} = 2; \\ N_{features} = 2; \\ N_{hidden} = 2$"
      ],
      "text/plain": [
       "<IPython.core.display.Math object>"
      ]
     },
     "metadata": {},
     "output_type": "display_data"
    },
    {
     "data": {
      "text/latex": [
       "$\\displaystyle G_{K} \\text{ is a matrix of concatenated embeddings } \\vec{g}_i^{k} , \\ shape : [N_{nodes} \\times N_{heads}*N_{hidden}]$"
      ],
      "text/plain": [
       "<IPython.core.display.Math object>"
      ]
     },
     "metadata": {},
     "output_type": "display_data"
    },
    {
     "data": {
      "text/latex": [
       "$\\displaystyle G_K = H W_K^T = \\begin{bmatrix} 1 & 2 \\\\ 3 & 4 \\\\ 5 & 6 \\end{bmatrix}\\begin{bmatrix} 1 & 0 & 4 & 0 \\\\ 0 & 1 & 0 & 4 \\end{bmatrix} = \\begin{bmatrix} 1 & 2 & 4 & 8 \\\\ 3 & 4 & 12 & 16 \\\\ 5 & 6 & 20 & 24 \\end{bmatrix}$"
      ],
      "text/plain": [
       "<IPython.core.display.Math object>"
      ]
     },
     "metadata": {},
     "output_type": "display_data"
    },
    {
     "data": {
      "text/latex": [
       "$\\displaystyle \\text{Reshape } G_{K} \\ to \\ [N_{nodes} \\times N_{heads} \\times N_{hidden}] \\text{ to isolate each head`s data to its own dimension}$"
      ],
      "text/plain": [
       "<IPython.core.display.Math object>"
      ]
     },
     "metadata": {},
     "output_type": "display_data"
    },
    {
     "data": {
      "text/latex": [
       "$\\displaystyle \\text{Goal: a matrix } C_K \\text{ that holds concatenated node feature pairs. Shape: }[N_{nodes} \\times N_{nodes}\\times N_{heads} \\times 2 N_{hidden}]$"
      ],
      "text/plain": [
       "<IPython.core.display.Math object>"
      ]
     },
     "metadata": {},
     "output_type": "display_data"
    },
    {
     "name": "stdout",
     "output_type": "stream",
     "text": [
      "Its only (?) possible with flattening, concatenating and unflattening. See notes.\n"
     ]
    },
    {
     "data": {
      "text/latex": [
       "$\\displaystyle C_{flat} \\ (K=1) = Repeat_{flat} \\ ||  \\ Interleave_{flat} = \\begin{bmatrix} 1 & 2 \\\\ 1 & 2 \\\\ 1 & 2 \\\\ 3 & 4 \\\\ 3 & 4 \\\\ 3 & 4 \\\\ 5 & 6 \\\\ 5 & 6 \\\\ 5 & 6 \\end{bmatrix} \\ \\bigg|\\bigg| \\ \\begin{bmatrix} 1 & 2 \\\\ 3 & 4 \\\\ 5 & 6 \\\\ 1 & 2 \\\\ 3 & 4 \\\\ 5 & 6 \\\\ 1 & 2 \\\\ 3 & 4 \\\\ 5 & 6 \\end{bmatrix} = \\begin{bmatrix} 1 & 2 & 1 & 2 \\\\ 1 & 2 & 3 & 4 \\\\ 1 & 2 & 5 & 6 \\\\ 3 & 4 & 1 & 2 \\\\ 3 & 4 & 3 & 4 \\\\ 3 & 4 & 5 & 6 \\\\ 5 & 6 & 1 & 2 \\\\ 5 & 6 & 3 & 4 \\\\ 5 & 6 & 5 & 6 \\end{bmatrix}$"
      ],
      "text/plain": [
       "<IPython.core.display.Math object>"
      ]
     },
     "metadata": {},
     "output_type": "display_data"
    },
    {
     "data": {
      "text/latex": [
       "$\\displaystyle \\text{Features C}_{0,0} = \\begin{bmatrix} 1 & 2 & 1 & 2 \\\\ 4 & 8 & 4 & 8 \\end{bmatrix}; \\ shape: \\ [N_{heads} \\times 2 N_{hidden}]$"
      ],
      "text/plain": [
       "<IPython.core.display.Math object>"
      ]
     },
     "metadata": {},
     "output_type": "display_data"
    },
    {
     "data": {
      "text/latex": [
       "$\\displaystyle \\text{Goal: a matrix E that holds edge weights. Shape: }[N_{nodes} \\times N_{nodes} \\times N_{heads}]$"
      ],
      "text/plain": [
       "<IPython.core.display.Math object>"
      ]
     },
     "metadata": {},
     "output_type": "display_data"
    },
    {
     "data": {
      "text/latex": [
       "$\\displaystyle E = \\sigma(\\vec{a}[C_K])$"
      ],
      "text/plain": [
       "<IPython.core.display.Math object>"
      ]
     },
     "metadata": {},
     "output_type": "display_data"
    },
    {
     "name": "stdout",
     "output_type": "stream",
     "text": [
      "Test attention vectors:\n"
     ]
    },
    {
     "data": {
      "text/latex": [
       "$\\displaystyle \\vec{a}_0 = \\begin{bmatrix} 1 & 1 & 1 & 1 \\end{bmatrix}^T ; \\ \\vec{a}_1 = \\begin{bmatrix} 1/2 & 1/2 & 1/2 & 1/2 \\end{bmatrix}^T ; \\ $"
      ],
      "text/plain": [
       "<IPython.core.display.Math object>"
      ]
     },
     "metadata": {},
     "output_type": "display_data"
    },
    {
     "name": "stdout",
     "output_type": "stream",
     "text": [
      ">>>See how to apply multiple attention vectors to data in notes<<<\n"
     ]
    },
    {
     "data": {
      "text/latex": [
       "$\\displaystyle \\text{Features E}_{0,0} = \\begin{bmatrix} 6 & 12 \\end{bmatrix}$"
      ],
      "text/plain": [
       "<IPython.core.display.Math object>"
      ]
     },
     "metadata": {},
     "output_type": "display_data"
    },
    {
     "data": {
      "text/latex": [
       "$\\displaystyle E_{K=1} = \\begin{bmatrix} 6 & 10 & 14 \\\\ 10 & 14 & 18 \\\\ 14 & 18 & 22 \\end{bmatrix}\\rightarrow MASK \\rightarrow \\begin{bmatrix} 0 & 10 & 14 \\\\ 10 & 0 & 18 \\\\ 14 & 18 & 0 \\end{bmatrix}$"
      ],
      "text/plain": [
       "<IPython.core.display.Math object>"
      ]
     },
     "metadata": {},
     "output_type": "display_data"
    },
    {
     "data": {
      "text/latex": [
       "$\\displaystyle E_{K=2} = \\begin{bmatrix} 12 & 20 & 28 \\\\ 20 & 28 & 36 \\\\ 28 & 36 & 44 \\end{bmatrix}\\rightarrow MASK \\rightarrow \\begin{bmatrix} 0 & 20 & 28 \\\\ 20 & 0 & 36 \\\\ 28 & 36 & 0 \\end{bmatrix}$"
      ],
      "text/plain": [
       "<IPython.core.display.Math object>"
      ]
     },
     "metadata": {},
     "output_type": "display_data"
    },
    {
     "data": {
      "text/latex": [
       "$\\displaystyle \\text{Goal: a matrix } \\Alpha \\ or \\ \\alpha \\text{ with row-wise softmax normalized weights. Shape: }[N_{nodes} \\times N_{nodes} \\times N_{heads}]$"
      ],
      "text/plain": [
       "<IPython.core.display.Math object>"
      ]
     },
     "metadata": {},
     "output_type": "display_data"
    },
    {
     "data": {
      "text/latex": [
       "$\\displaystyle \\alpha_{K=1} = \\begin{bmatrix} 0 & 0.017986 & 0.982014 \\\\ 0.000335 & 0 & 0.999665 \\\\ 0.017986 & 0.982014 & 0 \\end{bmatrix}{\\rightarrow set \\ to \\ A \\ for \\ example \\rightarrow }:\\begin{bmatrix} 0 & 1 & 1 \\\\ 1 & 0 & 1 \\\\ 1 & 1 & 0 \\end{bmatrix}$"
      ],
      "text/plain": [
       "<IPython.core.display.Math object>"
      ]
     },
     "metadata": {},
     "output_type": "display_data"
    },
    {
     "data": {
      "text/latex": [
       "$\\displaystyle \\alpha_{K=2} = \\begin{bmatrix} 0 & 0.000335 & 0.999665 \\\\ 0.000000 & 0 & 1.000000 \\\\ 0.000335 & 0.999665 & 0 \\end{bmatrix}{\\rightarrow set \\ to \\ A \\ for \\ example \\rightarrow }:\\begin{bmatrix} 0 & 1 & 1 \\\\ 1 & 0 & 1 \\\\ 1 & 1 & 0 \\end{bmatrix}$"
      ],
      "text/plain": [
       "<IPython.core.display.Math object>"
      ]
     },
     "metadata": {},
     "output_type": "display_data"
    },
    {
     "data": {
      "text/latex": [
       "$\\displaystyle \\text{Goal: updated features } G_k^\\prime \\text{ based on aggregation of features } \\vec{g}_i^k \\text{ with weights } \\Alpha \\text{ . Shape: }[N_{nodes} \\times N_{heads} \\times N_{hidden}]$"
      ],
      "text/plain": [
       "<IPython.core.display.Math object>"
      ]
     },
     "metadata": {},
     "output_type": "display_data"
    },
    {
     "name": "stdout",
     "output_type": "stream",
     "text": [
      ">>>See how to aggregate multi head case in notes<<<\n"
     ]
    },
    {
     "data": {
      "text/latex": [
       "$\\displaystyle G_1 = \\begin{bmatrix} 3 & 4 \\\\ 12 & 16 \\end{bmatrix}; \\ G_2 = \\begin{bmatrix} 5 & 6 \\\\ 20 & 24 \\end{bmatrix}; \\ \\Alpha|_{row,1}= \\begin{bmatrix} 0 & 0 \\\\ 1 & 1 \\\\ 1 & 1 \\end{bmatrix}$"
      ],
      "text/plain": [
       "<IPython.core.display.Math object>"
      ]
     },
     "metadata": {},
     "output_type": "display_data"
    },
    {
     "data": {
      "text/latex": [
       "$\\displaystyle G_0^\\prime = \\vec{A}_0 \\otimes G = \\begin{bmatrix} 8 & 10 \\\\ 32 & 40 \\end{bmatrix}$"
      ],
      "text/plain": [
       "<IPython.core.display.Math object>"
      ]
     },
     "metadata": {},
     "output_type": "display_data"
    },
    {
     "name": "stdout",
     "output_type": "stream",
     "text": [
      "New embeddings can be either concatenated across different variants of k or averaged\"\n"
     ]
    },
    {
     "data": {
      "text/latex": [
       "$\\displaystyle G_0^{concat} = \\begin{bmatrix} 8 & 10 & 32 & 40 \\end{bmatrix}; \\ G_0^{Avg} = \\begin{bmatrix} 20 & 25 \\end{bmatrix}$"
      ],
      "text/plain": [
       "<IPython.core.display.Math object>"
      ]
     },
     "metadata": {},
     "output_type": "display_data"
    }
   ],
   "source": [
    "class debug_net(nn.Module):\n",
    "    def __init__(self, H0, A, test = False):\n",
    "        super(debug_net, self).__init__()\n",
    "        self.H = H0\n",
    "        self.A = A\n",
    "        self.W_gh   = nn.Linear(in_features=N_FEATURES, out_features=N_HEADS*N_HIDDEN, bias=False, dtype=H0.dtype)\n",
    "        self.Gk     = torch.zeros(size=(N_NODES, N_HEADS*N_HIDDEN), dtype=H0.dtype)\n",
    "        self.GkR    = self.Gk.view(N_NODES, N_HEADS, N_FEATURES)\n",
    "        self.Ck_l   = torch.zeros(size=(N_NODES*N_NODES, N_HEADS, N_HIDDEN), dtype=H0.dtype) \n",
    "        self.Ck_r   = torch.zeros_like(self.Ck_l)\n",
    "        self.Ck_f   = torch.zeros(size=(N_NODES*N_NODES, N_HEADS, 2*N_HIDDEN), dtype=H0.dtype) \n",
    "        self.Ck     = self.Ck_f.view(N_NODES, N_NODES, N_HEADS, 2*N_HIDDEN)\n",
    "        self.attnt  = nn.Parameter(torch.zeros(size=(2*N_HIDDEN, N_HEADS), dtype=H0.dtype))\n",
    "        self.activ  = nn.LeakyReLU(0.2)\n",
    "        self.E      = torch.zeros(size=(N_NODES,N_NODES, N_HEADS), dtype=H0.dtype)\n",
    "        self.alpha  = torch.zeros_like(self.E)\n",
    "        self.softmax= nn.Softmax(dim = 1)\n",
    "        self.GkPrime= torch.zeros_like(self.GkR)\n",
    "         \n",
    "        if test:\n",
    "            self.debug()\n",
    "\n",
    "    def debug(self):\n",
    "        with torch.no_grad():\n",
    "            print_tex(r'N_{nodes} = '+ str(N_NODES) + r'; \\ N_{heads} = '+ str(N_HEADS) + r'; \\ N_{features} = '+ str(N_FEATURES)+ r'; \\ N_{hidden} = '+ str(N_HIDDEN))\n",
    "            print_tex(r'G_{K} \\text{ is a matrix of concatenated embeddings } \\vec{g}_i^{k} , \\ shape : [N_{nodes} \\times N_{heads}*N_{hidden}]')\n",
    "\n",
    "            # set scaling transforms\n",
    "            for i in range(N_HEADS):\n",
    "                s = 1 if i == 0 else 4*i\n",
    "\n",
    "                self.W_gh.weight[i*N_FEATURES:(i+1)*N_FEATURES] = s*torch.eye(N_FEATURES)\n",
    "\n",
    "            self.Gk += self.W_gh(self.H)        # cannot redefine, it will break a view\n",
    "\n",
    "            print_tex('G_K = H W_K^T = ', H.numpy() , self.W_gh.weight[:].T.numpy(),' = ', self.Gk.numpy())\n",
    "            print_tex(r'\\text{Reshape } G_{K} \\ to \\ [N_{nodes} \\times N_{heads} \\times N_{hidden}] \\text{ to isolate each head`s data to its own dimension}')\n",
    "\n",
    "            print_tex(r\"\\text{Goal: a matrix } C_K \\text{ that holds concatenated node feature pairs. Shape: }[N_{nodes} \\times N_{nodes}\\times N_{heads} \\times 2 N_{hidden}]\")\n",
    "            print(\"Its only (?) possible with flattening, concatenating and unflattening. See notes.\")\n",
    "\n",
    "            self.Ck_l += self.GkR.repeat_interleave(N_NODES, dim=0)\n",
    "            self.Ck_r += self.GkR.repeat(N_NODES, 1, 1)\n",
    "            self.Ck_f += torch.cat([self.Ck_l, self.Ck_r], dim=-1);\n",
    "            \n",
    "            print_tex(r'C_{flat} \\ (K=1) = Repeat_{flat} \\ ||  \\ Interleave_{flat} = '\n",
    "                      ,self.Ck_l[:,[0]].squeeze(1).numpy(),r' \\ \\bigg|\\bigg| \\ ', self.Ck_r[:,[0]].squeeze(1).numpy(), ' = ',\n",
    "                      self.Ck_f[:,[0]].squeeze(1).numpy())\n",
    "            \n",
    "            print_tex(r'\\text{Features C}_{0,0} = ', self.Ck[0,0].numpy(), r'; \\ shape: \\ [N_{heads} \\times 2 N_{hidden}]')\n",
    "            prnt_vec = [r'\\vec{a}_'+str(i)+ ' = ' for i in range(N_HEADS)]\n",
    "            prnt_vec2 = [r'^T ; \\ ' for i in range(N_HEADS)]\n",
    "\n",
    "            self.attnt += np.repeat(1/(torch.arange(N_HEADS, dtype=self.H.dtype).unsqueeze(0)+1), repeats=2*N_HIDDEN, axis = 0)\n",
    "            print_tex(r\"\\text{Goal: a matrix E that holds edge weights. Shape: }[N_{nodes} \\times N_{nodes} \\times N_{heads}]\")\n",
    "            print_tex(r'E = \\sigma(\\vec{a}[C_K])')\n",
    "            print('Test attention vectors:')\n",
    "            print_tex(*[l for lists in zip(prnt_vec,self.attnt.T.numpy(),prnt_vec2) for l in lists])\n",
    "            print('>>>See how to apply multiple attention vectors to data in notes<<<')\n",
    "            \n",
    "            self.E += self.activ(torch.einsum('ijkf,fk -> ijk', self.Ck, self.attnt)).squeeze(-1)#\n",
    "\n",
    "            print_tex(r'\\text{Features E}_{0,0} = ', self.E[0,0].numpy())\n",
    "            self.alpha += self.E.masked_fill(self.A.view(N_NODES,N_NODES,1) == 0, float('-inf'))\n",
    "            for i in range(N_HEADS):\n",
    "                print_tex('E_{K='+str(i + 1)+'} = ',self.E.numpy()[:,:,i], r'\\rightarrow MASK \\rightarrow ',(self.E[:,:,i]*self.A).numpy() )\n",
    "            print_tex(r\"\\text{Goal: a matrix } \\Alpha \\ or \\ \\alpha \\text{ with row-wise softmax normalized weights. Shape: }[N_{nodes} \\times N_{nodes} \\times N_{heads}]\")\n",
    "            self.alpha = self.softmax(self.alpha)\n",
    "            \n",
    "            for i in range(N_HEADS):\n",
    "                print_tex(r'\\alpha_{K='+str(i + 1)+'} = ', self.alpha.numpy()[:,:,i], r'{\\rightarrow set \\ to \\ A \\ for \\ example \\rightarrow }:', self.A.numpy())\n",
    "                self.alpha.numpy()[:,:,i] = self.A\n",
    "            self.GkPrime += torch.einsum('ijk,jkf->ikf', self.alpha , self.GkR)\n",
    "\n",
    "            print_tex(r\"\\text{Goal: updated features } G_k^\\prime \\text{ based on aggregation of features } \\vec{g}_i^k \\text{ with weights } \\Alpha \\text{ . Shape: }[N_{nodes} \\times N_{heads} \\times N_{hidden}]\")\n",
    "            print('>>>See how to aggregate multi head case in notes<<<')\n",
    "            n1_neighbors_id = torch.argwhere(self.A[0] == 1).flatten().numpy()\n",
    "            \n",
    "            a = [r'G_'+str(i)+ ' = ' for i in n1_neighbors_id]\n",
    "            b = [self.GkR[i].numpy() for i in n1_neighbors_id]\n",
    "            c = [r'; \\ ' for i in n1_neighbors_id]\n",
    "            print_tex(*[l for lists in zip(a,b,c) for l in lists], r'\\Alpha|_{row,1}= ', self.alpha[0].numpy() )\n",
    "            print_tex(r'G_0^\\prime = \\vec{A}_0 \\otimes G = ', self.GkPrime[0].numpy())\n",
    "            print('New embeddings can be either concatenated across different variants of k or averaged\"')\n",
    "            GkP_concat = self.GkPrime.reshape(N_NODES, N_HEADS * N_HIDDEN)\n",
    "            GkP_avg  = self.GkPrime.mean(dim=1)\n",
    "            print_tex(r'G_0^{concat} = ', GkP_concat[0].numpy(), r'; \\ G_0^{Avg} = ',GkP_avg[0].numpy())\n",
    "\n",
    "\n",
    "model = debug_net(H,A,True)"
   ]
  },
  {
   "cell_type": "code",
   "execution_count": 6,
   "metadata": {},
   "outputs": [
    {
     "name": "stdout",
     "output_type": "stream",
     "text": [
      "self.attention = Parameter containing:\n",
      "tensor([[ 0.4250, -0.4971],\n",
      "        [-0.9224,  0.1756],\n",
      "        [-0.7597, -0.6898],\n",
      "        [-0.2941,  0.5916]], requires_grad=True)\n"
     ]
    },
    {
     "data": {
      "text/latex": [
       "$\\displaystyle \\begin{bmatrix} 0.721224 & 0.278776 & 0.000034 & 0.999967 \\\\ 0.867247 & 0.132753 & 0.000031 & 0.999969 \\\\ 0.740172 & 0.259828 & 0.287799 & 0.712201 \\end{bmatrix}$"
      ],
      "text/plain": [
       "<IPython.core.display.Math object>"
      ]
     },
     "metadata": {},
     "output_type": "display_data"
    }
   ],
   "source": [
    "class GraphAttentionLayer(nn.Module):\n",
    "    def __init__(self, N_FEATURES, N_HEADS, N_HIDDEN, non_lin, mask_attention = True, concat: bool = False, l_ReLU_slope: float = 0.2, dropout: float = 0.6, dtype = torch.float):\n",
    "        super(GraphAttentionLayer, self).__init__()\n",
    "        # 1) globals\n",
    "        self.mask_attention = mask_attention\n",
    "        self.N_FEATURES, self.N_HEADS,  self.N_HIDDEN  = N_FEATURES, N_HEADS, N_HIDDEN\n",
    "        self.concat = concat\n",
    "        self.dtype = dtype\n",
    "        # 2) weights \n",
    "        # 2.1) project H0 to G      [N_nodes x N_features] -> [N_nodes x N_hidden]\n",
    "        self.W_gh   = nn.Linear(in_features=N_FEATURES, out_features=N_HEADS*N_HIDDEN, bias=False, dtype=dtype)\n",
    "        # 2.2) project Ck to alpha  [N_nodes x N_nodes x N_heads x N_features] -> [N_nodes x N_hidden x N_heads]\n",
    "        self.attention  = nn.Parameter(torch.empty(size=(2*N_HIDDEN, N_HEADS), dtype=dtype))\n",
    "        nn.init.xavier_uniform_(self.attention) \n",
    "        print(f'{self.attention = }')\n",
    "\n",
    "        # misc processing\n",
    "        self.activ_alpha    = nn.LeakyReLU(l_ReLU_slope)\n",
    "        self.softmax        = nn.Softmax(dim = 1)\n",
    "        self.activ_Gn_new   = non_lin\n",
    "        self.dropout        = nn.Dropout(dropout)\n",
    "\n",
    "    def forward(self, A, H):\n",
    "        #A,H = A.detach(), H.to(self.dtype).detach()\n",
    "        H = H.to(self.dtype)\n",
    "        N_NODES = H.size(0)\n",
    "        N_HEADS, N_HIDDEN = self.N_HEADS,  self.N_HIDDEN\n",
    "        # 1) Get features\n",
    "        Gk_reshaped = self.W_gh(H).view(N_NODES, N_HEADS, N_HIDDEN)\n",
    "        # 2) Prepare attention/adjacency matrix\n",
    "        # 2.1) Concatenated pairwise features for each head\n",
    "        C_left  = Gk_reshaped.repeat_interleave(N_NODES, dim=0)\n",
    "        C_right = Gk_reshaped.repeat(N_NODES, 1, 1)\n",
    "        Ck      = torch.cat([C_left, C_right], dim=-1).view(N_NODES, N_NODES, N_HEADS, 2*N_HIDDEN)\n",
    "        #print(f'{Ck.shape = }')\n",
    "        # 2.2) Project concat features to a scalar\n",
    "        alpha   = self.activ_alpha(torch.einsum('ijkf,fk -> ijk', Ck, self.attention)).view(N_NODES, N_NODES, N_HEADS)\n",
    "        #print(f'{alpha.shape = }')\n",
    "        # 2.3) Apply adjacency matrix mask, softmax and dropout\n",
    "        if self.mask_attention:\n",
    "            alpha.masked_fill_(A.reshape(N_NODES,N_NODES,1) == 0, float('-inf'))\n",
    "        alpha = self.softmax(alpha)\n",
    "        alpha = self.dropout(alpha)\n",
    "        # 3) Calculate new feature vectors by aggregation, using attention matrix.\n",
    "        Gk_new = torch.einsum('ijk,jkf->ikf', alpha , Gk_reshaped)\n",
    "        #print(f'{Gk_new.shape = }')\n",
    "        # 4) Additional processing. Like in paper, its either mean or concat, with activation.\n",
    "        if self.concat:\n",
    "            # activation before concat\n",
    "            Gk_new = self.activ_Gn_new(Gk_new)\n",
    "            return Gk_new.reshape(N_NODES, N_HEADS * N_HIDDEN)\n",
    "        else:\n",
    "            # activation after\n",
    "            Gk_new = Gk_new.mean(dim=1).view(N_NODES, 1, N_HIDDEN)\n",
    "            #print(f'mean {Gk_new2.shape = }')\n",
    "            return self.activ_Gn_new(Gk_new)\n",
    "        \n",
    "model = GraphAttentionLayer( N_FEATURES, N_HEADS, N_HIDDEN, nn.Softmax(dim = 2), concat=True)\n",
    "print_tex(model(A,H).detach().numpy())"
   ]
  },
  {
   "cell_type": "code",
   "execution_count": 7,
   "metadata": {},
   "outputs": [
    {
     "name": "stdout",
     "output_type": "stream",
     "text": [
      "self.attention = Parameter containing:\n",
      "tensor([[ 0.5875, -0.1776],\n",
      "        [ 0.4565, -0.1084],\n",
      "        [ 0.4624, -0.5211],\n",
      "        [-0.5068,  0.2714],\n",
      "        [-0.3093, -0.3280],\n",
      "        [-0.1937,  0.1979],\n",
      "        [-0.4456, -0.2873],\n",
      "        [-0.4162,  0.3382],\n",
      "        [ 0.5302, -0.4071],\n",
      "        [ 0.5892, -0.2572],\n",
      "        [-0.2078,  0.5568],\n",
      "        [ 0.6398,  0.4390]], requires_grad=True)\n",
      "self.attention = Parameter containing:\n",
      "tensor([[0.0535],\n",
      "        [0.4822],\n",
      "        [0.0158],\n",
      "        [0.3689]], requires_grad=True)\n"
     ]
    },
    {
     "data": {
      "text/plain": [
       "tensor([[[0.5757, 0.4243]],\n",
       "\n",
       "        [[0.5662, 0.4338]],\n",
       "\n",
       "        [[0.5757, 0.4243]]], grad_fn=<SoftmaxBackward0>)"
      ]
     },
     "execution_count": 7,
     "metadata": {},
     "output_type": "execute_result"
    }
   ],
   "source": [
    "\n",
    "class net(nn.Module):\n",
    "    def __init__(self, N_FEATURES, N_HEADS, N_HIDDEN):\n",
    "        super(net, self).__init__()\n",
    "        N_FEATURES_1, N_FEATURES_2  = N_FEATURES\n",
    "        N_HEADS_1   , N_HEADS_2     = N_HEADS\n",
    "        N_HIDDEN_1  , N_HIDDEN_2    = N_HIDDEN\n",
    "\n",
    "        self.GAT1 = GraphAttentionLayer(N_FEATURES_1, N_HEADS_1, N_HIDDEN_1, nn.ELU(), mask_attention = False, concat = True, dropout = 0.1)\n",
    "        self.GAT2 = GraphAttentionLayer(N_FEATURES_2, N_HEADS_2, N_HIDDEN_2, nn.Softmax(dim = 2), mask_attention = False, dropout = 0.1)\n",
    "\n",
    "    def forward(self, A, H):\n",
    "        x = self.GAT1(A, H)\n",
    "        y = self.GAT2(A, x)\n",
    "        return y\n",
    "    \n",
    "    \n",
    "\n",
    "heads   = head_l1, head_l2              = 2, 1\n",
    "hiddens = hidd_l1, hidd_l2              = 6, 2\n",
    "feats   = [N_FEATURES, head_l1*hidd_l1]     # feats_l2  takes in concatenated head_l1 features of length hidd_l1\n",
    "\n",
    "net(feats, heads, hiddens)(A,H)"
   ]
  },
  {
   "cell_type": "markdown",
   "metadata": {},
   "source": [
    "### 1) Split whole dataset into to independent datasets.\n",
    "I want to use build-in features for dataset splitting, but for semi-supervised learning meaning of train, test, validation subsets are skewed.\n",
    "masks:\n",
    "* train - these features will be available for semi-supervised learning. Rename to `mask_features`\n",
    "* test - large portion of nodes that will exchange features\n",
    "* validation - completely isolated graph for validation model\n",
    "\n",
    "We have to join train and test masks into `masks_train`, so unmasked nodes are on one graph.\n",
    "\n",
    "**NOTE**: i will be removing nodes with no neighbors, so masks are invalidated"
   ]
  },
  {
   "cell_type": "code",
   "execution_count": 8,
   "metadata": {},
   "outputs": [
    {
     "name": "stdout",
     "output_type": "stream",
     "text": [
      "dataset.num_features = 1433, dataset.num_classes = 7\n",
      "Data(x=[2708, 1433], edge_index=[2, 10556], y=[2708], train_mask=[2708], val_mask=[2708], test_mask=[2708])\n",
      "validation and train masks overlap:  False\n"
     ]
    }
   ],
   "source": [
    "from torch_geometric.datasets import Planetoid\n",
    "from torch_geometric.transforms import NormalizeFeatures\n",
    "import os\n",
    "torch.manual_seed(69)\n",
    "num_train_per_class = 100\n",
    "dataset = Planetoid(    root=os.path.join('data_processing','neural_networks', 'data', 'Planetoid'),\n",
    "                        name='Cora', \n",
    "                        transform=NormalizeFeatures(),\n",
    "                        split = 'random',\n",
    "                        num_test= 1000 - 7*num_train_per_class, # to combine into 1000 entries\n",
    "                        num_val = 500,\n",
    "                        num_train_per_class= num_train_per_class)\n",
    "print(f'{dataset.num_features = }, {dataset.num_classes = }')\n",
    "print(dataset._data)\n",
    "\n",
    "\n",
    "mask_train      = torch.bitwise_or(dataset.train_mask, dataset.test_mask).bool()\n",
    "\n",
    "mask_validate = dataset.val_mask.bool()\n",
    "\n",
    "print('validation and train masks overlap: ', torch.bitwise_and(mask_validate, mask_train).sum().bool().item())"
   ]
  },
  {
   "cell_type": "markdown",
   "metadata": {},
   "source": [
    "### 2) Generate graphs- full and two subgraphs (test, validation)\n",
    "#### 2.1) Lets do a few checks so we know that dataset masks will generate proper slices of list of nodes and proper adjacency matrices will be created.\n",
    "\n",
    "* Global node names = their pos in range(num_nodes). This will not be true anymore for subgraphs.\n",
    "* Adjacency and feature matrices are reffed to neighbors by order ID in list(node_names)\n",
    "* Sort nodes of graphs. This will allow to use dataset.masks for slicing. Makes adj matrix compatible with masked feature matrices.\n",
    "\n",
    "**Message passing requires that nodes have neighbors. What to do if node does not have any neighbor?**\n",
    "* Remove unconnected nodes. \n",
    "* Introduce self-loops. (It makes no sense for social networks, citations)"
   ]
  },
  {
   "cell_type": "code",
   "execution_count": 9,
   "metadata": {},
   "outputs": [
    {
     "name": "stdout",
     "output_type": "stream",
     "text": [
      "(Ordered) G_vali_nodes[:10] = array([ 1,  7, 13, 20, 30, 38, 53, 73, 74, 89], dtype=int64)\n",
      "test node global = local name (test_node = 1)\n",
      "Global neighbors list(G_full.neighbors(n=test_node)) = [2, 652, 654];\n",
      "Subgraph neighbors list(G_vali.neighbors(n=test_node)) = [652]\n",
      "\n",
      "Global ID = global entry in nodelist (test_node = 1); \n",
      "Subgraph entry = (test_node_ID = 0) -> G_vali_nodes[test_node_ID] = 1\n",
      "\n",
      "Neighbors via subgraph adjacency matrix: list(test_node_neighbor_IDs) = [652]\n"
     ]
    }
   ],
   "source": [
    "# Full graph\n",
    "G_full = nx.Graph()\n",
    "nodes_all = torch.arange(len(dataset.y)).numpy()\n",
    "G_full.add_nodes_from(nodes_all)\n",
    "G_full.add_edges_from(dataset.edge_index.T.numpy())\n",
    "\n",
    "# Split it into two unconnected graphs:\n",
    "G_train0 = G_full.subgraph(nodes_all[mask_train])\n",
    "G_vali0 = G_full.subgraph(nodes_all[mask_validate])\n",
    "\n",
    "# Make graphs hold sorted nodes. \n",
    "G_train = nx.Graph()\n",
    "G_train.add_nodes_from(sorted(   G_train0.nodes(data=True)))\n",
    "G_train.add_edges_from(          G_train0.edges(data=True))\n",
    "\n",
    "G_vali = nx.Graph()\n",
    "G_vali.add_nodes_from(sorted(   G_vali0.nodes(data=True)))\n",
    "G_vali.add_edges_from(          G_vali0.edges(data=True))\n",
    "\n",
    "# i very much hope that node removal keeps relative order (monotone increase in index)\n",
    "G_train.remove_nodes_from(list(nx.isolates(G_train)))\n",
    "G_vali.remove_nodes_from(list(nx.isolates(G_vali)))\n",
    "\n",
    "# Do a test so we can check if we understand everything correctly\n",
    "G_vali_nodes = np.array(G_vali.nodes())\n",
    "print(f'(Ordered) {G_vali_nodes[:10] = }')\n",
    "\n",
    "# Pick 1st node in subset with neighbors. \n",
    "# It will have same or more neighbors than in G_full.\n",
    "for test_node_ID, test_node in enumerate(G_vali_nodes):\n",
    "    if len(list(G_vali.neighbors(n=test_node))) > 0: break\n",
    "\n",
    "print(f'test node global = local name ({test_node = })')\n",
    "print(f'Global neighbors {list(G_full.neighbors(n=test_node)) = };\\nSubgraph neighbors {list(G_vali.neighbors(n=test_node)) = }\\n')\n",
    "\n",
    "# in sugraph it will have \n",
    "print(f'Global ID = global entry in nodelist ({test_node = }); \\nSubgraph entry = ({test_node_ID = }) -> {G_vali_nodes[test_node_ID] = }\\n')\n",
    "\n",
    "A_train = nx.adjacency_matrix(G_train).astype(bool)\n",
    "A_vali = nx.adjacency_matrix(G_vali).astype(bool)\n",
    "\n",
    "# masking by local IDs:\n",
    "test_node_neighbor_mask = A_vali[[test_node_ID]].todense()[0]\n",
    "test_node_neighbor_IDs = G_vali_nodes[test_node_neighbor_mask]\n",
    "print(f'Neighbors via subgraph adjacency matrix: {list(test_node_neighbor_IDs) = }')\n"
   ]
  },
  {
   "cell_type": "markdown",
   "metadata": {},
   "source": [
    "### 2.2) Obtain and use 'slicers' that will extract node features and targets\n",
    "* If node list, in subgraphs, is ordered, you can simply apply OG masking.\n",
    "* If we had nodes w/o neighbors they will be dropped\n",
    "* Convert labels to OneHot vectors"
   ]
  },
  {
   "cell_type": "code",
   "execution_count": 10,
   "metadata": {},
   "outputs": [],
   "source": [
    "from sklearn.preprocessing import OneHotEncoder\n",
    "\n",
    "picker_train = np.array(G_train.nodes())\n",
    "picker_vali = np.array(G_vali.nodes())\n",
    "H_train = dataset.x[picker_train]\n",
    "H_vali = dataset.x[picker_vali]\n",
    "\n",
    "#print(torch.all(dataset.x[picker_test] == dataset.x[mask_train]).item())\n",
    "\n",
    "y_train = dataset.y[picker_train]\n",
    "y_vali = dataset.y[picker_vali]\n",
    "\n",
    "Y_train = OneHotEncoder(categories='auto').fit_transform(y_train.reshape(-1, 1))\n",
    "Y_train = torch.tensor(Y_train.todense());\n",
    "\n",
    "Y_vali = OneHotEncoder(categories='auto').fit_transform(y_vali.reshape(-1, 1))\n",
    "Y_vali = torch.tensor(Y_vali.todense());\n",
    "\n",
    "#ill be masking features in the loop\n"
   ]
  },
  {
   "cell_type": "markdown",
   "metadata": {},
   "source": [
    "# Masked Cross Entropy Loss loss:\n",
    "for a row of $H_i$ and $P_i$, if $H_{i,k}$ is true solution since only $P_{i,k} = 1$, then\n",
    "$$L_i=\n",
    "-Log\\left(\\frac{exp(H_{i,k})}{\\sum_j exp(H_{i,j})}\\right) = -Log\\left(\\frac{a_i}{b_i}\\right) \n",
    "$$\n",
    "\n",
    "1. calc $exp(H_{i,j}) = H_{i,j}^e $\n",
    "\n",
    "2. calc $H_{i,k}^e = a_i$\n",
    "$$H_{i,k}^e = sum(H_i^e \\otimes P_i) = \n",
    "sum(\\begin{bmatrix}\n",
    "H_{i,1}^e  & \\dots & H_{i,k}^e & \\dots\n",
    "\\end{bmatrix}\\otimes\n",
    "\\begin{bmatrix}\n",
    "0 & \\dots & P_{i,k} = 1 & \\dots\n",
    "\\end{bmatrix}\n",
    ")=\n",
    "0 H_{i,1}^e  + \\dots + 1 H_{i,k}^e + \\dots = H_{i,k}^e\n",
    "$$\n",
    "\n",
    "3. calc $\\sum_j exp(H_{i,j}) = \\sum_j H_{i,j}^e = b_i$\n",
    "\n",
    "$$L_i = -Log\\left(\\frac{sum(H_i^e \\otimes P_i)}{sum(H_i^e)}\\right) $$\n",
    "\n",
    "For a matrices $H$, $L$ and $P$\n",
    "\n",
    "$$ L = -Log\\left(\\frac{sum(H^e \\otimes P, dim = 1)}{sum(H^e, dim = 1)}\\right) $$\n",
    "\n",
    "4. reduce to a scalar\n",
    "    * $sum(L)$ \n",
    "    * $mean(L)$"
   ]
  },
  {
   "cell_type": "code",
   "execution_count": 11,
   "metadata": {},
   "outputs": [],
   "source": [
    "class MaskedCrossEntropyLoss(nn.Module):\n",
    "    def __init__(self):\n",
    "        super(MaskedCrossEntropyLoss, self).__init__()\n",
    "\n",
    "    def forward(self, H, Y, mask):\n",
    "        Hexp = torch.exp(H[mask])\n",
    "        Hexp_norms = Hexp.sum(dim = 1)\n",
    "        loss = - torch.log((H[mask] * Y[mask]).sum(dim = 1)/Hexp_norms)\n",
    "        return loss"
   ]
  },
  {
   "cell_type": "code",
   "execution_count": 12,
   "metadata": {},
   "outputs": [
    {
     "data": {
      "text/plain": [
       "tensor(9.3532)"
      ]
     },
     "execution_count": 12,
     "metadata": {},
     "output_type": "execute_result"
    }
   ],
   "source": [
    "MCEL = MaskedCrossEntropyLoss()\n",
    "torch.manual_seed(69)\n",
    "idx = torch.randint(0,4,size = (5,));\n",
    "Ps = torch.zeros(size = (5,4))\n",
    "Ps[range(5),idx] = 1 ; Ps\n",
    "data = torch.arange(torch.prod(torch.tensor(Ps.shape))).reshape(Ps.shape)\n",
    "\n",
    "MCEL(data, Ps, torch.arange(5)).mean()"
   ]
  },
  {
   "cell_type": "markdown",
   "metadata": {},
   "source": [
    "Recreate case from a paper:\n",
    "\n",
    "Transductive learning.\n",
    "\n",
    "1. GAT layers = 2<br>\n",
    "    1. Layer 1<br>\n",
    "            1. N_HEADS = 8 <br>\n",
    "            2. N_HIDDEN = 8 <br>\n",
    "            3. activation = ELU <br>\n",
    "            4. concatenation = True <br>\n",
    "            5. N_FEATURES = original number\n",
    "    2. Layer 2<br>\n",
    "        1. N_HEADS = 1 <br>\n",
    "        2. N_HIDDEN = number of classes <br>\n",
    "        3. activation = SoftMax <br>\n",
    "        4. concatenation = false <br>\n",
    "        5. N_FEATURES = Layer 1 N_HEADS * layer 1 N_HIDDEN\n",
    "2. regularization = $L_2$, scale = 0.0005\n",
    "3. dropout, p = 0.6\n",
    "\n"
   ]
  },
  {
   "cell_type": "markdown",
   "metadata": {},
   "source": [
    "### 3)"
   ]
  },
  {
   "cell_type": "code",
   "execution_count": 33,
   "metadata": {},
   "outputs": [
    {
     "name": "stdout",
     "output_type": "stream",
     "text": [
      "self.attention = Parameter containing:\n",
      "tensor([[-0.4968,  0.1006, -0.2700,  0.0432],\n",
      "        [ 0.1594, -0.1314, -0.3674, -0.4214],\n",
      "        [ 0.2878, -0.4800, -0.1204,  0.2435],\n",
      "        [-0.0036,  0.3551, -0.1631,  0.2054],\n",
      "        [-0.3958,  0.4369,  0.2988,  0.4825],\n",
      "        [-0.3834,  0.3723,  0.0102, -0.3569],\n",
      "        [ 0.1833, -0.2402,  0.2468,  0.2717],\n",
      "        [-0.1238,  0.2597, -0.1956,  0.0261],\n",
      "        [ 0.5415,  0.1670,  0.3348,  0.1929],\n",
      "        [ 0.0363,  0.1004,  0.1875,  0.1613],\n",
      "        [-0.1107, -0.2328, -0.3600,  0.1258],\n",
      "        [ 0.4541,  0.3504,  0.4347,  0.0902],\n",
      "        [ 0.4624,  0.2841, -0.3144, -0.4589],\n",
      "        [-0.4661,  0.3287,  0.2313,  0.3016],\n",
      "        [-0.1065,  0.2680, -0.4719, -0.3595],\n",
      "        [-0.4765, -0.4031,  0.3047,  0.0196]], requires_grad=True)\n",
      "self.attention = Parameter containing:\n",
      "tensor([[ 0.2981],\n",
      "        [-0.2976],\n",
      "        [-0.4758],\n",
      "        [ 0.5186],\n",
      "        [-0.5661],\n",
      "        [-0.4271],\n",
      "        [ 0.5806],\n",
      "        [ 0.5363],\n",
      "        [ 0.5693],\n",
      "        [-0.6139],\n",
      "        [-0.5281],\n",
      "        [-0.5462],\n",
      "        [ 0.2016],\n",
      "        [ 0.0990]], requires_grad=True)\n"
     ]
    }
   ],
   "source": [
    "heads   = head_l1, head_l2              = 4, 1\n",
    "hiddens = hidd_l1, hidd_l2              = 8, dataset.num_classes\n",
    "feats   = [dataset.num_features, head_l1*hidd_l1]     # feats_l2  takes in concatenated head_l1 features of length hidd_l1\n",
    "\n",
    "\n",
    "device = torch.device(\"cuda\" if torch.cuda.is_available() else \"cpu\")\n",
    "model = net(feats, heads, hiddens).to(device)\n",
    "\n",
    "criterion = nn.CrossEntropyLoss().to(device)\n",
    "#criterion = MaskedCrossEntropyLoss().to(device)\n",
    "optimizer = torch.optim.Adam(model.parameters(), lr = 0.001)"
   ]
  },
  {
   "cell_type": "code",
   "execution_count": null,
   "metadata": {},
   "outputs": [],
   "source": [
    "from IPython.display import clear_output\n",
    "def train(A, H, Target, iters = 1, debug = False, rep_interval = 5):\n",
    "    A = torch.tensor(A.todense()).to(device)\n",
    "    H = H.to(device)\n",
    "    Target = Target.to(device)\n",
    "    for i in range(iters):\n",
    "        optimizer.zero_grad()\n",
    "        out = model(A, H).squeeze(1)\n",
    "        torch.manual_seed(69)\n",
    "        Y_mask = torch.tensor(np.random.choice(range(H.size(0)), size=num_train_per_class, replace=False))\n",
    "        loss = criterion(Target[Y_mask], out[Y_mask])\n",
    "        #loss = criterion(Target, out, Y_mask).mean()\n",
    "        loss.backward()\n",
    "        optimizer.step()\n",
    "        if debug and i % rep_interval == 0: \n",
    "            print(f'iter {i:<{len(str(iters))}}, loss: {loss.item():0.4f}')\n",
    "            if i % 2*rep_interval == 0:\n",
    "                with torch.no_grad():\n",
    "                    print('asdasdasdas ',(torch.sum(Target*out, dim = 1)).mean())\n",
    "                    print(12312,criterion(out[Y_mask], out[Y_mask]))\n",
    "                    #print(Target[Y_mask,0], out[Y_mask])\n",
    "            # if i != 0 and i % 50*rep_interval == 0: \n",
    "            #     clear_output()\n",
    "                \n",
    "\n",
    "\n",
    "train(A_train, H_train, Y_train, 20001, 1)"
   ]
  },
  {
   "cell_type": "code",
   "execution_count": 39,
   "metadata": {},
   "outputs": [],
   "source": [
    "from sklearn.manifold import TSNE\n",
    "\n",
    "def visualize(h, color):\n",
    "    z = TSNE(n_components = 2, method='exact').fit_transform(h.detach().cpu().numpy())\n",
    "    print(z.shape)\n",
    "    plt.figure(figsize=(10,10))\n",
    "    plt.xticks([])\n",
    "    plt.yticks([])\n",
    "\n",
    "    plt.scatter(z[:, 0], z[:, 1], s=70, c=color, cmap=\"Set2\")\n",
    "    plt.show()"
   ]
  },
  {
   "cell_type": "code",
   "execution_count": 45,
   "metadata": {},
   "outputs": [
    {
     "name": "stdout",
     "output_type": "stream",
     "text": [
      "(500, 2)\n"
     ]
    },
    {
     "data": {
      "image/png": "[encoded data removed]",
      "text/plain": [
       "<Figure size 1000x1000 with 1 Axes>"
      ]
     },
     "metadata": {},
     "output_type": "display_data"
    }
   ],
   "source": [
    "A = torch.tensor(A_train.todense()).to(device)\n",
    "H = H_train.to(device)\n",
    "out = model(A, H).squeeze(1)\n",
    "visualize(out[:500], y_train[:500])\n",
    "\n"
   ]
  },
  {
   "cell_type": "code",
   "execution_count": null,
   "metadata": {},
   "outputs": [],
   "source": [
    "#torch.norm(, p = 'fro')"
   ]
  },
  {
   "cell_type": "markdown",
   "metadata": {},
   "source": [
    "## Some things ive learned\n",
    "* you can define an array, and its reshaped representation. If you dont redefine array, you can change it, and reshaped representation will also change (duh)"
   ]
  },
  {
   "cell_type": "code",
   "execution_count": null,
   "metadata": {},
   "outputs": [
    {
     "name": "stdout",
     "output_type": "stream",
     "text": [
      "tensor([2, 3, 4])\n",
      "tensor([[2],\n",
      "        [3],\n",
      "        [4]])\n",
      "tensor([5, 7, 9])\n",
      "tensor([[5],\n",
      "        [7],\n",
      "        [9]])\n"
     ]
    }
   ],
   "source": [
    "asd = torch.arange(2,5,1);print(asd)\n",
    "asd2 = asd.reshape(-1,1);print(asd2)\n",
    "asd += torch.arange(3,6,1);print(asd)\n",
    "print(asd2)"
   ]
  }
 ],
 "metadata": {
  "kernelspec": {
   "display_name": ".venv",
   "language": "python",
   "name": "python3"
  },
  "language_info": {
   "codemirror_mode": {
    "name": "ipython",
    "version": 3
   },
   "file_extension": ".py",
   "mimetype": "text/x-python",
   "name": "python",
   "nbconvert_exporter": "python",
   "pygments_lexer": "ipython3",
   "version": "3.9.13"
  }
 },
 "nbformat": 4,
 "nbformat_minor": 2
}
