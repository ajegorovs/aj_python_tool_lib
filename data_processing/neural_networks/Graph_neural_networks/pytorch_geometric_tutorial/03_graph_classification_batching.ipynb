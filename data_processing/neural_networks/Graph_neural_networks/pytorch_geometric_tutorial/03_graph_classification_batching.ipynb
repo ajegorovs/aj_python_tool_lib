{
 "cells": [
  {
   "cell_type": "code",
   "execution_count": 1,
   "metadata": {},
   "outputs": [],
   "source": [
    "import torch, os"
   ]
  },
  {
   "cell_type": "code",
   "execution_count": 2,
   "metadata": {},
   "outputs": [],
   "source": [
    "from torch_geometric.datasets import TUDataset"
   ]
  },
  {
   "cell_type": "code",
   "execution_count": 8,
   "metadata": {},
   "outputs": [
    {
     "name": "stdout",
     "output_type": "stream",
     "text": [
      "len(dataset) = 188, dataset.num_features = 7, dataset.num_classes = 2\n",
      "Data(edge_index=[2, 38], x=[17, 7], edge_attr=[38, 4], y=[1])\n",
      "len(train_dataset) = 150, len(test_dataset) = 38\n"
     ]
    }
   ],
   "source": [
    "dataset = TUDataset(root=os.path.join('data_processing','neural_networks', 'data','TUDataset'), name='MUTAG')\n",
    "print(f'{len(dataset) = }, {dataset.num_features = }, {dataset.num_classes = }')\n",
    "data = dataset[0]; \n",
    "print(data)\n",
    "torch.manual_seed(69)\n",
    "dataset = dataset.shuffle()\n",
    "train_dataset = dataset[:150]\n",
    "test_dataset  = dataset[150:]\n",
    "print(f'{len(train_dataset) = }, {len(test_dataset) = }')"
   ]
  },
  {
   "cell_type": "markdown",
   "metadata": {},
   "source": [
    "### Batching concatenates adjacency matrices of multiple graphs into single 2D matrix"
   ]
  },
  {
   "cell_type": "code",
   "execution_count": 27,
   "metadata": {},
   "outputs": [
    {
     "name": "stdout",
     "output_type": "stream",
     "text": [
      "Data(edge_index=[2, 44], x=[19, 7], edge_attr=[44, 4], y=[1])\n",
      "step = 0, data = DataBatch(edge_index=[2, 2424], x=[1111, 7], edge_attr=[2424, 4], y=[64], batch=[1111], ptr=[65])\n",
      "step = 1, data = DataBatch(edge_index=[2, 2674], x=[1199, 7], edge_attr=[2674, 4], y=[64], batch=[1199], ptr=[65])\n",
      "step = 2, data = DataBatch(edge_index=[2, 900], x=[405, 7], edge_attr=[900, 4], y=[22], batch=[405], ptr=[23])\n"
     ]
    },
    {
     "data": {
      "text/plain": [
       "5998"
      ]
     },
     "execution_count": 27,
     "metadata": {},
     "output_type": "execute_result"
    }
   ],
   "source": [
    "from torch_geometric.loader import DataLoader\n",
    "BATCH_SIZE = 64\n",
    "print(dataset[0])\n",
    "train_loader = DataLoader(train_dataset , batch_size = BATCH_SIZE, shuffle = True)\n",
    "test_loader = DataLoader(test_dataset   , batch_size = BATCH_SIZE, shuffle = False)\n",
    "edges_num = 0\n",
    "for step, data in enumerate(train_loader):\n",
    "    print(f'{step = }, {data = }')\n",
    "    edges_num += data.edge_index.size(1)\n",
    "edges_num"
   ]
  },
  {
   "cell_type": "code",
   "execution_count": 24,
   "metadata": {},
   "outputs": [],
   "source": [
    "from torch.nn import Linear\n",
    "import torch.nn.functional as F\n",
    "from torch_geometric.nn import GCNConv, global_mean_pool"
   ]
  },
  {
   "cell_type": "code",
   "execution_count": 28,
   "metadata": {},
   "outputs": [
    {
     "data": {
      "text/plain": [
       "GCN(\n",
       "  (conv1): GCNConv(7, 64)\n",
       "  (conv2): GCNConv(64, 64)\n",
       "  (conv3): GCNConv(64, 64)\n",
       "  (lin): Linear(in_features=64, out_features=2, bias=True)\n",
       ")"
      ]
     },
     "execution_count": 28,
     "metadata": {},
     "output_type": "execute_result"
    }
   ],
   "source": [
    "class GCN(torch.nn.Module):\n",
    "    def __init__(self, hidden_channels) -> None:\n",
    "        super().__init__()\n",
    "        torch.manual_seed(69)\n",
    "        self.conv1 = GCNConv(dataset.num_node_features, hidden_channels)\n",
    "        self.conv2 = GCNConv(hidden_channels, hidden_channels)\n",
    "        self.conv3 = GCNConv(hidden_channels, hidden_channels)\n",
    "        self.lin   = Linear(hidden_channels, dataset.num_classes)\n",
    "\n",
    "    def forward(self, x, edge_index, batch):\n",
    "        x = self.conv1(x, edge_index)\n",
    "        x = x.relu()\n",
    "        x = self.conv2(x, edge_index)\n",
    "        x = x.relu()\n",
    "        x = self.conv3(x, edge_index)\n",
    "        x = x.relu()\n",
    "\n",
    "        x = global_mean_pool(x, batch)\n",
    "\n",
    "        x = F.dropout(x, p=0.5, training=self.training)\n",
    "        x = self.lin(x)\n",
    "\n",
    "        return x\n",
    "\n",
    "HIDDEN_CHANNELS = 64 \n",
    "GCN(hidden_channels=HIDDEN_CHANNELS)"
   ]
  },
  {
   "cell_type": "code",
   "execution_count": 30,
   "metadata": {},
   "outputs": [
    {
     "name": "stdout",
     "output_type": "stream",
     "text": [
      "Epoch: 001, train_acc = 0.6733333333333333, test_acc = 0.631578947368421\n",
      "Epoch: 002, train_acc = 0.6733333333333333, test_acc = 0.631578947368421\n",
      "Epoch: 003, train_acc = 0.6733333333333333, test_acc = 0.631578947368421\n",
      "Epoch: 004, train_acc = 0.6733333333333333, test_acc = 0.631578947368421\n",
      "Epoch: 005, train_acc = 0.6733333333333333, test_acc = 0.631578947368421\n",
      "Epoch: 006, train_acc = 0.6733333333333333, test_acc = 0.631578947368421\n",
      "Epoch: 007, train_acc = 0.6733333333333333, test_acc = 0.631578947368421\n",
      "Epoch: 008, train_acc = 0.6733333333333333, test_acc = 0.631578947368421\n",
      "Epoch: 009, train_acc = 0.6733333333333333, test_acc = 0.631578947368421\n",
      "Epoch: 010, train_acc = 0.6866666666666666, test_acc = 0.631578947368421\n",
      "Epoch: 011, train_acc = 0.72, test_acc = 0.6578947368421053\n",
      "Epoch: 012, train_acc = 0.7466666666666667, test_acc = 0.7105263157894737\n",
      "Epoch: 013, train_acc = 0.74, test_acc = 0.7105263157894737\n",
      "Epoch: 014, train_acc = 0.7333333333333333, test_acc = 0.6842105263157895\n",
      "Epoch: 015, train_acc = 0.74, test_acc = 0.6578947368421053\n",
      "Epoch: 016, train_acc = 0.7466666666666667, test_acc = 0.6842105263157895\n",
      "Epoch: 017, train_acc = 0.7533333333333333, test_acc = 0.7105263157894737\n",
      "Epoch: 018, train_acc = 0.74, test_acc = 0.7105263157894737\n",
      "Epoch: 019, train_acc = 0.76, test_acc = 0.7368421052631579\n",
      "Epoch: 020, train_acc = 0.7533333333333333, test_acc = 0.6842105263157895\n",
      "Epoch: 021, train_acc = 0.7733333333333333, test_acc = 0.6842105263157895\n",
      "Epoch: 022, train_acc = 0.7533333333333333, test_acc = 0.6842105263157895\n",
      "Epoch: 023, train_acc = 0.74, test_acc = 0.7105263157894737\n",
      "Epoch: 024, train_acc = 0.78, test_acc = 0.6842105263157895\n",
      "Epoch: 025, train_acc = 0.7533333333333333, test_acc = 0.6842105263157895\n",
      "Epoch: 026, train_acc = 0.7733333333333333, test_acc = 0.7368421052631579\n",
      "Epoch: 027, train_acc = 0.7533333333333333, test_acc = 0.6842105263157895\n",
      "Epoch: 028, train_acc = 0.76, test_acc = 0.6842105263157895\n",
      "Epoch: 029, train_acc = 0.7666666666666667, test_acc = 0.7105263157894737\n",
      "Epoch: 030, train_acc = 0.7666666666666667, test_acc = 0.7105263157894737\n",
      "Epoch: 031, train_acc = 0.7666666666666667, test_acc = 0.6842105263157895\n",
      "Epoch: 032, train_acc = 0.7733333333333333, test_acc = 0.6842105263157895\n",
      "Epoch: 033, train_acc = 0.7666666666666667, test_acc = 0.7105263157894737\n",
      "Epoch: 034, train_acc = 0.7533333333333333, test_acc = 0.7105263157894737\n",
      "Epoch: 035, train_acc = 0.7733333333333333, test_acc = 0.7105263157894737\n",
      "Epoch: 036, train_acc = 0.78, test_acc = 0.7105263157894737\n",
      "Epoch: 037, train_acc = 0.7666666666666667, test_acc = 0.7368421052631579\n",
      "Epoch: 038, train_acc = 0.7533333333333333, test_acc = 0.7105263157894737\n",
      "Epoch: 039, train_acc = 0.7533333333333333, test_acc = 0.7105263157894737\n",
      "Epoch: 040, train_acc = 0.76, test_acc = 0.7368421052631579\n",
      "Epoch: 041, train_acc = 0.7533333333333333, test_acc = 0.7105263157894737\n",
      "Epoch: 042, train_acc = 0.76, test_acc = 0.7105263157894737\n",
      "Epoch: 043, train_acc = 0.7533333333333333, test_acc = 0.7105263157894737\n",
      "Epoch: 044, train_acc = 0.76, test_acc = 0.7105263157894737\n",
      "Epoch: 045, train_acc = 0.7666666666666667, test_acc = 0.7105263157894737\n",
      "Epoch: 046, train_acc = 0.7666666666666667, test_acc = 0.7368421052631579\n",
      "Epoch: 047, train_acc = 0.7666666666666667, test_acc = 0.7368421052631579\n",
      "Epoch: 048, train_acc = 0.7733333333333333, test_acc = 0.7368421052631579\n",
      "Epoch: 049, train_acc = 0.78, test_acc = 0.7105263157894737\n",
      "Epoch: 050, train_acc = 0.7666666666666667, test_acc = 0.7368421052631579\n",
      "Epoch: 051, train_acc = 0.7666666666666667, test_acc = 0.7368421052631579\n",
      "Epoch: 052, train_acc = 0.7666666666666667, test_acc = 0.7368421052631579\n",
      "Epoch: 053, train_acc = 0.78, test_acc = 0.7105263157894737\n",
      "Epoch: 054, train_acc = 0.78, test_acc = 0.7105263157894737\n",
      "Epoch: 055, train_acc = 0.78, test_acc = 0.7105263157894737\n",
      "Epoch: 056, train_acc = 0.78, test_acc = 0.7105263157894737\n",
      "Epoch: 057, train_acc = 0.7866666666666666, test_acc = 0.7368421052631579\n",
      "Epoch: 058, train_acc = 0.78, test_acc = 0.7105263157894737\n",
      "Epoch: 059, train_acc = 0.7733333333333333, test_acc = 0.7105263157894737\n",
      "Epoch: 060, train_acc = 0.78, test_acc = 0.7368421052631579\n",
      "Epoch: 061, train_acc = 0.78, test_acc = 0.7368421052631579\n",
      "Epoch: 062, train_acc = 0.7666666666666667, test_acc = 0.7368421052631579\n",
      "Epoch: 063, train_acc = 0.76, test_acc = 0.7105263157894737\n",
      "Epoch: 064, train_acc = 0.7666666666666667, test_acc = 0.7105263157894737\n",
      "Epoch: 065, train_acc = 0.7666666666666667, test_acc = 0.6842105263157895\n",
      "Epoch: 066, train_acc = 0.7733333333333333, test_acc = 0.6842105263157895\n",
      "Epoch: 067, train_acc = 0.7733333333333333, test_acc = 0.7105263157894737\n",
      "Epoch: 068, train_acc = 0.78, test_acc = 0.7368421052631579\n",
      "Epoch: 069, train_acc = 0.78, test_acc = 0.7368421052631579\n",
      "Epoch: 070, train_acc = 0.7733333333333333, test_acc = 0.7368421052631579\n",
      "Epoch: 071, train_acc = 0.7866666666666666, test_acc = 0.7368421052631579\n",
      "Epoch: 072, train_acc = 0.8, test_acc = 0.7368421052631579\n",
      "Epoch: 073, train_acc = 0.78, test_acc = 0.7368421052631579\n",
      "Epoch: 074, train_acc = 0.78, test_acc = 0.7105263157894737\n",
      "Epoch: 075, train_acc = 0.7733333333333333, test_acc = 0.7368421052631579\n",
      "Epoch: 076, train_acc = 0.7866666666666666, test_acc = 0.7105263157894737\n",
      "Epoch: 077, train_acc = 0.78, test_acc = 0.631578947368421\n",
      "Epoch: 078, train_acc = 0.78, test_acc = 0.7368421052631579\n",
      "Epoch: 079, train_acc = 0.7866666666666666, test_acc = 0.7368421052631579\n",
      "Epoch: 080, train_acc = 0.7866666666666666, test_acc = 0.7368421052631579\n",
      "Epoch: 081, train_acc = 0.78, test_acc = 0.7368421052631579\n",
      "Epoch: 082, train_acc = 0.8, test_acc = 0.7368421052631579\n",
      "Epoch: 083, train_acc = 0.8, test_acc = 0.7368421052631579\n",
      "Epoch: 084, train_acc = 0.7933333333333333, test_acc = 0.6578947368421053\n",
      "Epoch: 085, train_acc = 0.7666666666666667, test_acc = 0.631578947368421\n",
      "Epoch: 086, train_acc = 0.78, test_acc = 0.6842105263157895\n",
      "Epoch: 087, train_acc = 0.7733333333333333, test_acc = 0.6578947368421053\n",
      "Epoch: 088, train_acc = 0.78, test_acc = 0.7105263157894737\n",
      "Epoch: 089, train_acc = 0.7866666666666666, test_acc = 0.7368421052631579\n",
      "Epoch: 090, train_acc = 0.8, test_acc = 0.7368421052631579\n",
      "Epoch: 091, train_acc = 0.78, test_acc = 0.7368421052631579\n",
      "Epoch: 092, train_acc = 0.8066666666666666, test_acc = 0.6842105263157895\n",
      "Epoch: 093, train_acc = 0.8066666666666666, test_acc = 0.6842105263157895\n",
      "Epoch: 094, train_acc = 0.78, test_acc = 0.6578947368421053\n",
      "Epoch: 095, train_acc = 0.7866666666666666, test_acc = 0.7894736842105263\n",
      "Epoch: 096, train_acc = 0.8, test_acc = 0.6842105263157895\n",
      "Epoch: 097, train_acc = 0.8066666666666666, test_acc = 0.6842105263157895\n",
      "Epoch: 098, train_acc = 0.8, test_acc = 0.6578947368421053\n",
      "Epoch: 099, train_acc = 0.7866666666666666, test_acc = 0.7631578947368421\n",
      "Epoch: 100, train_acc = 0.7933333333333333, test_acc = 0.7894736842105263\n",
      "Epoch: 101, train_acc = 0.7733333333333333, test_acc = 0.6578947368421053\n",
      "Epoch: 102, train_acc = 0.8, test_acc = 0.6842105263157895\n",
      "Epoch: 103, train_acc = 0.8, test_acc = 0.6842105263157895\n",
      "Epoch: 104, train_acc = 0.7866666666666666, test_acc = 0.6842105263157895\n",
      "Epoch: 105, train_acc = 0.7866666666666666, test_acc = 0.7368421052631579\n",
      "Epoch: 106, train_acc = 0.7933333333333333, test_acc = 0.7631578947368421\n",
      "Epoch: 107, train_acc = 0.7933333333333333, test_acc = 0.7631578947368421\n",
      "Epoch: 108, train_acc = 0.78, test_acc = 0.7105263157894737\n",
      "Epoch: 109, train_acc = 0.8, test_acc = 0.631578947368421\n",
      "Epoch: 110, train_acc = 0.78, test_acc = 0.6842105263157895\n",
      "Epoch: 111, train_acc = 0.7933333333333333, test_acc = 0.7894736842105263\n",
      "Epoch: 112, train_acc = 0.7933333333333333, test_acc = 0.7894736842105263\n",
      "Epoch: 113, train_acc = 0.8066666666666666, test_acc = 0.6578947368421053\n",
      "Epoch: 114, train_acc = 0.8133333333333334, test_acc = 0.6842105263157895\n",
      "Epoch: 115, train_acc = 0.7933333333333333, test_acc = 0.631578947368421\n",
      "Epoch: 116, train_acc = 0.7933333333333333, test_acc = 0.7368421052631579\n",
      "Epoch: 117, train_acc = 0.7933333333333333, test_acc = 0.7368421052631579\n",
      "Epoch: 118, train_acc = 0.7866666666666666, test_acc = 0.6842105263157895\n",
      "Epoch: 119, train_acc = 0.7866666666666666, test_acc = 0.6842105263157895\n",
      "Epoch: 120, train_acc = 0.7933333333333333, test_acc = 0.7631578947368421\n",
      "Epoch: 121, train_acc = 0.8, test_acc = 0.7631578947368421\n",
      "Epoch: 122, train_acc = 0.7933333333333333, test_acc = 0.7894736842105263\n",
      "Epoch: 123, train_acc = 0.7933333333333333, test_acc = 0.6842105263157895\n",
      "Epoch: 124, train_acc = 0.82, test_acc = 0.6578947368421053\n",
      "Epoch: 125, train_acc = 0.8133333333333334, test_acc = 0.6578947368421053\n",
      "Epoch: 126, train_acc = 0.7933333333333333, test_acc = 0.7105263157894737\n",
      "Epoch: 127, train_acc = 0.7866666666666666, test_acc = 0.7631578947368421\n",
      "Epoch: 128, train_acc = 0.8, test_acc = 0.6842105263157895\n",
      "Epoch: 129, train_acc = 0.8, test_acc = 0.7368421052631579\n",
      "Epoch: 130, train_acc = 0.7933333333333333, test_acc = 0.7631578947368421\n",
      "Epoch: 131, train_acc = 0.7933333333333333, test_acc = 0.7631578947368421\n",
      "Epoch: 132, train_acc = 0.8, test_acc = 0.7894736842105263\n",
      "Epoch: 133, train_acc = 0.7933333333333333, test_acc = 0.7368421052631579\n",
      "Epoch: 134, train_acc = 0.82, test_acc = 0.6842105263157895\n",
      "Epoch: 135, train_acc = 0.8, test_acc = 0.7105263157894737\n",
      "Epoch: 136, train_acc = 0.8, test_acc = 0.7631578947368421\n",
      "Epoch: 137, train_acc = 0.7933333333333333, test_acc = 0.7105263157894737\n",
      "Epoch: 138, train_acc = 0.82, test_acc = 0.6842105263157895\n",
      "Epoch: 139, train_acc = 0.8133333333333334, test_acc = 0.6842105263157895\n",
      "Epoch: 140, train_acc = 0.8066666666666666, test_acc = 0.6842105263157895\n",
      "Epoch: 141, train_acc = 0.82, test_acc = 0.6842105263157895\n",
      "Epoch: 142, train_acc = 0.8133333333333334, test_acc = 0.6842105263157895\n",
      "Epoch: 143, train_acc = 0.8, test_acc = 0.7368421052631579\n",
      "Epoch: 144, train_acc = 0.82, test_acc = 0.6842105263157895\n",
      "Epoch: 145, train_acc = 0.82, test_acc = 0.6842105263157895\n",
      "Epoch: 146, train_acc = 0.8066666666666666, test_acc = 0.6842105263157895\n",
      "Epoch: 147, train_acc = 0.7933333333333333, test_acc = 0.7894736842105263\n",
      "Epoch: 148, train_acc = 0.82, test_acc = 0.6842105263157895\n",
      "Epoch: 149, train_acc = 0.8, test_acc = 0.631578947368421\n",
      "Epoch: 150, train_acc = 0.82, test_acc = 0.6842105263157895\n",
      "Epoch: 151, train_acc = 0.7933333333333333, test_acc = 0.7894736842105263\n",
      "Epoch: 152, train_acc = 0.8066666666666666, test_acc = 0.7631578947368421\n",
      "Epoch: 153, train_acc = 0.8066666666666666, test_acc = 0.631578947368421\n",
      "Epoch: 154, train_acc = 0.7933333333333333, test_acc = 0.6052631578947368\n",
      "Epoch: 155, train_acc = 0.8066666666666666, test_acc = 0.6578947368421053\n",
      "Epoch: 156, train_acc = 0.8133333333333334, test_acc = 0.7105263157894737\n",
      "Epoch: 157, train_acc = 0.7933333333333333, test_acc = 0.7631578947368421\n",
      "Epoch: 158, train_acc = 0.8066666666666666, test_acc = 0.7631578947368421\n",
      "Epoch: 159, train_acc = 0.8066666666666666, test_acc = 0.7631578947368421\n",
      "Epoch: 160, train_acc = 0.8066666666666666, test_acc = 0.7631578947368421\n",
      "Epoch: 161, train_acc = 0.8066666666666666, test_acc = 0.7105263157894737\n",
      "Epoch: 162, train_acc = 0.8266666666666667, test_acc = 0.6842105263157895\n",
      "Epoch: 163, train_acc = 0.8133333333333334, test_acc = 0.7105263157894737\n",
      "Epoch: 164, train_acc = 0.8266666666666667, test_acc = 0.7368421052631579\n",
      "Epoch: 165, train_acc = 0.8266666666666667, test_acc = 0.6842105263157895\n",
      "Epoch: 166, train_acc = 0.8333333333333334, test_acc = 0.6842105263157895\n",
      "Epoch: 167, train_acc = 0.8066666666666666, test_acc = 0.7631578947368421\n",
      "Epoch: 168, train_acc = 0.8066666666666666, test_acc = 0.7894736842105263\n",
      "Epoch: 169, train_acc = 0.8266666666666667, test_acc = 0.6842105263157895\n",
      "Epoch: 170, train_acc = 0.8333333333333334, test_acc = 0.6842105263157895\n"
     ]
    }
   ],
   "source": [
    "model = GCN(hidden_channels=HIDDEN_CHANNELS)\n",
    "criterion = torch.nn.CrossEntropyLoss()\n",
    "optimizer  = torch.optim.Adam(model.parameters(), lr = 0.01)\n",
    "\n",
    "def train():\n",
    "    model.train()\n",
    "    for data in train_loader:\n",
    "        optimizer.zero_grad()\n",
    "        out = model(data.x, data.edge_index, data.batch)\n",
    "        loss = criterion(out, data.y)\n",
    "        loss.backward()\n",
    "        optimizer.step()\n",
    "\n",
    "def test(loader):\n",
    "    model.eval()\n",
    "    correct = 0\n",
    "    for data in loader:\n",
    "        out  = model(data.x, data.edge_index, data.batch)\n",
    "        pred = out.argmax(dim = 1)\n",
    "        correct += int((pred == data.y).sum())\n",
    "\n",
    "    return correct/len(loader.dataset)\n",
    "\n",
    "for epoch in range(1,171):\n",
    "    train()\n",
    "    train_acc = test(train_loader)\n",
    "    test_acc = test(test_loader)\n",
    "    print(f'Epoch: {epoch:03d}, {train_acc = }, {test_acc = }')"
   ]
  },
  {
   "cell_type": "code",
   "execution_count": 35,
   "metadata": {},
   "outputs": [
    {
     "name": "stdout",
     "output_type": "stream",
     "text": [
      "a = 0.0312\n"
     ]
    }
   ],
   "source": [
    "a = 0.0312312\n",
    "print(f'{a = :0.4f}')"
   ]
  },
  {
   "cell_type": "code",
   "execution_count": null,
   "metadata": {},
   "outputs": [],
   "source": []
  }
 ],
 "metadata": {
  "kernelspec": {
   "display_name": ".venv",
   "language": "python",
   "name": "python3"
  },
  "language_info": {
   "codemirror_mode": {
    "name": "ipython",
    "version": 3
   },
   "file_extension": ".py",
   "mimetype": "text/x-python",
   "name": "python",
   "nbconvert_exporter": "python",
   "pygments_lexer": "ipython3",
   "version": "3.9.13"
  }
 },
 "nbformat": 4,
 "nbformat_minor": 2
}
