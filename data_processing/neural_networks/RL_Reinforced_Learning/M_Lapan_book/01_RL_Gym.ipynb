{
 "cells": [
  {
   "cell_type": "code",
   "execution_count": 9,
   "metadata": {},
   "outputs": [
    {
     "name": "stdout",
     "output_type": "stream",
     "text": [
      "4.141243815360212\n"
     ]
    }
   ],
   "source": [
    "from typing import List, Tuple\n",
    "import random\n",
    "\n",
    "class Environment:\n",
    "    def __init__(self) -> None:\n",
    "        self.steps_left = 10\n",
    "    def get_observations(self) -> List[float]:\n",
    "        return [0.0, 0.0, 0.0]\n",
    "    \n",
    "    def get_actions(self) -> List[int]:\n",
    "        return [0, 1]\n",
    "    \n",
    "    def is_done(self) -> bool:\n",
    "        return self.steps_left == 0\n",
    "    \n",
    "    def action(self, action: int) -> float:\n",
    "        if self.is_done():\n",
    "            raise Exception('Game is over')\n",
    "        self.steps_left -= 1\n",
    "        return random.random()\n",
    "    \n",
    "class Agent:\n",
    "    def __init__(self) -> None:\n",
    "        self.total_reward = 0.0\n",
    "    \n",
    "    def step(self, env: Environment):\n",
    "        current_obs = env.get_observations()\n",
    "        actions = env.get_actions()\n",
    "        reward = env.action(random.choice(actions))\n",
    "        self.total_reward += reward\n",
    "\n",
    "    \n",
    "if __name__ == '__main__':\n",
    "    env = Environment()\n",
    "    agent = Agent()\n",
    "    while not env.is_done():\n",
    "        agent.step(env)\n",
    "    print(agent.total_reward)"
   ]
  },
  {
   "cell_type": "code",
   "execution_count": null,
   "metadata": {},
   "outputs": [],
   "source": []
  }
 ],
 "metadata": {
  "kernelspec": {
   "display_name": ".venv",
   "language": "python",
   "name": "python3"
  },
  "language_info": {
   "codemirror_mode": {
    "name": "ipython",
    "version": 3
   },
   "file_extension": ".py",
   "mimetype": "text/x-python",
   "name": "python",
   "nbconvert_exporter": "python",
   "pygments_lexer": "ipython3",
   "version": "3.9.13"
  }
 },
 "nbformat": 4,
 "nbformat_minor": 2
}
