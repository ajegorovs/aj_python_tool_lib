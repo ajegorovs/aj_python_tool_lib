{
 "cells": [
  {
   "cell_type": "markdown",
   "metadata": {},
   "source": [
    "[Tabular_Value_approach.ipynb](data_processing/neural_networks/RL_Reinforced_Learning/M_Lapan_book/Tabular_Value_approach.ipynb)\n",
    "\n",
    "MDP can be deterministic or stochastic. \n",
    "*   `Deterministic MDP`:\n",
    "\n",
    "    In this case reward $R(s^\\prime, a)$ for reaching state $s^\\prime$ via action $a$ is predefined and guaranteed.\n",
    "    $$R(s^\\prime, a) = const$$\n",
    "    Actions $a$ taken from state $s$ guides an agent to target state $s^\\prime$ with 100% certainty.\n",
    "\n",
    "    $$P(s_i,a,s_j) = \\begin{cases} 1, \\text{ Transition defined} \\\\ 0, \\text{ Transition undefined} \\end{cases}$$\n",
    "\n",
    "\n",
    "\n",
    "*   `Stochastic MDP`:\n",
    "\n",
    "    In this case rewards for reaching state can be sampled from a distribution and, in general, can be a funciton of initial and target states $s^\\prime$ and action that was taken\n",
    "    $$ P_R = P(s_i, a, s_j, r = R)$$\n",
    "    $$ \\mathbb{E}[P_r(s_i,a,s_j, r)] = \\sum_r r \\cdot P(s_i, a, s_j, r = r)$$\n",
    "    $$\\sum_{r} P(s_i,a,s_j,r) = 1$$\n",
    "    and taking an action might result in visiting one of multiple states.\n",
    "    $$ 0 \\leq  P(s_i,a,s_j) \\leq 1$$\n",
    "    $$\\sum_{s_j} P(s_i,a,s_j) = 1$$\n",
    "\n",
    "***\n",
    "In following example we will examine case where \n",
    "*   agent has only 2 actions: move  left or right.\n",
    "\n",
    "*   In some states applying action might propel agent further than usual- this is stochasticity of action-target-state.\n",
    "\n",
    "*   Depending on how big was the 'jump' agent gets a reward proportional to displacement\n",
    "\n",
    "*   Chances of random action are pre-baked into environment (like icy patch in \"Frozen Lake\")\n"
   ]
  },
  {
   "cell_type": "code",
   "execution_count": 204,
   "metadata": {},
   "outputs": [],
   "source": [
    "import networkx as nx\n",
    "import numpy as np\n",
    "import matplotlib.pyplot as plt\n",
    "from networkx import grid_graph\n",
    "from misc_tools.print_latex import print_tex"
   ]
  },
  {
   "cell_type": "code",
   "execution_count": 227,
   "metadata": {},
   "outputs": [
    {
     "data": {
      "text/plain": [
       "1"
      ]
     },
     "execution_count": 227,
     "metadata": {},
     "output_type": "execute_result"
    },
    {
     "data": {
      "image/png": "[encoded data removed]",
      "text/plain": [
       "<Figure size 800x200 with 1 Axes>"
      ]
     },
     "metadata": {},
     "output_type": "display_data"
    }
   ],
   "source": [
    "determenistic = False\n",
    "np.random.seed(1)\n",
    "num_nodes = 6\n",
    "nodes_all = np.arange(num_nodes)\n",
    "edges_1_step    = [(a,b) for a,b in zip(nodes_all[:-1],nodes_all[1:])]\n",
    "edges_1_step_r  = [(b,a) for a,b in edges_1_step]\n",
    "edges_2_step    = edges_3_step = []\n",
    "\n",
    "if not determenistic:\n",
    "    edges_2_step = [(1,3), (5,3)]\n",
    "    edges_3_step = [(2,5)]\n",
    "\n",
    "\n",
    "G = nx.DiGraph(edges_1_step + edges_1_step_r)\n",
    "G.add_edges_from(edges_2_step + edges_3_step)\n",
    "\n",
    "pos = {i:np.array([i,0]) for i in nodes_all}\n",
    "fig, ax = plt.subplots(1,1, figsize = (8,2))\n",
    "nx.draw_networkx_nodes( G, pos,ax = ax)\n",
    "nx.draw_networkx_labels(G, pos,ax = ax)\n",
    "nx.draw_networkx_edges( G, pos,ax = ax, connectionstyle=\"arc3,rad=0.15\", edgelist=edges_1_step + edges_1_step_r)\n",
    "nx.draw_networkx_edges( G, pos,ax = ax, connectionstyle=\"arc3,rad=0.25\", edgelist=edges_2_step + edges_3_step)\n",
    "\n",
    "#nx.draw_networkx_edge_labels(   G, pos, edge_labels= edge_labels);\n",
    "1"
   ]
  },
  {
   "cell_type": "code",
   "execution_count": 206,
   "metadata": {},
   "outputs": [],
   "source": [
    "a_right = 0\n",
    "a_left = 1\n",
    "actions = np.array([a_right,a_left])\n",
    "actions_vis = np.array([[r'\\rightarrow',r'\\leftarrow']]).T"
   ]
  },
  {
   "cell_type": "code",
   "execution_count": 207,
   "metadata": {},
   "outputs": [
    {
     "data": {
      "text/plain": [
       "({0: array([0.8, 0.2, 0. , 0. , 0. ]),\n",
       "  1: array([0.2, 0.6, 0.2, 0. , 0. ]),\n",
       "  2: array([0. , 0.2, 0.6, 0.2, 0. ]),\n",
       "  3: array([0. , 0. , 0.2, 0.6, 0.2]),\n",
       "  4: array([0. , 0. , 0. , 0.2, 0.8])},\n",
       " {0: 0.2, 1: 1.0, 2: 2.0, 3: 3.0, 4: 3.8000000000000003})"
      ]
     },
     "execution_count": 207,
     "metadata": {},
     "output_type": "execute_result"
    }
   ],
   "source": [
    "# rewards = leap length, leap length +/- 1 for all leap lengths > 1\n",
    "rewards = np.arange(3 + 2)\n",
    "\n",
    "if not determenistic:\n",
    "    dists_distr = np.array([[0.8, 0.2, 0  , 0  , 0  ],\n",
    "                            [0.2, 0.6, 0.2, 0  , 0  ],\n",
    "                            [0  , 0.2, 0.6, 0.2, 0  ],\n",
    "                            [0  , 0  , 0.2, 0.6, 0.2],\n",
    "                            [0  , 0  , 0  , 0.2, 0.8]])\n",
    "else:\n",
    "    dists_distr = np.eye(len(rewards))\n",
    "\n",
    "rewards_distr = {i:v for i,v in zip(rewards, dists_distr)}\n",
    "expected_rewards = {i:np.average(rewards, weights=v) for i,v in zip(rewards, dists_distr)}\n",
    "rewards_distr, expected_rewards"
   ]
  },
  {
   "cell_type": "code",
   "execution_count": 208,
   "metadata": {},
   "outputs": [
    {
     "data": {
      "text/latex": [
       "$\\displaystyle \\begin{bmatrix} 0 & 1 & 0 & 0 & 0 & 0 \\\\ 1 & 0 & 1 & 1 & 0 & 0 \\\\ 0 & 1 & 0 & 1 & 0 & 1 \\\\ 0 & 0 & 1 & 0 & 1 & 0 \\\\ 0 & 0 & 0 & 1 & 0 & 1 \\\\ 0 & 0 & 0 & 1 & 1 & 0 \\end{bmatrix}$"
      ],
      "text/plain": [
       "<IPython.core.display.Math object>"
      ]
     },
     "metadata": {},
     "output_type": "display_data"
    }
   ],
   "source": [
    "adj = nx.adjacency_matrix(G).todense()\n",
    "print_tex(adj)"
   ]
  },
  {
   "cell_type": "markdown",
   "metadata": {},
   "source": [
    "Instead of $P(s,a,s',r)$ we will track $R(s,a,s',r)$, which gathers statistics from \"experimental trials\"\n",
    "\n",
    "<i>$R(s,a,s^\\prime,r)$  means $X$ times reward $r$ was given at state $s^\\prime$ after transitioning via action $a$ from state $s$.</i>\n",
    "\n",
    "Probabilities $P(s,a,s',r)$ are achieved by normalizing $R(s,a,s',r)$.\n",
    "\n",
    "I don't sample stochastically, just say that number of events is proportional to distribution. Distribution is based on leap length. Number of longer leaps is reduced by factor of leap length.\n",
    "\n",
    "So. Shorter leaps = less expected reward (due to distribution) but more detections. Longer leaps = more reward but less detections (due to suppression of events).\n"
   ]
  },
  {
   "cell_type": "code",
   "execution_count": 209,
   "metadata": {},
   "outputs": [
    {
     "name": "stdout",
     "output_type": "stream",
     "text": [
      "Psasr[i,action,j] = array([ 0.,  5., 15.,  5.,  0.])\n"
     ]
    }
   ],
   "source": [
    "Psasr = np.zeros((num_nodes,len(actions),num_nodes,len(rewards)))\n",
    "for i in G.nodes():\n",
    "    neighbors = list(G.neighbors(i))\n",
    "    for j in neighbors:\n",
    "        action = a_right if j > i else a_left\n",
    "        dist = np.abs(j-i)\n",
    "        #rew, cnts = np.unique(np.random.choice(rewards, p=rewards_distr[1], size = (100,)), return_counts=True)\n",
    "        Psasr[i,action,j] = rewards_distr[dist]*100//(dist**2)\n",
    "        \n",
    "print(f'{Psasr[i,action,j] = }')"
   ]
  },
  {
   "cell_type": "markdown",
   "metadata": {},
   "source": [
    "$\\Rightarrow$ count up reward events (dim = -1) for each $(s,a,s')$\n",
    "\n",
    "For example from node 1 we can move right (0) and left (1):\n",
    "*   Right\n",
    "    *   $(1,0,2)$: Single step leap (100 events)   to node 2 \n",
    "    *   $(1,0,3)$: Two step leap (25 events)       to node 3 \n",
    "*   Left\n",
    "    *   $(1,1,0)$: Single step leap (100 events)   to node 0 "
   ]
  },
  {
   "cell_type": "code",
   "execution_count": 210,
   "metadata": {},
   "outputs": [
    {
     "data": {
      "text/latex": [
       "$\\displaystyle \\begin{bmatrix} 0 & 0 & 100 & 25 & 0 & 0 \\\\ 100 & 0 & 0 & 0 & 0 & 0 \\end{bmatrix}\\begin{bmatrix}\\rightarrow \\\\ \\leftarrow\\end{bmatrix}$"
      ],
      "text/plain": [
       "<IPython.core.display.Math object>"
      ]
     },
     "metadata": {},
     "output_type": "display_data"
    }
   ],
   "source": [
    "num_rewards = np.sum(Psasr, axis = (-1))\n",
    "print_tex(num_rewards[1],actions_vis)"
   ]
  },
  {
   "cell_type": "markdown",
   "metadata": {},
   "source": [
    "Expected reward for reaching state $s^\\prime$ from state $s$ via action $a$\n",
    "$$\\bar R(s,a, s^\\prime) = \\mathbb{E}_r[R(s,a,s^\\prime,r)] = \\sum_r r \\cdot P(s,a,s^\\prime,r) = \\frac{\\sum_r r \\cdot R(s,a,s^\\prime,r)}{\\sum_r R(s,a,s^\\prime,r)}"
   ]
  },
  {
   "cell_type": "code",
   "execution_count": 211,
   "metadata": {},
   "outputs": [
    {
     "data": {
      "text/latex": [
       "$\\displaystyle \\begin{bmatrix} 0 & 0 & 1 & 2 & 0 & 0 \\\\ 1 & 0 & 0 & 0 & 0 & 0 \\end{bmatrix}$"
      ],
      "text/plain": [
       "<IPython.core.display.Math object>"
      ]
     },
     "metadata": {},
     "output_type": "display_data"
    }
   ],
   "source": [
    "sum_rewards = (Psasr @ rewards)\n",
    "Rsas = np.divide(sum_rewards, num_rewards, where= (num_rewards != 0)) \n",
    "print_tex(Rsas[1])"
   ]
  },
  {
   "cell_type": "markdown",
   "metadata": {},
   "source": [
    "Expected reward for taking action $a$ in state $s$:\n",
    "$$Q(s,a) = \\mathbb{E}_{s^\\prime}[\\bar R(s,a, s^\\prime)] = \n",
    "\\sum_{s^\\prime} \\bar R(s,a, s^\\prime) \\cdot P(s,a,s^\\prime) =\n",
    "\\frac{\\sum_{s^\\prime }\\left[\\sum_r r \\cdot R(s,a,s^\\prime,r)\\right]}{\\sum_{s^\\prime }\\left[\\sum_r R(s,a,s^\\prime,r)\\right]}$$\n",
    "\n",
    "$\\underset{r,s^\\prime }{\\sum} R(s,a,s^\\prime,r)$ is number of all events detected from state $s$ while doing action $a$"
   ]
  },
  {
   "cell_type": "code",
   "execution_count": 212,
   "metadata": {},
   "outputs": [
    {
     "name": "stdout",
     "output_type": "stream",
     "text": [
      "(6, 2)\n"
     ]
    },
    {
     "data": {
      "text/latex": [
       "$\\displaystyle \\begin{bmatrix} 1 & 0 \\\\ 6/5 & 1 \\\\ 1.181818 & 1 \\\\ 1 & 1 \\\\ 1 & 1 \\\\ 0 & 6/5 \\end{bmatrix}\\begin{bmatrix}s_0 \\\\ s_1 \\\\ s_2 \\\\ s_3 \\\\ s_4 \\\\ s_5\\end{bmatrix}$"
      ],
      "text/plain": [
       "<IPython.core.display.Math object>"
      ]
     },
     "metadata": {},
     "output_type": "display_data"
    },
    {
     "data": {
      "text/latex": [
       "$\\displaystyle \\begin{bmatrix}\\rightarrow & \\leftarrow\\end{bmatrix}$"
      ],
      "text/plain": [
       "<IPython.core.display.Math object>"
      ]
     },
     "metadata": {},
     "output_type": "display_data"
    }
   ],
   "source": [
    "num_states = np.sum(Psasr, axis = (-1,-2))\n",
    "print(num_states.shape)\n",
    "sum_rewards_states = np.sum(sum_rewards, axis = (-1))\n",
    "Qsa = np.divide(sum_rewards_states, num_states, where= (num_states != 0)) \n",
    "print_tex(Qsa, np.array([[f's_{i}' for i in nodes_all]]).T)\n",
    "print_tex(actions_vis.T)"
   ]
  },
  {
   "cell_type": "markdown",
   "metadata": {},
   "source": [
    "State-value:\n",
    "$$V(s) = \\mathbb{E}_a[Q(s,a)] = \\sum_a P(a,s) \\cdot Q(s,a)=\n",
    "\\frac{\\sum_a \\left( \\sum_{s^\\prime }\\left[\\sum_r r \\cdot R(s,a,s^\\prime,r)\\right] \\right)}{\\sum_a \\left( \\sum_{s^\\prime }\\left[\\sum_r R(s,a,s^\\prime,r)\\right] \\right)}$$\n",
    "\n",
    "or\n",
    "$$V(s) = \\sum_a P(a,s)\\cdot \\sum_{s^\\prime }\\sum_r r \\cdot P(s,a,s^\\prime,r)\n",
    "= \\sum_a P(a,s)\\cdot  \\frac{\\sum_{s^\\prime }\\left[\\sum_r r \\cdot R(s,a,s^\\prime,r)\\right]}{ \\sum_{s^\\prime }\\left[\\sum_r R(s,a,s^\\prime,r)\\right]}$$\n"
   ]
  },
  {
   "cell_type": "code",
   "execution_count": 215,
   "metadata": {},
   "outputs": [
    {
     "data": {
      "text/latex": [
       "$\\displaystyle \\begin{bmatrix} 1 & 10/9 & 1.095238 & 1 & 1 & 6/5 \\end{bmatrix}$"
      ],
      "text/plain": [
       "<IPython.core.display.Math object>"
      ]
     },
     "metadata": {},
     "output_type": "display_data"
    }
   ],
   "source": [
    "sum_rew_states = np.sum(Psasr, axis = (-1,-2,-3))\n",
    "sum_rewards_states_act = np.sum(sum_rewards, axis = (-1,-2))\n",
    "Vs = np.divide(sum_rewards_states_act, sum_rew_states, where= (sum_rew_states != 0)) \n",
    "#\n",
    "print_tex(Vs)"
   ]
  },
  {
   "cell_type": "markdown",
   "metadata": {},
   "source": [
    "For stochastic case, expected value of each state is higher for nodes with more actions"
   ]
  },
  {
   "cell_type": "code",
   "execution_count": 228,
   "metadata": {},
   "outputs": [
    {
     "data": {
      "image/png": "[encoded data removed]",
      "text/plain": [
       "<Figure size 800x200 with 1 Axes>"
      ]
     },
     "metadata": {},
     "output_type": "display_data"
    }
   ],
   "source": [
    "display(fig)"
   ]
  }
 ],
 "metadata": {
  "kernelspec": {
   "display_name": ".venv",
   "language": "python",
   "name": "python3"
  },
  "language_info": {
   "codemirror_mode": {
    "name": "ipython",
    "version": 3
   },
   "file_extension": ".py",
   "mimetype": "text/x-python",
   "name": "python",
   "nbconvert_exporter": "python",
   "pygments_lexer": "ipython3",
   "version": "3.9.13"
  }
 },
 "nbformat": 4,
 "nbformat_minor": 2
}
