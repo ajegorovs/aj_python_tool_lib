{
 "cells": [
  {
   "cell_type": "code",
   "execution_count": 189,
   "metadata": {},
   "outputs": [
    {
     "name": "stdout",
     "output_type": "stream",
     "text": [
      "hand = 12, hand_dealer = 3, has_ace = False, actions[action] = 'Hit!'\n",
      " hand_new = 19, hand_dealer_new = 3, has_ace_new = False, rewards[reward] = 'draw', done = False\n",
      "\n",
      "hand = 19, hand_dealer = 3, has_ace = False, actions[action] = 'Stick'\n",
      " hand_new = 19, hand_dealer_new = 3, has_ace_new = False, rewards[reward] = 'Loss', done = True\n",
      "\n"
     ]
    }
   ],
   "source": [
    "import gym\n",
    "import matplotlib.pyplot as plt\n",
    "import numpy as np\n",
    "from misc_tools.print_latex import print_tex\n",
    "env = gym.make('Blackjack-v1', sab=True)\n",
    "\n",
    "\n",
    "actions = {0:'Stick', 1:'Hit!'}\n",
    "rewards = {-1:'Loss', 0:'draw', 1:'Win!'}\n",
    "done = False\n",
    "state,_ = env.reset()\n",
    "while not done:\n",
    "    hand, hand_dealer, has_ace = state\n",
    "    action = env.action_space.sample()\n",
    "    state, reward, done, info = env.step(action)[:4]\n",
    "    hand_new, hand_dealer_new, has_ace_new = state\n",
    "    print(f'{hand = }, {hand_dealer = }, {has_ace = }, {actions[action] = }\\n',\n",
    "          f'{hand_new = }, {hand_dealer_new = }, {has_ace_new = }, {rewards[reward] = }, {done = }\\n')"
   ]
  },
  {
   "cell_type": "markdown",
   "metadata": {},
   "source": [
    "\n",
    "State space $\\{\\text{current hand, dealers card, have usable ace}\\}\\in S\n",
    "\n",
    "\n",
    "We examine a single episode consisting of $T$ time steps:\n",
    "\n",
    "*   at time $i$ our agent was in state $s_i$, which may be visited at some other time $j$, so $s_i = s_j$\n",
    "    $$(i,j) \\in [0,1,\\dots, T]$$\n",
    "*   Trajectory:\n",
    "    $$T = \\{s_0,s_1,\\dots,s_T\\}$$\n",
    "*   Rewards:\n",
    "    $$R = \\{r_0,r_1,\\dots,r_{T-1}\\}$$\n",
    "\n",
    "*   reward $r_i$ is associated with transition $s_{i}\\rightarrow s_{i+1}$ via action $a$\n",
    "    $$r_i: s_{i}\\overset{a}{\\rightarrow} s_{i+1}$$\n",
    "*   state $s_i$ has cumulative future reward  \n",
    "    $$R(s_i) = \\sum_i^{T-1} r_i$$\n",
    "\n",
    "*   Thus value of an action $$q(s_i = s,a) = \\sum_i^{T-1} r_i$$\n",
    "\n",
    "We can get an average (estimated) reward for action-state pair $(a,s)$ by analyzing multiple episodes\n",
    "\n",
    "*   $$\\bar q(s,a) = \\frac{1}{N_s} q^k(s,a)$$"
   ]
  },
  {
   "cell_type": "code",
   "execution_count": 190,
   "metadata": {},
   "outputs": [
    {
     "data": {
      "text/plain": [
       "((19, 3, False), -1.0, True, False, {})"
      ]
     },
     "execution_count": 190,
     "metadata": {},
     "output_type": "execute_result"
    }
   ],
   "source": [
    "env.step(0)"
   ]
  },
  {
   "cell_type": "code",
   "execution_count": 191,
   "metadata": {},
   "outputs": [
    {
     "data": {
      "text/plain": [
       "((19, 3, False), -1.0, True, False)"
      ]
     },
     "execution_count": 191,
     "metadata": {},
     "output_type": "execute_result"
    }
   ],
   "source": [
    "\n",
    "state, reward, done, info"
   ]
  },
  {
   "cell_type": "code",
   "execution_count": 192,
   "metadata": {},
   "outputs": [
    {
     "name": "stdout",
     "output_type": "stream",
     "text": [
      "Discrete(2)\n"
     ]
    }
   ],
   "source": [
    "print(env.action_space)"
   ]
  },
  {
   "cell_type": "code",
   "execution_count": 193,
   "metadata": {},
   "outputs": [],
   "source": [
    "policy = np.zeros(( 32, 12, 2, 2)) # hand, card dealer, has ace, actions probs distr: [1,0] = stick, [0,1] =hit\n",
    "hit_limit = 16\n",
    "policy[:hit_limit,:,:,1] = 1              # less than 20 -> hit 100%\n",
    "policy[hit_limit:,:,:,0] = 1 \n",
    "vals = np.zeros(( 32, 12, 2))"
   ]
  },
  {
   "cell_type": "code",
   "execution_count": 194,
   "metadata": {},
   "outputs": [],
   "source": [
    "def get_traj_N(N):\n",
    "    trajs_all = []\n",
    "    actions_all = []\n",
    "    rewards_all = []\n",
    "    for _ in range(N):\n",
    "        \n",
    "        state,_ = env.reset()\n",
    "        trajs = [state]\n",
    "        rewards = []\n",
    "        actions = []\n",
    "        while True:\n",
    "            hand, hand_dealer, has_ace = state\n",
    "            action = np.random.choice(np.arange(2), p = policy[hand,hand_dealer,int(has_ace)])\n",
    "            state, reward, done, info = env.step(action)[:4]\n",
    "            trajs.append(state)\n",
    "            actions.append(action)\n",
    "            rewards.append(reward)\n",
    "\n",
    "            if done: break\n",
    "\n",
    "        trajs_all.append(trajs)\n",
    "        actions_all.append(actions)\n",
    "        rewards_all.append(rewards)\n",
    "    return trajs_all,actions_all,rewards_all\n",
    "\n"
   ]
  },
  {
   "cell_type": "code",
   "execution_count": 195,
   "metadata": {},
   "outputs": [],
   "source": [
    "from collections import defaultdict\n",
    "trajs_all,actions_all,rewards_all = get_traj_N(500_000)\n",
    "\n",
    "visited_states = set()\n",
    "for tr in trajs_all: visited_states.update(tr)\n",
    "\n",
    "expected_vals = defaultdict(float)#{i:0 for i in visited_states}\n",
    "num_visits = defaultdict(float)#{i:0 for i in visited_states}\n",
    "\n",
    "def update_mean(arr_a_mean, arr_a_len, arr_b):\n",
    "    return 1/(arr_a_len+len(arr_b)) * (arr_a_len*arr_a_mean + len(arr_b)*arr_b.mean())\n",
    "\n",
    "for tr, ac, rw in zip(trajs_all,actions_all,rewards_all):\n",
    "    for i in range(len(rw)):\n",
    "        s = tr[i]\n",
    "        rews = np.array(rw[i:])\n",
    "        if num_visits[s] == 0:\n",
    "            expected_vals[s] = rews.mean()\n",
    "        else:\n",
    "            expected_vals[s] = update_mean(expected_vals[s], num_visits[s], rews)\n",
    "\n",
    "        num_visits[s] += 1\n",
    "\n",
    "#num_visits, expected_vals        "
   ]
  },
  {
   "cell_type": "code",
   "execution_count": 199,
   "metadata": {},
   "outputs": [],
   "source": [
    "for (hand, hand_dealer, has_ace ), val in expected_vals.items(): \n",
    "    vals[hand, hand_dealer, has_ace] = val"
   ]
  },
  {
   "cell_type": "code",
   "execution_count": 200,
   "metadata": {},
   "outputs": [
    {
     "data": {
      "text/plain": [
       "(10.0, 21.0)"
      ]
     },
     "execution_count": 200,
     "metadata": {},
     "output_type": "execute_result"
    },
    {
     "data": {
      "image/png": "[encoded data removed]",
      "text/plain": [
       "<Figure size 1000x330 with 1 Axes>"
      ]
     },
     "metadata": {},
     "output_type": "display_data"
    }
   ],
   "source": [
    "x, y = np.meshgrid(np.arange(12), np.arange(32))\n",
    "from matplotlib import cm\n",
    "fig, ax = plt.subplots(1,1, figsize = (10,3.3), layout='constrained',subplot_kw={\"projection\": \"3d\"})\n",
    "\n",
    "surf = ax.plot_surface(x, y,vals[:,:,0], cmap=cm.coolwarm,\n",
    "                       linewidth=0, antialiased=False)\n",
    "ax.set_xlim(0, 10)\n",
    "ax.set_ylim(10,21)"
   ]
  },
  {
   "cell_type": "code",
   "execution_count": 198,
   "metadata": {},
   "outputs": [
    {
     "data": {
      "text/plain": [
       "(True, True)"
      ]
     },
     "execution_count": 198,
     "metadata": {},
     "output_type": "execute_result"
    }
   ],
   "source": [
    "ab = np.arange(16)\n",
    "split = 15\n",
    "a = ab[:split]; b = ab[split:]\n",
    "ab.mean() == 1/(len(a)+len(b)) * (len(a)*a.mean() + len(b)*b.mean()), ab.mean() == update_mean(a.mean(), len(a), b)"
   ]
  }
 ],
 "metadata": {
  "kernelspec": {
   "display_name": ".venv",
   "language": "python",
   "name": "python3"
  },
  "language_info": {
   "codemirror_mode": {
    "name": "ipython",
    "version": 3
   },
   "file_extension": ".py",
   "mimetype": "text/x-python",
   "name": "python",
   "nbconvert_exporter": "python",
   "pygments_lexer": "ipython3",
   "version": "3.9.13"
  }
 },
 "nbformat": 4,
 "nbformat_minor": 2
}
