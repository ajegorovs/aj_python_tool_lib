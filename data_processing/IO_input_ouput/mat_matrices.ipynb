{
 "cells": [
  {
   "cell_type": "code",
   "execution_count": 1,
   "metadata": {},
   "outputs": [],
   "source": [
    "from scipy.io import loadmat\n",
    "import os\n",
    "import numpy as np"
   ]
  },
  {
   "cell_type": "code",
   "execution_count": 2,
   "metadata": {},
   "outputs": [
    {
     "name": "stdout",
     "output_type": "stream",
     "text": [
      "keys: __header__ __version__ __globals__ species meas\n",
      "names: ['setosa', 'versicolor', 'virginica']\n",
      "counts: [50 50 50]\n"
     ]
    }
   ],
   "source": [
    "fisheriris_mat = loadmat(os.path.join('data_processing','media','fisheriris.mat'))\n",
    "print('keys:',*fisheriris_mat.keys())\n",
    "names,counts = np.unique(fisheriris_mat['species'], return_counts = True)\n",
    "names = [a[0] for a in names]\n",
    "print('names:',names)\n",
    "print('counts:',counts)"
   ]
  },
  {
   "cell_type": "code",
   "execution_count": null,
   "metadata": {},
   "outputs": [],
   "source": []
  }
 ],
 "metadata": {
  "kernelspec": {
   "display_name": ".venv",
   "language": "python",
   "name": "python3"
  },
  "language_info": {
   "codemirror_mode": {
    "name": "ipython",
    "version": 3
   },
   "file_extension": ".py",
   "mimetype": "text/x-python",
   "name": "python",
   "nbconvert_exporter": "python",
   "pygments_lexer": "ipython3",
   "version": "3.9.13"
  }
 },
 "nbformat": 4,
 "nbformat_minor": 2
}
